{
 "cells": [
  {
   "cell_type": "markdown",
   "metadata": {},
   "source": [
    "Try to find a way of calculating the cost for the YOLO detector without using for loops, this is very costly."
   ]
  },
  {
   "cell_type": "code",
   "execution_count": 208,
   "metadata": {
    "collapsed": false
   },
   "outputs": [],
   "source": [
    "import numpy as np\n",
    "# from bnr_ml.utils.helpers import meshgrid2D\n",
    "import theano\n",
    "from theano import tensor as T\n",
    "from time import time"
   ]
  },
  {
   "cell_type": "code",
   "execution_count": 188,
   "metadata": {
    "collapsed": true
   },
   "outputs": [],
   "source": [
    "def meshgrid2D(arr1, arr2):\n",
    "    arr1 = arr1.dimshuffle('x',0)\n",
    "    arr2 = arr2.dimshuffle(0,'x')\n",
    "    arr1, arr2 = T.repeat(arr1, arr2.shape[0], axis=0), T.repeat(arr2, arr1.shape[1], axis=1)\n",
    "    return arr1, arr2"
   ]
  },
  {
   "cell_type": "code",
   "execution_count": 194,
   "metadata": {
    "collapsed": true
   },
   "outputs": [],
   "source": [
    "S = (7,7)\n",
    "B = 3\n",
    "C = 10"
   ]
  },
  {
   "cell_type": "code",
   "execution_count": 195,
   "metadata": {
    "collapsed": false
   },
   "outputs": [],
   "source": [
    "N = 10\n",
    "y_pred= np.random.rand(N,5 * B + C,S[0], S[1]).astype(theano.config.floatX)\n",
    "# y_truth = np.random.rand(N,4 + C).astype(theano.config.floatX)\n",
    "y_truth = np.concatenate(\n",
    "    (\n",
    "        .25*np.random.rand(N,1),\n",
    "        .25*np.random.rand(N,1),\n",
    "        .75*np.random.rand(N,1),\n",
    "        .75*np.random.rand(N,1),\n",
    "        np.random.rand(N,C),\n",
    "    ),\n",
    "    axis=1\n",
    ").astype(theano.config.floatX)\n",
    "# ypred= np.random.rand(10,5 * B + C,S[0], S[1])\n",
    "# ytruth = np.random.rand(10,4 + C)"
   ]
  },
  {
   "cell_type": "code",
   "execution_count": 121,
   "metadata": {
    "collapsed": false
   },
   "outputs": [],
   "source": [
    "output = T.as_tensor(y_pred.astype(theano.config.floatX))\n",
    "ytruth = T.as_tensor(y_truth.astype(theano.config.floatX))\n",
    "lmbda_coord = T.as_tensor_variable(5.)\n",
    "lmbda_noobj = T.as_tensor_variable(.5)"
   ]
  },
  {
   "cell_type": "code",
   "execution_count": 122,
   "metadata": {
    "collapsed": true
   },
   "outputs": [],
   "source": [
    "block_height, block_width = 1. / S[0], 1./ S[1]"
   ]
  },
  {
   "cell_type": "code",
   "execution_count": null,
   "metadata": {
    "collapsed": true
   },
   "outputs": [],
   "source": [
    "offsetx, offsety = np.meshgrid(np.arange(0,1,block_height), np.arange(0,1,block_width))"
   ]
  },
  {
   "cell_type": "code",
   "execution_count": 123,
   "metadata": {
    "collapsed": true
   },
   "outputs": [],
   "source": [
    "# theano version\n",
    "offsetx, offsety = meshgrid2D(T.arange(0,1,block_height), T.arange(0,1,block_width))"
   ]
  },
  {
   "cell_type": "code",
   "execution_count": null,
   "metadata": {
    "collapsed": false
   },
   "outputs": [],
   "source": [
    "x_idx, y_idx = [i*5 for i in range(B)], [i*5 + 1 for i in range(C)]\n",
    "w_idx, h_idx = [i*5 + 2 for i in range(B)], [i*5 + 3 for i in range(C)]\n",
    "conf = [i*5 + 4 for i in range(B)]"
   ]
  },
  {
   "cell_type": "code",
   "execution_count": 124,
   "metadata": {
    "collapsed": true
   },
   "outputs": [],
   "source": [
    "# theano version\n",
    "x_idx, y_idx = T.arange(0,5*B,5), T.arange(1,5*B+ 1, 5)\n",
    "w_idx, h_idx = T.arange(2,5*B+2,5), T.arange(3,5*B+3,5)\n",
    "conf_idx = T.arange(4,5*B+4,5)"
   ]
  },
  {
   "cell_type": "code",
   "execution_count": null,
   "metadata": {
    "collapsed": false
   },
   "outputs": [],
   "source": [
    "ypred[:,x_idx,:,:] += offsetx\n",
    "ypred[:,y_idx,:,:] += offsety"
   ]
  },
  {
   "cell_type": "code",
   "execution_count": 125,
   "metadata": {
    "collapsed": false
   },
   "outputs": [],
   "source": [
    "# theano version\n",
    "ypred = T.set_subtensor(output[:,x_idx,:,:],output[:,x_idx,:,:] + offsetx)\n",
    "ypred = T.set_subtensor(output[:,y_idx,:,:],output[:,y_idx,:,:] + offsety)"
   ]
  },
  {
   "cell_type": "code",
   "execution_count": 40,
   "metadata": {
    "collapsed": false
   },
   "outputs": [],
   "source": [
    "# calculate the IOU score for each region and box\n",
    "xi = np.maximum(ypred[:,x_idx,:,:], ytruth[:,0].reshape((10,1,1,1)))\n",
    "xf = np.minimum(ypred[:,x_idx,:,:] + ypred[:,w_idx,:,:], (ytruth[:,0] + ytruth[:,2]).reshape((10,1,1,1)))\n",
    "\n",
    "yi = np.maximum(ypred[:,y_idx,:,:], ytruth[:,0].reshape((10,1,1,1)))\n",
    "yf = np.minimum(ypred[:,y_idx,:,:] + ypred[:,h_idx,:,:], (ytruth[:,0] + ytruth[:,2]).reshape((10,1,1,1)))"
   ]
  },
  {
   "cell_type": "code",
   "execution_count": 126,
   "metadata": {
    "collapsed": true
   },
   "outputs": [],
   "source": [
    "# theano version\n",
    "xi = T.maximum(ypred[:,x_idx,:,:], ytruth[:,0].dimshuffle(0,'x','x','x'))\n",
    "xf = T.minimum(ypred[:,x_idx,:,:] + ypred[:,w_idx,:,:], (ytruth[:,0] + ytruth[:,2]).dimshuffle(0,'x','x','x'))\n",
    "\n",
    "yi = T.maximum(ypred[:,y_idx,:,:], ytruth[:,1].dimshuffle(0,'x','x','x'))\n",
    "yf = T.minimum(ypred[:,y_idx,:,:] + ypred[:,h_idx,:,:], (ytruth[:,1] + ytruth[:,3]).dimshuffle(0,'x','x','x'))"
   ]
  },
  {
   "cell_type": "code",
   "execution_count": null,
   "metadata": {
    "collapsed": false
   },
   "outputs": [],
   "source": [
    "isec = (xf - xi) * (yf - yi)\n",
    "union = (ypred[:,w_idx] * ypred[:,h_idx]) + (ytruth[:,2] * ytruth[:,3]).reshape((10,1,1,1)) - isec\n",
    "iou = np.maximum(isec/union, 0.)"
   ]
  },
  {
   "cell_type": "code",
   "execution_count": 127,
   "metadata": {
    "collapsed": false
   },
   "outputs": [],
   "source": [
    "# theano version\n",
    "isec = (xf - xi) * (yf - yi)\n",
    "union = (ypred[:,w_idx] * ypred[:,h_idx]) + (ytruth[:,2] * ytruth[:,3]).dimshuffle(0,'x','x','x') - isec\n",
    "iou = T.maximum(isec/union, 0.)"
   ]
  },
  {
   "cell_type": "code",
   "execution_count": null,
   "metadata": {
    "collapsed": false
   },
   "outputs": [],
   "source": [
    "cidx, _ = np.meshgrid(range(B),range(10))\n",
    "# cidx = cidx.reshape((10,2,1,1))\n",
    "# cidx = np.repeat(np.repeat(cidx,S[0],2),S[1],3)"
   ]
  },
  {
   "cell_type": "code",
   "execution_count": 128,
   "metadata": {
    "collapsed": false
   },
   "outputs": [],
   "source": [
    "# theano version\n",
    "maxval_idx, a = meshgrid2D(T.arange(B), T.arange(ypred.shape[0]))\n",
    "maxval_idx = maxval_idx.reshape((ypred.shape[0],-1))\n",
    "maxval_idx = maxval_idx.dimshuffle(0,1,'x','x')\n",
    "maxval_idx = T.repeat(T.repeat(maxval_idx,S[0],2),S[1],3)"
   ]
  },
  {
   "cell_type": "code",
   "execution_count": null,
   "metadata": {
    "collapsed": false
   },
   "outputs": [],
   "source": [
    "ismax = np.equal(cidx, iou.argmax(axis=1).reshape((10,1,2,2)))"
   ]
  },
  {
   "cell_type": "code",
   "execution_count": 129,
   "metadata": {
    "collapsed": true
   },
   "outputs": [],
   "source": [
    "# theano version\n",
    "ismax = T.eq(maxval_idx, iou.argmax(axis=1).dimshuffle(0,'x',1,2))"
   ]
  },
  {
   "cell_type": "code",
   "execution_count": null,
   "metadata": {
    "collapsed": false
   },
   "outputs": [],
   "source": [
    "((iou[ismax] - ypred[:,conf,:,:][ismax])**2).reshape((10,2,2)).shape"
   ]
  },
  {
   "cell_type": "code",
   "execution_count": 36,
   "metadata": {
    "collapsed": true
   },
   "outputs": [],
   "source": [
    "width, height = np.ones(S) / S[1], np.ones(S) / S[0]\n",
    "width, height = width.reshape((1,2,2)), height.reshape((1,2,2))"
   ]
  },
  {
   "cell_type": "code",
   "execution_count": 130,
   "metadata": {
    "collapsed": true
   },
   "outputs": [],
   "source": [
    "# theano version\n",
    "width, height = T.ones(S) / S[1], T.ones(S) / S[0]\n",
    "width, height = width.dimshuffle('x',0,1), height.dimshuffle('x',0,1)"
   ]
  },
  {
   "cell_type": "code",
   "execution_count": null,
   "metadata": {
    "collapsed": false
   },
   "outputs": [],
   "source": [
    "xi = np.maximum(width, ytruth[:,0].reshape((10,1,1)))\n",
    "xf = np.minimum(width + offsetx, (ytruth[:,0] + ytruth[:,2]).reshape((10,1,1)))\n",
    "\n",
    "yi = np.maximum(height, ytruth[:,1].reshape((10,1,1)))\n",
    "yf = np.minimum(height + offsety, (ytruth[:,1] + ytruth[:,3]).reshape((10,1,1)))"
   ]
  },
  {
   "cell_type": "code",
   "execution_count": 131,
   "metadata": {
    "collapsed": true
   },
   "outputs": [],
   "source": [
    "# theano version\n",
    "xi = T.maximum(offsetx, ytruth[:,0].dimshuffle(0,'x','x'))\n",
    "xf = T.minimum(offsetx + width, (ytruth[:,0] + ytruth[:,2]).dimshuffle(0,'x','x'))\n",
    "\n",
    "yi = T.maximum(offsety, ytruth[:,1].dimshuffle(0,'x','x'))\n",
    "yf = T.minimum(offsety + height, (ytruth[:,1] + ytruth[:,3]).dimshuffle(0,'x','x'))"
   ]
  },
  {
   "cell_type": "code",
   "execution_count": null,
   "metadata": {
    "collapsed": false
   },
   "outputs": [],
   "source": [
    "isec = (xf - xi) * (yf - yi)\n",
    "union = width * height + (ytruth[:,2] * ytruth[:,3]).reshape((10,1,1)) - isec\n",
    "ioucell = np.maximum(isec / union, 0.)"
   ]
  },
  {
   "cell_type": "code",
   "execution_count": 132,
   "metadata": {
    "collapsed": true
   },
   "outputs": [],
   "source": [
    "# theano version\n",
    "isec = (xf - xi) * (yf - yi)\n",
    "union = width * height + (ytruth[:,2] * ytruth[:,3]).dimshuffle(0,'x','x') - isec\n",
    "iou_cell = T.maximum(isec/union, 0.)"
   ]
  },
  {
   "cell_type": "code",
   "execution_count": null,
   "metadata": {
    "collapsed": false
   },
   "outputs": [],
   "source": [
    "isinter = np.reshape(ioucell > .1, (10,-1,2,2))"
   ]
  },
  {
   "cell_type": "code",
   "execution_count": 135,
   "metadata": {
    "collapsed": true
   },
   "outputs": [],
   "source": [
    "# theano version\n",
    "isinter = (iou_cell > .1).dimshuffle(0,'x',1,2)"
   ]
  },
  {
   "cell_type": "code",
   "execution_count": null,
   "metadata": {
    "collapsed": false
   },
   "outputs": [],
   "source": [
    "tmp = np.bitwise_and(ismax, isinter)"
   ]
  },
  {
   "cell_type": "code",
   "execution_count": 134,
   "metadata": {
    "collapsed": true
   },
   "outputs": [],
   "source": [
    "# theano version\n",
    "isbox_andcell = T.bitwise_and(ismax, isinter)"
   ]
  },
  {
   "cell_type": "code",
   "execution_count": 136,
   "metadata": {
    "collapsed": false
   },
   "outputs": [],
   "source": [
    "# theano\n",
    "isinter = T.repeat(isinter, C, axis=1)"
   ]
  },
  {
   "cell_type": "code",
   "execution_count": 137,
   "metadata": {
    "collapsed": false
   },
   "outputs": [
    {
     "data": {
      "text/plain": [
       "array([34])"
      ]
     },
     "execution_count": 137,
     "metadata": {},
     "output_type": "execute_result"
    }
   ],
   "source": [
    "ypred[:,-C:][isinter.nonzero()].shape.eval()"
   ]
  },
  {
   "cell_type": "code",
   "execution_count": 140,
   "metadata": {
    "collapsed": false
   },
   "outputs": [],
   "source": [
    "clspred_truth = T.repeat(T.repeat(ytruth[:,-C:].dimshuffle(0,1,'x','x'), S[0], axis=2), S[1], axis=3)"
   ]
  },
  {
   "cell_type": "code",
   "execution_count": 143,
   "metadata": {
    "collapsed": false
   },
   "outputs": [
    {
     "data": {
      "text/plain": [
       "array([10,  2,  2,  2])"
      ]
     },
     "execution_count": 143,
     "metadata": {},
     "output_type": "execute_result"
    }
   ],
   "source": [
    "clspred_truth.shape.eval()"
   ]
  },
  {
   "cell_type": "code",
   "execution_count": 144,
   "metadata": {
    "collapsed": false
   },
   "outputs": [
    {
     "name": "stdout",
     "output_type": "stream",
     "text": [
      "6.84959936142\n"
     ]
    }
   ],
   "source": [
    "tmp = T.sum((ypred[:,-C:,:,:][isinter.nonzero()] - clspred_truth[isinter.nonzero()])**2)\n",
    "print tmp.eval()"
   ]
  },
  {
   "cell_type": "code",
   "execution_count": 151,
   "metadata": {
    "collapsed": false
   },
   "outputs": [],
   "source": [
    "\n",
    "\n",
    "\n",
    "\n",
    "cost = lmbda_coord * T.sum((ypred[:,conf_idx,:,:][isbox_andcell.nonzero()] - iou[isbox_andcell.nonzero()])**2) + \\\n",
    "        lmbda_noobj * T.sum((ypred[:,conf_idx,:,:][T.bitwise_not(isbox_andcell.nonzero())])**2) + \\\n",
    "        T.sum((ypred[:,x_idx,:,:][ismax.nonzero()].reshape((ytruth.shape[0],-1)) - ytruth[:,[0]])**2) + \\\n",
    "        T.sum((ypred[:,y_idx,:,:][ismax.nonzero()].reshape((ytruth.shape[0],-1)) - ytruth[:,[1]])**2) + \\\n",
    "        T.sum((ypred[:,w_idx,:,:][ismax.nonzero()].reshape((ytruth.shape[0],-1)).sqrt() - ytruth[:,[2]].sqrt())**2) + \\\n",
    "        T.sum((ypred[:,h_idx,:,:][ismax.nonzero()].reshape((ytruth.shape[0],-1)).sqrt() - ytruth[:,[3]].sqrt())**2) + \\\n",
    "        T.sum((ypred[:,-C:,:,:][isinter.nonzero()] - clspred_truth[isinter.nonzero()])**2)\n",
    "        \n",
    "        \n",
    "        \n",
    "        \n",
    "        \n",
    "        \n",
    "        "
   ]
  },
  {
   "cell_type": "markdown",
   "metadata": {},
   "source": [
    "<p style=\"font-size:14pt;\">This code works so far!</p>"
   ]
  },
  {
   "cell_type": "code",
   "execution_count": 204,
   "metadata": {
    "collapsed": true
   },
   "outputs": [],
   "source": [
    "output = T.tensor4('output')\n",
    "truth = T.matrix('truth')\n",
    "lmbda_coord = T.scalar('lambda_coord')\n",
    "lmbda_noobj = T.scalar('lambda_noobj')"
   ]
  },
  {
   "cell_type": "code",
   "execution_count": 205,
   "metadata": {
    "collapsed": false
   },
   "outputs": [],
   "source": [
    "cost = get_cost(output, truth, S, B, C)"
   ]
  },
  {
   "cell_type": "code",
   "execution_count": 206,
   "metadata": {
    "collapsed": false
   },
   "outputs": [],
   "source": [
    "cost_fn = theano.function([output,truth], cost)"
   ]
  },
  {
   "cell_type": "code",
   "execution_count": 207,
   "metadata": {
    "collapsed": false
   },
   "outputs": [
    {
     "data": {
      "text/plain": [
       "array(38624.9765625, dtype=float32)"
      ]
     },
     "execution_count": 207,
     "metadata": {},
     "output_type": "execute_result"
    }
   ],
   "source": [
    "cost_fn(y_pred, y_truth)"
   ]
  },
  {
   "cell_type": "code",
   "execution_count": 203,
   "metadata": {
    "collapsed": true
   },
   "outputs": [],
   "source": [
    "def get_cost(output, truth, S, B, C, lmbda_coord=5., lmbda_noobj=0.5, iou_thresh=0.1):\n",
    "    # calculate height/width of individual cell\n",
    "    block_height, block_width = 1. / S[0], 1./ S[1]\n",
    "\n",
    "    # get the offset of each cell\n",
    "    offset_x, offset_y = meshgrid2D(T.arange(0,1,block_height), T.arange(0,1,block_width))\n",
    "    \n",
    "    # get indices for x,y,w,h,object-ness for easy access\n",
    "    x_idx, y_idx = T.arange(0,5*B,5), T.arange(1,5*B+ 1, 5)\n",
    "    w_idx, h_idx = T.arange(2,5*B+2,5), T.arange(3,5*B+3,5)\n",
    "    conf_idx = T.arange(4,5*B+4,5)\n",
    "    \n",
    "    # Get position predictions with offsets.\n",
    "    pred = T.set_subtensor(output[:,x_idx,:,:],output[:,x_idx,:,:] + offset_x)\n",
    "    pred = T.set_subtensor(output[:,y_idx,:,:],output[:,y_idx,:,:] + offset_y)\n",
    "    \n",
    "    # Get intersection region bounding box coordinates\n",
    "    xi = T.maximum(pred[:,x_idx,:,:], truth[:,0].dimshuffle(0,'x','x','x'))\n",
    "    xf = T.minimum(pred[:,x_idx,:,:] + pred[:,w_idx,:,:], (truth[:,0] + truth[:,2]).dimshuffle(0,'x','x','x'))\n",
    "    yi = T.maximum(pred[:,y_idx,:,:], truth[:,1].dimshuffle(0,'x','x','x'))\n",
    "    yf = T.minimum(pred[:,y_idx,:,:] + pred[:,h_idx,:,:], (truth[:,1] + truth[:,3]).dimshuffle(0,'x','x','x'))\n",
    "    \n",
    "    # Calculate iou score for predicted boxes and truth\n",
    "    isec = (xf - xi) * (yf - yi)\n",
    "    union = (pred[:,w_idx] * pred[:,h_idx]) + (truth[:,2] * truth[:,3]).dimshuffle(0,'x','x','x') - isec\n",
    "    iou = T.maximum(isec/union, 0.)\n",
    "    \n",
    "    # Get index matrix representing max along the 1st dimension for the iou score (reps 'responsible' box).\n",
    "    maxval_idx, a = meshgrid2D(T.arange(B), T.arange(pred.shape[0]))\n",
    "    maxval_idx = maxval_idx.reshape((pred.shape[0],-1))\n",
    "    maxval_idx = maxval_idx.dimshuffle(0,1,'x','x')\n",
    "    maxval_idx = T.repeat(T.repeat(maxval_idx,S[0],2),S[1],3)\n",
    "    is_max = T.eq(maxval_idx, iou.argmax(axis=1).dimshuffle(0,'x',1,2))\n",
    "    \n",
    "    # Get matrix for the width/height of each cell\n",
    "    width, height = T.ones(S) / S[1], T.ones(S) / S[0]\n",
    "    width, height = width.dimshuffle('x',0,1), height.dimshuffle('x',0,1)\n",
    "    \n",
    "    # Get bounding box for intersection between CELL and ground truth box.\n",
    "    xi = T.maximum(offset_x, truth[:,0].dimshuffle(0,'x','x'))\n",
    "    xf = T.minimum(offset_x + width, (truth[:,0] + truth[:,2]).dimshuffle(0,'x','x'))\n",
    "    yi = T.maximum(offset_y, truth[:,1].dimshuffle(0,'x','x'))\n",
    "    yf = T.minimum(offset_y + height, (truth[:,1] + truth[:,3]).dimshuffle(0,'x','x'))\n",
    " \n",
    "    # Calculate iou score for the cell.\n",
    "    isec = (xf - xi) * (yf - yi)\n",
    "    union = width * height + (truth[:,2] * truth[:,3]).dimshuffle(0,'x','x') - isec\n",
    "    iou_cell = T.maximum(isec/union, 0.)\n",
    "    \n",
    "    # Get logical matrix representing minimum iou score for cell to be considered overlapping ground truth.\n",
    "    is_inter = (iou_cell > iou_thresh).dimshuffle(0,'x',1,2)\n",
    "    \n",
    "    # Get logical matrix for cells and boxes which overlap and are responsible for prediction.\n",
    "    isbox_andcell = T.bitwise_and(is_max, is_inter)\n",
    "    \n",
    "    # repeat \"cell overlaps\" logical matrix for the number of classes.\n",
    "    is_inter = T.repeat(is_inter, C, axis=1)\n",
    "    \n",
    "    # repeat the ground truth for class probabilities for each cell.\n",
    "    clspred_truth = T.repeat(T.repeat(truth[:,-C:].dimshuffle(0,1,'x','x'), S[0], axis=2), S[1], axis=3)\n",
    "    \n",
    "    # calculate cost\n",
    "    cost = lmbda_coord * T.sum((pred[:,conf_idx,:,:][isbox_andcell.nonzero()] - iou[isbox_andcell.nonzero()])**2) + \\\n",
    "        lmbda_noobj * T.sum((pred[:,conf_idx,:,:][T.bitwise_not(isbox_andcell.nonzero())])**2) + \\\n",
    "        T.sum((pred[:,x_idx,:,:][is_max.nonzero()].reshape((truth.shape[0],-1)) - truth[:,[0]])**2) + \\\n",
    "        T.sum((pred[:,y_idx,:,:][is_max.nonzero()].reshape((truth.shape[0],-1)) - truth[:,[1]])**2) + \\\n",
    "        T.sum((pred[:,w_idx,:,:][is_max.nonzero()].reshape((truth.shape[0],-1)).sqrt() - truth[:,[2]].sqrt())**2) + \\\n",
    "        T.sum((pred[:,h_idx,:,:][is_max.nonzero()].reshape((truth.shape[0],-1)).sqrt() - truth[:,[3]].sqrt())**2) + \\\n",
    "        T.sum((pred[:,-C:,:,:][is_inter.nonzero()] - clspred_truth[is_inter.nonzero()])**2)\n",
    "    \n",
    "    return cost"
   ]
  },
  {
   "cell_type": "code",
   "execution_count": 152,
   "metadata": {
    "collapsed": false
   },
   "outputs": [],
   "source": [
    "cost_fn = theano.function([], cost)"
   ]
  },
  {
   "cell_type": "code",
   "execution_count": 153,
   "metadata": {
    "collapsed": false
   },
   "outputs": [
    {
     "data": {
      "text/plain": [
       "array(271.6685485839844, dtype=float32)"
      ]
     },
     "execution_count": 153,
     "metadata": {},
     "output_type": "execute_result"
    }
   ],
   "source": [
    "cost_fn()"
   ]
  },
  {
   "cell_type": "code",
   "execution_count": null,
   "metadata": {
    "collapsed": true
   },
   "outputs": [],
   "source": []
  }
 ],
 "metadata": {
  "anaconda-cloud": {},
  "kernelspec": {
   "display_name": "Python [Root]",
   "language": "python",
   "name": "Python [Root]"
  },
  "language_info": {
   "codemirror_mode": {
    "name": "ipython",
    "version": 2
   },
   "file_extension": ".py",
   "mimetype": "text/x-python",
   "name": "python",
   "nbconvert_exporter": "python",
   "pygments_lexer": "ipython2",
   "version": "2.7.12"
  }
 },
 "nbformat": 4,
 "nbformat_minor": 0
}
