{
 "cells": [
  {
   "cell_type": "code",
   "execution_count": 64,
   "metadata": {
    "collapsed": true
   },
   "outputs": [],
   "source": [
    "%matplotlib inline\n",
    "from matplotlib import pyplot as plt\n",
    "import numpy as np\n",
    "import theano\n",
    "import theano.tensor as T"
   ]
  },
  {
   "cell_type": "code",
   "execution_count": 140,
   "metadata": {
    "collapsed": true
   },
   "outputs": [],
   "source": [
    "ytrue = np.asarray([\n",
    "        [0.25, 0.25, 0.5, 0.5, 1./6,1.,0.]\n",
    "    ])"
   ]
  },
  {
   "cell_type": "code",
   "execution_count": 141,
   "metadata": {
    "collapsed": true
   },
   "outputs": [],
   "source": [
    "y = np.asarray([\n",
    "        [0., 0., 0.5, 0.5, 0.1456, 0.87, 0.13]\n",
    "    ])"
   ]
  },
  {
   "cell_type": "code",
   "execution_count": 142,
   "metadata": {
    "collapsed": true
   },
   "outputs": [],
   "source": [
    "ytrue = np.concatenate((ytrue,y),axis=0)\n",
    "y = np.copy(ytrue)[::-1,:]"
   ]
  },
  {
   "cell_type": "code",
   "execution_count": 34,
   "metadata": {
    "collapsed": true
   },
   "outputs": [],
   "source": [
    "def iou_score(b1, b2):\n",
    "    '''\n",
    "    b1 = (x,y,width,height), same for others\n",
    "    '''\n",
    "    ci = (\n",
    "        max(b1[0],b2[0]),\n",
    "        max(b1[1],b2[1])\n",
    "    )\n",
    "    cf = (\n",
    "        min(b1[0] + b1[2], b2[0] + b2[2]),\n",
    "        min(b1[1] + b1[3], b2[1] + b2[3])\n",
    "    )\n",
    "    isec = (cf[0] - ci[0]) * (cf[1] - ci[1])\n",
    "    union = np.prod(b1[2:]) + np.prod(b2[2:]) - 2 * isec\n",
    "    return isec/union"
   ]
  },
  {
   "cell_type": "code",
   "execution_count": 91,
   "metadata": {
    "collapsed": false
   },
   "outputs": [
    {
     "data": {
      "text/plain": [
       "1.9838056680161944"
      ]
     },
     "execution_count": 91,
     "metadata": {},
     "output_type": "execute_result"
    }
   ],
   "source": [
    "iou_score(y[0,:4],ytrue[0,:4])"
   ]
  },
  {
   "cell_type": "code",
   "execution_count": 124,
   "metadata": {
    "collapsed": true
   },
   "outputs": [],
   "source": [
    "def iou_score_T(b1, b2):\n",
    "    xi = T.maximum(b1[:,0], b2[:,0])\n",
    "    yi = T.maximum(b1[:,1], b2[:,1])\n",
    "    xf = T.minimum(b1[:,0]+b1[:,2], b2[:,0]+b2[:,2])\n",
    "    yf = T.minimum(b1[:,1]+b1[:,3], b2[:,1]+b2[:,3])\n",
    "    isec = T.maximum((xf-xi)*(yf-yi), 0.)\n",
    "    union = T.prod(b1[:,2:],axis=1) + T.prod(b2[:,2:],axis=1) - isec\n",
    "    return isec / (union + T.as_tensor_variable(1e-9))"
   ]
  },
  {
   "cell_type": "code",
   "execution_count": 155,
   "metadata": {
    "collapsed": true
   },
   "outputs": [],
   "source": [
    "a,b = T.matrix('a'), T.matrix('b')"
   ]
  },
  {
   "cell_type": "code",
   "execution_count": 145,
   "metadata": {
    "collapsed": false
   },
   "outputs": [],
   "source": [
    "fun = theano.function([a,b], iou_score_T(a,b))"
   ]
  },
  {
   "cell_type": "code",
   "execution_count": 146,
   "metadata": {
    "collapsed": false
   },
   "outputs": [
    {
     "data": {
      "text/plain": [
       "array([ 0.14285714,  0.14285714])"
      ]
     },
     "execution_count": 146,
     "metadata": {},
     "output_type": "execute_result"
    }
   ],
   "source": [
    "fun(ytrue[:,:4], y[:,:4])"
   ]
  },
  {
   "cell_type": "code",
   "execution_count": 53,
   "metadata": {
    "collapsed": false
   },
   "outputs": [],
   "source": [
    "def norm_coords(coord, size, i, j, S):\n",
    "    coord[[0,2]] /= size[1]\n",
    "    coord[[1,3]] /= size[0]\n",
    "    coord[[0,1]] -= np.asarray([float(i)/S[1], float(j)/S[0]])\n",
    "    return coord\n",
    "    "
   ]
  },
  {
   "cell_type": "code",
   "execution_count": 166,
   "metadata": {
    "collapsed": true
   },
   "outputs": [],
   "source": [
    "def shift_coords(b1, idx, S):\n",
    "    b1 = T.set_subtensor(b1[:,0], b1[:,0] - idx[0] / S[0])\n",
    "    b1 = T.set_subtensor(b1[:,1], b1[:,1] - idx[1] / S[1])\n",
    "    return b1"
   ]
  },
  {
   "cell_type": "code",
   "execution_count": 167,
   "metadata": {
    "collapsed": false
   },
   "outputs": [],
   "source": [
    "fun = theano.function([a], shift_coords(a, (0.,1.), (2,2)))"
   ]
  },
  {
   "cell_type": "code",
   "execution_count": 168,
   "metadata": {
    "collapsed": false
   },
   "outputs": [
    {
     "data": {
      "text/plain": [
       "array([[ 0.        , -0.5       ,  0.5       ,  0.5       ,  0.1456    ,\n",
       "         0.87      ,  0.13      ],\n",
       "       [ 0.25      , -0.25      ,  0.5       ,  0.5       ,  0.16666667,\n",
       "         1.        ,  0.        ]])"
      ]
     },
     "execution_count": 168,
     "metadata": {},
     "output_type": "execute_result"
    }
   ],
   "source": [
    "fun(y)"
   ]
  },
  {
   "cell_type": "code",
   "execution_count": 169,
   "metadata": {
    "collapsed": false
   },
   "outputs": [
    {
     "data": {
      "text/plain": [
       "array([[ 0.        ,  0.        ,  0.5       ,  0.5       ,  0.1456    ,\n",
       "         0.87      ,  0.13      ],\n",
       "       [ 0.25      ,  0.25      ,  0.5       ,  0.5       ,  0.16666667,\n",
       "         1.        ,  0.        ]])"
      ]
     },
     "execution_count": 169,
     "metadata": {},
     "output_type": "execute_result"
    }
   ],
   "source": [
    "y"
   ]
  },
  {
   "cell_type": "code",
   "execution_count": 62,
   "metadata": {
    "collapsed": true
   },
   "outputs": [],
   "source": [
    "coord = np.asarray([25,25,50,50]).astype(np.float32)"
   ]
  },
  {
   "cell_type": "code",
   "execution_count": 63,
   "metadata": {
    "collapsed": false
   },
   "outputs": [
    {
     "data": {
      "text/plain": [
       "array([-0.25, -0.25,  0.5 ,  0.5 ], dtype=float32)"
      ]
     },
     "execution_count": 63,
     "metadata": {},
     "output_type": "execute_result"
    }
   ],
   "source": [
    "norm_coords(coord, (100,100), 1, 1, (2,2))"
   ]
  },
  {
   "cell_type": "code",
   "execution_count": 179,
   "metadata": {
    "collapsed": true
   },
   "outputs": [],
   "source": [
    "x = T.vector('x')"
   ]
  },
  {
   "cell_type": "code",
   "execution_count": 180,
   "metadata": {
    "collapsed": true
   },
   "outputs": [],
   "source": [
    "y = T.maximum(x,y+)"
   ]
  },
  {
   "cell_type": "code",
   "execution_count": 189,
   "metadata": {
    "collapsed": false
   },
   "outputs": [],
   "source": [
    "yg = T.jacobian(y,x)\n",
    "yg = yg.diagonal()"
   ]
  },
  {
   "cell_type": "code",
   "execution_count": 190,
   "metadata": {
    "collapsed": false
   },
   "outputs": [],
   "source": [
    "fun = theano.function([x], yg)"
   ]
  },
  {
   "cell_type": "code",
   "execution_count": 191,
   "metadata": {
    "collapsed": false
   },
   "outputs": [],
   "source": [
    "xarr = np.linspace(-1,1,100)"
   ]
  },
  {
   "cell_type": "code",
   "execution_count": 192,
   "metadata": {
    "collapsed": false
   },
   "outputs": [],
   "source": [
    "yarr = fun(xarr)"
   ]
  },
  {
   "cell_type": "code",
   "execution_count": 194,
   "metadata": {
    "collapsed": false
   },
   "outputs": [
    {
     "data": {
      "text/plain": [
       "[<matplotlib.lines.Line2D at 0x10dc8f3d0>]"
      ]
     },
     "execution_count": 194,
     "metadata": {},
     "output_type": "execute_result"
    },
    {
     "data": {
      "image/png": "[encoded data removed]",
      "text/plain": [
       "<matplotlib.figure.Figure at 0x10d08be50>"
      ]
     },
     "metadata": {},
     "output_type": "display_data"
    }
   ],
   "source": [
    "plt.plot(xarr,yarr)"
   ]
  },
  {
   "cell_type": "code",
   "execution_count": null,
   "metadata": {
    "collapsed": true
   },
   "outputs": [],
   "source": []
  }
 ],
 "metadata": {
  "anaconda-cloud": {},
  "kernelspec": {
   "display_name": "Python [Root]",
   "language": "python",
   "name": "Python [Root]"
  },
  "language_info": {
   "codemirror_mode": {
    "name": "ipython",
    "version": 2
   },
   "file_extension": ".py",
   "mimetype": "text/x-python",
   "name": "python",
   "nbconvert_exporter": "python",
   "pygments_lexer": "ipython2",
   "version": "2.7.12"
  }
 },
 "nbformat": 4,
 "nbformat_minor": 0
}
