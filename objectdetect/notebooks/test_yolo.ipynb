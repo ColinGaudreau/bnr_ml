{
 "cells": [
  {
   "cell_type": "code",
   "execution_count": 222,
   "metadata": {
    "collapsed": false
   },
   "outputs": [],
   "source": [
    "%matplotlib inline\n",
    "from matplotlib import pyplot as plt\n",
    "import theano\n",
    "from theano import tensor as T\n",
    "from theano.tensor.signal.pool import pool_2d\n",
    "import numpy as np\n",
    "\n",
    "from bnr_ml.nnet import layers\n",
    "from bnr_ml.utils import helpers\n",
    "\n",
    "import pdb"
   ]
  },
  {
   "cell_type": "code",
   "execution_count": 669,
   "metadata": {
    "collapsed": false
   },
   "outputs": [
    {
     "data": {
      "text/plain": [
       "[0, 2, 4, 6, 8]"
      ]
     },
     "execution_count": 669,
     "metadata": {},
     "output_type": "execute_result"
    }
   ],
   "source": [
    "range(0,10,2)"
   ]
  },
  {
   "cell_type": "code",
   "execution_count": 206,
   "metadata": {
    "collapsed": false
   },
   "outputs": [
    {
     "data": {
      "text/plain": [
       "<module 'bnr_ml.nnet.layers' from '/usr/local/python/bnr_ml/nnet/layers.py'>"
      ]
     },
     "execution_count": 206,
     "metadata": {},
     "output_type": "execute_result"
    }
   ],
   "source": [
    "reload(layers)"
   ]
  },
  {
   "cell_type": "code",
   "execution_count": 223,
   "metadata": {
    "collapsed": false
   },
   "outputs": [
    {
     "data": {
      "text/plain": [
       "<module 'bnr_ml.utils.helpers' from '/usr/local/python/bnr_ml/utils/helpers.py'>"
      ]
     },
     "execution_count": 223,
     "metadata": {},
     "output_type": "execute_result"
    }
   ],
   "source": [
    "reload(helpers)"
   ]
  },
  {
   "cell_type": "code",
   "execution_count": 243,
   "metadata": {
    "collapsed": true
   },
   "outputs": [],
   "source": [
    "input = T.tensor4('input')"
   ]
  },
  {
   "cell_type": "code",
   "execution_count": 244,
   "metadata": {
    "collapsed": false
   },
   "outputs": [],
   "source": [
    "l1 = layers.ConvolutionalLayer2D(\n",
    "    (None,3,200,200),\n",
    "    ((3,3)),\n",
    "    16,\n",
    "    input=input\n",
    ")"
   ]
  },
  {
   "cell_type": "code",
   "execution_count": 245,
   "metadata": {
    "collapsed": false
   },
   "outputs": [],
   "source": [
    "l2 = layers.ConvolutionalLayer2D(\n",
    "    l1.get_output_shape(),\n",
    "    (3,3),\n",
    "    16,\n",
    "    input=layers.NonLinLayer(T.nnet.relu, input=l1.output).output\n",
    ")"
   ]
  },
  {
   "cell_type": "code",
   "execution_count": 246,
   "metadata": {
    "collapsed": false
   },
   "outputs": [],
   "source": [
    "l3 = layers.PoolLayer2D(\n",
    "    l2.get_output_shape(),\n",
    "    (7,7),\n",
    "    input=layers.NonLinLayer(T.nnet.relu, input=l2.output).output\n",
    ")"
   ]
  },
  {
   "cell_type": "code",
   "execution_count": 247,
   "metadata": {
    "collapsed": true
   },
   "outputs": [],
   "source": [
    "l4 = layers.ConvolutionalLayer2D(\n",
    "    l3.get_output_shape(),\n",
    "    (3,3),\n",
    "    16,\n",
    "    input=l3.output\n",
    ")\n",
    "l5 = layers.ConvolutionalLayer2D(\n",
    "    l4.get_output_shape(),\n",
    "    (3,3),\n",
    "    16,\n",
    "    input=layers.NonLinLayer(T.nnet.relu, input=l4.output).output\n",
    ")"
   ]
  },
  {
   "cell_type": "code",
   "execution_count": 365,
   "metadata": {
    "collapsed": true
   },
   "outputs": [],
   "source": [
    "l6 = layers.PoolLayer2D(\n",
    "    l5.get_output_shape(),\n",
    "    (12,12),\n",
    "    input=layers.NonLinLayer(T.nnet.relu, input=l5.output).output\n",
    ")"
   ]
  },
  {
   "cell_type": "code",
   "execution_count": 366,
   "metadata": {
    "collapsed": true
   },
   "outputs": [],
   "source": [
    "l7 = layers.FCLayer(\n",
    "    l6.get_output_shape(),\n",
    "    1024,\n",
    "    input=layers.NonLinLayer(T.nnet.sigmoid, input=l6.output).output\n",
    ")"
   ]
  },
  {
   "cell_type": "code",
   "execution_count": 367,
   "metadata": {
    "collapsed": true
   },
   "outputs": [],
   "source": [
    "l8 = layers.FCLayer(\n",
    "    l7.get_output_shape(),\n",
    "    2*2*13,\n",
    "    input=layers.NonLinLayer(T.nnet.sigmoid, input=l7.output).output\n",
    ")"
   ]
  },
  {
   "cell_type": "code",
   "execution_count": 368,
   "metadata": {
    "collapsed": false
   },
   "outputs": [],
   "source": [
    "l8 = l8.output.reshape((-1, 13, 2,2))"
   ]
  },
  {
   "cell_type": "code",
   "execution_count": 369,
   "metadata": {
    "collapsed": true
   },
   "outputs": [],
   "source": [
    "net = {}\n",
    "net['l1'] = l1\n",
    "net['l2'] = l2\n",
    "net['l3'] = l3\n",
    "net['l4'] = l4\n",
    "net['l5'] = l5\n",
    "net['l6'] = l6\n",
    "net['l7'] = l7\n",
    "net['output'] = l8"
   ]
  },
  {
   "cell_type": "code",
   "execution_count": 217,
   "metadata": {
    "collapsed": false
   },
   "outputs": [
    {
     "data": {
      "text/plain": [
       "{'l1': <bnr_ml.nnet.layers.ConvolutionalLayer2D at 0x11ecb29d0>,\n",
       " 'l2': <bnr_ml.nnet.layers.ConvolutionalLayer2D at 0x11ec9d190>,\n",
       " 'l3': <bnr_ml.nnet.layers.PoolLayer2D at 0x11ece23d0>,\n",
       " 'l4': <bnr_ml.nnet.layers.ConvolutionalLayer2D at 0x11ece2fd0>,\n",
       " 'l5': <bnr_ml.nnet.layers.ConvolutionalLayer2D at 0x11ece2f90>,\n",
       " 'l6': <bnr_ml.nnet.layers.PoolLayer2D at 0x11ecb26d0>,\n",
       " 'l7': <bnr_ml.nnet.layers.FCLayer at 0x10c77d310>,\n",
       " 'output': Reshape{4}.0}"
      ]
     },
     "execution_count": 217,
     "metadata": {},
     "output_type": "execute_result"
    }
   ],
   "source": [
    "net"
   ]
  },
  {
   "cell_type": "code",
   "execution_count": 361,
   "metadata": {
    "collapsed": false
   },
   "outputs": [],
   "source": [
    "fun = theano.function([input], l6.output)"
   ]
  },
  {
   "cell_type": "code",
   "execution_count": 362,
   "metadata": {
    "collapsed": true
   },
   "outputs": [],
   "source": [
    "X = np.random.randn(10,3,200,200)"
   ]
  },
  {
   "cell_type": "code",
   "execution_count": 363,
   "metadata": {
    "collapsed": true
   },
   "outputs": [],
   "source": [
    "tmp = fun(X)"
   ]
  },
  {
   "cell_type": "code",
   "execution_count": 364,
   "metadata": {
    "collapsed": false
   },
   "outputs": [
    {
     "data": {
      "text/plain": [
       "(10, 16, 2, 2)"
      ]
     },
     "execution_count": 364,
     "metadata": {},
     "output_type": "execute_result"
    }
   ],
   "source": [
    "tmp.shape"
   ]
  },
  {
   "cell_type": "code",
   "execution_count": 660,
   "metadata": {
    "collapsed": false
   },
   "outputs": [],
   "source": [
    "\n",
    "class YoloObjectDetectorError(Exception):\n",
    "\t\tpass\n",
    "\n",
    "\n",
    "class YoloObjectDetector(object):\n",
    "\t'''\n",
    "\n",
    "\t'''\n",
    "\tdef __init__(\n",
    "\t\tself,\n",
    "\t\tnetwork,\n",
    "\t\tinput_shape,\n",
    "\t\tnum_classes,\n",
    "\t\tS,\n",
    "\t\tB,\n",
    "\t\tinput=None):\n",
    "\t\t'''\n",
    "\t\tnetwork:\n",
    "\t\t--------\n",
    "\t\t\tDict with the entire network defined, must have a \"feature_map\" and \"output\" layer.\n",
    "\t\t\tYou must be able to call .get_output() on these layers.\n",
    "\t\t'''\n",
    "\t\tself.network = network\n",
    "\t\tself.num_classes = num_classes\n",
    "\t\tself.S = S\n",
    "\t\tself.B = B\n",
    "\t\tif input is None:\n",
    "\t\t\tinput = T.tensor4('input')\n",
    "\t\tself.input = input\n",
    "\t\tself.input_shape = input_shape\n",
    "\n",
    "\tdef _get_cost(self, output, probs, dims, lmbda_coord=10., lmbda_noobj = .1, iou_thresh = .1):\n",
    "\t\tlmbda_coord = T.as_tensor_variable(lmbda_coord)\n",
    "\t\tlmbda_noobj = T.as_tensor_variable(lmbda_noobj)\n",
    "\t\tiou_thresh = T.as_tensor_variable(iou_thresh)\n",
    "# \t\toutput = network['output']\n",
    "# \t\tif isinstance(output, AbstractNNetLayer):\n",
    "# \t\t\toutput = output.get_output()\n",
    "\n",
    "\t\tw1, w2 = np.ceil(float(self.input_shape[2]) / self.S[0]), np.ceil(float(self.input_shape[3]) / self.S[1])\n",
    "\n",
    "\t\tdef scale_dims(dims):\n",
    "\t\t\tnewdims = T.set_subtensor(dims[:,0], (dims[:,0] - i * w1) / self.input_shape[2])\n",
    "\t\t\tnewdims = T.set_subtensor(newdims[:,1], (newdims[:,1] - j * w2) / self.input_shape[3])\n",
    "\t\t\tnewdims = T.set_subtensor(newdims[:,2], (newdims[:,2] / self.input_shape[2]))\n",
    "\t\t\tnewdims = T.set_subtensor(newdims[:,3], (newdims[:,3] / self.input_shape[3]))\n",
    "\t\t\treturn newdims\n",
    "\t\tdef unscale_dims(dims):\n",
    "\t\t\tnewdims = T.set_subtensor(dims[:,0], dims[:,0] * self.input_shape[2] + i * w1)\n",
    "\t\t\tnewdims = T.set_subtensor(newdims[:,1], newdims[:,1] * self.input_shape[3] + j * w2)\n",
    "\t\t\tnewdims = T.set_subtensor(newdims[:,2], newdims[:,2] * self.input_shape[2])\n",
    "\t\t\tnewdims = T.set_subtensor(newdims[:,3], newdims[:,3] * self.input_shape[3])\n",
    "\t\t\treturn newdims\n",
    "\n",
    "\t\tcost = T.as_tensor_variable(0.)\n",
    "\t\tfor i in range(self.S[0]):\n",
    "\t\t\tfor j in range(self.S[1]):\n",
    "\t\t\t\tpreds_ij = []\n",
    "\t\t\t\tious = []\n",
    "\n",
    "\t\t\t\tnewdims = scale_dims(dims)\n",
    "\n",
    "\t\t\t\tfor k in range(self.B):\n",
    "\t\t\t\t\tpred_ijk = output[:,k*5:(k+1) * 5,i,j] # single prediction for cell and box\n",
    "\n",
    "\t\t\t\t\t# get intersecion box coordinates relative to boxes\n",
    "\t\t\t\t\tisec_xi = T.maximum(newdims[:,0], pred_ijk[:,0])\n",
    "\t\t\t\t\tisec_yi = T.maximum(newdims[:,1], pred_ijk[:,1])\n",
    "\t\t\t\t\tisec_xf = T.minimum(newdims[:,0] + newdims[:,2], pred_ijk[:,0] + pred_ijk[:,2])\n",
    "\t\t\t\t\tisec_yf = T.minimum(newdims[:,1] + newdims[:,3], pred_ijk[:,1] + pred_ijk[:,3])\n",
    "\n",
    "\t\t\t\t\tisec = T.maximum((isec_xf - isec_xi) * (isec_yf - isec_yi), 0.)\n",
    "\n",
    "\t\t\t\t\tunion = newdims[:,2] * newdims[:,3] + pred_ijk[:,2] * pred_ijk[:,3] - isec\n",
    "\n",
    "\t\t\t\t\tiou = isec / union\n",
    "\n",
    "\t\t\t\t\tpreds_ij.append(pred_ijk.dimshuffle(0,1,'x'))\n",
    "\t\t\t\t\tious.append(iou.dimshuffle(0,'x'))\n",
    "\n",
    "\t\t\t\t# Determine if the image intersects with the cell\n",
    "\t\t\t\tisec_xi = T.maximum(newdims[:,0], 0.)\n",
    "\t\t\t\tisec_yi = T.maximum(newdims[:,1], 0.)\n",
    "\t\t\t\tisec_xf = T.minimum(newdims[:,0] + newdims[:,2], 1. / self.S[0])\n",
    "\t\t\t\tisec_yf = T.minimum(newdims[:,1] + newdims[:,3], 1. / self.S[1])\n",
    "\n",
    "\t\t\t\tisec = T.maximum((isec_xf - isec_xi) * (isec_yf - isec_yi), 0.)\n",
    "\n",
    "\t\t\t\tunion = newdims[:,2] * newdims[:,3] + pred_ijk[:,2] * pred_ijk[:,3] - isec\n",
    "\n",
    "\t\t\t\tiou = isec / union\n",
    "\n",
    "\t\t\t\tis_not_in_cell = (iou < iou_thresh).nonzero()\n",
    "\n",
    "\t\t\t\tpreds_ij = T.concatenate(preds_ij, axis=2)\n",
    "\t\t\t\tious = T.concatenate(ious, axis=1)\n",
    "\n",
    "\t\t\t\tiou_max = T.argmax(ious, axis=1)\n",
    "\n",
    "\t\t\t\t# get final values for predictions\n",
    "\t\t\t\trow,col = meshgrid2D(T.arange(preds_ij.shape[0]), T.arange(preds_ij.shape[1]))\n",
    "\t\t\t\tdep,col = meshgrid2D(iou_max, T.arange(preds_ij.shape[1]))\n",
    "\n",
    "\t\t\t\tpreds_ij = preds_ij[row,col,dep].reshape(preds_ij.shape[:2])\n",
    "\n",
    "\t\t\t\t# get final values for IoUs\n",
    "\t\t\t\trow = T.arange(preds_ij.shape[0])\n",
    "\t\t\t\tious = ious[row, iou_max]\n",
    "\n",
    "\t\t\t\tis_box_not_in_cell = (ious < iou_thresh).nonzero()\n",
    "\n",
    "\t\t\t\tcost_ij_t1 = (preds_ij[:,0] - newdims[:,0])**2 + (preds_ij[:,1] - newdims[:,1])**2\n",
    "\t\t\t\tcost_ij_t1 += (T.sqrt(preds_ij[:,2]) - T.sqrt(newdims[:,2]))**2 + (T.sqrt(preds_ij[:,3]) - T.sqrt(newdims[:,3]))**2\n",
    "\t\t\t\tcost_ij_t1 *= lmbda_coord\n",
    "\n",
    "\t\t\t\tcost_ij_t1 += lmbda_noobj * (preds_ij[:,4] - ious)**2\n",
    "\n",
    "\t\t\t\tcost_ij_t2 = lmbda_noobj * T.sum((probs - output[:,-self.num_classes:,i,j])**2, axis=1)\n",
    "\n",
    "\t\t\t\tcost_ij_t1 = T.set_subtensor(cost_ij_t1[is_box_not_in_cell], 0.)\n",
    "\t\t\t\tcost_ij_t2 = T.set_subtensor(cost_ij_t2[is_not_in_cell], 0.)\n",
    "\n",
    "\t\t\t\tcost += cost_ij_t1 + cost_ij_t2\n",
    "\n",
    "\t\t\t\tdims = unscale_dims(newdims)\n",
    "\n",
    "\t\tcost = cost.mean()\n",
    "\n",
    "\t\treturn cost"
   ]
  },
  {
   "cell_type": "code",
   "execution_count": 661,
   "metadata": {
    "collapsed": true
   },
   "outputs": [],
   "source": [
    "yolo = YoloObjectDetector(\n",
    "    net,\n",
    "    (None,3,200,200),\n",
    "    3,\n",
    "    (2,2),\n",
    "    2,\n",
    "    input=input\n",
    ")"
   ]
  },
  {
   "cell_type": "code",
   "execution_count": 662,
   "metadata": {
    "collapsed": true
   },
   "outputs": [],
   "source": [
    "output = T.tensor4('output')"
   ]
  },
  {
   "cell_type": "code",
   "execution_count": 663,
   "metadata": {
    "collapsed": true
   },
   "outputs": [],
   "source": [
    "proba = T.matrix('probs')\n",
    "dims = T.matrix('dims')"
   ]
  },
  {
   "cell_type": "code",
   "execution_count": 664,
   "metadata": {
    "collapsed": false
   },
   "outputs": [],
   "source": [
    "cost = yolo._get_cost(output, proba, dims)"
   ]
  },
  {
   "cell_type": "code",
   "execution_count": 666,
   "metadata": {
    "collapsed": false
   },
   "outputs": [],
   "source": [
    "fun = theano.function([output, proba, dims], cost)"
   ]
  },
  {
   "cell_type": "code",
   "execution_count": 667,
   "metadata": {
    "collapsed": false
   },
   "outputs": [
    {
     "data": {
      "text/plain": [
       "array(0.30000000000000004)"
      ]
     },
     "execution_count": 667,
     "metadata": {},
     "output_type": "execute_result"
    }
   ],
   "source": [
    "fun(out, probdat, dimdat)"
   ]
  },
  {
   "cell_type": "code",
   "execution_count": 339,
   "metadata": {
    "collapsed": false
   },
   "outputs": [],
   "source": [
    "prob_dat = np.random.rand(10, 3)\n",
    "prob_dat /= prob_dat.sum(axis=1, keepdims=True)"
   ]
  },
  {
   "cell_type": "code",
   "execution_count": 345,
   "metadata": {
    "collapsed": true
   },
   "outputs": [],
   "source": [
    "dim_dat = np.round(200 * np.random.rand(10,5))"
   ]
  },
  {
   "cell_type": "code",
   "execution_count": 341,
   "metadata": {
    "collapsed": false
   },
   "outputs": [],
   "source": [
    "tmp = fun(X, prob_dat, dim_dat)"
   ]
  },
  {
   "cell_type": "code",
   "execution_count": 342,
   "metadata": {
    "collapsed": false
   },
   "outputs": [
    {
     "data": {
      "text/plain": [
       "array(nan)"
      ]
     },
     "execution_count": 342,
     "metadata": {},
     "output_type": "execute_result"
    }
   ],
   "source": [
    "tmp"
   ]
  },
  {
   "cell_type": "code",
   "execution_count": 653,
   "metadata": {
    "collapsed": true
   },
   "outputs": [],
   "source": [
    "def get_cost(output, probs, dims, S, B, input_shape, num_classes, lmbda_coord=10., lmbda_noobj = .1, iou_thresh = .1):\n",
    "#     lmbda_coord = T.as_tensor_variable(lmbda_coord)\n",
    "#     lmbda_noobj = T.as_tensor_variable(lmbda_noobj)\n",
    "#     iou_thresh = T.as_tensor_variable(iou_thresh)\n",
    "#     output = self.network['output']\n",
    "\n",
    "    w1, w2 = np.ceil(float(input_shape[2]) / S[0]), np.ceil(float(input_shape[3]) / S[1])\n",
    "\n",
    "    cost = 0.\n",
    "    for i in range(S[0]):\n",
    "        for j in range(S[1]):\n",
    "            preds_ij = []\n",
    "            ious = []\n",
    "\n",
    "            newdims = np.copy(dims)\n",
    "#             newdims[:,0] = newdims[:,0] / input_shape[2] # CHANGES HERE\n",
    "#             newdims[:,1] = newdims[:,1] / input_shape[3]\n",
    "            newdims[:,2] = newdims[:,2] / input_shape[2]\n",
    "            newdims[:,3] = newdims[:,3] / input_shape[3]\n",
    "            newdims[:,0] = (newdims[:,0] - i * w1) / input_shape[2] # CHANGE HERE\n",
    "            newdims[:,1] = (newdims[:,1] - j * w2) / input_shape[3]\n",
    "            \n",
    "            for k in range(B):\n",
    "                pred_ijk = output[:,k*5:(k+1) * 5,i,j] # single prediction for cell and box\n",
    "\n",
    "                # get intersection box coordinates relative to boxes\n",
    "                isec_xi = np.maximum(newdims[:,0], pred_ijk[:,0])\n",
    "                isec_yi = np.maximum(newdims[:,1], pred_ijk[:,1])\n",
    "                isec_xf = np.minimum(newdims[:,0] + newdims[:,2], pred_ijk[:,0] + pred_ijk[:,2]) #CHANGE HERE\n",
    "                isec_yf = np.minimum(newdims[:,1] + newdims[:,3], pred_ijk[:,1] + pred_ijk[:,3])\n",
    "\n",
    "                isec = np.max((isec_xf - isec_xi) * (isec_yf - isec_yi), 0.)\n",
    "\n",
    "                union = newdims[:,2] * newdims[:,3] + pred_ijk[:,2] * pred_ijk[:,3] - isec # CHANGE HERE\n",
    "\n",
    "                iou = isec / union\n",
    "\n",
    "                preds_ij.append(pred_ijk.reshape(pred_ijk.shape + (1,)))\n",
    "                ious.append(iou.reshape((-1,1)))\n",
    "                \n",
    "            # determine if intersects with cell i,j  # CHANGE HERE\n",
    "            isec_xi = np.maximum(newdims[:,0], 0.)\n",
    "            isec_yi = np.maximum(newdims[:,1], 0.)\n",
    "            isec_xf = np.minimum(newdims[:,0] + newdims[:,2], 1. / S[0]) #CHANGE HERE\n",
    "            isec_yf = np.minimum(newdims[:,1] + newdims[:,3], 1. / S[1])\n",
    "\n",
    "            isec = np.max((isec_xf - isec_xi) * (isec_yf - isec_yi), 0.)\n",
    "\n",
    "            union = newdims[:,2] * newdims[:,3] + pred_ijk[:,2] * pred_ijk[:,3] - isec # CHANGE HERE\n",
    "\n",
    "            iou = isec / union\n",
    "            \n",
    "            is_not_in_cell = (iou < iou_thresh).nonzero()\n",
    "\n",
    "            preds_ij = np.concatenate(preds_ij, axis=2)\n",
    "            ious = np.concatenate(ious, axis=1)\n",
    "\n",
    "            iou_max = np.argmax(ious, axis=1)\n",
    "\n",
    "            # get final values for predictions\n",
    "            row,col = np.meshgrid(np.arange(preds_ij.shape[0]), np.arange(preds_ij.shape[1]))\n",
    "            dep,col = np.meshgrid(iou_max, np.arange(preds_ij.shape[1]))\n",
    "            \n",
    "            preds_ij = preds_ij[row.flatten(),col.flatten(),dep.flatten()].reshape(preds_ij.shape[:2])\n",
    "\n",
    "            # get final values for IoUs\n",
    "            row = np.arange(preds_ij.shape[0]) # CHANGES HERE\n",
    "            ious = ious[row, iou_max]\n",
    "\n",
    "            is_not_valid = (ious < iou_thresh).nonzero()\n",
    "\n",
    "            # calc cost for term 1 involving bounding box predictions\n",
    "            cost_ij_t1 = (preds_ij[:,0] - newdims[:,0])**2 + (preds_ij[:,1] - newdims[:,1])**2\n",
    "            cost_ij_t1 += (np.sqrt(preds_ij[:,2]) - np.sqrt(newdims[:,2]))**2 + (np.sqrt(preds_ij[:,3]) - np.sqrt(newdims[:,3]))**2\n",
    "            cost_ij_t1 *= lmbda_coord\n",
    "\n",
    "            cost_ij_t1 += lmbda_noobj * (preds_ij[:,4] - ious)**2\n",
    "\n",
    "            \n",
    "            cost_ij_t2 = lmbda_noobj * np.sum((probs - output[:,-num_classes:,i,j])**2, axis=1)\n",
    "            \n",
    "            cost_ij_t1[np.bitwise_not(is_not_valid)] = 0.\n",
    "            cost_ij_t2[np.bitwise_not(is_not_in_cell)] = 0.\n",
    "\n",
    "            \n",
    "            cost += cost_ij_t1 + cost_ij_t2\n",
    "\n",
    "    cost = cost.mean()\n",
    "\n",
    "    return cost"
   ]
  },
  {
   "cell_type": "code",
   "execution_count": 319,
   "metadata": {
    "collapsed": true
   },
   "outputs": [],
   "source": [
    "out = fun(X)"
   ]
  },
  {
   "cell_type": "code",
   "execution_count": 343,
   "metadata": {
    "collapsed": true
   },
   "outputs": [],
   "source": [
    "tmp = np.concatenate()"
   ]
  },
  {
   "cell_type": "markdown",
   "metadata": {},
   "source": [
    "def get_cost(output, probs, dims, S, B, input_shape, num_classes, lmbda_coord=10., lmbda_noobj = .1, iou_thresh = .1)"
   ]
  },
  {
   "cell_type": "code",
   "execution_count": 654,
   "metadata": {
    "collapsed": false
   },
   "outputs": [
    {
     "data": {
      "text/plain": [
       "0.30000000000000004"
      ]
     },
     "execution_count": 654,
     "metadata": {},
     "output_type": "execute_result"
    }
   ],
   "source": [
    "get_cost(out, probdat, dimdat, (2,2), 2, (None, 3, 200, 200), 3)"
   ]
  },
  {
   "cell_type": "code",
   "execution_count": 563,
   "metadata": {
    "collapsed": true
   },
   "outputs": [],
   "source": [
    "probdat = np.asarray([[1.,0.,0.]])\n",
    "dimdat = np.array([[50.,50.,100.,100.,1./6]])"
   ]
  },
  {
   "cell_type": "code",
   "execution_count": 641,
   "metadata": {
    "collapsed": false
   },
   "outputs": [],
   "source": [
    "tmp = np.asarray([.25,.25,.5,.5,1.,0,0,0,0,0,1.,0.,0.,])\n",
    "out = np.zeros((1,13,2,2))\n",
    "out[0,:,0,0] = tmp"
   ]
  },
  {
   "cell_type": "code",
   "execution_count": null,
   "metadata": {
    "collapsed": true
   },
   "outputs": [],
   "source": []
  }
 ],
 "metadata": {
  "kernelspec": {
   "display_name": "Python 2",
   "language": "python",
   "name": "python2"
  },
  "language_info": {
   "codemirror_mode": {
    "name": "ipython",
    "version": 2
   },
   "file_extension": ".py",
   "mimetype": "text/x-python",
   "name": "python",
   "nbconvert_exporter": "python",
   "pygments_lexer": "ipython2",
   "version": "2.7.11"
  }
 },
 "nbformat": 4,
 "nbformat_minor": 0
}
