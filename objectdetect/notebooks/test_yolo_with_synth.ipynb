{
 "cells": [
  {
   "cell_type": "code",
   "execution_count": 2,
   "metadata": {
    "collapsed": false
   },
   "outputs": [],
   "source": [
    "%matplotlib inline\n",
    "from matplotlib import pyplot as plt\n",
    "import numpy as np\n",
    "from bnr_ml.nnet import layers\n",
    "from bnr_ml.objectdetect import yolo\n",
    "from bnr_ml.nnet.updates import momentum\n",
    "import theano\n",
    "from theano import tensor as T\n",
    "from collections import OrderedDict\n",
    "from tqdm import tqdm\n",
    "\n",
    "import pdb"
   ]
  },
  {
   "cell_type": "code",
   "execution_count": 3,
   "metadata": {
    "collapsed": false
   },
   "outputs": [],
   "source": [
    "def gen_num_objs(max_obj):\n",
    "    return int(1 + max_obj * np.random.rand())"
   ]
  },
  {
   "cell_type": "code",
   "execution_count": 4,
   "metadata": {
    "collapsed": false
   },
   "outputs": [],
   "source": [
    "def gen_classes(num_obj, num_class):\n",
    "    return np.random.randint(num_class, size=(num_obj,))"
   ]
  },
  {
   "cell_type": "code",
   "execution_count": 5,
   "metadata": {
    "collapsed": false
   },
   "outputs": [],
   "source": [
    "def gen_circle(shape):\n",
    "#     pdb.set_trace()\n",
    "    row, col = np.meshgrid(np.arange(shape[1]), np.arange(shape[0]))\n",
    "    row, col = row.astype(np.float64), col.astype(np.float64)\n",
    "    row = (row - row.shape[1] / 2) / (row.shape[1] / 2)\n",
    "    col = (col - col.shape[0] / 2) / (col.shape[0] / 2)\n",
    "    \n",
    "    \n",
    "    im = np.zeros(shape + (1,))\n",
    "    for i in range(im.shape[2]):\n",
    "        in_ellipse = (row**2 + col**2) < 1\n",
    "        im[:,:,i][in_ellipse] = np.ones(shape)[in_ellipse]\n",
    "#         im[:,:,i][in_ellipse] = (np.random.gamma(.7) + np.random.gamma(.4) * np.random.randn(*shape))[in_ellipse]\n",
    "    im[im < 0] = 0.\n",
    "    im[im >= 1] = 1.\n",
    "    return im"
   ]
  },
  {
   "cell_type": "code",
   "execution_count": 6,
   "metadata": {
    "collapsed": true
   },
   "outputs": [],
   "source": [
    "def gen_rect(shape):\n",
    "    im = np.zeros(shape + (3,))\n",
    "    for i in range(3):\n",
    "        im[:,:,i] = (np.random.gamma(.7) + np.random.gamma(.4) * np.random.randn(*shape))\n",
    "    im[im < 0] = 0.\n",
    "    im[im > 1] = 1.\n",
    "    return im"
   ]
  },
  {
   "cell_type": "code",
   "execution_count": 7,
   "metadata": {
    "collapsed": true
   },
   "outputs": [],
   "source": [
    "def gen_triangle(shape):\n",
    "    row, col = np.meshgrid(np.arange(shape[1]), np.arange(shape[0]))\n",
    "    row, col = row.astype(np.float64), col.astype(np.float64)\n",
    "    row = row / row.shape[1]\n",
    "    col = col / col.shape[0]\n",
    "    \n",
    "    \n",
    "    im = np.zeros(shape + (1,))\n",
    "    if np.random.rand() < .5:\n",
    "        in_triangle = row + col < 1\n",
    "    else:\n",
    "        in_triangle = row + col > 1\n",
    "    for i in range(im.shape[2]):\n",
    "#         im[:,:,i][in_triangle] = (np.random.gamma(.7) + np.random.gamma(.4) * np.random.randn(*shape))[in_triangle]\n",
    "        im[:,:,i][in_triangle] = np.ones(shape)[in_triangle]\n",
    "    im[im < 0] = 0.\n",
    "    im[im >= 1] = 1.\n",
    "    return im"
   ]
  },
  {
   "cell_type": "code",
   "execution_count": 8,
   "metadata": {
    "collapsed": false
   },
   "outputs": [],
   "source": [
    "def gen_pos_shape(min_shape, im_shape):\n",
    "    shape = (\n",
    "        int(min_shape[0] + (im_shape[0] - min_shape[0]) * np.random.rand()),\n",
    "        int(min_shape[1] + (im_shape[1] - min_shape[1]) * np.random.rand())\n",
    "    )\n",
    "    pos = (\n",
    "        int((im_shape[0] - shape[0]) * np.random.rand()),\n",
    "        int((im_shape[1] - shape[1]) * np.random.rand())\n",
    "    )\n",
    "    return shape, pos"
   ]
  },
  {
   "cell_type": "code",
   "execution_count": 9,
   "metadata": {
    "collapsed": false
   },
   "outputs": [],
   "source": [
    "def gen_scene(max_obj, num_class, min_shape, im_shape):\n",
    "    num_obj = gen_num_objs(max_obj)\n",
    "    classes = gen_classes(num_obj, num_class)\n",
    "#     im = np.random.gamma(.2) * np.random.randn(*(im_shape + (3,)))\n",
    "    im = np.zeros(im_shape + (1,))\n",
    "    im[im < 0] = 0.\n",
    "    im[im > 1] = 1.\n",
    "    y = np.zeros((4 + num_class,))\n",
    "    \n",
    "    for cls in classes:\n",
    "        shape, pos = gen_pos_shape(min_shape, im_shape)\n",
    "        y[:4] = pos + shape\n",
    "        y[-num_class + cls] += 1.\n",
    "        if cls == 0:\n",
    "            shp = gen_circle(shape)\n",
    "        elif cls == 1:\n",
    "            shp = gen_triangle(shape)\n",
    "        elif cls == 2:\n",
    "            shp = gen_triangle(shape)\n",
    "        else:\n",
    "            pass\n",
    "        im[pos[0]:pos[0]+shape[0],pos[1]:pos[1]+shape[1],:] += shp\n",
    "    return im / np.max(im), y"
   ]
  },
  {
   "cell_type": "code",
   "execution_count": 10,
   "metadata": {
    "collapsed": true
   },
   "outputs": [],
   "source": [
    "def gen_dataset(size, shape):\n",
    "    X, y = np.zeros((size,1) + shape), np.zeros((size,4+2))\n",
    "    for i in range(size):\n",
    "        dat = gen_scene(1, 2, (25,25), shape)\n",
    "        X[i], y[i] = dat[0].swapaxes(2,1).swapaxes(1,0), dat[1]\n",
    "    return X, y"
   ]
  },
  {
   "cell_type": "code",
   "execution_count": 11,
   "metadata": {
    "collapsed": false
   },
   "outputs": [],
   "source": [
    "X,y = gen_dataset(10000, (100,100))"
   ]
  },
  {
   "cell_type": "code",
   "execution_count": null,
   "metadata": {
    "collapsed": false
   },
   "outputs": [],
   "source": [
    "N = np.int_(X.shape[0] * np.random.rand())\n",
    "plt.imshow(X[N,0], 'gray')\n",
    "plt.show()"
   ]
  },
  {
   "cell_type": "code",
   "execution_count": 85,
   "metadata": {
    "collapsed": false
   },
   "outputs": [],
   "source": [
    "input = T.tensor4('input')"
   ]
  },
  {
   "cell_type": "code",
   "execution_count": 86,
   "metadata": {
    "collapsed": false
   },
   "outputs": [],
   "source": [
    "l1 = layers.ConvolutionalLayer2D(\n",
    "    (None,1,100,100),\n",
    "    (3,3),\n",
    "    16,\n",
    "    input=input\n",
    ")\n",
    "l2 = layers.ConvolutionalLayer2D(\n",
    "    l1.get_output_shape(),\n",
    "    (3,3),\n",
    "    16,\n",
    "    input=layers.NonLinLayer(T.nnet.relu, input=l1.output).output\n",
    ")\n",
    "l3 = layers.PoolLayer2D(\n",
    "    l2.get_output_shape(),\n",
    "    (3,3),\n",
    "    input=layers.NonLinLayer(T.nnet.relu, input=l2.output).output\n",
    ")\n",
    "l4 = layers.ConvolutionalLayer2D(\n",
    "    l3.get_output_shape(),\n",
    "    (3,3),\n",
    "    16,\n",
    "    input=l3.output\n",
    ")\n",
    "l5 = layers.ConvolutionalLayer2D(\n",
    "    l4.get_output_shape(),\n",
    "    (3,3),\n",
    "    16,\n",
    "    input=layers.NonLinLayer(T.nnet.relu, input=l4.output).output\n",
    ")\n",
    "l6 = layers.PoolLayer2D(\n",
    "    l5.get_output_shape(),\n",
    "    (3,3),\n",
    "    input=layers.NonLinLayer(T.nnet.relu, input=l5.output).output\n",
    ")\n",
    "\n",
    "l7 = layers.FCLayer(\n",
    "    l6.get_output_shape(),\n",
    "    1024,\n",
    "    input=l6.output\n",
    ")\n",
    "l8 = layers.FCLayer(\n",
    "    l7.get_output_shape(),\n",
    "    2,\n",
    "    input=layers.NonLinLayer(T.nnet.relu, input=l7.output).output\n",
    ")\n",
    "# l9 = layers.FCLayer(\n",
    "#     l8.get_output_shape(),\n",
    "#     2,\n",
    "#     input=l8.output\n",
    "# )\n",
    "\n",
    "params = []\n",
    "params.extend(l1.get_params())\n",
    "params.extend(l2.get_params())\n",
    "params.extend(l3.get_params())\n",
    "params.extend(l4.get_params())\n",
    "params.extend(l5.get_params())\n",
    "params.extend(l6.get_params())\n",
    "params.extend(l7.get_params())\n",
    "params.extend(l8.get_params())\n",
    "# params.extend(l9.get_params())\n",
    "\n",
    "label = T.nnet.softmax(l8.output)"
   ]
  },
  {
   "cell_type": "code",
   "execution_count": 67,
   "metadata": {
    "collapsed": true
   },
   "outputs": [],
   "source": [
    "fun = theano.function([input], l6.output)"
   ]
  },
  {
   "cell_type": "code",
   "execution_count": 68,
   "metadata": {
    "collapsed": true
   },
   "outputs": [],
   "source": [
    "tmp = fun(X[:40])"
   ]
  },
  {
   "cell_type": "code",
   "execution_count": 84,
   "metadata": {
    "collapsed": false
   },
   "outputs": [
    {
     "data": {
      "image/png": "[encoded data removed]",
      "text/plain": [
       "<matplotlib.figure.Figure at 0x140309310>"
      ]
     },
     "metadata": {},
     "output_type": "display_data"
    },
    {
     "name": "stdout",
     "output_type": "stream",
     "text": [
      "[ 0.  1.]\n"
     ]
    }
   ],
   "source": [
    "N = np.int_(tmp.shape[0] * np.random.rand())\n",
    "plt.imshow(tmp[N,0], 'gray', interpolation='none')\n",
    "plt.show()\n",
    "print y[N,-2:]"
   ]
  },
  {
   "cell_type": "code",
   "execution_count": 87,
   "metadata": {
    "collapsed": false
   },
   "outputs": [],
   "source": [
    "# l1.W.set_value(weights[0]['W'])\n",
    "# l1.b.set_value(weights[0]['b'])\n",
    "\n",
    "# l3.W.set_value(weights[1]['W'])\n",
    "# l3.b.set_value(weights[1]['b'])\n",
    "\n",
    "# # l7.W.set_value(weights[1]['W'])\n",
    "# # l7.b.set_value(weights[1]['b'])\n",
    "\n",
    "# # l8.W.set_value(weights[2]['W'])\n",
    "# # l8.b.set_value(weights[2]['b'])"
   ]
  },
  {
   "cell_type": "code",
   "execution_count": null,
   "metadata": {
    "collapsed": false
   },
   "outputs": [],
   "source": [
    "# pretrain\n",
    "target = T.matrix('target')\n",
    "\n",
    "def cross_ent(output, target):\n",
    "    return - T.sum(target * T.log(output), axis=1).mean()\n",
    "\n",
    "\n",
    "cost = cross_ent(label, target)\n",
    "\n",
    "# params = layers.get_all_params(l9)\n",
    "\n",
    "grads = T.grad(cost, params)\n",
    "\n",
    "updates = momentum(cost, params, lr=1e-5, momentum=0.5)\n",
    "\n",
    "train_fn = theano.function([input, target], cost, updates=updates)\n",
    "test_fn = theano.function([input, target], cost)"
   ]
  },
  {
   "cell_type": "code",
   "execution_count": null,
   "metadata": {
    "collapsed": false
   },
   "outputs": [
    {
     "name": "stderr",
     "output_type": "stream",
     "text": [
      "100%|██████████| 180/180 [00:09<00:00, 18.11it/s]\n"
     ]
    },
    {
     "name": "stdout",
     "output_type": "stream",
     "text": [
      "Training error: 0.6931, Test eror: 0.6931\n"
     ]
    },
    {
     "name": "stderr",
     "output_type": "stream",
     "text": [
      "100%|██████████| 180/180 [00:10<00:00, 17.83it/s]\n"
     ]
    }
   ],
   "source": [
    "np.random.seed(1991)\n",
    "\n",
    "N = np.int_(.9 * X.shape[0])\n",
    "Xtrain, ytrain = X[:N], y[:N,-2:]\n",
    "Xtest, ytest = X[N:], y[N:,-2:]\n",
    "\n",
    "idx = np.arange(N)\n",
    "\n",
    "epochs = 80\n",
    "batch_size=50\n",
    "\n",
    "train_cost = []\n",
    "test_cost = []\n",
    "\n",
    "for epoch in range(epochs):\n",
    "    batch_cost = []\n",
    "    np.random.shuffle(idx)\n",
    "    Xtrain, ytrain = Xtrain[idx], ytrain[idx]\n",
    "    for i in tqdm(range(0,Xtrain.shape[0],batch_size)):\n",
    "        Xbatch,ybatch = Xtrain[i*batch_size:(i+1)*batch_size], ytrain[i*batch_size:(i+1)*batch_size]\n",
    "        if Xbatch.shape[0] > 0:\n",
    "            err =  train_fn(Xbatch, ybatch)\n",
    "            batch_cost.append(err)\n",
    "    train_cost.append(np.mean(batch_cost))\n",
    "    test_cost.append(test_fn(Xtest,ytest))\n",
    "    print('Training error: %.4f, Test eror: %.4f' % (train_cost[epoch], test_cost[epoch]))"
   ]
  },
  {
   "cell_type": "code",
   "execution_count": null,
   "metadata": {
    "collapsed": false
   },
   "outputs": [],
   "source": [
    "plt.figure(figsize=(8,8))\n",
    "plt.plot(train_cost, 'r')\n",
    "plt.plot(test_cost, 'b')\n",
    "plt.show()"
   ]
  },
  {
   "cell_type": "code",
   "execution_count": null,
   "metadata": {
    "collapsed": true
   },
   "outputs": [],
   "source": [
    "pred_fn = theano.function([input], label)"
   ]
  },
  {
   "cell_type": "code",
   "execution_count": null,
   "metadata": {
    "collapsed": true
   },
   "outputs": [],
   "source": [
    "preds = pred_fn(Xtest)"
   ]
  },
  {
   "cell_type": "code",
   "execution_count": null,
   "metadata": {
    "collapsed": false
   },
   "outputs": [],
   "source": [
    "N = np.int_(Xtest.shape[0] * np.random.rand())\n",
    "plt.imshow(Xtest[N,0])\n",
    "plt.show()\n",
    "\n",
    "if np.argmax(preds[N]) == 0:\n",
    "    print 'Circle'\n",
    "else:\n",
    "    print 'Triangle'\n",
    "print'Confidence: %.3f' % preds[N][np.argmax(preds[N])]"
   ]
  },
  {
   "cell_type": "code",
   "execution_count": null,
   "metadata": {
    "collapsed": true
   },
   "outputs": [],
   "source": [
    "weights = []\n",
    "weights.append({'W': np.copy(l1.W.get_value(borrow=True)), 'b': np.copy(l1.b.get_value(borrow=True))})\n",
    "weights.append({'W': np.copy(l3.W.get_value(borrow=True)), 'b': np.copy(l3.b.get_value(borrow=True))})\n",
    "\n",
    "\n",
    "# weights.append({'W': np.copy(l7.W.get_value(borrow=True)), 'b': np.copy(l8.b.get_value(borrow=True))})\n",
    "# weights.append({'W': np.copy(l7.W.get_value(borrow=True)), 'b': np.copy(l8.b.get_value(borrow=True))})"
   ]
  },
  {
   "cell_type": "code",
   "execution_count": null,
   "metadata": {
    "collapsed": false
   },
   "outputs": [],
   "source": [
    "reload(layers)\n",
    "reload(yolo)"
   ]
  },
  {
   "cell_type": "code",
   "execution_count": null,
   "metadata": {
    "collapsed": false
   },
   "outputs": [],
   "source": [
    "yl = yolo.YoloObjectDetector(net, (None,3,200,200), 3, (2,2), 2)"
   ]
  },
  {
   "cell_type": "code",
   "execution_count": null,
   "metadata": {
    "collapsed": false
   },
   "outputs": [],
   "source": [
    "yl.train(\n",
    "    X,\n",
    "    y,\n",
    "    lr=1e-2\n",
    ")"
   ]
  },
  {
   "cell_type": "code",
   "execution_count": null,
   "metadata": {
    "collapsed": false
   },
   "outputs": [],
   "source": [
    "pred_fn = theano.function([yl.input], yl.output)"
   ]
  },
  {
   "cell_type": "code",
   "execution_count": null,
   "metadata": {
    "collapsed": true
   },
   "outputs": [],
   "source": [
    "Xval,yval = gen_dataset(50)"
   ]
  },
  {
   "cell_type": "code",
   "execution_count": null,
   "metadata": {
    "collapsed": false
   },
   "outputs": [],
   "source": [
    "yval[:2]"
   ]
  },
  {
   "cell_type": "code",
   "execution_count": null,
   "metadata": {
    "collapsed": false
   },
   "outputs": [],
   "source": [
    "pred_fn(Xval[:2])"
   ]
  },
  {
   "cell_type": "code",
   "execution_count": null,
   "metadata": {
    "collapsed": true
   },
   "outputs": [],
   "source": []
  }
 ],
 "metadata": {
  "anaconda-cloud": {},
  "kernelspec": {
   "display_name": "Python [Root]",
   "language": "python",
   "name": "Python [Root]"
  },
  "language_info": {
   "codemirror_mode": {
    "name": "ipython",
    "version": 2
   },
   "file_extension": ".py",
   "mimetype": "text/x-python",
   "name": "python",
   "nbconvert_exporter": "python",
   "pygments_lexer": "ipython2",
   "version": "2.7.12"
  }
 },
 "nbformat": 4,
 "nbformat_minor": 0
}
