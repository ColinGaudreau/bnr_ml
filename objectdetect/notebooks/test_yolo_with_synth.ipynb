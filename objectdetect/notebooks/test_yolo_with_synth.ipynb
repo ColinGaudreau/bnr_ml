{
 "cells": [
  {
   "cell_type": "code",
   "execution_count": 1,
   "metadata": {
    "collapsed": false
   },
   "outputs": [
    {
     "name": "stderr",
     "output_type": "stream",
     "text": [
      "/Library/Python/2.7/site-packages/theano/tensor/signal/downsample.py:6: UserWarning: downsample module has been moved to the theano.tensor.signal.pool module.\n",
      "  \"downsample module has been moved to the theano.tensor.signal.pool module.\")\n"
     ]
    }
   ],
   "source": [
    "%matplotlib inline\n",
    "from matplotlib import pyplot as plt\n",
    "import numpy as np\n",
    "from bnr_ml.nnet import layers\n",
    "from bnr_ml.objectdetect import yolo\n",
    "from bnr_ml.nnet.updates import momentum\n",
    "import theano\n",
    "from theano import tensor as T\n",
    "from collections import OrderedDict\n",
    "from tqdm import tqdm\n",
    "\n",
    "import lasagne\n",
    "import lasagne.layers as layers\n",
    "\n",
    "import pickle as pk\n",
    "\n",
    "import pdb"
   ]
  },
  {
   "cell_type": "code",
   "execution_count": 2,
   "metadata": {
    "collapsed": false
   },
   "outputs": [],
   "source": [
    "def gen_num_objs(max_obj):\n",
    "    return int(1 + max_obj * np.random.rand())"
   ]
  },
  {
   "cell_type": "code",
   "execution_count": 3,
   "metadata": {
    "collapsed": false
   },
   "outputs": [],
   "source": [
    "def gen_classes(num_obj, num_class):\n",
    "    return np.random.randint(num_class, size=(num_obj,))"
   ]
  },
  {
   "cell_type": "code",
   "execution_count": 4,
   "metadata": {
    "collapsed": false
   },
   "outputs": [],
   "source": [
    "def gen_circle(shape):\n",
    "#     pdb.set_trace()\n",
    "    row, col = np.meshgrid(np.arange(shape[1]), np.arange(shape[0]))\n",
    "    row, col = row.astype(np.float64), col.astype(np.float64)\n",
    "    row = (row - row.shape[1] / 2) / (row.shape[1] / 2)\n",
    "    col = (col - col.shape[0] / 2) / (col.shape[0] / 2)\n",
    "    \n",
    "    \n",
    "    im = np.zeros(shape + (1,))\n",
    "    for i in range(im.shape[2]):\n",
    "        in_ellipse = (row**2 + col**2) < 1\n",
    "#         im[:,:,i][in_ellipse] = (np.random.gamma(.7) + np.random.gamma(.4) * np.random.randn(*shape))[in_ellipse]\n",
    "        im[:,:,i][in_ellipse] = np.ones(shape)[in_ellipse]\n",
    "    im[im < 0] = 0.\n",
    "    im[im >= 1] = 1.\n",
    "    return im"
   ]
  },
  {
   "cell_type": "code",
   "execution_count": 5,
   "metadata": {
    "collapsed": true
   },
   "outputs": [],
   "source": [
    "def gen_rect(shape):\n",
    "    im = np.zeros(shape + (3,))\n",
    "    for i in range(3):\n",
    "        im[:,:,i] = (np.random.gamma(.7) + np.random.gamma(.4) * np.random.randn(*shape))\n",
    "    im[im < 0] = 0.\n",
    "    im[im > 1] = 1.\n",
    "    return im"
   ]
  },
  {
   "cell_type": "code",
   "execution_count": 6,
   "metadata": {
    "collapsed": true
   },
   "outputs": [],
   "source": [
    "def gen_triangle(shape):\n",
    "    row, col = np.meshgrid(np.arange(shape[1]), np.arange(shape[0]))\n",
    "    row, col = row.astype(np.float64), col.astype(np.float64)\n",
    "    row = row / row.shape[1]\n",
    "    col = col / col.shape[0]\n",
    "    \n",
    "    \n",
    "    im = np.zeros(shape + (1,))\n",
    "    if np.random.rand() < .5:\n",
    "        in_triangle = row + col < 1\n",
    "    else:\n",
    "        in_triangle = row + col > 1\n",
    "    for i in range(im.shape[2]):\n",
    "        im[:,:,i][in_triangle] = np.ones(shape)[in_triangle]\n",
    "#         im[:,:,i][in_triangle] = (np.random.gamma(.7) + np.random.gamma(.4) * np.random.randn(*shape))[in_triangle]\n",
    "    im[im < 0] = 0.\n",
    "    im[im >= 1] = 1.\n",
    "    return im"
   ]
  },
  {
   "cell_type": "code",
   "execution_count": 7,
   "metadata": {
    "collapsed": false
   },
   "outputs": [],
   "source": [
    "def gen_pos_shape(min_shape, im_shape):\n",
    "    shape = (\n",
    "        int(min_shape[0] + (im_shape[0] - min_shape[0]) * np.random.rand()),\n",
    "        int(min_shape[1] + (im_shape[1] - min_shape[1]) * np.random.rand())\n",
    "    )\n",
    "    pos = (\n",
    "        int((im_shape[0] - shape[0]) * np.random.rand()),\n",
    "        int((im_shape[1] - shape[1]) * np.random.rand())\n",
    "    )\n",
    "    return shape, pos"
   ]
  },
  {
   "cell_type": "code",
   "execution_count": 8,
   "metadata": {
    "collapsed": false
   },
   "outputs": [],
   "source": [
    "def gen_scene(max_obj, num_class, min_shape, im_shape):\n",
    "    num_obj = gen_num_objs(max_obj)\n",
    "    classes = gen_classes(num_obj, num_class)\n",
    "    im = np.random.gamma(.4) * np.random.randn(*(im_shape + (1,)))\n",
    "    im[im < 0] = 0.\n",
    "    im[im > 1] = 1.\n",
    "    y = np.zeros((4 + num_class,))\n",
    "    \n",
    "    for cls in classes:\n",
    "        shape, pos = gen_pos_shape(min_shape, im_shape)\n",
    "        if cls == 0:\n",
    "            shp = gen_circle(shape)\n",
    "        elif cls == 1:\n",
    "            shp = gen_triangle(shape)\n",
    "        elif cls == 2:\n",
    "            shp = gen_triangle(shape)\n",
    "        else:\n",
    "            pass\n",
    "        im[pos[0]:pos[0]+shape[0],pos[1]:pos[1]+shape[1],:] += shp\n",
    "        y[:4] = pos + shape\n",
    "        y = y.astype(np.float64)\n",
    "        y[[0,2]] /= im_shape[0]\n",
    "        y[[1,3]] /= im_shape[1]\n",
    "        y[-num_class + cls] += 1.\n",
    "    return im / np.max(im), y"
   ]
  },
  {
   "cell_type": "code",
   "execution_count": 9,
   "metadata": {
    "collapsed": true
   },
   "outputs": [],
   "source": [
    "def gen_dataset(size, shape):\n",
    "    X, y = np.zeros((size,1) + shape), np.zeros((size,4+2))\n",
    "    for i in range(size):\n",
    "        dat = gen_scene(1, 2, (20, 20), shape)\n",
    "        X[i], y[i] = dat[0].swapaxes(2,1).swapaxes(1,0), dat[1]\n",
    "    return X, y"
   ]
  },
  {
   "cell_type": "code",
   "execution_count": 53,
   "metadata": {
    "collapsed": false
   },
   "outputs": [],
   "source": [
    "X,y = gen_dataset(500, (100,100))"
   ]
  },
  {
   "cell_type": "code",
   "execution_count": 15,
   "metadata": {
    "collapsed": false
   },
   "outputs": [
    {
     "data": {
      "image/png": "[encoded data removed]",
      "text/plain": [
       "<matplotlib.figure.Figure at 0x10fc4bc10>"
      ]
     },
     "metadata": {},
     "output_type": "display_data"
    },
    {
     "name": "stdout",
     "output_type": "stream",
     "text": [
      "[ 0.18  0.16  0.72  0.36]\n"
     ]
    }
   ],
   "source": [
    "N = np.int_(X.shape[0] * np.random.rand())\n",
    "plt.imshow(X[N,0], 'gray')\n",
    "plt.show()\n",
    "\n",
    "print y[N,:4]"
   ]
  },
  {
   "cell_type": "code",
   "execution_count": 11,
   "metadata": {
    "collapsed": false
   },
   "outputs": [],
   "source": [
    "input = T.tensor4('input')"
   ]
  },
  {
   "cell_type": "code",
   "execution_count": 12,
   "metadata": {
    "collapsed": false
   },
   "outputs": [],
   "source": [
    "l1 = layers.InputLayer((None,1,100,100), input_var=input)\n",
    "l2 = layers.Conv2DLayer(\n",
    "    l1,\n",
    "    8,\n",
    "    (3,3)\n",
    ")\n",
    "l3 = layers.Conv2DLayer(\n",
    "    l2,\n",
    "    8,\n",
    "    (3,3)\n",
    ")\n",
    "l4 = layers.Pool2DLayer(\n",
    "    l3,\n",
    "    (3,3)\n",
    ")\n",
    "l5 = layers.Conv2DLayer(\n",
    "    l4,\n",
    "    16,\n",
    "    (3,3)\n",
    ")\n",
    "l6 = layers.Conv2DLayer(\n",
    "    l5,\n",
    "    16,\n",
    "    (3,3)\n",
    ")\n",
    "l7 = layers.Pool2DLayer(\n",
    "    l6,\n",
    "    (3,3)\n",
    ")\n",
    "\n",
    "le1 = layers.Conv2DLayer(\n",
    "    l7,\n",
    "    16,\n",
    "    (3,3)\n",
    ")\n",
    "le2 = layers.Conv2DLayer(\n",
    "    le1,\n",
    "    16,\n",
    "    (3,3)\n",
    ")\n",
    "le3 = layers.Pool2DLayer(\n",
    "    le2,\n",
    "    (2,2)\n",
    ")\n",
    "\n",
    "l8 = layers.DenseLayer(\n",
    "    layers.dropout(le3, p=.0),\n",
    "    100\n",
    ")\n",
    "l9 = layers.DenseLayer(\n",
    "    layers.dropout(l8, p=.0),\n",
    "    100,\n",
    ")\n",
    "l10 = layers.DenseLayer(\n",
    "    layers.dropout(l9, p=.0),\n",
    "    2,\n",
    "    nonlinearity=lasagne.nonlinearities.softmax\n",
    ")"
   ]
  },
  {
   "cell_type": "code",
   "execution_count": 20,
   "metadata": {
    "collapsed": false
   },
   "outputs": [],
   "source": [
    "with open('../weights/weights.pkl', 'rb') as f:\n",
    "    weights = pk.load(f)"
   ]
  },
  {
   "cell_type": "code",
   "execution_count": 21,
   "metadata": {
    "collapsed": true
   },
   "outputs": [],
   "source": [
    "layers.set_all_param_values(l10, weights)"
   ]
  },
  {
   "cell_type": "code",
   "execution_count": 13,
   "metadata": {
    "collapsed": false
   },
   "outputs": [],
   "source": [
    "olayer = layers.DenseLayer(\n",
    "    layers.dropout(l8, p=.0),\n",
    "    2 * 2 * (10 + 2)\n",
    ")"
   ]
  },
  {
   "cell_type": "code",
   "execution_count": 14,
   "metadata": {
    "collapsed": false
   },
   "outputs": [],
   "source": [
    "# with open('../weights/yolo_weights.pkl', 'wb') as f:\n",
    "#     pk.dump(layers.get_all_param_values(olayer), f)\n",
    "with open('../weights/yolo_weights.pkl', 'rb') as f:\n",
    "    weights = pk.load(f)\n",
    "layers.set_all_param_values(olayer, weights)"
   ]
  },
  {
   "cell_type": "code",
   "execution_count": 15,
   "metadata": {
    "collapsed": false
   },
   "outputs": [],
   "source": [
    "net = {}\n",
    "net['input'] = l1\n",
    "net['l2'] = l2\n",
    "net['l3'] = l3\n",
    "net['l4'] = l4\n",
    "net['l5'] = l5\n",
    "net['l6'] = l6\n",
    "net['l7'] = l7\n",
    "net['le1'] = le1\n",
    "net['le2'] = le2\n",
    "net['le3'] = le3\n",
    "net['l8'] = l8\n",
    "net['output'] = olayer"
   ]
  },
  {
   "cell_type": "code",
   "execution_count": 55,
   "metadata": {
    "collapsed": false
   },
   "outputs": [
    {
     "data": {
      "text/plain": [
       "<module 'bnr_ml.objectdetect.yolo' from '/usr/local/python/bnr_ml/objectdetect/yolo.py'>"
      ]
     },
     "execution_count": 55,
     "metadata": {},
     "output_type": "execute_result"
    }
   ],
   "source": [
    "reload(layers)\n",
    "reload(yolo)"
   ]
  },
  {
   "cell_type": "code",
   "execution_count": 56,
   "metadata": {
    "collapsed": false
   },
   "outputs": [],
   "source": [
    "yl = yolo.YoloObjectDetector(net, (None,1,100,100), 2, (2,2), 2)"
   ]
  },
  {
   "cell_type": "code",
   "execution_count": 58,
   "metadata": {
    "collapsed": false,
    "scrolled": true
   },
   "outputs": [
    {
     "name": "stdout",
     "output_type": "stream",
     "text": [
      "Getting cost...\n",
      "Compiling...\n"
     ]
    },
    {
     "name": "stderr",
     "output_type": "stream",
     "text": [
      "\r",
      "  0%|          | 0/10 [00:00<?, ?it/s]"
     ]
    },
    {
     "name": "stdout",
     "output_type": "stream",
     "text": [
      "Beginning training...\n"
     ]
    },
    {
     "name": "stderr",
     "output_type": "stream",
     "text": [
      "\r",
      " 10%|█         | 1/10 [00:10<01:30, 10.09s/it]"
     ]
    },
    {
     "name": "stdout",
     "output_type": "stream",
     "text": [
      "Epoch 0\n",
      "------\n",
      "Train Loss: 3.3047, Test Loss: 3.3142\n"
     ]
    },
    {
     "name": "stderr",
     "output_type": "stream",
     "text": [
      "\r",
      " 20%|██        | 2/10 [00:20<01:21, 10.13s/it]"
     ]
    },
    {
     "name": "stdout",
     "output_type": "stream",
     "text": [
      "Epoch 1\n",
      "------\n",
      "Train Loss: 3.2982, Test Loss: 3.3040\n"
     ]
    },
    {
     "name": "stderr",
     "output_type": "stream",
     "text": [
      "\r",
      " 30%|███       | 3/10 [00:30<01:11, 10.19s/it]"
     ]
    },
    {
     "name": "stdout",
     "output_type": "stream",
     "text": [
      "Epoch 2\n",
      "------\n",
      "Train Loss: 3.2889, Test Loss: 3.3078\n"
     ]
    },
    {
     "name": "stderr",
     "output_type": "stream",
     "text": [
      "\r",
      " 40%|████      | 4/10 [00:40<01:01, 10.18s/it]"
     ]
    },
    {
     "name": "stdout",
     "output_type": "stream",
     "text": [
      "Epoch 3\n",
      "------\n",
      "Train Loss: 3.2819, Test Loss: 3.3058\n"
     ]
    },
    {
     "name": "stderr",
     "output_type": "stream",
     "text": [
      "\r",
      " 50%|█████     | 5/10 [00:50<00:50, 10.16s/it]"
     ]
    },
    {
     "name": "stdout",
     "output_type": "stream",
     "text": [
      "Epoch 4\n",
      "------\n",
      "Train Loss: 3.2878, Test Loss: 3.3018\n"
     ]
    },
    {
     "name": "stderr",
     "output_type": "stream",
     "text": [
      "\r",
      " 60%|██████    | 6/10 [01:01<00:40, 10.19s/it]"
     ]
    },
    {
     "name": "stdout",
     "output_type": "stream",
     "text": [
      "Epoch 5\n",
      "------\n",
      "Train Loss: 3.2907, Test Loss: 3.3017\n"
     ]
    },
    {
     "name": "stderr",
     "output_type": "stream",
     "text": [
      "\r",
      " 70%|███████   | 7/10 [01:11<00:30, 10.17s/it]"
     ]
    },
    {
     "name": "stdout",
     "output_type": "stream",
     "text": [
      "Epoch 6\n",
      "------\n",
      "Train Loss: 3.2881, Test Loss: 3.2998\n"
     ]
    },
    {
     "name": "stderr",
     "output_type": "stream",
     "text": [
      "\r",
      " 80%|████████  | 8/10 [01:21<00:20, 10.15s/it]"
     ]
    },
    {
     "name": "stdout",
     "output_type": "stream",
     "text": [
      "Epoch 7\n",
      "------\n",
      "Train Loss: 3.2802, Test Loss: 3.3012\n"
     ]
    },
    {
     "name": "stderr",
     "output_type": "stream",
     "text": [
      "\r",
      " 90%|█████████ | 9/10 [01:31<00:10, 10.19s/it]"
     ]
    },
    {
     "name": "stdout",
     "output_type": "stream",
     "text": [
      "Epoch 8\n",
      "------\n",
      "Train Loss: 3.2657, Test Loss: 3.3013\n"
     ]
    },
    {
     "name": "stderr",
     "output_type": "stream",
     "text": [
      "\r",
      "100%|██████████| 10/10 [01:41<00:00, 10.17s/it]"
     ]
    },
    {
     "name": "stdout",
     "output_type": "stream",
     "text": [
      "Epoch 9\n",
      "------\n",
      "Train Loss: 3.2831, Test Loss: 3.2941\n"
     ]
    },
    {
     "name": "stderr",
     "output_type": "stream",
     "text": [
      "\n"
     ]
    }
   ],
   "source": [
    "train_loss, test_loss = yl.train(\n",
    "    X,\n",
    "    y,\n",
    "    lr=1e-4,\n",
    "    momentum=0.5,\n",
    "    train_test_split=0.9,\n",
    "    epochs=10,\n",
    "    batch_size=20,\n",
    "    lmbda_coord=5.,\n",
    "    lmbda_noobj=.5\n",
    ")"
   ]
  },
  {
   "cell_type": "markdown",
   "metadata": {},
   "source": [
    "Changed the regularization parameter to improve the classification accuracy."
   ]
  },
  {
   "cell_type": "code",
   "execution_count": 265,
   "metadata": {
    "collapsed": true
   },
   "outputs": [],
   "source": [
    "testl, trainl = test_loss, train_loss\n",
    "# testl, trainl = np.concatenate((testl, test_loss)), np.concatenate((trainl, train_loss))"
   ]
  },
  {
   "cell_type": "code",
   "execution_count": 266,
   "metadata": {
    "collapsed": false
   },
   "outputs": [
    {
     "data": {
      "image/png": "[encoded data removed]",
      "text/plain": [
       "<matplotlib.figure.Figure at 0x13c006810>"
      ]
     },
     "metadata": {},
     "output_type": "display_data"
    }
   ],
   "source": [
    "plt.figure(figsize=(8,8))\n",
    "plt.plot(trainl, 'r', linewidth=2.0)\n",
    "plt.plot(testl, 'b', linewidth=2.0)\n",
    "plt.show()"
   ]
  },
  {
   "cell_type": "code",
   "execution_count": 19,
   "metadata": {
    "collapsed": false
   },
   "outputs": [],
   "source": [
    "pred_fn = theano.function([yl.input], yl.output)"
   ]
  },
  {
   "cell_type": "code",
   "execution_count": 38,
   "metadata": {
    "collapsed": true
   },
   "outputs": [],
   "source": [
    "Xtest, ytest = gen_dataset(500, (100,100))"
   ]
  },
  {
   "cell_type": "code",
   "execution_count": 51,
   "metadata": {
    "collapsed": true
   },
   "outputs": [],
   "source": [
    "tmp = pred_fn(X[:500])"
   ]
  },
  {
   "cell_type": "code",
   "execution_count": 52,
   "metadata": {
    "collapsed": false
   },
   "outputs": [
    {
     "name": "stdout",
     "output_type": "stream",
     "text": [
      "Triangle with confidence: 0.945\n",
      "0.5\n"
     ]
    },
    {
     "data": {
      "image/png": "[encoded data removed]",
      "text/plain": [
       "<matplotlib.figure.Figure at 0x12ec597d0>"
      ]
     },
     "metadata": {},
     "output_type": "display_data"
    }
   ],
   "source": [
    "N = np.int_(tmp.shape[0] * np.random.rand())\n",
    "best, probs, iou = find_best_coords(tmp[N], (100,100))\n",
    "plt.imshow(draw_coords(X[N,0], best), 'gray')\n",
    "# print find_best_coords(tmp[N], (100,100))\n",
    "# print y[N,:4]\n",
    "prb = np.max(probs)\n",
    "idx = np.argmax(probs)\n",
    "if idx == 0:\n",
    "    print('Circle with confidence: %.3f' % prb)\n",
    "else:\n",
    "    print('Triangle with confidence: %.3f' % prb)\n",
    "print iou"
   ]
  },
  {
   "cell_type": "code",
   "execution_count": 22,
   "metadata": {
    "collapsed": true
   },
   "outputs": [],
   "source": [
    "def find_best_coords(output, shape):\n",
    "    idx = np.argmax(output[[4,9],:,:])\n",
    "    coord = np.unravel_index(idx, (2,2,2))\n",
    "    best = np.copy(output[coord[0] * 5:coord[0]*5 + 4, coord[1], coord[2]])\n",
    "    best[0] += float(coord[1]) / 2\n",
    "    best[1] += float(coord[2]) / 2\n",
    "    return best, output[-2:,coord[1],coord[2]], output[[4,9],:,:][coord[0],coord[1],coord[2]]"
   ]
  },
  {
   "cell_type": "code",
   "execution_count": 23,
   "metadata": {
    "collapsed": true
   },
   "outputs": [],
   "source": [
    "def draw_coords(im, coord):\n",
    "    coord[[0,2]] *= im.shape[0]\n",
    "    coord[[1,3]] *= im.shape[1]\n",
    "    coord = coord.astype(np.int32)\n",
    "    im = np.copy(im)\n",
    "    im = im.reshape(im.shape + (1,))\n",
    "    im = np.concatenate((im,im,im), axis=2)\n",
    "    def bound(num, lb, ub):\n",
    "        return min(ub, max(num,lb))\n",
    "    ri,rf = bound(coord[0], 0, im.shape[0]-1), bound(coord[0]+coord[2], 0, im.shape[0]-1)\n",
    "    ci,cf = bound(coord[1], 0, im.shape[1]-1), bound(coord[1]+coord[3], 0, im.shape[1]-1)\n",
    "    im[ri:rf, ci,0] = 1.0\n",
    "    im[ri:rf, cf,0] = 1.0\n",
    "    im[ri, ci:cf,0] = 1.0\n",
    "    im[rf, ci:cf,0] = 1.0\n",
    "    return im"
   ]
  },
  {
   "cell_type": "code",
   "execution_count": 65,
   "metadata": {
    "collapsed": false
   },
   "outputs": [],
   "source": [
    "a = draw_coords(X[N,0], find_best_coords(tmp[N], (100,100))[0])"
   ]
  },
  {
   "cell_type": "code",
   "execution_count": 66,
   "metadata": {
    "collapsed": false
   },
   "outputs": [
    {
     "data": {
      "text/plain": [
       "(100, 100, 3)"
      ]
     },
     "execution_count": 66,
     "metadata": {},
     "output_type": "execute_result"
    }
   ],
   "source": [
    "a.shape"
   ]
  },
  {
   "cell_type": "code",
   "execution_count": 67,
   "metadata": {
    "collapsed": false
   },
   "outputs": [
    {
     "data": {
      "text/plain": [
       "<matplotlib.image.AxesImage at 0x11e4271d0>"
      ]
     },
     "execution_count": 67,
     "metadata": {},
     "output_type": "execute_result"
    },
    {
     "data": {
      "image/png": "[encoded data removed]",
      "text/plain": [
       "<matplotlib.figure.Figure at 0x11ebafa90>"
      ]
     },
     "metadata": {},
     "output_type": "display_data"
    }
   ],
   "source": [
    "plt.imshow(a)"
   ]
  },
  {
   "cell_type": "code",
   "execution_count": 427,
   "metadata": {
    "collapsed": false
   },
   "outputs": [
    {
     "name": "stdout",
     "output_type": "stream",
     "text": [
      "(array([  0, 258,  50,  89]), (1, 0), array([ 0.00714653,  0.99285347]))\n"
     ]
    }
   ],
   "source": [
    "print find_best_coords(tmp[N], (100,100))"
   ]
  },
  {
   "cell_type": "code",
   "execution_count": 350,
   "metadata": {
    "collapsed": false
   },
   "outputs": [
    {
     "data": {
      "text/plain": [
       "4"
      ]
     },
     "execution_count": 350,
     "metadata": {},
     "output_type": "execute_result"
    }
   ],
   "source": [
    "np.argmax(tmp[0,[4,9],:,:])"
   ]
  },
  {
   "cell_type": "code",
   "execution_count": 298,
   "metadata": {
    "collapsed": false
   },
   "outputs": [
    {
     "data": {
      "text/plain": [
       "(1, 0, 0)"
      ]
     },
     "execution_count": 298,
     "metadata": {},
     "output_type": "execute_result"
    }
   ],
   "source": [
    "np.unravel_index(4, (2,2,2))"
   ]
  },
  {
   "cell_type": "code",
   "execution_count": 300,
   "metadata": {
    "collapsed": false
   },
   "outputs": [
    {
     "data": {
      "text/plain": [
       "0.82384296387747824"
      ]
     },
     "execution_count": 300,
     "metadata": {},
     "output_type": "execute_result"
    }
   ],
   "source": [
    "tmp[0,[4,9],:,:][1,0,0]"
   ]
  },
  {
   "cell_type": "code",
   "execution_count": 98,
   "metadata": {
    "collapsed": true
   },
   "outputs": [],
   "source": [
    "act_fn = theano.function([input], layers.get_output(le3))"
   ]
  },
  {
   "cell_type": "code",
   "execution_count": 99,
   "metadata": {
    "collapsed": true
   },
   "outputs": [],
   "source": [
    "tmp = act_fn(X[:20])"
   ]
  },
  {
   "cell_type": "code",
   "execution_count": 104,
   "metadata": {
    "collapsed": false
   },
   "outputs": [
    {
     "data": {
      "text/plain": [
       "12.478808450101068"
      ]
     },
     "execution_count": 104,
     "metadata": {},
     "output_type": "execute_result"
    }
   ],
   "source": [
    "tmp.max()"
   ]
  },
  {
   "cell_type": "code",
   "execution_count": 125,
   "metadata": {
    "collapsed": true
   },
   "outputs": [],
   "source": [
    "Xtest, ytest = gen_dataset(100, (100,100))"
   ]
  },
  {
   "cell_type": "code",
   "execution_count": 159,
   "metadata": {
    "collapsed": true
   },
   "outputs": [],
   "source": [
    "preds = pred_fn(Xtest)"
   ]
  },
  {
   "cell_type": "code",
   "execution_count": 163,
   "metadata": {
    "collapsed": false
   },
   "outputs": [
    {
     "data": {
      "image/png": "[encoded data removed]",
      "text/plain": [
       "<matplotlib.figure.Figure at 0x143cb6790>"
      ]
     },
     "metadata": {},
     "output_type": "display_data"
    },
    {
     "name": "stdout",
     "output_type": "stream",
     "text": [
      "[ 0.5         0.5         0.5         0.5         0.5         0.55200492\n",
      "  0.5         0.85603257  0.5         0.75187069  0.46587127  0.53412873]\n",
      "[ 0.5         0.5         0.74491826  0.5         0.85834509  0.5         0.5\n",
      "  0.5         0.5         0.5         0.49313074  0.50686926]\n",
      "[ 0.5         0.5         0.5         0.56942442  0.5         0.5         0.5\n",
      "  0.5         0.5         0.5         0.47401481  0.52598519]\n",
      "[ 0.5         0.5         0.98718083  0.5417662   0.50982821  0.5         0.5\n",
      "  1.          0.5         0.5         0.4769725   0.5230275 ]\n"
     ]
    }
   ],
   "source": [
    "N = np.int_(Xtest.shape[0] * np.random.rand())\n",
    "fig = plt.figure(figsize=(7,7))\n",
    "plt.imshow(Xtest[N,0], 'gray')\n",
    "plt.show()\n",
    "\n",
    "for i in range(2):\n",
    "    for j in range(2):\n",
    "        print preds[N,:,i,j]"
   ]
  },
  {
   "cell_type": "code",
   "execution_count": 132,
   "metadata": {
    "collapsed": false
   },
   "outputs": [
    {
     "data": {
      "text/plain": [
       "array([ 12.,  63.,  63.,  26.,   1.,   0.])"
      ]
     },
     "execution_count": 132,
     "metadata": {},
     "output_type": "execute_result"
    }
   ],
   "source": [
    "ytest[N]"
   ]
  },
  {
   "cell_type": "code",
   "execution_count": null,
   "metadata": {
    "collapsed": true
   },
   "outputs": [],
   "source": []
  }
 ],
 "metadata": {
  "anaconda-cloud": {},
  "kernelspec": {
   "display_name": "Python [Root]",
   "language": "python",
   "name": "Python [Root]"
  },
  "language_info": {
   "codemirror_mode": {
    "name": "ipython",
    "version": 2
   },
   "file_extension": ".py",
   "mimetype": "text/x-python",
   "name": "python",
   "nbconvert_exporter": "python",
   "pygments_lexer": "ipython2",
   "version": "2.7.12"
  }
 },
 "nbformat": 4,
 "nbformat_minor": 0
}
