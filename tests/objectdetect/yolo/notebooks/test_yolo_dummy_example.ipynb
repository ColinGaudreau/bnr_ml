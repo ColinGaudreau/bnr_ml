{
 "cells": [
  {
   "cell_type": "code",
   "execution_count": 3,
   "metadata": {
    "collapsed": false
   },
   "outputs": [],
   "source": [
    "%matplotlib inline\n",
    "from matplotlib import pyplot as plt\n",
    "import numpy as np\n",
    "import numpy.random as npr\n",
    "import theano\n",
    "from theano import tensor as T\n",
    "import pickle as pk\n",
    "import re\n",
    "from copy import deepcopy\n",
    "import sys\n",
    "import simplejson\n",
    "\n",
    "# image processing\n",
    "from skimage.io import imread\n",
    "from skimage.transform import resize\n",
    "from skimage.color import rgb2hsv, hsv2rgb\n",
    "\n",
    "import lasagne\n",
    "from lasagne.layers import Pool2DLayer, Conv2DLayer, dropout, \\\n",
    "    DenseLayer, InputLayer, get_output, get_all_params\n",
    "from lasagne import nonlinearities\n",
    "from lasagne import layers\n",
    "    \n",
    "import bnr_ml.objectdetect.yolo as yolo\n",
    "from bnr_ml.objectdetect import utils\n",
    "\n",
    "import pdb"
   ]
  },
  {
   "cell_type": "code",
   "execution_count": 117,
   "metadata": {
    "collapsed": true
   },
   "outputs": [],
   "source": [
    "def create_dummy_dataset(N=10000, image_size=(100,100), min_size=15, max_size=50, max_obj_num=3):\n",
    "    x_idx, y_idx = np.meshgrid(np.arange(image_size[1]), np.arange(image_size[0]))\n",
    "    ims = []\n",
    "    for n in range(N):\n",
    "        num_obj = np.int_(1 + max_obj_num * npr.rand())\n",
    "        new_image = np.ones(image_size + (3,))\n",
    "        \n",
    "        for i in range(num_obj):\n",
    "            if npr.rand() < .5: # make square\n",
    "                side_length = np.int_(min_size + (max_size - min_size) * npr.rand())\n",
    "                x_pos = np.int_(image_size[1] - side_length) * npr.rand()\n",
    "                y_pos = np.int_(image_size[0] - side_length) * npr.rand()\n",
    "                idx1 = np.bitwise_and(\n",
    "                    np.bitwise_and(\n",
    "                        np.bitwise_and(x_idx >= x_pos, y_idx >= y_pos),\n",
    "                            x_idx < x_pos + side_length), \n",
    "                    y_idx < y_pos + side_length\n",
    "                )\n",
    "                idx2 = np.bitwise_and(\n",
    "                    np.bitwise_and(\n",
    "                        np.bitwise_and(x_idx == x_pos, y_idx == y_pos),\n",
    "                            x_idx == x_pos + side_length), \n",
    "                    y_idx == y_pos + side_length\n",
    "                )\n",
    "                idx1 = idx1.reshape(image_size + (1,))\n",
    "                idx2 = idx2.reshape(image_size + (1,))\n",
    "                idx1 = np.repeat(idx1, 3, axis=2)\n",
    "                idx2 = np.repeat(idx2, 3, axis=2)\n",
    "                idx1[:,:,1:] = False\n",
    "                new_image[idx1] = 0.\n",
    "                new_image[idx2] = 0.\n",
    "            else:\n",
    "                diam = min_size + (max_size - min_size) * npr.rand()\n",
    "                x_pos = (image_size[1] - diam) * npr.rand()\n",
    "                y_pos = (image_size[0] - diam) * npr.rand()\n",
    "                idx = (x_idx - x_pos)**2 + (y_idx - y_pos)**2 < (diam/2)**2\n",
    "                idx = idx.reshape(image_size + (1,))\n",
    "                idx = np.repeat(idx, 3, axis=2)\n",
    "                idx[:,:,:2] = False\n",
    "                new_image[idx] = 0.\n",
    "        ims.append(new_image)\n",
    "    return ims"
   ]
  },
  {
   "cell_type": "code",
   "execution_count": 122,
   "metadata": {
    "collapsed": false
   },
   "outputs": [],
   "source": [
    "tmp = create_dummy_dataset(N=100)"
   ]
  },
  {
   "cell_type": "code",
   "execution_count": 123,
   "metadata": {
    "collapsed": false
   },
   "outputs": [
    {
     "data": {
      "text/plain": [
       "<matplotlib.image.AxesImage at 0x12116aa50>"
      ]
     },
     "execution_count": 123,
     "metadata": {},
     "output_type": "execute_result"
    },
    {
     "data": {
      "image/png": "[encoded data removed]",
      "text/plain": [
       "<matplotlib.figure.Figure at 0x12104b950>"
      ]
     },
     "metadata": {},
     "output_type": "display_data"
    }
   ],
   "source": [
    "plt.imshow(tmp[np.int_(100 * npr.rand())])"
   ]
  },
  {
   "cell_type": "code",
   "execution_count": null,
   "metadata": {
    "collapsed": true
   },
   "outputs": [],
   "source": []
  }
 ],
 "metadata": {
  "anaconda-cloud": {},
  "kernelspec": {
   "display_name": "Python [Root]",
   "language": "python",
   "name": "Python [Root]"
  },
  "language_info": {
   "codemirror_mode": {
    "name": "ipython",
    "version": 2
   },
   "file_extension": ".py",
   "mimetype": "text/x-python",
   "name": "python",
   "nbconvert_exporter": "python",
   "pygments_lexer": "ipython2",
   "version": "2.7.12"
  }
 },
 "nbformat": 4,
 "nbformat_minor": 0
}
