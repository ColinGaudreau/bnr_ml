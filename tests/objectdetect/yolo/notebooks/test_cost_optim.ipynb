{
 "cells": [
  {
   "cell_type": "markdown",
   "metadata": {},
   "source": [
    "<p style=\"font-size:14pt; font-weight:bold;\">Test the theano optimized version of the cost function for the yolo cost"
   ]
  },
  {
   "cell_type": "code",
   "execution_count": 1,
   "metadata": {
    "collapsed": false
   },
   "outputs": [
    {
     "name": "stderr",
     "output_type": "stream",
     "text": [
      "Using gpu device 0: GeForce GTX 960 (CNMeM is enabled with initial size: 80.0% of memory, cuDNN not available)\n",
      "/Library/Python/2.7/site-packages/theano/tensor/signal/downsample.py:6: UserWarning: downsample module has been moved to the theano.tensor.signal.pool module.\n",
      "  \"downsample module has been moved to the theano.tensor.signal.pool module.\")\n"
     ]
    }
   ],
   "source": [
    "%matplotlib inline\n",
    "from matplotlib import pyplot as plt\n",
    "import numpy as np\n",
    "import theano\n",
    "from theano import tensor as T\n",
    "import pickle as pk\n",
    "import re\n",
    "from copy import deepcopy\n",
    "import sys\n",
    "\n",
    "# image processing\n",
    "from skimage.io import imread\n",
    "from skimage.transform import resize\n",
    "\n",
    "import lasagne\n",
    "from lasagne.layers import Pool2DLayer, Conv2DLayer, dropout, \\\n",
    "    DenseLayer, InputLayer, get_output, get_all_params\n",
    "    \n",
    "import bnr_ml.objectdetect.yolo as yolo\n",
    "from bnr_ml.utils.helpers import meshgrid2D\n",
    "\n",
    "import pdb"
   ]
  },
  {
   "cell_type": "code",
   "execution_count": 2,
   "metadata": {
    "collapsed": false
   },
   "outputs": [
    {
     "data": {
      "text/plain": [
       "<module 'bnr_ml.objectdetect.yolo' from '/usr/local/python/bnr_ml/objectdetect/yolo.pyc'>"
      ]
     },
     "execution_count": 2,
     "metadata": {},
     "output_type": "execute_result"
    }
   ],
   "source": [
    "reload(yolo)"
   ]
  },
  {
   "cell_type": "code",
   "execution_count": 3,
   "metadata": {
    "collapsed": false
   },
   "outputs": [],
   "source": [
    "net = {}\n",
    "net['input'] = InputLayer((None,3,200,200))\n",
    "net['conv1'] = Conv2DLayer(net['input'], 16, (3,3))\n",
    "net['conv2'] = Conv2DLayer(net['conv1'], 16, (3,3))\n",
    "net['pool1'] = Pool2DLayer(net['conv2'], (2,2))\n",
    "net['conv3'] = Conv2DLayer(net['pool1'], 32, (3,3))\n",
    "net['conv4'] = Conv2DLayer(net['conv3'], 32, (3,3))\n",
    "net['pool2'] = Pool2DLayer(net['conv4'], (2,2))\n",
    "net['conv5'] = Conv2DLayer(net['pool2'], 64, (3,3))\n",
    "net['conv6'] = Conv2DLayer(net['conv5'], 64, (3,3))\n",
    "net['pool3'] = Pool2DLayer(net['conv6'], (2,2))\n",
    "net['conv7'] = Conv2DLayer(net['pool3'], 64, (3,3))\n",
    "net['conv8'] = Conv2DLayer(net['conv7'], 64, (3,3))\n",
    "net['pool4'] = Pool2DLayer(net['conv8'], (2,2))\n",
    "net['dense1'] = DenseLayer(dropout(net['pool4'], p=.8), 1000)\n",
    "net['dense2'] = DenseLayer(dropout(net['dense1'], p=.8), 1000)\n",
    "net['output'] = DenseLayer(dropout(net['dense2'], p=.5), 5, nonlinearity=lasagne.nonlinearities.softmax)"
   ]
  },
  {
   "cell_type": "code",
   "execution_count": 4,
   "metadata": {
    "collapsed": false
   },
   "outputs": [],
   "source": [
    "with open('pretrained_weights.pkl', 'rb') as f:\n",
    "    weights = pk.load(f)\n",
    "    lasagne.layers.set_all_param_values(net['output'], weights)"
   ]
  },
  {
   "cell_type": "code",
   "execution_count": 5,
   "metadata": {
    "collapsed": true
   },
   "outputs": [],
   "source": [
    "S = (9,9)\n",
    "B = 2\n",
    "C = 4"
   ]
  },
  {
   "cell_type": "code",
   "execution_count": 6,
   "metadata": {
    "collapsed": false
   },
   "outputs": [],
   "source": [
    "net['dense3'] = DenseLayer(dropout(net['pool4'], p=.8), 2048)\n",
    "net['output'] = DenseLayer(dropout(net['dense3'], p=.8), (S[0] * S[1]) * (5 * B + C), nonlinearity=None)"
   ]
  },
  {
   "cell_type": "code",
   "execution_count": 7,
   "metadata": {
    "collapsed": false
   },
   "outputs": [
    {
     "name": "stderr",
     "output_type": "stream",
     "text": [
      "/Library/Python/2.7/site-packages/lasagne/layers/conv.py:489: UserWarning: The `image_shape` keyword argument to `tensor.nnet.conv2d` is deprecated, it has been renamed to `input_shape`.\n",
      "  border_mode=border_mode)\n"
     ]
    }
   ],
   "source": [
    "yl = yolo.YoloObjectDetector(net, (None, 3, 200, 200), C, S, B) "
   ]
  },
  {
   "cell_type": "code",
   "execution_count": 968,
   "metadata": {
    "collapsed": false
   },
   "outputs": [
    {
     "data": {
      "text/plain": [
       "[array([[ 0. ,  0.5],\n",
       "        [ 0. ,  0.5],\n",
       "        [ 0. ,  0.5],\n",
       "        [ 0. ,  0.5]]), array([[ 0.  ,  0.  ],\n",
       "        [ 0.25,  0.25],\n",
       "        [ 0.5 ,  0.5 ],\n",
       "        [ 0.75,  0.75]])]"
      ]
     },
     "execution_count": 968,
     "metadata": {},
     "output_type": "execute_result"
    }
   ],
   "source": [
    "np.meshgrid(np.arange(0,1,.5), np.arange(0,1,.25))"
   ]
  },
  {
   "cell_type": "code",
   "execution_count": 1080,
   "metadata": {
    "collapsed": false
   },
   "outputs": [],
   "source": [
    "def get_cost_optim(self, output, truth, S, B, C, lmbda_coord=5., lmbda_noobj=0.5, iou_thresh=0.05):\n",
    "        # calculate height/width of individual cell\n",
    "        block_height, block_width = 1. / S[0], 1./ S[1]\n",
    "\n",
    "        # get the offset of each cell\n",
    "        offset_x, offset_y = meshgrid2D(T.arange(0,1,block_width), T.arange(0,1,block_height))\n",
    "\n",
    "        # get indices for x,y,w,h,object-ness for easy access\n",
    "        x_idx, y_idx = T.arange(0,5*B,5), T.arange(1,5*B, 5)\n",
    "        w_idx, h_idx = T.arange(2,5*B,5), T.arange(3,5*B,5)\n",
    "        conf_idx = T.arange(4,5*B,5)\n",
    "        \n",
    "        # Get position predictions with offsets.\n",
    "        pred_x = output[:,x_idx] + offset_x.dimshuffle('x','x',0,1)\n",
    "        pred_y = output[:,y_idx] + offset_y.dimshuffle('x','x',0,1)\n",
    "        pred_w, pred_h, pred_conf = output[:,w_idx], output[:,h_idx], output[:,conf_idx]\n",
    "        \n",
    "        # Get intersection region bounding box coordinates\n",
    "        xi = T.maximum(pred_x, truth[:,0].dimshuffle(0,'x','x','x'))\n",
    "        xf = T.minimum(pred_x + pred_w, (truth[:,0] + truth[:,2]).dimshuffle(0,'x','x','x'))\n",
    "        yi = T.maximum(pred_y, truth[:,1].dimshuffle(0,'x','x','x'))\n",
    "        yf = T.minimum(pred_y + pred_h, (truth[:,1] + truth[:,3]).dimshuffle(0,'x','x','x'))\n",
    "        w, h = T.maximum(xf - xi, 0.), T.maximum(yf - yi, 0.)\n",
    "\n",
    "        # Calculate iou score for predicted boxes and truth\n",
    "        isec = w * h\n",
    "        union = (pred_w * pred_h) + (truth[:,2] * truth[:,3]).dimshuffle(0,'x','x','x') - isec\n",
    "        iou = T.maximum(isec/union, 0.)\n",
    "\n",
    "        # Get index matrix representing max along the 1st dimension for the iou score (reps 'responsible' box).\n",
    "        maxval_idx, _ = meshgrid2D(T.arange(B), T.arange(truth.shape[0]))\n",
    "        maxval_idx = maxval_idx.dimshuffle(0,1,'x','x')\n",
    "        maxval_idx = T.repeat(T.repeat(maxval_idx,S[0],2),S[1],3)\n",
    "        \n",
    "        is_max = T.eq(maxval_idx, iou.argmax(axis=1).dimshuffle(0,'x',1,2))\n",
    "        is_not_max = T.neq(maxval_idx, iou.argmax(axis=1).dimshuffle(0,'x',1,2))\n",
    "        \n",
    "        # Get matrix for the width/height of each cell\n",
    "        width, height = T.ones(S) / S[1], T.ones(S) / S[0]\n",
    "        width, height = width.dimshuffle('x',0,1), height.dimshuffle('x',0,1)\n",
    "        offset_x, offset_y = offset_x.dimshuffle('x',0,1), offset_y.dimshuffle('x',0,1)\n",
    "        \n",
    "        # Get bounding box for intersection between CELL and ground truth box.\n",
    "        xi = T.maximum(offset_x, truth[:,0].dimshuffle(0,'x','x'))\n",
    "        xf = T.minimum(offset_x + width, (truth[:,0] + truth[:,2]).dimshuffle(0,'x','x'))\n",
    "        yi = T.maximum(offset_y, truth[:,1].dimshuffle(0,'x','x'))\n",
    "        yf = T.minimum(offset_y + height, (truth[:,1] + truth[:,3]).dimshuffle(0,'x','x'))\n",
    "        w, h = T.maximum(xf - xi, 0.), T.maximum(yf - yi, 0.)\n",
    "\n",
    "        # Calculate iou score for the cell.\n",
    "        isec = (xf - xi) * (yf - yi)\n",
    "        union = (width * height) + (truth[:,2] * truth[:,3]).dimshuffle(0,'x','x') - isec\n",
    "        iou_cell = T.maximum(isec/union, 0.)\n",
    "        \n",
    "        # Get logical matrix representing minimum iou score for cell to be considered overlapping ground truth.\n",
    "        is_inter = (iou_cell > iou_thresh).dimshuffle(0,'x',1,2)\n",
    "        \n",
    "        # Get logical matrix for cells and boxes which overlap and are responsible for prediction.\n",
    "#         isbox_andcell = T.bitwise_and(is_max, is_inter)\n",
    "        \n",
    "        # repeat \"cell overlaps\" logical matrix for the number of classes.\n",
    "        is_inter = T.repeat(is_inter, C, axis=1)\n",
    "        \n",
    "        # repeat the ground truth for class probabilities for each cell.\n",
    "        clspred_truth = T.repeat(T.repeat(truth[:,-C:].dimshuffle(0,1,'x','x'), S[0], axis=2), S[1], axis=3)\n",
    "        \n",
    "        # calculate cost\n",
    "        cost = T.sum((pred_conf - iou)[is_max.nonzero()]**2) + \\\n",
    "            lmbda_noobj * T.sum((pred_conf[is_not_max.nonzero()])**2) + \\\n",
    "            lmbda_coord * T.sum((pred_x[is_max.nonzero()].reshape((truth.shape[0],-1)) - truth[:,[0]])**2) + \\\n",
    "            lmbda_coord * T.sum((pred_y[is_max.nonzero()].reshape((truth.shape[0],-1)) - truth[:,[1]])**2) + \\\n",
    "            lmbda_coord * T.sum((pred_w[is_max.nonzero()].reshape((truth.shape[0],-1)).sqrt() - truth[:,[2]].sqrt())**2) + \\\n",
    "            lmbda_coord * T.sum((pred_h[is_max.nonzero()].reshape((truth.shape[0],-1)).sqrt() - truth[:,[3]].sqrt())**2) + \\\n",
    "            T.sum((output[:,-C:][is_inter.nonzero()] - clspred_truth[is_inter.nonzero()])**2)\n",
    "        \n",
    "        return cost"
   ]
  },
  {
   "cell_type": "code",
   "execution_count": 1081,
   "metadata": {
    "collapsed": false
   },
   "outputs": [],
   "source": [
    "def manual_cost(output, truth, C, S, B, lmbda_coord=5., lmbda_noobj=.5, thresh = .05):\n",
    "    output, truth = np.copy(output), np.copy(truth)\n",
    "    def calc_iou(b1, b2):\n",
    "        xi = np.maximum(b1[0], b2[0])\n",
    "        xf = np.minimum(b1[0]+b1[2], b2[0]+b2[2])\n",
    "        yi = np.maximum(b1[1], b2[1])\n",
    "        yf = np.minimum(b1[1]+b1[3], b2[1]+b2[3])\n",
    "        w, h = np.maximum(0., xf - xi), np.maximum(0., yf - yi)\n",
    "        isec = np.maximum(w * h, 0.)\n",
    "        union = (b1[2]*b1[3]) + (b2[2]*b2[3]) - isec\n",
    "        iou = isec / union\n",
    "        return iou\n",
    "    \n",
    "    cost = 0.\n",
    "    xshift, yshift = 1./S[1], 1./S[0]\n",
    "    for i in range(S[0]):\n",
    "        for j in range(S[1]):\n",
    "            iou_score_per_box = np.zeros((B,))\n",
    "            for k in range(B):\n",
    "                reg_truth = truth[:4]\n",
    "                reg_box = output[k*5:k*5 + 4, i, j]\n",
    "                reg_box[0] += j * xshift\n",
    "                reg_box[1] += i * yshift\n",
    "                iou_score_per_box[k] = calc_iou(reg_truth, reg_box)\n",
    "            \n",
    "            idx_resp = np.argmax(iou_score_per_box)\n",
    "            \n",
    "            for k in range(B):\n",
    "                reg_fact = lmbda_noobj\n",
    "                if k == idx_resp:\n",
    "                    reg_fact = 1.\n",
    "                cost += reg_fact * (output[k*B + 4, i, j] - iou_score_per_box[k])**2\n",
    "        \n",
    "            reg_cell = np.asarray([j * xshift, i * yshift, xshift, yshift])\n",
    "            iou_cell = calc_iou(reg_cell, truth[:4])\n",
    "            \n",
    "            if iou_cell > thresh:\n",
    "                cost += ((output[-C:, i, j] - truth[-C:])**2).sum()\n",
    "                \n",
    "            cost += lmbda_coord * ((output[idx_resp*5:idx_resp*5+2,i,j] - truth[:2])**2).sum()\n",
    "            cost += lmbda_coord * ((np.sqrt(output[idx_resp*5+2:idx_resp*5+4,i,j]) - np.sqrt(truth[2:4]))**2).sum()\n",
    "    \n",
    "    return cost\n",
    "            "
   ]
  },
  {
   "cell_type": "code",
   "execution_count": 1082,
   "metadata": {
    "collapsed": true
   },
   "outputs": [],
   "source": [
    "target = T.matrix('target')\n",
    "art_output = T.tensor4('art_output')"
   ]
  },
  {
   "cell_type": "code",
   "execution_count": 1083,
   "metadata": {
    "collapsed": false
   },
   "outputs": [],
   "source": [
    "out_fn = theano.function([yl.input], yl.output_test, allow_input_downcast=True)"
   ]
  },
  {
   "cell_type": "code",
   "execution_count": 1084,
   "metadata": {
    "collapsed": false
   },
   "outputs": [],
   "source": [
    "fn = theano.function([yl.input, target], get_cost_optim(yl, yl.output_test, target, S, B, C), allow_input_downcast=True)"
   ]
  },
  {
   "cell_type": "code",
   "execution_count": 1085,
   "metadata": {
    "collapsed": true
   },
   "outputs": [],
   "source": [
    "fn2 = theano.function([art_output, target], get_cost_optim(yl, art_output, target, S, B, C), allow_input_downcast=True)"
   ]
  },
  {
   "cell_type": "code",
   "execution_count": 1098,
   "metadata": {
    "collapsed": true
   },
   "outputs": [],
   "source": [
    "iput = np.random.rand(1,3,200,200).astype(np.float32)\n",
    "output = np.random.rand(1,B*5 + C, S[0], S[1]).astype(np.float32)\n",
    "truth = np.random.rand(1,4 + C).astype(np.float32)"
   ]
  },
  {
   "cell_type": "code",
   "execution_count": 1099,
   "metadata": {
    "collapsed": false
   },
   "outputs": [
    {
     "data": {
      "text/plain": [
       "array(401.6466979980469, dtype=float32)"
      ]
     },
     "execution_count": 1099,
     "metadata": {},
     "output_type": "execute_result"
    }
   ],
   "source": [
    "fn(iput, truth)"
   ]
  },
  {
   "cell_type": "code",
   "execution_count": 1100,
   "metadata": {
    "collapsed": false
   },
   "outputs": [
    {
     "data": {
      "text/plain": [
       "397.55323884495863"
      ]
     },
     "execution_count": 1100,
     "metadata": {},
     "output_type": "execute_result"
    }
   ],
   "source": [
    "manual_cost(out_fn(iput)[0], truth[0], C, S, B)"
   ]
  },
  {
   "cell_type": "code",
   "execution_count": 1122,
   "metadata": {
    "collapsed": false
   },
   "outputs": [],
   "source": [
    "# Create artificially correct answer\n",
    "truth = np.random.rand(1, 4 + C)\n",
    "true_column = np.concatenate((truth[[0],:4], [[1.]], [[0.,0.,.0,.0]], [[0.]], truth[[0],-C:]), axis=1).reshape((1,5*B + C, 1, 1))\n",
    "true_column = np.repeat(true_column, S[0], axis=2)\n",
    "true_column = np.repeat(true_column, S[1], axis=3)\n",
    "\n",
    "offset_x, offset_y = np.meshgrid(np.arange(0.,1.,1./9), np.arange(0.,1.,1./9))\n",
    "true_column[:,[0,5]] -= offset_x.reshape((-1,1,9,9))\n",
    "true_column[:,[1,6]] -= offset_y.reshape((-1,1,9,9))"
   ]
  },
  {
   "cell_type": "code",
   "execution_count": 1123,
   "metadata": {
    "collapsed": false
   },
   "outputs": [
    {
     "data": {
      "text/plain": [
       "array(1.4151879668133915e-10, dtype=float32)"
      ]
     },
     "execution_count": 1123,
     "metadata": {},
     "output_type": "execute_result"
    }
   ],
   "source": [
    "fn2(true_column, truth)"
   ]
  },
  {
   "cell_type": "code",
   "execution_count": 1124,
   "metadata": {
    "collapsed": false
   },
   "outputs": [
    {
     "data": {
      "text/plain": [
       "0.0"
      ]
     },
     "execution_count": 1124,
     "metadata": {},
     "output_type": "execute_result"
    }
   ],
   "source": [
    "manual_cost(true_column[0], truth[0], C, S, B)"
   ]
  },
  {
   "cell_type": "code",
   "execution_count": null,
   "metadata": {
    "collapsed": true
   },
   "outputs": [],
   "source": []
  }
 ],
 "metadata": {
  "anaconda-cloud": {},
  "kernelspec": {
   "display_name": "Python [Root]",
   "language": "python",
   "name": "Python [Root]"
  },
  "language_info": {
   "codemirror_mode": {
    "name": "ipython",
    "version": 2
   },
   "file_extension": ".py",
   "mimetype": "text/x-python",
   "name": "python",
   "nbconvert_exporter": "python",
   "pygments_lexer": "ipython2",
   "version": "2.7.12"
  }
 },
 "nbformat": 4,
 "nbformat_minor": 0
}
