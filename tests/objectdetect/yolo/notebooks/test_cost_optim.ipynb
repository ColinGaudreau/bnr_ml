{
 "cells": [
  {
   "cell_type": "markdown",
   "metadata": {},
   "source": [
    "<p style=\"font-size:14pt; font-weight:bold;\">Test the theano optimized version of the cost function for the yolo cost"
   ]
  },
  {
   "cell_type": "code",
   "execution_count": 6,
   "metadata": {
    "collapsed": false
   },
   "outputs": [],
   "source": [
    "%matplotlib inline\n",
    "from matplotlib import pyplot as plt\n",
    "import numpy as np\n",
    "import theano\n",
    "from theano import tensor as T\n",
    "import pickle as pk\n",
    "import re\n",
    "from copy import deepcopy\n",
    "import sys\n",
    "\n",
    "# image processing\n",
    "from skimage.io import imread\n",
    "from skimage.transform import resize\n",
    "\n",
    "import lasagne\n",
    "from lasagne.layers import Pool2DLayer, Conv2DLayer, dropout, \\\n",
    "    DenseLayer, InputLayer, get_output, get_all_params\n",
    "    \n",
    "import bnr_ml.objectdetect.yolo as yolo\n",
    "from bnr_ml.utils.helpers import meshgrid2D\n",
    "\n",
    "import pdb"
   ]
  },
  {
   "cell_type": "code",
   "execution_count": 7,
   "metadata": {
    "collapsed": false
   },
   "outputs": [
    {
     "data": {
      "text/plain": [
       "<module 'bnr_ml.objectdetect.yolo' from '/usr/local/python/bnr_ml/objectdetect/yolo.pyc'>"
      ]
     },
     "execution_count": 7,
     "metadata": {},
     "output_type": "execute_result"
    }
   ],
   "source": [
    "reload(yolo)"
   ]
  },
  {
   "cell_type": "code",
   "execution_count": 8,
   "metadata": {
    "collapsed": false
   },
   "outputs": [],
   "source": [
    "N = 100\n",
    "input = 1000*np.random.randn(N,3,200,200).astype(np.float32)\n",
    "output = np.random.rand(N,B*5 + C, S[0], S[1]).astype(np.float32)\n",
    "truth = np.random.rand(N,4 + C).astype(np.float32)"
   ]
  },
  {
   "cell_type": "code",
   "execution_count": 9,
   "metadata": {
    "collapsed": false
   },
   "outputs": [],
   "source": [
    "input = theano.shared(input)\n",
    "truth = theano.shared(truth)"
   ]
  },
  {
   "cell_type": "code",
   "execution_count": 10,
   "metadata": {
    "collapsed": false
   },
   "outputs": [],
   "source": [
    "net = {}\n",
    "net['input'] = InputLayer((None,3,200,200), input_var=input)\n",
    "net['conv1'] = Conv2DLayer(net['input'], 16, (3,3))\n",
    "net['conv2'] = Conv2DLayer(net['conv1'], 16, (3,3))\n",
    "net['pool1'] = Pool2DLayer(net['conv2'], (2,2))\n",
    "net['conv3'] = Conv2DLayer(net['pool1'], 32, (3,3))\n",
    "net['conv4'] = Conv2DLayer(net['conv3'], 32, (3,3))\n",
    "net['pool2'] = Pool2DLayer(net['conv4'], (2,2))\n",
    "net['conv5'] = Conv2DLayer(net['pool2'], 64, (3,3))\n",
    "net['conv6'] = Conv2DLayer(net['conv5'], 64, (3,3))\n",
    "net['pool3'] = Pool2DLayer(net['conv6'], (2,2))\n",
    "net['conv7'] = Conv2DLayer(net['pool3'], 64, (3,3))\n",
    "net['conv8'] = Conv2DLayer(net['conv7'], 64, (3,3))\n",
    "net['pool4'] = Pool2DLayer(net['conv8'], (2,2))\n",
    "net['dense1'] = DenseLayer(dropout(net['pool4'], p=.8), 1000)\n",
    "net['dense2'] = DenseLayer(dropout(net['dense1'], p=.8), 1000)\n",
    "net['output'] = DenseLayer(dropout(net['dense2'], p=.5), 5, nonlinearity=lasagne.nonlinearities.softmax)"
   ]
  },
  {
   "cell_type": "code",
   "execution_count": 11,
   "metadata": {
    "collapsed": false
   },
   "outputs": [],
   "source": [
    "with open('pretrained_weights.pkl', 'rb') as f:\n",
    "    weights = pk.load(f)\n",
    "    lasagne.layers.set_all_param_values(net['output'], weights)"
   ]
  },
  {
   "cell_type": "code",
   "execution_count": 12,
   "metadata": {
    "collapsed": true
   },
   "outputs": [],
   "source": [
    "S = (9,9)\n",
    "B = 2\n",
    "C = 4"
   ]
  },
  {
   "cell_type": "code",
   "execution_count": 13,
   "metadata": {
    "collapsed": false
   },
   "outputs": [],
   "source": [
    "net['dense3'] = DenseLayer(dropout(net['pool4'], p=.8), 2048)\n",
    "net['output'] = DenseLayer(dropout(net['dense3'], p=.8), (S[0] * S[1]) * (5 * B + C), nonlinearity=None)"
   ]
  },
  {
   "cell_type": "code",
   "execution_count": 14,
   "metadata": {
    "collapsed": false
   },
   "outputs": [
    {
     "name": "stderr",
     "output_type": "stream",
     "text": [
      "/Library/Python/2.7/site-packages/lasagne/layers/conv.py:489: UserWarning: The `image_shape` keyword argument to `tensor.nnet.conv2d` is deprecated, it has been renamed to `input_shape`.\n",
      "  border_mode=border_mode)\n"
     ]
    }
   ],
   "source": [
    "yl = yolo.YoloObjectDetector(net, (None, 3, 200, 200), C, S, B) "
   ]
  },
  {
   "cell_type": "code",
   "execution_count": 15,
   "metadata": {
    "collapsed": false
   },
   "outputs": [],
   "source": [
    "def _get_cost_optim(self, output, truth, S, B, C, lmbda_coord=5., lmbda_noobj=0.5, iou_thresh=0.05):\n",
    "        # calculate height/width of individual cell\n",
    "        block_height, block_width = 1. / S[0], 1./ S[1]\n",
    "\n",
    "        # get the offset of each cell\n",
    "        offset_x, offset_y = meshgrid2D(T.arange(0,1,block_width), T.arange(0,1,block_height))\n",
    "\n",
    "        # get indices for x,y,w,h,object-ness for easy access\n",
    "        x_idx, y_idx = T.arange(0,5*B,5), T.arange(1,5*B, 5)\n",
    "        w_idx, h_idx = T.arange(2,5*B,5), T.arange(3,5*B,5)\n",
    "        conf_idx = T.arange(4,5*B,5)\n",
    "        \n",
    "        # Get position predictions with offsets.\n",
    "        pred_x = output[:,x_idx] + offset_x.dimshuffle('x','x',0,1)\n",
    "        pred_y = output[:,y_idx] + offset_y.dimshuffle('x','x',0,1)\n",
    "        pred_w, pred_h, pred_conf = output[:,w_idx], output[:,h_idx], output[:,conf_idx]\n",
    "        pred_w, pred_h = T.maximum(pred_w, 0.), T.maximum(pred_h, 0.)\n",
    "\n",
    "        truth_x, truth_y, truth_w, truth_h = truth[:,0], truth[:,1], truth[:,2], truth[:,3]\n",
    "        truth_w, truth_h = T.maximum(truth_w, 0.), T.maximum(truth_h, 0.)\n",
    "        \n",
    "        # Get intersection region bounding box coordinates\n",
    "        xi = T.maximum(pred_x, truth_x.dimshuffle(0,'x','x','x'))\n",
    "        xf = T.minimum(pred_x + pred_w, (truth_x + truth_w).dimshuffle(0,'x','x','x'))\n",
    "        yi = T.maximum(pred_y, truth_y.dimshuffle(0,'x','x','x'))\n",
    "        yf = T.minimum(pred_y + pred_h, (truth_y + truth_h).dimshuffle(0,'x','x','x'))\n",
    "        w, h = T.maximum(xf - xi, 0.), T.maximum(yf - yi, 0.)\n",
    "\n",
    "        # Calculate iou score for predicted boxes and truth\n",
    "        isec = w * h\n",
    "        union = (pred_w * pred_h) + (truth_w * truth_h).dimshuffle(0,'x','x','x') - isec\n",
    "        iou = T.maximum(isec/union, 0.)\n",
    "\n",
    "        # Get index matrix representing max along the 1st dimension for the iou score (reps 'responsible' box).\n",
    "        maxval_idx, _ = meshgrid2D(T.arange(B), T.arange(truth.shape[0]))\n",
    "        maxval_idx = maxval_idx.dimshuffle(0,1,'x','x')\n",
    "        maxval_idx = T.repeat(T.repeat(maxval_idx,S[0],2),S[1],3)\n",
    "        \n",
    "        is_max = T.eq(maxval_idx, iou.argmax(axis=1).dimshuffle(0,'x',1,2))\n",
    "        is_not_max = T.neq(maxval_idx, iou.argmax(axis=1).dimshuffle(0,'x',1,2))\n",
    "        \n",
    "        # Get matrix for the width/height of each cell\n",
    "        width, height = T.ones(S) / S[1], T.ones(S) / S[0]\n",
    "        width, height = width.dimshuffle('x',0,1), height.dimshuffle('x',0,1)\n",
    "        offset_x, offset_y = offset_x.dimshuffle('x',0,1), offset_y.dimshuffle('x',0,1)\n",
    "        \n",
    "        # Get bounding box for intersection between CELL and ground truth box.\n",
    "        xi = T.maximum(offset_x, truth_x.dimshuffle(0,'x','x'))\n",
    "        xf = T.minimum(offset_x + width, (truth_x + truth_w).dimshuffle(0,'x','x'))\n",
    "        yi = T.maximum(offset_y, truth_y.dimshuffle(0,'x','x'))\n",
    "        yf = T.minimum(offset_y + height, (truth_y + truth_h).dimshuffle(0,'x','x'))\n",
    "        w, h = T.maximum(xf - xi, 0.), T.maximum(yf - yi, 0.)\n",
    "\n",
    "        # Calculate iou score for the cell.\n",
    "        isec = (xf - xi) * (yf - yi)\n",
    "        union = (width * height) + (truth_w* truth_h).dimshuffle(0,'x','x') - isec\n",
    "        iou_cell = T.maximum(isec/union, 0.)\n",
    "        \n",
    "        # Get logical matrix representing minimum iou score for cell to be considered overlapping ground truth.\n",
    "        is_inter = (iou_cell > iou_thresh).dimshuffle(0,'x',1,2)\n",
    "        \n",
    "        # repeat \"cell overlaps\" logical matrix for the number of classes.\n",
    "        is_inter = T.repeat(is_inter, C, axis=1)\n",
    "        \n",
    "        # repeat the ground truth for class probabilities for each cell.\n",
    "        clspred_truth = T.repeat(T.repeat(truth[:,-C:].dimshuffle(0,1,'x','x'), S[0], axis=2), S[1], axis=3)\n",
    "        \n",
    "        # calculate cost\n",
    "        cost = T.sum((pred_conf - iou)[is_max.nonzero()]**2) + \\\n",
    "            lmbda_noobj * T.sum((pred_conf[is_not_max.nonzero()])**2) + \\\n",
    "            lmbda_coord * T.sum((pred_x[is_max.nonzero()].reshape((truth.shape[0],-1)) - truth_x.dimshuffle(0,'x'))**2) + \\\n",
    "            lmbda_coord * T.sum((pred_y[is_max.nonzero()].reshape((truth.shape[0],-1)) - truth_y.dimshuffle(0,'x'))**2) + \\\n",
    "            lmbda_coord * T.sum((pred_w[is_max.nonzero()].reshape((truth.shape[0],-1)).sqrt() - truth_w.dimshuffle(0,'x').sqrt())**2) + \\\n",
    "            lmbda_coord * T.sum((pred_h[is_max.nonzero()].reshape((truth.shape[0],-1)).sqrt() - truth_h.dimshuffle(0,'x').sqrt())**2) + \\\n",
    "            T.sum((output[:,-C:][is_inter.nonzero()] - clspred_truth[is_inter.nonzero()])**2)\n",
    "        \n",
    "        return cost"
   ]
  },
  {
   "cell_type": "code",
   "execution_count": 64,
   "metadata": {
    "collapsed": true
   },
   "outputs": [],
   "source": [
    "def softmax(xi, x, safe=False):\n",
    "    if not safe:\n",
    "        return np.exp(xi) / np.sum(np.exp(x))\n",
    "    \n",
    "    logsoftmax = xi - (x[0] + np.log(1 + np.sum(np.exp(x[1:] - x[1]))))\n",
    "    return np.exp(logsoftmax)"
   ]
  },
  {
   "cell_type": "code",
   "execution_count": 66,
   "metadata": {
    "collapsed": true
   },
   "outputs": [],
   "source": [
    "x = .1 * np.random.randn(1000,)"
   ]
  },
  {
   "cell_type": "code",
   "execution_count": 69,
   "metadata": {
    "collapsed": false
   },
   "outputs": [
    {
     "data": {
      "text/plain": [
       "0.0011062030975367107"
      ]
     },
     "execution_count": 69,
     "metadata": {},
     "output_type": "execute_result"
    }
   ],
   "source": [
    "softmax(x[2], x, safe=True)"
   ]
  },
  {
   "cell_type": "code",
   "execution_count": 16,
   "metadata": {
    "collapsed": true
   },
   "outputs": [],
   "source": [
    "out = yl.output.eval()"
   ]
  },
  {
   "cell_type": "code",
   "execution_count": 21,
   "metadata": {
    "collapsed": false
   },
   "outputs": [],
   "source": [
    "clspred = np.exp(out[:,-C:,:,:]) / np.sum(np.exp(out[:,-C:,:,:]), axis=1, keepdims=True)"
   ]
  },
  {
   "cell_type": "code",
   "execution_count": 22,
   "metadata": {
    "collapsed": false
   },
   "outputs": [
    {
     "data": {
      "text/plain": [
       "nan"
      ]
     },
     "execution_count": 22,
     "metadata": {},
     "output_type": "execute_result"
    }
   ],
   "source": [
    "clspred.mean()"
   ]
  },
  {
   "cell_type": "code",
   "execution_count": 54,
   "metadata": {
    "collapsed": false
   },
   "outputs": [
    {
     "name": "stdout",
     "output_type": "stream",
     "text": [
      "> <ipython-input-51-d336b399fb90>(69)get_cost_optim()\n",
      "-> cost = T.sum((pred_conf - iou)[is_max.nonzero()]**2) +             lmbda_noobj * T.sum((pred_conf[is_not_max.nonzero()])**2) +             lmbda_coord * T.sum((pred_x[is_max.nonzero()].reshape((truth.shape[0],-1)) - truth[:,[0]])**2) +             lmbda_coord * T.sum((pred_y[is_max.nonzero()].reshape((truth.shape[0],-1)) - truth[:,[1]])**2) +             lmbda_coord * T.sum((pred_w[is_max.nonzero()].reshape((truth.shape[0],-1)).sqrt() - truth[:,[2]].sqrt())**2) +             lmbda_coord * T.sum((pred_h[is_max.nonzero()].reshape((truth.shape[0],-1)).sqrt() - truth[:,[3]].sqrt())**2) +             T.sum((output[:,-C:][is_inter.nonzero()] - clspred_truth[is_inter.nonzero()])**2)\n",
      "(Pdb) cost.eval()\n",
      "*** NameError: name 'cost' is not defined\n",
      "(Pdb) n\n",
      "> <ipython-input-51-d336b399fb90>(71)get_cost_optim()\n",
      "-> return cost\n",
      "(Pdb) cost.eval()\n",
      "array(nan, dtype=float32)\n",
      "(Pdb) T.sum((pred_conf - iou)[is_max.nonzero()]**2).eval()\n",
      "array(3939.640380859375, dtype=float32)\n",
      "(Pdb) lmbda_noobj * T.sum((pred_conf[is_not_max.nonzero()])**2).eval()\n",
      "1736.9677734375\n",
      "(Pdb) pred_w[is_max.nonzero()].eval()\n",
      "array([  0.        ,  38.28240967,  28.62006378, ...,   0.        ,\n",
      "        62.70582199,  96.43068695], dtype=float32)\n",
      "(Pdb) tmp = _\n",
      "(Pdb) tmp\n",
      "Reshape{2}.0\n",
      "(Pdb) tmp = pred_w[is_max.nonzero()].eval()\n",
      "(Pdb) tmp.min()\n",
      "0.0\n",
      "(Pdb) pred_h[is_max.nonzero()].eval().min()\n",
      "0.0\n",
      "(Pdb) lmbda_coord * T.sum((pred_x[is_max.nonzero()].reshape((truth.shape[0],-1)) - truth[:,[0]])**2).eval()\n",
      "88813460.0\n",
      "(Pdb) lmbda_coord * T.sum((pred_y[is_max.nonzero()].reshape((truth.shape[0],-1)) - truth[:,[1]])**2).eval()\n",
      "74578330.0\n",
      "(Pdb) lmbda_coord * T.sum((pred_w[is_max.nonzero()].reshape((truth.shape[0],-1)).sqrt() - truth[:,[2]].sqrt())**2).eval()\n",
      "746927.34375\n",
      "(Pdb) lmbda_coord * T.sum((pred_h[is_max.nonzero()].reshape((truth.shape[0],-1)).sqrt() - truth[:,[3]].sqrt())**2).eval()\n",
      "595819.0625\n",
      "(Pdb) T.sum((output[:,-C:][is_inter.nonzero()] - clspred_truth[is_inter.nonzero()])**2).eval()\n",
      "array(nan, dtype=float32)\n",
      "(Pdb) output[:,-C:].eval()\n",
      "array([[[[  2.48674425e-41,   4.66755271e-24,   9.48401144e-22, ...,\n",
      "            0.00000000e+00,   9.15497184e-01,   2.54512131e-02],\n",
      "         [  9.99997497e-01,   1.00000000e+00,   2.09128301e-13, ...,\n",
      "            0.00000000e+00,   9.98739421e-01,   9.99995649e-01],\n",
      "         [  3.77125665e-14,   9.03827012e-01,   1.00751512e-36, ...,\n",
      "            8.42137354e-35,   2.19292342e-05,   1.08069025e-01],\n",
      "         ..., \n",
      "         [  8.42639941e-30,   1.48395309e-17,   0.00000000e+00, ...,\n",
      "            1.06210634e-01,   3.83385343e-17,   3.97548374e-42],\n",
      "         [  1.44945682e-08,   7.62890756e-31,   1.28180638e-37, ...,\n",
      "            0.00000000e+00,   2.30741293e-09,   3.95514600e-20],\n",
      "         [             nan,   9.21286552e-18,   0.00000000e+00, ...,\n",
      "            0.00000000e+00,   9.99998271e-01,   6.58645451e-39]],\n",
      "\n",
      "        [[  1.00000000e+00,   9.66775965e-11,   0.00000000e+00, ...,\n",
      "            2.68450902e-20,   8.45027789e-02,   9.74547863e-01],\n",
      "         [  2.48490574e-06,   7.98072187e-25,   1.59428818e-27, ...,\n",
      "            0.00000000e+00,   1.47899262e-10,   1.68613437e-24],\n",
      "         [  4.13681288e-30,   9.17363018e-02,   1.00000000e+00, ...,\n",
      "            1.00000000e+00,   9.99964178e-01,   1.40129846e-45],\n",
      "         ..., \n",
      "         [  2.64602951e-10,   1.04183944e-17,   1.00000000e+00, ...,\n",
      "            8.93789351e-01,   9.99989808e-01,   9.94108856e-01],\n",
      "         [  0.00000000e+00,   1.00000000e+00,   1.00000000e+00, ...,\n",
      "                       nan,   1.88629717e-01,   1.00000000e+00],\n",
      "         [  0.00000000e+00,   9.99993682e-01,   2.58735056e-29, ...,\n",
      "                       nan,   1.95361859e-25,   6.21712534e-03]],\n",
      "\n",
      "        [[  1.54187289e-25,   1.57107015e-15,   1.00000000e+00, ...,\n",
      "            6.07292421e-08,   2.16536953e-13,   0.00000000e+00],\n",
      "         [  4.37746917e-18,   0.00000000e+00,   1.00000000e+00, ...,\n",
      "                       nan,   1.26056198e-03,   0.00000000e+00],\n",
      "         [  1.08353166e-33,   4.43669315e-03,   5.36754205e-38, ...,\n",
      "            1.95383765e-33,   1.39066715e-05,   8.91930997e-01],\n",
      "         ..., \n",
      "         [  1.00000000e+00,   1.00000000e+00,   9.67039059e-32, ...,\n",
      "            0.00000000e+00,   1.58325774e-24,   5.69135858e-38],\n",
      "         [  1.37972004e-37,   7.78377720e-36,   1.65827164e-14, ...,\n",
      "            0.00000000e+00,   3.97444138e-24,   3.32952770e-17],\n",
      "         [  0.00000000e+00,   9.79755511e-37,   2.85132994e-32, ...,\n",
      "            0.00000000e+00,   0.00000000e+00,   1.45974794e-34]],\n",
      "\n",
      "        [[  1.02114819e-38,   1.00000000e+00,   2.31447118e-35, ...,\n",
      "            9.99999940e-01,   6.88190612e-18,   8.47112801e-07],\n",
      "         [  1.35547223e-32,   9.73018454e-12,   1.13449450e-19, ...,\n",
      "            0.00000000e+00,   2.46454270e-08,   4.33560808e-06],\n",
      "         [  1.00000000e+00,   6.57691722e-31,   1.79899746e-36, ...,\n",
      "            6.20923917e-32,   1.67099353e-20,   9.89190599e-41],\n",
      "         ..., \n",
      "         [  6.37359206e-17,   5.29606289e-11,   3.53291066e-32, ...,\n",
      "            7.72941387e-16,   1.01416299e-05,   5.89112984e-03],\n",
      "         [  1.00000000e+00,   1.64138192e-36,   0.00000000e+00, ...,\n",
      "            0.00000000e+00,   8.11370254e-01,   9.57330309e-20],\n",
      "         [  0.00000000e+00,   6.33751870e-06,   1.00000000e+00, ...,\n",
      "            0.00000000e+00,   1.65535255e-06,   9.93782938e-01]]],\n",
      "\n",
      "\n",
      "       [[[  1.31926293e-34,   5.07164075e-31,   4.31943639e-27, ...,\n",
      "            2.99149196e-41,   9.92965758e-01,   9.88176346e-01],\n",
      "         [  3.69068086e-01,   1.00000000e+00,   3.37783668e-09, ...,\n",
      "            0.00000000e+00,   1.32834771e-07,   9.99983609e-01],\n",
      "         [  1.00000000e+00,   8.19100876e-09,   5.72621428e-33, ...,\n",
      "            1.66570852e-25,   9.14250273e-11,   1.00000000e+00],\n",
      "         ..., \n",
      "         [  1.59748544e-24,   8.32769945e-31,   1.25878641e-41, ...,\n",
      "            4.06648297e-07,   1.05886986e-20,   0.00000000e+00],\n",
      "         [  5.84678899e-04,   8.05774106e-31,   8.40779079e-45, ...,\n",
      "            0.00000000e+00,   3.10790557e-02,   1.98148894e-21],\n",
      "         [  1.00000000e+00,   2.40093765e-16,   0.00000000e+00, ...,\n",
      "            0.00000000e+00,   7.73721573e-11,   0.00000000e+00]],\n",
      "\n",
      "        [[  1.00000000e+00,   5.87387756e-31,   0.00000000e+00, ...,\n",
      "            1.35753637e-21,   5.47105035e-11,   8.92656948e-03],\n",
      "         [  6.30931914e-01,   5.20483868e-39,   2.55094999e-32, ...,\n",
      "            0.00000000e+00,   9.99999821e-01,   1.39382266e-27],\n",
      "         [  2.03817766e-17,   1.00000000e+00,   1.00000000e+00, ...,\n",
      "            1.00000000e+00,   4.85223979e-11,   8.84893356e-40],\n",
      "         ..., \n",
      "         [  4.29352376e-09,   6.92100755e-25,   1.00000000e+00, ...,\n",
      "            9.99999642e-01,   4.41360328e-07,   1.00000000e+00],\n",
      "         [  2.04185022e-34,   1.00000000e+00,   1.00000000e+00, ...,\n",
      "                       nan,   9.58819449e-01,   9.86476183e-01],\n",
      "         [  0.00000000e+00,   4.26913704e-17,   3.78281681e-34, ...,\n",
      "                       nan,   9.26108896e-06,   1.18485897e-27]],\n",
      "\n",
      "        [[  1.21398099e-19,   7.29708555e-29,   1.00000000e+00, ...,\n",
      "            1.35664067e-08,   2.94303632e-21,   2.55866542e-26],\n",
      "         [  3.93755756e-18,   0.00000000e+00,   1.00000000e+00, ...,\n",
      "                       nan,   1.79676599e-16,   0.00000000e+00],\n",
      "         [  4.95785920e-17,   1.33995747e-13,   1.40129846e-45, ...,\n",
      "            6.13543863e-29,   9.99999940e-01,   4.50910214e-18],\n",
      "         ..., \n",
      "         [  1.00000000e+00,   1.00000000e+00,   9.91873693e-38, ...,\n",
      "            0.00000000e+00,   1.75226575e-36,   2.31238475e-38],\n",
      "         [  1.06374104e-21,   5.05376560e-24,   1.66434805e-23, ...,\n",
      "            0.00000000e+00,   5.43641817e-25,   1.35237742e-02],\n",
      "         [  0.00000000e+00,   1.71973034e-23,   2.94852462e-33, ...,\n",
      "            0.00000000e+00,   0.00000000e+00,   1.19440000e-37]],\n",
      "\n",
      "        [[  5.66730586e-36,   1.00000000e+00,   6.27874189e-30, ...,\n",
      "            1.00000000e+00,   7.03430222e-03,   2.89709307e-03],\n",
      "         [  0.00000000e+00,   1.45278862e-35,   5.82612522e-31, ...,\n",
      "            0.00000000e+00,   8.86569904e-15,   1.64242501e-05],\n",
      "         [  7.03268377e-09,   0.00000000e+00,   1.63531531e-41, ...,\n",
      "            5.25179911e-27,   4.75293938e-08,   0.00000000e+00],\n",
      "         ..., \n",
      "         [  1.76077636e-17,   2.45695773e-11,   1.85866222e-37, ...,\n",
      "            8.80663903e-25,   9.99999583e-01,   0.00000000e+00],\n",
      "         [  9.99415338e-01,   3.83820917e-32,   6.14679571e-41, ...,\n",
      "                       nan,   1.01015419e-02,   2.82707353e-19],\n",
      "         [  8.46938801e-36,   1.00000000e+00,   1.00000000e+00, ...,\n",
      "            0.00000000e+00,   9.99990702e-01,   1.00000000e+00]]],\n",
      "\n",
      "\n",
      "       [[[  5.33236845e-37,   8.76252408e-16,   1.30162346e-06, ...,\n",
      "            1.74323990e-35,   1.00000000e+00,   1.89956708e-08],\n",
      "         [  1.83432249e-13,   1.00000000e+00,   1.00000000e+00, ...,\n",
      "            0.00000000e+00,   2.94850976e-13,   9.99933362e-01],\n",
      "         [  1.00000000e+00,   1.38797859e-31,   9.69003244e-28, ...,\n",
      "            5.07325222e-17,   2.36919928e-11,   3.02243762e-07],\n",
      "         ..., \n",
      "         [  6.32417418e-23,   2.70225008e-14,   0.00000000e+00, ...,\n",
      "            9.61985123e-08,   9.80099507e-17,   5.21091030e-21],\n",
      "         [  2.26608954e-05,   0.00000000e+00,   5.87019174e-29, ...,\n",
      "            0.00000000e+00,   1.77678183e-01,   2.33003450e-10],\n",
      "         [             nan,   9.64839933e-23,   0.00000000e+00, ...,\n",
      "            0.00000000e+00,   9.99999642e-01,   0.00000000e+00]],\n",
      "\n",
      "        [[  1.00000000e+00,   1.65794628e-40,   0.00000000e+00, ...,\n",
      "            5.19903348e-13,   7.02384873e-13,   6.95015084e-21],\n",
      "         [  1.00000000e+00,   2.15996526e-37,   2.64816993e-17, ...,\n",
      "            0.00000000e+00,   1.00000000e+00,   3.53393946e-11],\n",
      "         [  1.39060770e-33,   1.00000000e+00,   1.00000000e+00, ...,\n",
      "            9.99916553e-01,   2.37431657e-03,   6.01161659e-25],\n",
      "         ..., \n",
      "         [  1.81771073e-04,   4.70710933e-17,   1.00000000e+00, ...,\n",
      "            9.99999940e-01,   9.99979913e-01,   6.28452718e-01],\n",
      "         [  5.36565505e-32,   1.00000000e+00,   1.00000000e+00, ...,\n",
      "                       nan,   1.59222765e-15,   1.00000000e+00],\n",
      "         [  0.00000000e+00,   1.87369172e-15,   1.15629535e-31, ...,\n",
      "            1.00000000e+00,   1.08574918e-08,   3.71037781e-01]],\n",
      "\n",
      "        [[  9.52342388e-24,   6.59321523e-35,   9.99998748e-01, ...,\n",
      "            4.37948722e-13,   4.06707909e-27,   7.42688186e-44],\n",
      "         [  8.74546095e-12,   0.00000000e+00,   7.63802743e-10, ...,\n",
      "                       nan,   4.76713265e-22,   0.00000000e+00],\n",
      "         [  7.91871804e-22,   8.25888372e-34,   9.95182127e-35, ...,\n",
      "            8.34317980e-05,   5.18634127e-13,   9.99999702e-01],\n",
      "         ..., \n",
      "         [  9.99818206e-01,   5.99119663e-01,   0.00000000e+00, ...,\n",
      "            4.45342881e-39,   1.83341827e-39,   2.69082861e-24],\n",
      "         [  9.37215529e-15,   0.00000000e+00,   3.45512773e-19, ...,\n",
      "            0.00000000e+00,   8.22321832e-01,   2.00092742e-31],\n",
      "         [  0.00000000e+00,   9.84049936e-19,   4.10008762e-31, ...,\n",
      "            3.94158877e-19,   0.00000000e+00,   2.38220739e-44]],\n",
      "\n",
      "        [[  9.85533210e-42,   1.00000000e+00,   1.79987839e-31, ...,\n",
      "            1.00000000e+00,   3.65435573e-18,   1.00000000e+00],\n",
      "         [  9.03837509e-43,   6.66175593e-19,   2.55520609e-39, ...,\n",
      "            0.00000000e+00,   3.65466121e-30,   6.66550332e-05],\n",
      "         [  3.94616506e-10,   1.40129846e-45,   1.73512980e-40, ...,\n",
      "            3.04555252e-26,   9.97625649e-01,   2.05913589e-25],\n",
      "         ..., \n",
      "         [  2.12435413e-19,   4.00880367e-01,   9.58824461e-41, ...,\n",
      "            3.50886594e-26,   2.00446193e-05,   3.71547282e-01],\n",
      "         [  9.99977291e-01,   1.41531145e-43,   0.00000000e+00, ...,\n",
      "            0.00000000e+00,   5.92821614e-09,   1.72777503e-16],\n",
      "         [  0.00000000e+00,   1.00000000e+00,   1.00000000e+00, ...,\n",
      "            0.00000000e+00,   3.76383639e-07,   6.28962159e-01]]],\n",
      "\n",
      "\n",
      "       ..., \n",
      "       [[[  1.14117269e-24,   3.48291038e-25,   3.23625420e-28, ...,\n",
      "            5.14280740e-40,   3.88296670e-03,   1.00000000e+00],\n",
      "         [  3.66552502e-01,   1.00000000e+00,   6.05274379e-01, ...,\n",
      "            0.00000000e+00,   9.97580409e-01,   9.84225988e-01],\n",
      "         [  2.59848282e-10,   7.99996069e-09,   3.50208667e-26, ...,\n",
      "            2.86679714e-38,   5.18571351e-13,   4.28638414e-09],\n",
      "         ..., \n",
      "         [  1.34244393e-42,   1.46886610e-08,   1.37661986e-27, ...,\n",
      "            9.99962270e-01,   2.49961140e-05,   0.00000000e+00],\n",
      "         [  9.94823873e-01,   9.69278148e-42,   5.55215744e-21, ...,\n",
      "            0.00000000e+00,   4.89810533e-18,   3.81272860e-29],\n",
      "         [             nan,   9.46225555e-05,   0.00000000e+00, ...,\n",
      "            0.00000000e+00,   2.54079640e-01,   0.00000000e+00]],\n",
      "\n",
      "        [[  1.00000000e+00,   2.08330920e-22,   0.00000000e+00, ...,\n",
      "            5.46508825e-23,   6.00628462e-03,   7.56427324e-14],\n",
      "         [  6.33447468e-01,   1.15928149e-32,   5.38021590e-32, ...,\n",
      "            0.00000000e+00,   2.41957488e-03,   3.00824723e-37],\n",
      "         [  1.52199934e-24,   9.98503029e-01,   1.00000000e+00, ...,\n",
      "            2.68828213e-01,   2.29048853e-16,   0.00000000e+00],\n",
      "         ..., \n",
      "         [  6.54412097e-22,   6.42127525e-16,   1.00000000e+00, ...,\n",
      "            3.77378165e-05,   1.23612545e-02,   1.00000000e+00],\n",
      "         [  7.29709700e-34,   1.00000000e+00,   1.00000000e+00, ...,\n",
      "                       nan,   2.49264076e-09,   1.00000000e+00],\n",
      "         [  0.00000000e+00,   6.89560908e-10,   3.44414315e-30, ...,\n",
      "            1.00000000e+00,   3.62185529e-19,   7.42588228e-13]],\n",
      "\n",
      "        [[  3.49015826e-14,   4.02067557e-32,   1.00000000e+00, ...,\n",
      "            1.66246066e-15,   9.90050852e-01,   2.18849600e-32],\n",
      "         [  5.20879015e-15,   0.00000000e+00,   3.94725621e-01, ...,\n",
      "                       nan,   4.54940684e-14,   0.00000000e+00],\n",
      "         [  2.05633327e-07,   1.49696553e-03,   4.34384285e-34, ...,\n",
      "            7.31171846e-01,   1.00000000e+00,   1.00000000e+00],\n",
      "         ..., \n",
      "         [  1.00000000e+00,   1.00000000e+00,   3.65523939e-16, ...,\n",
      "            0.00000000e+00,   9.87613738e-01,   0.00000000e+00],\n",
      "         [  1.92360505e-13,   1.56049829e-23,   7.24421387e-20, ...,\n",
      "            0.00000000e+00,   2.39779715e-23,   4.72297002e-26],\n",
      "         [  0.00000000e+00,   1.73171913e-23,   4.92065664e-28, ...,\n",
      "            1.26116862e-44,   0.00000000e+00,   5.05007770e-36]],\n",
      "\n",
      "        [[  2.91281273e-21,   1.00000000e+00,   2.71461529e-36, ...,\n",
      "            1.00000000e+00,   5.99263767e-05,   6.04254548e-13],\n",
      "         [  6.16571324e-44,   5.49393973e-27,   9.84365980e-25, ...,\n",
      "            0.00000000e+00,   2.35214152e-27,   1.57740153e-02],\n",
      "         [  9.99999762e-01,   7.11391436e-26,   9.26585449e-24, ...,\n",
      "            5.24584348e-19,   2.49089886e-22,   0.00000000e+00],\n",
      "         ..., \n",
      "         [  2.59454691e-21,   2.08246799e-23,   1.39403499e-27, ...,\n",
      "            1.03424573e-13,   1.99233025e-14,   5.46836230e-19],\n",
      "         [  5.17615629e-03,   1.16554939e-30,   1.40364718e-36, ...,\n",
      "            0.00000000e+00,   1.00000000e+00,   2.22472636e-32],\n",
      "         [  0.00000000e+00,   9.99905407e-01,   1.00000000e+00, ...,\n",
      "            0.00000000e+00,   7.45920360e-01,   1.00000000e+00]]],\n",
      "\n",
      "\n",
      "       [[[  2.75810444e-27,   2.73814294e-05,   6.76820012e-19, ...,\n",
      "            0.00000000e+00,   8.42840016e-01,   9.99670267e-01],\n",
      "         [  0.00000000e+00,   1.00000000e+00,   9.96403217e-01, ...,\n",
      "            0.00000000e+00,   7.57883936e-13,   1.00000000e+00],\n",
      "         [  6.40405784e-11,   1.32309365e-27,   1.03018689e-30, ...,\n",
      "            8.54792063e-44,   1.71688962e-20,   1.00000000e+00],\n",
      "         ..., \n",
      "         [  6.62788619e-32,   1.90096790e-30,   4.82046672e-43, ...,\n",
      "            8.78088921e-03,   1.24807745e-01,   0.00000000e+00],\n",
      "         [  7.46976241e-07,   7.55007147e-37,   1.29536030e-41, ...,\n",
      "            0.00000000e+00,   6.71367963e-13,   2.11002276e-18],\n",
      "         [             nan,   9.98606741e-01,   0.00000000e+00, ...,\n",
      "            0.00000000e+00,   2.19839382e-08,   1.79450719e-37]],\n",
      "\n",
      "        [[  1.00000000e+00,   1.33543253e-34,   1.40129846e-45, ...,\n",
      "            0.00000000e+00,   1.54431105e-01,   1.85988763e-15],\n",
      "         [             nan,   0.00000000e+00,   3.47345979e-29, ...,\n",
      "            0.00000000e+00,   1.00000000e+00,   1.17172643e-37],\n",
      "         [  1.31264528e-36,   1.00000000e+00,   1.00000000e+00, ...,\n",
      "            1.00000000e+00,   1.67904158e-20,   1.57393969e-36],\n",
      "         ..., \n",
      "         [  3.55085668e-08,   2.36010300e-12,   1.00000000e+00, ...,\n",
      "            9.91219103e-01,   8.75192225e-01,   1.00000000e+00],\n",
      "         [  7.14529929e-17,   1.00000000e+00,   1.00000000e+00, ...,\n",
      "                       nan,   1.00000000e+00,   1.00000000e+00],\n",
      "         [  0.00000000e+00,   1.12732661e-21,   1.52793899e-26, ...,\n",
      "            1.00000000e+00,   2.65659638e-23,   9.95675862e-01]],\n",
      "\n",
      "        [[  4.56131058e-21,   1.89691080e-26,   1.00000000e+00, ...,\n",
      "            0.00000000e+00,   1.80544623e-03,   3.73914074e-40],\n",
      "         [  0.00000000e+00,   0.00000000e+00,   3.59679526e-03, ...,\n",
      "                       nan,   1.85003165e-32,   0.00000000e+00],\n",
      "         [  1.07589944e-10,   3.35045868e-18,   3.14011883e-37, ...,\n",
      "            6.71656358e-27,   1.00000000e+00,   4.17603489e-17],\n",
      "         ..., \n",
      "         [  1.00000000e+00,   9.99984801e-01,   1.81156188e-36, ...,\n",
      "            4.20389539e-44,   8.99389686e-26,   0.00000000e+00],\n",
      "         [  2.97191762e-03,   1.57980730e-36,   6.00586993e-39, ...,\n",
      "            0.00000000e+00,   1.02904934e-21,   1.54722790e-25],\n",
      "         [  0.00000000e+00,   3.93148068e-18,   3.03835226e-25, ...,\n",
      "            1.93000441e-25,   0.00000000e+00,   4.81890264e-37]],\n",
      "\n",
      "        [[  1.82534170e-26,   9.99972641e-01,   9.48984454e-28, ...,\n",
      "                       nan,   9.23462329e-04,   3.29711096e-04],\n",
      "         [  0.00000000e+00,   1.36901485e-25,   2.06899066e-31, ...,\n",
      "            0.00000000e+00,   0.00000000e+00,   4.22562636e-12],\n",
      "         [  1.00000000e+00,   5.13675379e-40,   0.00000000e+00, ...,\n",
      "            1.36511105e-33,   8.48991922e-23,   0.00000000e+00],\n",
      "         ..., \n",
      "         [  6.85016942e-21,   1.52156026e-05,   4.86996237e-37, ...,\n",
      "            1.42433604e-31,   1.89981447e-10,   9.43481687e-28],\n",
      "         [  9.97027338e-01,   2.51718745e-36,   2.94272678e-44, ...,\n",
      "            0.00000000e+00,   8.09327869e-15,   2.15080397e-39],\n",
      "         [  0.00000000e+00,   1.39329187e-03,   1.00000000e+00, ...,\n",
      "            0.00000000e+00,   1.00000000e+00,   4.32407204e-03]]],\n",
      "\n",
      "\n",
      "       [[[  4.80133141e-27,   1.26997898e-10,   7.40405666e-25, ...,\n",
      "            0.00000000e+00,   1.78953852e-10,   4.00228232e-01],\n",
      "         [  2.28908007e-18,   1.00000000e+00,   1.00000000e+00, ...,\n",
      "            0.00000000e+00,   4.09157565e-06,   1.00000000e+00],\n",
      "         [  9.92725790e-01,   9.86560434e-03,   0.00000000e+00, ...,\n",
      "            1.79587859e-16,   7.43223235e-35,   9.99998629e-01],\n",
      "         ..., \n",
      "         [  1.30886178e-07,   0.00000000e+00,   1.35085172e-41, ...,\n",
      "            1.63849476e-10,   7.86450571e-10,   5.62743778e-36],\n",
      "         [  8.52128020e-15,   0.00000000e+00,   9.64093343e-43, ...,\n",
      "            0.00000000e+00,   1.21444240e-02,   7.18988620e-21],\n",
      "         [             nan,   4.47152883e-01,   0.00000000e+00, ...,\n",
      "            0.00000000e+00,   5.43431852e-05,   0.00000000e+00]],\n",
      "\n",
      "        [[  1.00000000e+00,   8.16332335e-10,   0.00000000e+00, ...,\n",
      "            5.09495557e-21,   2.07740013e-04,   1.33853110e-14],\n",
      "         [  9.99999881e-01,   2.80259693e-45,   3.21161213e-39, ...,\n",
      "            0.00000000e+00,   9.45970953e-01,   5.52597720e-32],\n",
      "         [  7.27421418e-03,   9.45320249e-01,   1.00000000e+00, ...,\n",
      "            1.00000000e+00,   1.00000000e+00,   1.81816292e-26],\n",
      "         ..., \n",
      "         [  1.46989507e-04,   0.00000000e+00,   1.00000000e+00, ...,\n",
      "            9.99999642e-01,   1.30455883e-04,   1.00000000e+00],\n",
      "         [  1.20395943e-37,   1.00000000e+00,   9.99967992e-01, ...,\n",
      "                       nan,   3.61992762e-11,   1.00000000e+00],\n",
      "         [  0.00000000e+00,   5.52847147e-01,   2.14261151e-27, ...,\n",
      "                       nan,   4.88276683e-14,   1.47025673e-07]],\n",
      "\n",
      "        [[  4.55339456e-19,   1.37304491e-16,   1.00000000e+00, ...,\n",
      "            1.03609946e-23,   9.99792278e-01,   4.38604545e-29],\n",
      "         [  1.03869382e-07,   0.00000000e+00,   1.19485746e-08, ...,\n",
      "                       nan,   1.56039954e-04,   0.00000000e+00],\n",
      "         [  1.04942719e-18,   4.48141545e-02,   5.69767956e-42, ...,\n",
      "            2.59238507e-18,   2.81821694e-23,   1.33776427e-06],\n",
      "         ..., \n",
      "         [  1.71541073e-03,              nan,   9.24917382e-39, ...,\n",
      "            1.12103877e-43,   1.38720900e-22,   3.04647335e-27],\n",
      "         [  1.34399028e-21,   4.20389539e-45,   3.20230683e-05, ...,\n",
      "            0.00000000e+00,   4.34727711e-20,   1.82413702e-29],\n",
      "         [  0.00000000e+00,   3.40275555e-16,   7.68010049e-24, ...,\n",
      "            0.00000000e+00,   0.00000000e+00,   1.68329983e-18]],\n",
      "\n",
      "        [[  0.00000000e+00,   1.00000000e+00,   8.52746123e-37, ...,\n",
      "            1.00000000e+00,   3.87091157e-13,   5.99771798e-01],\n",
      "         [  0.00000000e+00,   2.63997919e-23,   1.14903231e-35, ...,\n",
      "            0.00000000e+00,   5.38689904e-02,   8.73933845e-36],\n",
      "         [  2.98211390e-12,   2.17456557e-28,   1.40129846e-45, ...,\n",
      "            5.78510018e-14,   5.05870797e-11,   5.64907795e-36],\n",
      "         ..., \n",
      "         [  9.98137474e-01,   0.00000000e+00,   4.36125701e-39, ...,\n",
      "            4.02861446e-07,   9.99869585e-01,   7.53973805e-18],\n",
      "         [  1.00000000e+00,   3.75046306e-30,   0.00000000e+00, ...,\n",
      "                       nan,   9.87855613e-01,   8.05179071e-32],\n",
      "         [  0.00000000e+00,   1.42728625e-16,   1.00000000e+00, ...,\n",
      "            0.00000000e+00,   9.99945641e-01,   9.99999881e-01]]]], dtype=float32)\n",
      "(Pdb) tmp = T.sum((output[:,-C:][is_inter.nonzero()] - clspred_truth[is_inter.nonzero()])**2).eval()\n",
      "(Pdb) output.mean()\n",
      "mean\n",
      "(Pdb) output.mean().eval()\n",
      "array(nan, dtype=float32)\n",
      "(Pdb) q\n"
     ]
    },
    {
     "ename": "BdbQuit",
     "evalue": "",
     "output_type": "error",
     "traceback": [
      "\u001b[0;31m---------------------------------------------------------------------------\u001b[0m",
      "\u001b[0;31mBdbQuit\u001b[0m                                   Traceback (most recent call last)",
      "\u001b[0;32m<ipython-input-54-ecd9446b018a>\u001b[0m in \u001b[0;36m<module>\u001b[0;34m()\u001b[0m\n\u001b[0;32m----> 1\u001b[0;31m \u001b[0mget_cost_optim\u001b[0m\u001b[0;34m(\u001b[0m\u001b[0myl\u001b[0m\u001b[0;34m,\u001b[0m \u001b[0myl\u001b[0m\u001b[0;34m.\u001b[0m\u001b[0moutput_test\u001b[0m\u001b[0;34m,\u001b[0m \u001b[0mtruth\u001b[0m\u001b[0;34m,\u001b[0m \u001b[0mS\u001b[0m\u001b[0;34m,\u001b[0m \u001b[0mB\u001b[0m\u001b[0;34m,\u001b[0m \u001b[0mC\u001b[0m\u001b[0;34m)\u001b[0m\u001b[0;34m\u001b[0m\u001b[0m\n\u001b[0m",
      "\u001b[0;32m<ipython-input-51-d336b399fb90>\u001b[0m in \u001b[0;36mget_cost_optim\u001b[0;34m(self, output, truth, S, B, C, lmbda_coord, lmbda_noobj, iou_thresh)\u001b[0m\n\u001b[1;32m     69\u001b[0m         \u001b[0mcost\u001b[0m \u001b[0;34m=\u001b[0m \u001b[0mT\u001b[0m\u001b[0;34m.\u001b[0m\u001b[0msum\u001b[0m\u001b[0;34m(\u001b[0m\u001b[0;34m(\u001b[0m\u001b[0mpred_conf\u001b[0m \u001b[0;34m-\u001b[0m \u001b[0miou\u001b[0m\u001b[0;34m)\u001b[0m\u001b[0;34m[\u001b[0m\u001b[0mis_max\u001b[0m\u001b[0;34m.\u001b[0m\u001b[0mnonzero\u001b[0m\u001b[0;34m(\u001b[0m\u001b[0;34m)\u001b[0m\u001b[0;34m]\u001b[0m\u001b[0;34m**\u001b[0m\u001b[0;36m2\u001b[0m\u001b[0;34m)\u001b[0m \u001b[0;34m+\u001b[0m             \u001b[0mlmbda_noobj\u001b[0m \u001b[0;34m*\u001b[0m \u001b[0mT\u001b[0m\u001b[0;34m.\u001b[0m\u001b[0msum\u001b[0m\u001b[0;34m(\u001b[0m\u001b[0;34m(\u001b[0m\u001b[0mpred_conf\u001b[0m\u001b[0;34m[\u001b[0m\u001b[0mis_not_max\u001b[0m\u001b[0;34m.\u001b[0m\u001b[0mnonzero\u001b[0m\u001b[0;34m(\u001b[0m\u001b[0;34m)\u001b[0m\u001b[0;34m]\u001b[0m\u001b[0;34m)\u001b[0m\u001b[0;34m**\u001b[0m\u001b[0;36m2\u001b[0m\u001b[0;34m)\u001b[0m \u001b[0;34m+\u001b[0m             \u001b[0mlmbda_coord\u001b[0m \u001b[0;34m*\u001b[0m \u001b[0mT\u001b[0m\u001b[0;34m.\u001b[0m\u001b[0msum\u001b[0m\u001b[0;34m(\u001b[0m\u001b[0;34m(\u001b[0m\u001b[0mpred_x\u001b[0m\u001b[0;34m[\u001b[0m\u001b[0mis_max\u001b[0m\u001b[0;34m.\u001b[0m\u001b[0mnonzero\u001b[0m\u001b[0;34m(\u001b[0m\u001b[0;34m)\u001b[0m\u001b[0;34m]\u001b[0m\u001b[0;34m.\u001b[0m\u001b[0mreshape\u001b[0m\u001b[0;34m(\u001b[0m\u001b[0;34m(\u001b[0m\u001b[0mtruth\u001b[0m\u001b[0;34m.\u001b[0m\u001b[0mshape\u001b[0m\u001b[0;34m[\u001b[0m\u001b[0;36m0\u001b[0m\u001b[0;34m]\u001b[0m\u001b[0;34m,\u001b[0m\u001b[0;34m-\u001b[0m\u001b[0;36m1\u001b[0m\u001b[0;34m)\u001b[0m\u001b[0;34m)\u001b[0m \u001b[0;34m-\u001b[0m \u001b[0mtruth\u001b[0m\u001b[0;34m[\u001b[0m\u001b[0;34m:\u001b[0m\u001b[0;34m,\u001b[0m\u001b[0;34m[\u001b[0m\u001b[0;36m0\u001b[0m\u001b[0;34m]\u001b[0m\u001b[0;34m]\u001b[0m\u001b[0;34m)\u001b[0m\u001b[0;34m**\u001b[0m\u001b[0;36m2\u001b[0m\u001b[0;34m)\u001b[0m \u001b[0;34m+\u001b[0m             \u001b[0mlmbda_coord\u001b[0m \u001b[0;34m*\u001b[0m \u001b[0mT\u001b[0m\u001b[0;34m.\u001b[0m\u001b[0msum\u001b[0m\u001b[0;34m(\u001b[0m\u001b[0;34m(\u001b[0m\u001b[0mpred_y\u001b[0m\u001b[0;34m[\u001b[0m\u001b[0mis_max\u001b[0m\u001b[0;34m.\u001b[0m\u001b[0mnonzero\u001b[0m\u001b[0;34m(\u001b[0m\u001b[0;34m)\u001b[0m\u001b[0;34m]\u001b[0m\u001b[0;34m.\u001b[0m\u001b[0mreshape\u001b[0m\u001b[0;34m(\u001b[0m\u001b[0;34m(\u001b[0m\u001b[0mtruth\u001b[0m\u001b[0;34m.\u001b[0m\u001b[0mshape\u001b[0m\u001b[0;34m[\u001b[0m\u001b[0;36m0\u001b[0m\u001b[0;34m]\u001b[0m\u001b[0;34m,\u001b[0m\u001b[0;34m-\u001b[0m\u001b[0;36m1\u001b[0m\u001b[0;34m)\u001b[0m\u001b[0;34m)\u001b[0m \u001b[0;34m-\u001b[0m \u001b[0mtruth\u001b[0m\u001b[0;34m[\u001b[0m\u001b[0;34m:\u001b[0m\u001b[0;34m,\u001b[0m\u001b[0;34m[\u001b[0m\u001b[0;36m1\u001b[0m\u001b[0;34m]\u001b[0m\u001b[0;34m]\u001b[0m\u001b[0;34m)\u001b[0m\u001b[0;34m**\u001b[0m\u001b[0;36m2\u001b[0m\u001b[0;34m)\u001b[0m \u001b[0;34m+\u001b[0m             \u001b[0mlmbda_coord\u001b[0m \u001b[0;34m*\u001b[0m \u001b[0mT\u001b[0m\u001b[0;34m.\u001b[0m\u001b[0msum\u001b[0m\u001b[0;34m(\u001b[0m\u001b[0;34m(\u001b[0m\u001b[0mpred_w\u001b[0m\u001b[0;34m[\u001b[0m\u001b[0mis_max\u001b[0m\u001b[0;34m.\u001b[0m\u001b[0mnonzero\u001b[0m\u001b[0;34m(\u001b[0m\u001b[0;34m)\u001b[0m\u001b[0;34m]\u001b[0m\u001b[0;34m.\u001b[0m\u001b[0mreshape\u001b[0m\u001b[0;34m(\u001b[0m\u001b[0;34m(\u001b[0m\u001b[0mtruth\u001b[0m\u001b[0;34m.\u001b[0m\u001b[0mshape\u001b[0m\u001b[0;34m[\u001b[0m\u001b[0;36m0\u001b[0m\u001b[0;34m]\u001b[0m\u001b[0;34m,\u001b[0m\u001b[0;34m-\u001b[0m\u001b[0;36m1\u001b[0m\u001b[0;34m)\u001b[0m\u001b[0;34m)\u001b[0m\u001b[0;34m.\u001b[0m\u001b[0msqrt\u001b[0m\u001b[0;34m(\u001b[0m\u001b[0;34m)\u001b[0m \u001b[0;34m-\u001b[0m \u001b[0mtruth\u001b[0m\u001b[0;34m[\u001b[0m\u001b[0;34m:\u001b[0m\u001b[0;34m,\u001b[0m\u001b[0;34m[\u001b[0m\u001b[0;36m2\u001b[0m\u001b[0;34m]\u001b[0m\u001b[0;34m]\u001b[0m\u001b[0;34m.\u001b[0m\u001b[0msqrt\u001b[0m\u001b[0;34m(\u001b[0m\u001b[0;34m)\u001b[0m\u001b[0;34m)\u001b[0m\u001b[0;34m**\u001b[0m\u001b[0;36m2\u001b[0m\u001b[0;34m)\u001b[0m \u001b[0;34m+\u001b[0m             \u001b[0mlmbda_coord\u001b[0m \u001b[0;34m*\u001b[0m \u001b[0mT\u001b[0m\u001b[0;34m.\u001b[0m\u001b[0msum\u001b[0m\u001b[0;34m(\u001b[0m\u001b[0;34m(\u001b[0m\u001b[0mpred_h\u001b[0m\u001b[0;34m[\u001b[0m\u001b[0mis_max\u001b[0m\u001b[0;34m.\u001b[0m\u001b[0mnonzero\u001b[0m\u001b[0;34m(\u001b[0m\u001b[0;34m)\u001b[0m\u001b[0;34m]\u001b[0m\u001b[0;34m.\u001b[0m\u001b[0mreshape\u001b[0m\u001b[0;34m(\u001b[0m\u001b[0;34m(\u001b[0m\u001b[0mtruth\u001b[0m\u001b[0;34m.\u001b[0m\u001b[0mshape\u001b[0m\u001b[0;34m[\u001b[0m\u001b[0;36m0\u001b[0m\u001b[0;34m]\u001b[0m\u001b[0;34m,\u001b[0m\u001b[0;34m-\u001b[0m\u001b[0;36m1\u001b[0m\u001b[0;34m)\u001b[0m\u001b[0;34m)\u001b[0m\u001b[0;34m.\u001b[0m\u001b[0msqrt\u001b[0m\u001b[0;34m(\u001b[0m\u001b[0;34m)\u001b[0m \u001b[0;34m-\u001b[0m \u001b[0mtruth\u001b[0m\u001b[0;34m[\u001b[0m\u001b[0;34m:\u001b[0m\u001b[0;34m,\u001b[0m\u001b[0;34m[\u001b[0m\u001b[0;36m3\u001b[0m\u001b[0;34m]\u001b[0m\u001b[0;34m]\u001b[0m\u001b[0;34m.\u001b[0m\u001b[0msqrt\u001b[0m\u001b[0;34m(\u001b[0m\u001b[0;34m)\u001b[0m\u001b[0;34m)\u001b[0m\u001b[0;34m**\u001b[0m\u001b[0;36m2\u001b[0m\u001b[0;34m)\u001b[0m \u001b[0;34m+\u001b[0m             \u001b[0mT\u001b[0m\u001b[0;34m.\u001b[0m\u001b[0msum\u001b[0m\u001b[0;34m(\u001b[0m\u001b[0;34m(\u001b[0m\u001b[0moutput\u001b[0m\u001b[0;34m[\u001b[0m\u001b[0;34m:\u001b[0m\u001b[0;34m,\u001b[0m\u001b[0;34m-\u001b[0m\u001b[0mC\u001b[0m\u001b[0;34m:\u001b[0m\u001b[0;34m]\u001b[0m\u001b[0;34m[\u001b[0m\u001b[0mis_inter\u001b[0m\u001b[0;34m.\u001b[0m\u001b[0mnonzero\u001b[0m\u001b[0;34m(\u001b[0m\u001b[0;34m)\u001b[0m\u001b[0;34m]\u001b[0m \u001b[0;34m-\u001b[0m \u001b[0mclspred_truth\u001b[0m\u001b[0;34m[\u001b[0m\u001b[0mis_inter\u001b[0m\u001b[0;34m.\u001b[0m\u001b[0mnonzero\u001b[0m\u001b[0;34m(\u001b[0m\u001b[0;34m)\u001b[0m\u001b[0;34m]\u001b[0m\u001b[0;34m)\u001b[0m\u001b[0;34m**\u001b[0m\u001b[0;36m2\u001b[0m\u001b[0;34m)\u001b[0m\u001b[0;34m\u001b[0m\u001b[0m\n\u001b[1;32m     70\u001b[0m \u001b[0;34m\u001b[0m\u001b[0m\n\u001b[0;32m---> 71\u001b[0;31m         \u001b[0;32mreturn\u001b[0m \u001b[0mcost\u001b[0m\u001b[0;34m\u001b[0m\u001b[0m\n\u001b[0m",
      "\u001b[0;32m<ipython-input-51-d336b399fb90>\u001b[0m in \u001b[0;36mget_cost_optim\u001b[0;34m(self, output, truth, S, B, C, lmbda_coord, lmbda_noobj, iou_thresh)\u001b[0m\n\u001b[1;32m     69\u001b[0m         \u001b[0mcost\u001b[0m \u001b[0;34m=\u001b[0m \u001b[0mT\u001b[0m\u001b[0;34m.\u001b[0m\u001b[0msum\u001b[0m\u001b[0;34m(\u001b[0m\u001b[0;34m(\u001b[0m\u001b[0mpred_conf\u001b[0m \u001b[0;34m-\u001b[0m \u001b[0miou\u001b[0m\u001b[0;34m)\u001b[0m\u001b[0;34m[\u001b[0m\u001b[0mis_max\u001b[0m\u001b[0;34m.\u001b[0m\u001b[0mnonzero\u001b[0m\u001b[0;34m(\u001b[0m\u001b[0;34m)\u001b[0m\u001b[0;34m]\u001b[0m\u001b[0;34m**\u001b[0m\u001b[0;36m2\u001b[0m\u001b[0;34m)\u001b[0m \u001b[0;34m+\u001b[0m             \u001b[0mlmbda_noobj\u001b[0m \u001b[0;34m*\u001b[0m \u001b[0mT\u001b[0m\u001b[0;34m.\u001b[0m\u001b[0msum\u001b[0m\u001b[0;34m(\u001b[0m\u001b[0;34m(\u001b[0m\u001b[0mpred_conf\u001b[0m\u001b[0;34m[\u001b[0m\u001b[0mis_not_max\u001b[0m\u001b[0;34m.\u001b[0m\u001b[0mnonzero\u001b[0m\u001b[0;34m(\u001b[0m\u001b[0;34m)\u001b[0m\u001b[0;34m]\u001b[0m\u001b[0;34m)\u001b[0m\u001b[0;34m**\u001b[0m\u001b[0;36m2\u001b[0m\u001b[0;34m)\u001b[0m \u001b[0;34m+\u001b[0m             \u001b[0mlmbda_coord\u001b[0m \u001b[0;34m*\u001b[0m \u001b[0mT\u001b[0m\u001b[0;34m.\u001b[0m\u001b[0msum\u001b[0m\u001b[0;34m(\u001b[0m\u001b[0;34m(\u001b[0m\u001b[0mpred_x\u001b[0m\u001b[0;34m[\u001b[0m\u001b[0mis_max\u001b[0m\u001b[0;34m.\u001b[0m\u001b[0mnonzero\u001b[0m\u001b[0;34m(\u001b[0m\u001b[0;34m)\u001b[0m\u001b[0;34m]\u001b[0m\u001b[0;34m.\u001b[0m\u001b[0mreshape\u001b[0m\u001b[0;34m(\u001b[0m\u001b[0;34m(\u001b[0m\u001b[0mtruth\u001b[0m\u001b[0;34m.\u001b[0m\u001b[0mshape\u001b[0m\u001b[0;34m[\u001b[0m\u001b[0;36m0\u001b[0m\u001b[0;34m]\u001b[0m\u001b[0;34m,\u001b[0m\u001b[0;34m-\u001b[0m\u001b[0;36m1\u001b[0m\u001b[0;34m)\u001b[0m\u001b[0;34m)\u001b[0m \u001b[0;34m-\u001b[0m \u001b[0mtruth\u001b[0m\u001b[0;34m[\u001b[0m\u001b[0;34m:\u001b[0m\u001b[0;34m,\u001b[0m\u001b[0;34m[\u001b[0m\u001b[0;36m0\u001b[0m\u001b[0;34m]\u001b[0m\u001b[0;34m]\u001b[0m\u001b[0;34m)\u001b[0m\u001b[0;34m**\u001b[0m\u001b[0;36m2\u001b[0m\u001b[0;34m)\u001b[0m \u001b[0;34m+\u001b[0m             \u001b[0mlmbda_coord\u001b[0m \u001b[0;34m*\u001b[0m \u001b[0mT\u001b[0m\u001b[0;34m.\u001b[0m\u001b[0msum\u001b[0m\u001b[0;34m(\u001b[0m\u001b[0;34m(\u001b[0m\u001b[0mpred_y\u001b[0m\u001b[0;34m[\u001b[0m\u001b[0mis_max\u001b[0m\u001b[0;34m.\u001b[0m\u001b[0mnonzero\u001b[0m\u001b[0;34m(\u001b[0m\u001b[0;34m)\u001b[0m\u001b[0;34m]\u001b[0m\u001b[0;34m.\u001b[0m\u001b[0mreshape\u001b[0m\u001b[0;34m(\u001b[0m\u001b[0;34m(\u001b[0m\u001b[0mtruth\u001b[0m\u001b[0;34m.\u001b[0m\u001b[0mshape\u001b[0m\u001b[0;34m[\u001b[0m\u001b[0;36m0\u001b[0m\u001b[0;34m]\u001b[0m\u001b[0;34m,\u001b[0m\u001b[0;34m-\u001b[0m\u001b[0;36m1\u001b[0m\u001b[0;34m)\u001b[0m\u001b[0;34m)\u001b[0m \u001b[0;34m-\u001b[0m \u001b[0mtruth\u001b[0m\u001b[0;34m[\u001b[0m\u001b[0;34m:\u001b[0m\u001b[0;34m,\u001b[0m\u001b[0;34m[\u001b[0m\u001b[0;36m1\u001b[0m\u001b[0;34m]\u001b[0m\u001b[0;34m]\u001b[0m\u001b[0;34m)\u001b[0m\u001b[0;34m**\u001b[0m\u001b[0;36m2\u001b[0m\u001b[0;34m)\u001b[0m \u001b[0;34m+\u001b[0m             \u001b[0mlmbda_coord\u001b[0m \u001b[0;34m*\u001b[0m \u001b[0mT\u001b[0m\u001b[0;34m.\u001b[0m\u001b[0msum\u001b[0m\u001b[0;34m(\u001b[0m\u001b[0;34m(\u001b[0m\u001b[0mpred_w\u001b[0m\u001b[0;34m[\u001b[0m\u001b[0mis_max\u001b[0m\u001b[0;34m.\u001b[0m\u001b[0mnonzero\u001b[0m\u001b[0;34m(\u001b[0m\u001b[0;34m)\u001b[0m\u001b[0;34m]\u001b[0m\u001b[0;34m.\u001b[0m\u001b[0mreshape\u001b[0m\u001b[0;34m(\u001b[0m\u001b[0;34m(\u001b[0m\u001b[0mtruth\u001b[0m\u001b[0;34m.\u001b[0m\u001b[0mshape\u001b[0m\u001b[0;34m[\u001b[0m\u001b[0;36m0\u001b[0m\u001b[0;34m]\u001b[0m\u001b[0;34m,\u001b[0m\u001b[0;34m-\u001b[0m\u001b[0;36m1\u001b[0m\u001b[0;34m)\u001b[0m\u001b[0;34m)\u001b[0m\u001b[0;34m.\u001b[0m\u001b[0msqrt\u001b[0m\u001b[0;34m(\u001b[0m\u001b[0;34m)\u001b[0m \u001b[0;34m-\u001b[0m \u001b[0mtruth\u001b[0m\u001b[0;34m[\u001b[0m\u001b[0;34m:\u001b[0m\u001b[0;34m,\u001b[0m\u001b[0;34m[\u001b[0m\u001b[0;36m2\u001b[0m\u001b[0;34m]\u001b[0m\u001b[0;34m]\u001b[0m\u001b[0;34m.\u001b[0m\u001b[0msqrt\u001b[0m\u001b[0;34m(\u001b[0m\u001b[0;34m)\u001b[0m\u001b[0;34m)\u001b[0m\u001b[0;34m**\u001b[0m\u001b[0;36m2\u001b[0m\u001b[0;34m)\u001b[0m \u001b[0;34m+\u001b[0m             \u001b[0mlmbda_coord\u001b[0m \u001b[0;34m*\u001b[0m \u001b[0mT\u001b[0m\u001b[0;34m.\u001b[0m\u001b[0msum\u001b[0m\u001b[0;34m(\u001b[0m\u001b[0;34m(\u001b[0m\u001b[0mpred_h\u001b[0m\u001b[0;34m[\u001b[0m\u001b[0mis_max\u001b[0m\u001b[0;34m.\u001b[0m\u001b[0mnonzero\u001b[0m\u001b[0;34m(\u001b[0m\u001b[0;34m)\u001b[0m\u001b[0;34m]\u001b[0m\u001b[0;34m.\u001b[0m\u001b[0mreshape\u001b[0m\u001b[0;34m(\u001b[0m\u001b[0;34m(\u001b[0m\u001b[0mtruth\u001b[0m\u001b[0;34m.\u001b[0m\u001b[0mshape\u001b[0m\u001b[0;34m[\u001b[0m\u001b[0;36m0\u001b[0m\u001b[0;34m]\u001b[0m\u001b[0;34m,\u001b[0m\u001b[0;34m-\u001b[0m\u001b[0;36m1\u001b[0m\u001b[0;34m)\u001b[0m\u001b[0;34m)\u001b[0m\u001b[0;34m.\u001b[0m\u001b[0msqrt\u001b[0m\u001b[0;34m(\u001b[0m\u001b[0;34m)\u001b[0m \u001b[0;34m-\u001b[0m \u001b[0mtruth\u001b[0m\u001b[0;34m[\u001b[0m\u001b[0;34m:\u001b[0m\u001b[0;34m,\u001b[0m\u001b[0;34m[\u001b[0m\u001b[0;36m3\u001b[0m\u001b[0;34m]\u001b[0m\u001b[0;34m]\u001b[0m\u001b[0;34m.\u001b[0m\u001b[0msqrt\u001b[0m\u001b[0;34m(\u001b[0m\u001b[0;34m)\u001b[0m\u001b[0;34m)\u001b[0m\u001b[0;34m**\u001b[0m\u001b[0;36m2\u001b[0m\u001b[0;34m)\u001b[0m \u001b[0;34m+\u001b[0m             \u001b[0mT\u001b[0m\u001b[0;34m.\u001b[0m\u001b[0msum\u001b[0m\u001b[0;34m(\u001b[0m\u001b[0;34m(\u001b[0m\u001b[0moutput\u001b[0m\u001b[0;34m[\u001b[0m\u001b[0;34m:\u001b[0m\u001b[0;34m,\u001b[0m\u001b[0;34m-\u001b[0m\u001b[0mC\u001b[0m\u001b[0;34m:\u001b[0m\u001b[0;34m]\u001b[0m\u001b[0;34m[\u001b[0m\u001b[0mis_inter\u001b[0m\u001b[0;34m.\u001b[0m\u001b[0mnonzero\u001b[0m\u001b[0;34m(\u001b[0m\u001b[0;34m)\u001b[0m\u001b[0;34m]\u001b[0m \u001b[0;34m-\u001b[0m \u001b[0mclspred_truth\u001b[0m\u001b[0;34m[\u001b[0m\u001b[0mis_inter\u001b[0m\u001b[0;34m.\u001b[0m\u001b[0mnonzero\u001b[0m\u001b[0;34m(\u001b[0m\u001b[0;34m)\u001b[0m\u001b[0;34m]\u001b[0m\u001b[0;34m)\u001b[0m\u001b[0;34m**\u001b[0m\u001b[0;36m2\u001b[0m\u001b[0;34m)\u001b[0m\u001b[0;34m\u001b[0m\u001b[0m\n\u001b[1;32m     70\u001b[0m \u001b[0;34m\u001b[0m\u001b[0m\n\u001b[0;32m---> 71\u001b[0;31m         \u001b[0;32mreturn\u001b[0m \u001b[0mcost\u001b[0m\u001b[0;34m\u001b[0m\u001b[0m\n\u001b[0m",
      "\u001b[0;32m/Users/colingaudreau/anaconda2/lib/python2.7/bdb.pyc\u001b[0m in \u001b[0;36mtrace_dispatch\u001b[0;34m(self, frame, event, arg)\u001b[0m\n\u001b[1;32m     47\u001b[0m             \u001b[0;32mreturn\u001b[0m \u001b[0;31m# None\u001b[0m\u001b[0;34m\u001b[0m\u001b[0m\n\u001b[1;32m     48\u001b[0m         \u001b[0;32mif\u001b[0m \u001b[0mevent\u001b[0m \u001b[0;34m==\u001b[0m \u001b[0;34m'line'\u001b[0m\u001b[0;34m:\u001b[0m\u001b[0;34m\u001b[0m\u001b[0m\n\u001b[0;32m---> 49\u001b[0;31m             \u001b[0;32mreturn\u001b[0m \u001b[0mself\u001b[0m\u001b[0;34m.\u001b[0m\u001b[0mdispatch_line\u001b[0m\u001b[0;34m(\u001b[0m\u001b[0mframe\u001b[0m\u001b[0;34m)\u001b[0m\u001b[0;34m\u001b[0m\u001b[0m\n\u001b[0m\u001b[1;32m     50\u001b[0m         \u001b[0;32mif\u001b[0m \u001b[0mevent\u001b[0m \u001b[0;34m==\u001b[0m \u001b[0;34m'call'\u001b[0m\u001b[0;34m:\u001b[0m\u001b[0;34m\u001b[0m\u001b[0m\n\u001b[1;32m     51\u001b[0m             \u001b[0;32mreturn\u001b[0m \u001b[0mself\u001b[0m\u001b[0;34m.\u001b[0m\u001b[0mdispatch_call\u001b[0m\u001b[0;34m(\u001b[0m\u001b[0mframe\u001b[0m\u001b[0;34m,\u001b[0m \u001b[0marg\u001b[0m\u001b[0;34m)\u001b[0m\u001b[0;34m\u001b[0m\u001b[0m\n",
      "\u001b[0;32m/Users/colingaudreau/anaconda2/lib/python2.7/bdb.pyc\u001b[0m in \u001b[0;36mdispatch_line\u001b[0;34m(self, frame)\u001b[0m\n\u001b[1;32m     66\u001b[0m         \u001b[0;32mif\u001b[0m \u001b[0mself\u001b[0m\u001b[0;34m.\u001b[0m\u001b[0mstop_here\u001b[0m\u001b[0;34m(\u001b[0m\u001b[0mframe\u001b[0m\u001b[0;34m)\u001b[0m \u001b[0;32mor\u001b[0m \u001b[0mself\u001b[0m\u001b[0;34m.\u001b[0m\u001b[0mbreak_here\u001b[0m\u001b[0;34m(\u001b[0m\u001b[0mframe\u001b[0m\u001b[0;34m)\u001b[0m\u001b[0;34m:\u001b[0m\u001b[0;34m\u001b[0m\u001b[0m\n\u001b[1;32m     67\u001b[0m             \u001b[0mself\u001b[0m\u001b[0;34m.\u001b[0m\u001b[0muser_line\u001b[0m\u001b[0;34m(\u001b[0m\u001b[0mframe\u001b[0m\u001b[0;34m)\u001b[0m\u001b[0;34m\u001b[0m\u001b[0m\n\u001b[0;32m---> 68\u001b[0;31m             \u001b[0;32mif\u001b[0m \u001b[0mself\u001b[0m\u001b[0;34m.\u001b[0m\u001b[0mquitting\u001b[0m\u001b[0;34m:\u001b[0m \u001b[0;32mraise\u001b[0m \u001b[0mBdbQuit\u001b[0m\u001b[0;34m\u001b[0m\u001b[0m\n\u001b[0m\u001b[1;32m     69\u001b[0m         \u001b[0;32mreturn\u001b[0m \u001b[0mself\u001b[0m\u001b[0;34m.\u001b[0m\u001b[0mtrace_dispatch\u001b[0m\u001b[0;34m\u001b[0m\u001b[0m\n\u001b[1;32m     70\u001b[0m \u001b[0;34m\u001b[0m\u001b[0m\n",
      "\u001b[0;31mBdbQuit\u001b[0m: "
     ]
    }
   ],
   "source": [
    "get_cost_optim(yl, yl.output_test, truth, S, B, C)"
   ]
  },
  {
   "cell_type": "code",
   "execution_count": 52,
   "metadata": {
    "collapsed": false
   },
   "outputs": [],
   "source": [
    "def manual_cost(output, truth, C, S, B, lmbda_coord=5., lmbda_noobj=.5, thresh = .05):\n",
    "    output, truth = np.copy(output), np.copy(truth)\n",
    "    def calc_iou(b1, b2):\n",
    "        xi = np.maximum(b1[0], b2[0])\n",
    "        xf = np.minimum(b1[0]+b1[2], b2[0]+b2[2])\n",
    "        yi = np.maximum(b1[1], b2[1])\n",
    "        yf = np.minimum(b1[1]+b1[3], b2[1]+b2[3])\n",
    "        w, h = np.maximum(0., xf - xi), np.maximum(0., yf - yi)\n",
    "        isec = np.maximum(w * h, 0.)\n",
    "        union = (b1[2]*b1[3]) + (b2[2]*b2[3]) - isec\n",
    "        iou = isec / union\n",
    "        return iou\n",
    "    \n",
    "    cost = 0.\n",
    "    xshift, yshift = 1./S[1], 1./S[0]\n",
    "    for i in range(S[0]):\n",
    "        for j in range(S[1]):\n",
    "            iou_score_per_box = np.zeros((B,))\n",
    "            for k in range(B):\n",
    "                reg_truth = truth[:4]\n",
    "                reg_box = output[k*5:k*5 + 4, i, j]\n",
    "                reg_box[0] += j * xshift\n",
    "                reg_box[1] += i * yshift\n",
    "                iou_score_per_box[k] = calc_iou(reg_truth, reg_box)\n",
    "            \n",
    "            idx_resp = np.argmax(iou_score_per_box)\n",
    "            \n",
    "            for k in range(B):\n",
    "                reg_fact = lmbda_noobj\n",
    "                if k == idx_resp:\n",
    "                    reg_fact = 1.\n",
    "                cost += reg_fact * (output[k*B + 4, i, j] - iou_score_per_box[k])**2\n",
    "        \n",
    "            reg_cell = np.asarray([j * xshift, i * yshift, xshift, yshift])\n",
    "            iou_cell = calc_iou(reg_cell, truth[:4])\n",
    "            \n",
    "            if iou_cell > thresh:\n",
    "                cost += ((output[-C:, i, j] - truth[-C:])**2).sum()\n",
    "                \n",
    "            cost += lmbda_coord * ((output[idx_resp*5:idx_resp*5+2,i,j] - truth[:2])**2).sum()\n",
    "            cost += lmbda_coord * ((np.sqrt(output[idx_resp*5+2:idx_resp*5+4,i,j]) - np.sqrt(truth[2:4]))**2).sum()\n",
    "    \n",
    "    return cost\n",
    "            "
   ]
  },
  {
   "cell_type": "code",
   "execution_count": 10,
   "metadata": {
    "collapsed": true
   },
   "outputs": [],
   "source": [
    "target = T.matrix('target')\n",
    "art_output = T.tensor4('art_output')"
   ]
  },
  {
   "cell_type": "code",
   "execution_count": 11,
   "metadata": {
    "collapsed": false
   },
   "outputs": [],
   "source": [
    "out_fn = theano.function([yl.input], yl.output_test, allow_input_downcast=True)"
   ]
  },
  {
   "cell_type": "code",
   "execution_count": 53,
   "metadata": {
    "collapsed": false
   },
   "outputs": [
    {
     "name": "stdout",
     "output_type": "stream",
     "text": [
      "> <ipython-input-51-d336b399fb90>(69)get_cost_optim()\n",
      "-> cost = T.sum((pred_conf - iou)[is_max.nonzero()]**2) +             lmbda_noobj * T.sum((pred_conf[is_not_max.nonzero()])**2) +             lmbda_coord * T.sum((pred_x[is_max.nonzero()].reshape((truth.shape[0],-1)) - truth[:,[0]])**2) +             lmbda_coord * T.sum((pred_y[is_max.nonzero()].reshape((truth.shape[0],-1)) - truth[:,[1]])**2) +             lmbda_coord * T.sum((pred_w[is_max.nonzero()].reshape((truth.shape[0],-1)).sqrt() - truth[:,[2]].sqrt())**2) +             lmbda_coord * T.sum((pred_h[is_max.nonzero()].reshape((truth.shape[0],-1)).sqrt() - truth[:,[3]].sqrt())**2) +             T.sum((output[:,-C:][is_inter.nonzero()] - clspred_truth[is_inter.nonzero()])**2)\n",
      "(Pdb) n\n",
      "> <ipython-input-51-d336b399fb90>(71)get_cost_optim()\n",
      "-> return cost\n",
      "(Pdb) cost.eval()\n",
      "*** MissingInputError: A variable that is an input to the graph was neither provided as an input to the function nor given a value. A chain of variables leading from this input to an output is [target, Subtensor{::, int64}.0, Elemwise{add,no_inplace}.0, DimShuffle{0,x,x,x}.0, Elemwise{minimum,no_inplace}.0, Elemwise{sub,no_inplace}.0, Elemwise{maximum,no_inplace}.0, Elemwise{mul,no_inplace}.0, Elemwise{true_div,no_inplace}.0, Elemwise{maximum,no_inplace}.0, Elemwise{sub,no_inplace}.0, AdvancedSubtensor.0, Elemwise{pow,no_inplace}.0, Sum{acc_dtype=float64}.0, Elemwise{add,no_inplace}.0, Elemwise{add,no_inplace}.0, Elemwise{add,no_inplace}.0, Elemwise{add,no_inplace}.0, Elemwise{add,no_inplace}.0, Elemwise{add,no_inplace}.0]. This chain may not be unique\n",
      "Backtrace when the variable is created:\n",
      "  File \"/Users/colingaudreau/anaconda2/lib/python2.7/site-packages/ipykernel/kernelbase.py\", line 276, in dispatcher\n",
      "    return self.dispatch_shell(stream, msg)\n",
      "  File \"/Users/colingaudreau/anaconda2/lib/python2.7/site-packages/ipykernel/kernelbase.py\", line 228, in dispatch_shell\n",
      "    handler(stream, idents, msg)\n",
      "  File \"/Users/colingaudreau/anaconda2/lib/python2.7/site-packages/ipykernel/kernelbase.py\", line 391, in execute_request\n",
      "    user_expressions, allow_stdin)\n",
      "  File \"/Users/colingaudreau/anaconda2/lib/python2.7/site-packages/ipykernel/ipkernel.py\", line 199, in do_execute\n",
      "    shell.run_cell(code, store_history=store_history, silent=silent)\n",
      "  File \"/Users/colingaudreau/anaconda2/lib/python2.7/site-packages/IPython/core/interactiveshell.py\", line 2723, in run_cell\n",
      "    interactivity=interactivity, compiler=compiler, result=result)\n",
      "  File \"/Users/colingaudreau/anaconda2/lib/python2.7/site-packages/IPython/core/interactiveshell.py\", line 2825, in run_ast_nodes\n",
      "    if self.run_code(code, result):\n",
      "  File \"/Users/colingaudreau/anaconda2/lib/python2.7/site-packages/IPython/core/interactiveshell.py\", line 2885, in run_code\n",
      "    exec(code_obj, self.user_global_ns, self.user_ns)\n",
      "  File \"<ipython-input-10-76b2d64380c6>\", line 1, in <module>\n",
      "    target = T.matrix('target')\n",
      "\n",
      "(Pdb) q\n"
     ]
    },
    {
     "ename": "BdbQuit",
     "evalue": "",
     "output_type": "error",
     "traceback": [
      "\u001b[0;31m---------------------------------------------------------------------------\u001b[0m",
      "\u001b[0;31mBdbQuit\u001b[0m                                   Traceback (most recent call last)",
      "\u001b[0;32m<ipython-input-53-a9c48f08aeba>\u001b[0m in \u001b[0;36m<module>\u001b[0;34m()\u001b[0m\n\u001b[0;32m----> 1\u001b[0;31m \u001b[0mfn\u001b[0m \u001b[0;34m=\u001b[0m \u001b[0mtheano\u001b[0m\u001b[0;34m.\u001b[0m\u001b[0mfunction\u001b[0m\u001b[0;34m(\u001b[0m\u001b[0;34m[\u001b[0m\u001b[0myl\u001b[0m\u001b[0;34m.\u001b[0m\u001b[0minput\u001b[0m\u001b[0;34m,\u001b[0m \u001b[0mtarget\u001b[0m\u001b[0;34m]\u001b[0m\u001b[0;34m,\u001b[0m \u001b[0mget_cost_optim\u001b[0m\u001b[0;34m(\u001b[0m\u001b[0myl\u001b[0m\u001b[0;34m,\u001b[0m \u001b[0myl\u001b[0m\u001b[0;34m.\u001b[0m\u001b[0moutput_test\u001b[0m\u001b[0;34m,\u001b[0m \u001b[0mtarget\u001b[0m\u001b[0;34m,\u001b[0m \u001b[0mS\u001b[0m\u001b[0;34m,\u001b[0m \u001b[0mB\u001b[0m\u001b[0;34m,\u001b[0m \u001b[0mC\u001b[0m\u001b[0;34m)\u001b[0m\u001b[0;34m,\u001b[0m \u001b[0mallow_input_downcast\u001b[0m\u001b[0;34m=\u001b[0m\u001b[0mTrue\u001b[0m\u001b[0;34m)\u001b[0m\u001b[0;34m\u001b[0m\u001b[0m\n\u001b[0m",
      "\u001b[0;32m<ipython-input-51-d336b399fb90>\u001b[0m in \u001b[0;36mget_cost_optim\u001b[0;34m(self, output, truth, S, B, C, lmbda_coord, lmbda_noobj, iou_thresh)\u001b[0m\n\u001b[1;32m     69\u001b[0m         \u001b[0mcost\u001b[0m \u001b[0;34m=\u001b[0m \u001b[0mT\u001b[0m\u001b[0;34m.\u001b[0m\u001b[0msum\u001b[0m\u001b[0;34m(\u001b[0m\u001b[0;34m(\u001b[0m\u001b[0mpred_conf\u001b[0m \u001b[0;34m-\u001b[0m \u001b[0miou\u001b[0m\u001b[0;34m)\u001b[0m\u001b[0;34m[\u001b[0m\u001b[0mis_max\u001b[0m\u001b[0;34m.\u001b[0m\u001b[0mnonzero\u001b[0m\u001b[0;34m(\u001b[0m\u001b[0;34m)\u001b[0m\u001b[0;34m]\u001b[0m\u001b[0;34m**\u001b[0m\u001b[0;36m2\u001b[0m\u001b[0;34m)\u001b[0m \u001b[0;34m+\u001b[0m             \u001b[0mlmbda_noobj\u001b[0m \u001b[0;34m*\u001b[0m \u001b[0mT\u001b[0m\u001b[0;34m.\u001b[0m\u001b[0msum\u001b[0m\u001b[0;34m(\u001b[0m\u001b[0;34m(\u001b[0m\u001b[0mpred_conf\u001b[0m\u001b[0;34m[\u001b[0m\u001b[0mis_not_max\u001b[0m\u001b[0;34m.\u001b[0m\u001b[0mnonzero\u001b[0m\u001b[0;34m(\u001b[0m\u001b[0;34m)\u001b[0m\u001b[0;34m]\u001b[0m\u001b[0;34m)\u001b[0m\u001b[0;34m**\u001b[0m\u001b[0;36m2\u001b[0m\u001b[0;34m)\u001b[0m \u001b[0;34m+\u001b[0m             \u001b[0mlmbda_coord\u001b[0m \u001b[0;34m*\u001b[0m \u001b[0mT\u001b[0m\u001b[0;34m.\u001b[0m\u001b[0msum\u001b[0m\u001b[0;34m(\u001b[0m\u001b[0;34m(\u001b[0m\u001b[0mpred_x\u001b[0m\u001b[0;34m[\u001b[0m\u001b[0mis_max\u001b[0m\u001b[0;34m.\u001b[0m\u001b[0mnonzero\u001b[0m\u001b[0;34m(\u001b[0m\u001b[0;34m)\u001b[0m\u001b[0;34m]\u001b[0m\u001b[0;34m.\u001b[0m\u001b[0mreshape\u001b[0m\u001b[0;34m(\u001b[0m\u001b[0;34m(\u001b[0m\u001b[0mtruth\u001b[0m\u001b[0;34m.\u001b[0m\u001b[0mshape\u001b[0m\u001b[0;34m[\u001b[0m\u001b[0;36m0\u001b[0m\u001b[0;34m]\u001b[0m\u001b[0;34m,\u001b[0m\u001b[0;34m-\u001b[0m\u001b[0;36m1\u001b[0m\u001b[0;34m)\u001b[0m\u001b[0;34m)\u001b[0m \u001b[0;34m-\u001b[0m \u001b[0mtruth\u001b[0m\u001b[0;34m[\u001b[0m\u001b[0;34m:\u001b[0m\u001b[0;34m,\u001b[0m\u001b[0;34m[\u001b[0m\u001b[0;36m0\u001b[0m\u001b[0;34m]\u001b[0m\u001b[0;34m]\u001b[0m\u001b[0;34m)\u001b[0m\u001b[0;34m**\u001b[0m\u001b[0;36m2\u001b[0m\u001b[0;34m)\u001b[0m \u001b[0;34m+\u001b[0m             \u001b[0mlmbda_coord\u001b[0m \u001b[0;34m*\u001b[0m \u001b[0mT\u001b[0m\u001b[0;34m.\u001b[0m\u001b[0msum\u001b[0m\u001b[0;34m(\u001b[0m\u001b[0;34m(\u001b[0m\u001b[0mpred_y\u001b[0m\u001b[0;34m[\u001b[0m\u001b[0mis_max\u001b[0m\u001b[0;34m.\u001b[0m\u001b[0mnonzero\u001b[0m\u001b[0;34m(\u001b[0m\u001b[0;34m)\u001b[0m\u001b[0;34m]\u001b[0m\u001b[0;34m.\u001b[0m\u001b[0mreshape\u001b[0m\u001b[0;34m(\u001b[0m\u001b[0;34m(\u001b[0m\u001b[0mtruth\u001b[0m\u001b[0;34m.\u001b[0m\u001b[0mshape\u001b[0m\u001b[0;34m[\u001b[0m\u001b[0;36m0\u001b[0m\u001b[0;34m]\u001b[0m\u001b[0;34m,\u001b[0m\u001b[0;34m-\u001b[0m\u001b[0;36m1\u001b[0m\u001b[0;34m)\u001b[0m\u001b[0;34m)\u001b[0m \u001b[0;34m-\u001b[0m \u001b[0mtruth\u001b[0m\u001b[0;34m[\u001b[0m\u001b[0;34m:\u001b[0m\u001b[0;34m,\u001b[0m\u001b[0;34m[\u001b[0m\u001b[0;36m1\u001b[0m\u001b[0;34m]\u001b[0m\u001b[0;34m]\u001b[0m\u001b[0;34m)\u001b[0m\u001b[0;34m**\u001b[0m\u001b[0;36m2\u001b[0m\u001b[0;34m)\u001b[0m \u001b[0;34m+\u001b[0m             \u001b[0mlmbda_coord\u001b[0m \u001b[0;34m*\u001b[0m \u001b[0mT\u001b[0m\u001b[0;34m.\u001b[0m\u001b[0msum\u001b[0m\u001b[0;34m(\u001b[0m\u001b[0;34m(\u001b[0m\u001b[0mpred_w\u001b[0m\u001b[0;34m[\u001b[0m\u001b[0mis_max\u001b[0m\u001b[0;34m.\u001b[0m\u001b[0mnonzero\u001b[0m\u001b[0;34m(\u001b[0m\u001b[0;34m)\u001b[0m\u001b[0;34m]\u001b[0m\u001b[0;34m.\u001b[0m\u001b[0mreshape\u001b[0m\u001b[0;34m(\u001b[0m\u001b[0;34m(\u001b[0m\u001b[0mtruth\u001b[0m\u001b[0;34m.\u001b[0m\u001b[0mshape\u001b[0m\u001b[0;34m[\u001b[0m\u001b[0;36m0\u001b[0m\u001b[0;34m]\u001b[0m\u001b[0;34m,\u001b[0m\u001b[0;34m-\u001b[0m\u001b[0;36m1\u001b[0m\u001b[0;34m)\u001b[0m\u001b[0;34m)\u001b[0m\u001b[0;34m.\u001b[0m\u001b[0msqrt\u001b[0m\u001b[0;34m(\u001b[0m\u001b[0;34m)\u001b[0m \u001b[0;34m-\u001b[0m \u001b[0mtruth\u001b[0m\u001b[0;34m[\u001b[0m\u001b[0;34m:\u001b[0m\u001b[0;34m,\u001b[0m\u001b[0;34m[\u001b[0m\u001b[0;36m2\u001b[0m\u001b[0;34m]\u001b[0m\u001b[0;34m]\u001b[0m\u001b[0;34m.\u001b[0m\u001b[0msqrt\u001b[0m\u001b[0;34m(\u001b[0m\u001b[0;34m)\u001b[0m\u001b[0;34m)\u001b[0m\u001b[0;34m**\u001b[0m\u001b[0;36m2\u001b[0m\u001b[0;34m)\u001b[0m \u001b[0;34m+\u001b[0m             \u001b[0mlmbda_coord\u001b[0m \u001b[0;34m*\u001b[0m \u001b[0mT\u001b[0m\u001b[0;34m.\u001b[0m\u001b[0msum\u001b[0m\u001b[0;34m(\u001b[0m\u001b[0;34m(\u001b[0m\u001b[0mpred_h\u001b[0m\u001b[0;34m[\u001b[0m\u001b[0mis_max\u001b[0m\u001b[0;34m.\u001b[0m\u001b[0mnonzero\u001b[0m\u001b[0;34m(\u001b[0m\u001b[0;34m)\u001b[0m\u001b[0;34m]\u001b[0m\u001b[0;34m.\u001b[0m\u001b[0mreshape\u001b[0m\u001b[0;34m(\u001b[0m\u001b[0;34m(\u001b[0m\u001b[0mtruth\u001b[0m\u001b[0;34m.\u001b[0m\u001b[0mshape\u001b[0m\u001b[0;34m[\u001b[0m\u001b[0;36m0\u001b[0m\u001b[0;34m]\u001b[0m\u001b[0;34m,\u001b[0m\u001b[0;34m-\u001b[0m\u001b[0;36m1\u001b[0m\u001b[0;34m)\u001b[0m\u001b[0;34m)\u001b[0m\u001b[0;34m.\u001b[0m\u001b[0msqrt\u001b[0m\u001b[0;34m(\u001b[0m\u001b[0;34m)\u001b[0m \u001b[0;34m-\u001b[0m \u001b[0mtruth\u001b[0m\u001b[0;34m[\u001b[0m\u001b[0;34m:\u001b[0m\u001b[0;34m,\u001b[0m\u001b[0;34m[\u001b[0m\u001b[0;36m3\u001b[0m\u001b[0;34m]\u001b[0m\u001b[0;34m]\u001b[0m\u001b[0;34m.\u001b[0m\u001b[0msqrt\u001b[0m\u001b[0;34m(\u001b[0m\u001b[0;34m)\u001b[0m\u001b[0;34m)\u001b[0m\u001b[0;34m**\u001b[0m\u001b[0;36m2\u001b[0m\u001b[0;34m)\u001b[0m \u001b[0;34m+\u001b[0m             \u001b[0mT\u001b[0m\u001b[0;34m.\u001b[0m\u001b[0msum\u001b[0m\u001b[0;34m(\u001b[0m\u001b[0;34m(\u001b[0m\u001b[0moutput\u001b[0m\u001b[0;34m[\u001b[0m\u001b[0;34m:\u001b[0m\u001b[0;34m,\u001b[0m\u001b[0;34m-\u001b[0m\u001b[0mC\u001b[0m\u001b[0;34m:\u001b[0m\u001b[0;34m]\u001b[0m\u001b[0;34m[\u001b[0m\u001b[0mis_inter\u001b[0m\u001b[0;34m.\u001b[0m\u001b[0mnonzero\u001b[0m\u001b[0;34m(\u001b[0m\u001b[0;34m)\u001b[0m\u001b[0;34m]\u001b[0m \u001b[0;34m-\u001b[0m \u001b[0mclspred_truth\u001b[0m\u001b[0;34m[\u001b[0m\u001b[0mis_inter\u001b[0m\u001b[0;34m.\u001b[0m\u001b[0mnonzero\u001b[0m\u001b[0;34m(\u001b[0m\u001b[0;34m)\u001b[0m\u001b[0;34m]\u001b[0m\u001b[0;34m)\u001b[0m\u001b[0;34m**\u001b[0m\u001b[0;36m2\u001b[0m\u001b[0;34m)\u001b[0m\u001b[0;34m\u001b[0m\u001b[0m\n\u001b[1;32m     70\u001b[0m \u001b[0;34m\u001b[0m\u001b[0m\n\u001b[0;32m---> 71\u001b[0;31m         \u001b[0;32mreturn\u001b[0m \u001b[0mcost\u001b[0m\u001b[0;34m\u001b[0m\u001b[0m\n\u001b[0m",
      "\u001b[0;32m<ipython-input-51-d336b399fb90>\u001b[0m in \u001b[0;36mget_cost_optim\u001b[0;34m(self, output, truth, S, B, C, lmbda_coord, lmbda_noobj, iou_thresh)\u001b[0m\n\u001b[1;32m     69\u001b[0m         \u001b[0mcost\u001b[0m \u001b[0;34m=\u001b[0m \u001b[0mT\u001b[0m\u001b[0;34m.\u001b[0m\u001b[0msum\u001b[0m\u001b[0;34m(\u001b[0m\u001b[0;34m(\u001b[0m\u001b[0mpred_conf\u001b[0m \u001b[0;34m-\u001b[0m \u001b[0miou\u001b[0m\u001b[0;34m)\u001b[0m\u001b[0;34m[\u001b[0m\u001b[0mis_max\u001b[0m\u001b[0;34m.\u001b[0m\u001b[0mnonzero\u001b[0m\u001b[0;34m(\u001b[0m\u001b[0;34m)\u001b[0m\u001b[0;34m]\u001b[0m\u001b[0;34m**\u001b[0m\u001b[0;36m2\u001b[0m\u001b[0;34m)\u001b[0m \u001b[0;34m+\u001b[0m             \u001b[0mlmbda_noobj\u001b[0m \u001b[0;34m*\u001b[0m \u001b[0mT\u001b[0m\u001b[0;34m.\u001b[0m\u001b[0msum\u001b[0m\u001b[0;34m(\u001b[0m\u001b[0;34m(\u001b[0m\u001b[0mpred_conf\u001b[0m\u001b[0;34m[\u001b[0m\u001b[0mis_not_max\u001b[0m\u001b[0;34m.\u001b[0m\u001b[0mnonzero\u001b[0m\u001b[0;34m(\u001b[0m\u001b[0;34m)\u001b[0m\u001b[0;34m]\u001b[0m\u001b[0;34m)\u001b[0m\u001b[0;34m**\u001b[0m\u001b[0;36m2\u001b[0m\u001b[0;34m)\u001b[0m \u001b[0;34m+\u001b[0m             \u001b[0mlmbda_coord\u001b[0m \u001b[0;34m*\u001b[0m \u001b[0mT\u001b[0m\u001b[0;34m.\u001b[0m\u001b[0msum\u001b[0m\u001b[0;34m(\u001b[0m\u001b[0;34m(\u001b[0m\u001b[0mpred_x\u001b[0m\u001b[0;34m[\u001b[0m\u001b[0mis_max\u001b[0m\u001b[0;34m.\u001b[0m\u001b[0mnonzero\u001b[0m\u001b[0;34m(\u001b[0m\u001b[0;34m)\u001b[0m\u001b[0;34m]\u001b[0m\u001b[0;34m.\u001b[0m\u001b[0mreshape\u001b[0m\u001b[0;34m(\u001b[0m\u001b[0;34m(\u001b[0m\u001b[0mtruth\u001b[0m\u001b[0;34m.\u001b[0m\u001b[0mshape\u001b[0m\u001b[0;34m[\u001b[0m\u001b[0;36m0\u001b[0m\u001b[0;34m]\u001b[0m\u001b[0;34m,\u001b[0m\u001b[0;34m-\u001b[0m\u001b[0;36m1\u001b[0m\u001b[0;34m)\u001b[0m\u001b[0;34m)\u001b[0m \u001b[0;34m-\u001b[0m \u001b[0mtruth\u001b[0m\u001b[0;34m[\u001b[0m\u001b[0;34m:\u001b[0m\u001b[0;34m,\u001b[0m\u001b[0;34m[\u001b[0m\u001b[0;36m0\u001b[0m\u001b[0;34m]\u001b[0m\u001b[0;34m]\u001b[0m\u001b[0;34m)\u001b[0m\u001b[0;34m**\u001b[0m\u001b[0;36m2\u001b[0m\u001b[0;34m)\u001b[0m \u001b[0;34m+\u001b[0m             \u001b[0mlmbda_coord\u001b[0m \u001b[0;34m*\u001b[0m \u001b[0mT\u001b[0m\u001b[0;34m.\u001b[0m\u001b[0msum\u001b[0m\u001b[0;34m(\u001b[0m\u001b[0;34m(\u001b[0m\u001b[0mpred_y\u001b[0m\u001b[0;34m[\u001b[0m\u001b[0mis_max\u001b[0m\u001b[0;34m.\u001b[0m\u001b[0mnonzero\u001b[0m\u001b[0;34m(\u001b[0m\u001b[0;34m)\u001b[0m\u001b[0;34m]\u001b[0m\u001b[0;34m.\u001b[0m\u001b[0mreshape\u001b[0m\u001b[0;34m(\u001b[0m\u001b[0;34m(\u001b[0m\u001b[0mtruth\u001b[0m\u001b[0;34m.\u001b[0m\u001b[0mshape\u001b[0m\u001b[0;34m[\u001b[0m\u001b[0;36m0\u001b[0m\u001b[0;34m]\u001b[0m\u001b[0;34m,\u001b[0m\u001b[0;34m-\u001b[0m\u001b[0;36m1\u001b[0m\u001b[0;34m)\u001b[0m\u001b[0;34m)\u001b[0m \u001b[0;34m-\u001b[0m \u001b[0mtruth\u001b[0m\u001b[0;34m[\u001b[0m\u001b[0;34m:\u001b[0m\u001b[0;34m,\u001b[0m\u001b[0;34m[\u001b[0m\u001b[0;36m1\u001b[0m\u001b[0;34m]\u001b[0m\u001b[0;34m]\u001b[0m\u001b[0;34m)\u001b[0m\u001b[0;34m**\u001b[0m\u001b[0;36m2\u001b[0m\u001b[0;34m)\u001b[0m \u001b[0;34m+\u001b[0m             \u001b[0mlmbda_coord\u001b[0m \u001b[0;34m*\u001b[0m \u001b[0mT\u001b[0m\u001b[0;34m.\u001b[0m\u001b[0msum\u001b[0m\u001b[0;34m(\u001b[0m\u001b[0;34m(\u001b[0m\u001b[0mpred_w\u001b[0m\u001b[0;34m[\u001b[0m\u001b[0mis_max\u001b[0m\u001b[0;34m.\u001b[0m\u001b[0mnonzero\u001b[0m\u001b[0;34m(\u001b[0m\u001b[0;34m)\u001b[0m\u001b[0;34m]\u001b[0m\u001b[0;34m.\u001b[0m\u001b[0mreshape\u001b[0m\u001b[0;34m(\u001b[0m\u001b[0;34m(\u001b[0m\u001b[0mtruth\u001b[0m\u001b[0;34m.\u001b[0m\u001b[0mshape\u001b[0m\u001b[0;34m[\u001b[0m\u001b[0;36m0\u001b[0m\u001b[0;34m]\u001b[0m\u001b[0;34m,\u001b[0m\u001b[0;34m-\u001b[0m\u001b[0;36m1\u001b[0m\u001b[0;34m)\u001b[0m\u001b[0;34m)\u001b[0m\u001b[0;34m.\u001b[0m\u001b[0msqrt\u001b[0m\u001b[0;34m(\u001b[0m\u001b[0;34m)\u001b[0m \u001b[0;34m-\u001b[0m \u001b[0mtruth\u001b[0m\u001b[0;34m[\u001b[0m\u001b[0;34m:\u001b[0m\u001b[0;34m,\u001b[0m\u001b[0;34m[\u001b[0m\u001b[0;36m2\u001b[0m\u001b[0;34m]\u001b[0m\u001b[0;34m]\u001b[0m\u001b[0;34m.\u001b[0m\u001b[0msqrt\u001b[0m\u001b[0;34m(\u001b[0m\u001b[0;34m)\u001b[0m\u001b[0;34m)\u001b[0m\u001b[0;34m**\u001b[0m\u001b[0;36m2\u001b[0m\u001b[0;34m)\u001b[0m \u001b[0;34m+\u001b[0m             \u001b[0mlmbda_coord\u001b[0m \u001b[0;34m*\u001b[0m \u001b[0mT\u001b[0m\u001b[0;34m.\u001b[0m\u001b[0msum\u001b[0m\u001b[0;34m(\u001b[0m\u001b[0;34m(\u001b[0m\u001b[0mpred_h\u001b[0m\u001b[0;34m[\u001b[0m\u001b[0mis_max\u001b[0m\u001b[0;34m.\u001b[0m\u001b[0mnonzero\u001b[0m\u001b[0;34m(\u001b[0m\u001b[0;34m)\u001b[0m\u001b[0;34m]\u001b[0m\u001b[0;34m.\u001b[0m\u001b[0mreshape\u001b[0m\u001b[0;34m(\u001b[0m\u001b[0;34m(\u001b[0m\u001b[0mtruth\u001b[0m\u001b[0;34m.\u001b[0m\u001b[0mshape\u001b[0m\u001b[0;34m[\u001b[0m\u001b[0;36m0\u001b[0m\u001b[0;34m]\u001b[0m\u001b[0;34m,\u001b[0m\u001b[0;34m-\u001b[0m\u001b[0;36m1\u001b[0m\u001b[0;34m)\u001b[0m\u001b[0;34m)\u001b[0m\u001b[0;34m.\u001b[0m\u001b[0msqrt\u001b[0m\u001b[0;34m(\u001b[0m\u001b[0;34m)\u001b[0m \u001b[0;34m-\u001b[0m \u001b[0mtruth\u001b[0m\u001b[0;34m[\u001b[0m\u001b[0;34m:\u001b[0m\u001b[0;34m,\u001b[0m\u001b[0;34m[\u001b[0m\u001b[0;36m3\u001b[0m\u001b[0;34m]\u001b[0m\u001b[0;34m]\u001b[0m\u001b[0;34m.\u001b[0m\u001b[0msqrt\u001b[0m\u001b[0;34m(\u001b[0m\u001b[0;34m)\u001b[0m\u001b[0;34m)\u001b[0m\u001b[0;34m**\u001b[0m\u001b[0;36m2\u001b[0m\u001b[0;34m)\u001b[0m \u001b[0;34m+\u001b[0m             \u001b[0mT\u001b[0m\u001b[0;34m.\u001b[0m\u001b[0msum\u001b[0m\u001b[0;34m(\u001b[0m\u001b[0;34m(\u001b[0m\u001b[0moutput\u001b[0m\u001b[0;34m[\u001b[0m\u001b[0;34m:\u001b[0m\u001b[0;34m,\u001b[0m\u001b[0;34m-\u001b[0m\u001b[0mC\u001b[0m\u001b[0;34m:\u001b[0m\u001b[0;34m]\u001b[0m\u001b[0;34m[\u001b[0m\u001b[0mis_inter\u001b[0m\u001b[0;34m.\u001b[0m\u001b[0mnonzero\u001b[0m\u001b[0;34m(\u001b[0m\u001b[0;34m)\u001b[0m\u001b[0;34m]\u001b[0m \u001b[0;34m-\u001b[0m \u001b[0mclspred_truth\u001b[0m\u001b[0;34m[\u001b[0m\u001b[0mis_inter\u001b[0m\u001b[0;34m.\u001b[0m\u001b[0mnonzero\u001b[0m\u001b[0;34m(\u001b[0m\u001b[0;34m)\u001b[0m\u001b[0;34m]\u001b[0m\u001b[0;34m)\u001b[0m\u001b[0;34m**\u001b[0m\u001b[0;36m2\u001b[0m\u001b[0;34m)\u001b[0m\u001b[0;34m\u001b[0m\u001b[0m\n\u001b[1;32m     70\u001b[0m \u001b[0;34m\u001b[0m\u001b[0m\n\u001b[0;32m---> 71\u001b[0;31m         \u001b[0;32mreturn\u001b[0m \u001b[0mcost\u001b[0m\u001b[0;34m\u001b[0m\u001b[0m\n\u001b[0m",
      "\u001b[0;32m/Users/colingaudreau/anaconda2/lib/python2.7/bdb.pyc\u001b[0m in \u001b[0;36mtrace_dispatch\u001b[0;34m(self, frame, event, arg)\u001b[0m\n\u001b[1;32m     47\u001b[0m             \u001b[0;32mreturn\u001b[0m \u001b[0;31m# None\u001b[0m\u001b[0;34m\u001b[0m\u001b[0m\n\u001b[1;32m     48\u001b[0m         \u001b[0;32mif\u001b[0m \u001b[0mevent\u001b[0m \u001b[0;34m==\u001b[0m \u001b[0;34m'line'\u001b[0m\u001b[0;34m:\u001b[0m\u001b[0;34m\u001b[0m\u001b[0m\n\u001b[0;32m---> 49\u001b[0;31m             \u001b[0;32mreturn\u001b[0m \u001b[0mself\u001b[0m\u001b[0;34m.\u001b[0m\u001b[0mdispatch_line\u001b[0m\u001b[0;34m(\u001b[0m\u001b[0mframe\u001b[0m\u001b[0;34m)\u001b[0m\u001b[0;34m\u001b[0m\u001b[0m\n\u001b[0m\u001b[1;32m     50\u001b[0m         \u001b[0;32mif\u001b[0m \u001b[0mevent\u001b[0m \u001b[0;34m==\u001b[0m \u001b[0;34m'call'\u001b[0m\u001b[0;34m:\u001b[0m\u001b[0;34m\u001b[0m\u001b[0m\n\u001b[1;32m     51\u001b[0m             \u001b[0;32mreturn\u001b[0m \u001b[0mself\u001b[0m\u001b[0;34m.\u001b[0m\u001b[0mdispatch_call\u001b[0m\u001b[0;34m(\u001b[0m\u001b[0mframe\u001b[0m\u001b[0;34m,\u001b[0m \u001b[0marg\u001b[0m\u001b[0;34m)\u001b[0m\u001b[0;34m\u001b[0m\u001b[0m\n",
      "\u001b[0;32m/Users/colingaudreau/anaconda2/lib/python2.7/bdb.pyc\u001b[0m in \u001b[0;36mdispatch_line\u001b[0;34m(self, frame)\u001b[0m\n\u001b[1;32m     66\u001b[0m         \u001b[0;32mif\u001b[0m \u001b[0mself\u001b[0m\u001b[0;34m.\u001b[0m\u001b[0mstop_here\u001b[0m\u001b[0;34m(\u001b[0m\u001b[0mframe\u001b[0m\u001b[0;34m)\u001b[0m \u001b[0;32mor\u001b[0m \u001b[0mself\u001b[0m\u001b[0;34m.\u001b[0m\u001b[0mbreak_here\u001b[0m\u001b[0;34m(\u001b[0m\u001b[0mframe\u001b[0m\u001b[0;34m)\u001b[0m\u001b[0;34m:\u001b[0m\u001b[0;34m\u001b[0m\u001b[0m\n\u001b[1;32m     67\u001b[0m             \u001b[0mself\u001b[0m\u001b[0;34m.\u001b[0m\u001b[0muser_line\u001b[0m\u001b[0;34m(\u001b[0m\u001b[0mframe\u001b[0m\u001b[0;34m)\u001b[0m\u001b[0;34m\u001b[0m\u001b[0m\n\u001b[0;32m---> 68\u001b[0;31m             \u001b[0;32mif\u001b[0m \u001b[0mself\u001b[0m\u001b[0;34m.\u001b[0m\u001b[0mquitting\u001b[0m\u001b[0;34m:\u001b[0m \u001b[0;32mraise\u001b[0m \u001b[0mBdbQuit\u001b[0m\u001b[0;34m\u001b[0m\u001b[0m\n\u001b[0m\u001b[1;32m     69\u001b[0m         \u001b[0;32mreturn\u001b[0m \u001b[0mself\u001b[0m\u001b[0;34m.\u001b[0m\u001b[0mtrace_dispatch\u001b[0m\u001b[0;34m\u001b[0m\u001b[0m\n\u001b[1;32m     70\u001b[0m \u001b[0;34m\u001b[0m\u001b[0m\n",
      "\u001b[0;31mBdbQuit\u001b[0m: "
     ]
    }
   ],
   "source": [
    "fn = theano.function([yl.input, target], get_cost_optim(yl, yl.output_test, target, S, B, C), allow_input_downcast=True)"
   ]
  },
  {
   "cell_type": "code",
   "execution_count": 13,
   "metadata": {
    "collapsed": true
   },
   "outputs": [],
   "source": [
    "fn2 = theano.function([art_output, target], get_cost_optim(yl, art_output, target, S, B, C), allow_input_downcast=True)"
   ]
  },
  {
   "cell_type": "code",
   "execution_count": null,
   "metadata": {
    "collapsed": true
   },
   "outputs": [],
   "source": [
    "art_output = iput"
   ]
  },
  {
   "cell_type": "code",
   "execution_count": 37,
   "metadata": {
    "collapsed": false
   },
   "outputs": [
    {
     "data": {
      "text/plain": [
       "array(nan, dtype=float32)"
      ]
     },
     "execution_count": 37,
     "metadata": {},
     "output_type": "execute_result"
    }
   ],
   "source": [
    "fn(iput, truth)"
   ]
  },
  {
   "cell_type": "code",
   "execution_count": 1100,
   "metadata": {
    "collapsed": false
   },
   "outputs": [
    {
     "data": {
      "text/plain": [
       "397.55323884495863"
      ]
     },
     "execution_count": 1100,
     "metadata": {},
     "output_type": "execute_result"
    }
   ],
   "source": [
    "manual_cost(out_fn(iput)[0], truth[0], C, S, B)"
   ]
  },
  {
   "cell_type": "code",
   "execution_count": 1122,
   "metadata": {
    "collapsed": false
   },
   "outputs": [],
   "source": [
    "# Create artificially correct answer\n",
    "truth = np.random.rand(1, 4 + C)\n",
    "true_column = np.concatenate((truth[[0],:4], [[1.]], [[0.,0.,.0,.0]], [[0.]], truth[[0],-C:]), axis=1).reshape((1,5*B + C, 1, 1))\n",
    "true_column = np.repeat(true_column, S[0], axis=2)\n",
    "true_column = np.repeat(true_column, S[1], axis=3)\n",
    "\n",
    "offset_x, offset_y = np.meshgrid(np.arange(0.,1.,1./9), np.arange(0.,1.,1./9))\n",
    "true_column[:,[0,5]] -= offset_x.reshape((-1,1,9,9))\n",
    "true_column[:,[1,6]] -= offset_y.reshape((-1,1,9,9))"
   ]
  },
  {
   "cell_type": "code",
   "execution_count": 1123,
   "metadata": {
    "collapsed": false
   },
   "outputs": [
    {
     "data": {
      "text/plain": [
       "array(1.4151879668133915e-10, dtype=float32)"
      ]
     },
     "execution_count": 1123,
     "metadata": {},
     "output_type": "execute_result"
    }
   ],
   "source": [
    "fn2(true_column, truth)"
   ]
  },
  {
   "cell_type": "code",
   "execution_count": 1124,
   "metadata": {
    "collapsed": false
   },
   "outputs": [
    {
     "data": {
      "text/plain": [
       "0.0"
      ]
     },
     "execution_count": 1124,
     "metadata": {},
     "output_type": "execute_result"
    }
   ],
   "source": [
    "manual_cost(true_column[0], truth[0], C, S, B)"
   ]
  },
  {
   "cell_type": "code",
   "execution_count": null,
   "metadata": {
    "collapsed": true
   },
   "outputs": [],
   "source": []
  }
 ],
 "metadata": {
  "anaconda-cloud": {},
  "kernelspec": {
   "display_name": "Python [Root]",
   "language": "python",
   "name": "Python [Root]"
  },
  "language_info": {
   "codemirror_mode": {
    "name": "ipython",
    "version": 2
   },
   "file_extension": ".py",
   "mimetype": "text/x-python",
   "name": "python",
   "nbconvert_exporter": "python",
   "pygments_lexer": "ipython2",
   "version": "2.7.12"
  }
 },
 "nbformat": 4,
 "nbformat_minor": 0
}
