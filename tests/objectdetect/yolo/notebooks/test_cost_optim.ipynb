{
 "cells": [
  {
   "cell_type": "markdown",
   "metadata": {},
   "source": [
    "<p style=\"font-size:14pt; font-weight:bold;\">Test the theano optimized version of the cost function for the yolo cost"
   ]
  },
  {
   "cell_type": "code",
   "execution_count": 1,
   "metadata": {
    "collapsed": false
   },
   "outputs": [
    {
     "name": "stderr",
     "output_type": "stream",
     "text": [
      "/Users/colingaudreau/anaconda2/lib/python2.7/site-packages/matplotlib/font_manager.py:273: UserWarning: Matplotlib is building the font cache using fc-list. This may take a moment.\n",
      "  warnings.warn('Matplotlib is building the font cache using fc-list. This may take a moment.')\n",
      "Using gpu device 0: GeForce GTX 960 (CNMeM is enabled with initial size: 80.0% of memory, cuDNN not available)\n",
      "/Library/Python/2.7/site-packages/theano/tensor/signal/downsample.py:6: UserWarning: downsample module has been moved to the theano.tensor.signal.pool module.\n",
      "  \"downsample module has been moved to the theano.tensor.signal.pool module.\")\n"
     ]
    }
   ],
   "source": [
    "%matplotlib inline\n",
    "from matplotlib import pyplot as plt\n",
    "import numpy as np\n",
    "import theano\n",
    "from theano import tensor as T\n",
    "import pickle as pk\n",
    "import re\n",
    "from copy import deepcopy\n",
    "import sys\n",
    "\n",
    "# image processing\n",
    "from skimage.io import imread\n",
    "from skimage.transform import resize\n",
    "\n",
    "import lasagne\n",
    "from lasagne.layers import Pool2DLayer, Conv2DLayer, dropout, \\\n",
    "    DenseLayer, InputLayer, get_output, get_all_params\n",
    "    \n",
    "import bnr_ml.objectdetect.yolo as yolo\n",
    "from bnr_ml.utils.helpers import meshgrid2D, softmax, bitwise_not\n",
    "\n",
    "import pdb"
   ]
  },
  {
   "cell_type": "code",
   "execution_count": 2,
   "metadata": {
    "collapsed": false
   },
   "outputs": [
    {
     "data": {
      "text/plain": [
       "<module 'bnr_ml.objectdetect.yolo' from '/usr/local/python/bnr_ml/objectdetect/yolo.pyc'>"
      ]
     },
     "execution_count": 2,
     "metadata": {},
     "output_type": "execute_result"
    }
   ],
   "source": [
    "reload(yolo)"
   ]
  },
  {
   "cell_type": "code",
   "execution_count": 3,
   "metadata": {
    "collapsed": true
   },
   "outputs": [],
   "source": [
    "S = (6,6)\n",
    "B = 2\n",
    "C = 4"
   ]
  },
  {
   "cell_type": "code",
   "execution_count": 4,
   "metadata": {
    "collapsed": false
   },
   "outputs": [],
   "source": [
    "N = 100\n",
    "input = 1000*np.random.randn(N,3,200,200).astype(np.float32)\n",
    "output = np.random.rand(N,B*5 + C, S[0], S[1]).astype(np.float32)\n",
    "truth = np.random.rand(N,4 + C).astype(np.float32)"
   ]
  },
  {
   "cell_type": "code",
   "execution_count": 4,
   "metadata": {
    "collapsed": false
   },
   "outputs": [
    {
     "ename": "MemoryError",
     "evalue": "('Error allocating 48000000 bytes of device memory (CNMEM_STATUS_OUT_OF_MEMORY).', \"you might consider using 'theano.shared(..., borrow=True)'\")",
     "output_type": "error",
     "traceback": [
      "\u001b[0;31m---------------------------------------------------------------------------\u001b[0m",
      "\u001b[0;31mMemoryError\u001b[0m                               Traceback (most recent call last)",
      "\u001b[0;32m<ipython-input-4-fa5b122463fc>\u001b[0m in \u001b[0;36m<module>\u001b[0;34m()\u001b[0m\n\u001b[0;32m----> 1\u001b[0;31m \u001b[0minput\u001b[0m \u001b[0;34m=\u001b[0m \u001b[0mtheano\u001b[0m\u001b[0;34m.\u001b[0m\u001b[0mshared\u001b[0m\u001b[0;34m(\u001b[0m\u001b[0minput\u001b[0m\u001b[0;34m)\u001b[0m\u001b[0;34m\u001b[0m\u001b[0m\n\u001b[0m\u001b[1;32m      2\u001b[0m \u001b[0mtruth\u001b[0m \u001b[0;34m=\u001b[0m \u001b[0mtheano\u001b[0m\u001b[0;34m.\u001b[0m\u001b[0mshared\u001b[0m\u001b[0;34m(\u001b[0m\u001b[0mtruth\u001b[0m\u001b[0;34m)\u001b[0m\u001b[0;34m\u001b[0m\u001b[0m\n",
      "\u001b[0;32m/Library/Python/2.7/site-packages/theano/compile/sharedvalue.pyc\u001b[0m in \u001b[0;36mshared\u001b[0;34m(value, name, strict, allow_downcast, **kwargs)\u001b[0m\n\u001b[1;32m    245\u001b[0m             \u001b[0;32mtry\u001b[0m\u001b[0;34m:\u001b[0m\u001b[0;34m\u001b[0m\u001b[0m\n\u001b[1;32m    246\u001b[0m                 var = ctor(value, name=name, strict=strict,\n\u001b[0;32m--> 247\u001b[0;31m                            allow_downcast=allow_downcast, **kwargs)\n\u001b[0m\u001b[1;32m    248\u001b[0m                 \u001b[0mutils\u001b[0m\u001b[0;34m.\u001b[0m\u001b[0madd_tag_trace\u001b[0m\u001b[0;34m(\u001b[0m\u001b[0mvar\u001b[0m\u001b[0;34m)\u001b[0m\u001b[0;34m\u001b[0m\u001b[0m\n\u001b[1;32m    249\u001b[0m                 \u001b[0;32mreturn\u001b[0m \u001b[0mvar\u001b[0m\u001b[0;34m\u001b[0m\u001b[0m\n",
      "\u001b[0;32m/Library/Python/2.7/site-packages/theano/sandbox/cuda/var.pyc\u001b[0m in \u001b[0;36mfloat32_shared_constructor\u001b[0;34m(value, name, strict, allow_downcast, borrow, broadcastable, target)\u001b[0m\n\u001b[1;32m    238\u001b[0m         \u001b[0;31m# type.broadcastable is guaranteed to be a tuple, which this next\u001b[0m\u001b[0;34m\u001b[0m\u001b[0;34m\u001b[0m\u001b[0m\n\u001b[1;32m    239\u001b[0m         \u001b[0;31m# function requires\u001b[0m\u001b[0;34m\u001b[0m\u001b[0;34m\u001b[0m\u001b[0m\n\u001b[0;32m--> 240\u001b[0;31m         \u001b[0mdeviceval\u001b[0m \u001b[0;34m=\u001b[0m \u001b[0mtype_support_filter\u001b[0m\u001b[0;34m(\u001b[0m\u001b[0mvalue\u001b[0m\u001b[0;34m,\u001b[0m \u001b[0mtype\u001b[0m\u001b[0;34m.\u001b[0m\u001b[0mbroadcastable\u001b[0m\u001b[0;34m,\u001b[0m \u001b[0mFalse\u001b[0m\u001b[0;34m,\u001b[0m \u001b[0mNone\u001b[0m\u001b[0;34m)\u001b[0m\u001b[0;34m\u001b[0m\u001b[0m\n\u001b[0m\u001b[1;32m    241\u001b[0m \u001b[0;34m\u001b[0m\u001b[0m\n\u001b[1;32m    242\u001b[0m     \u001b[0;32mtry\u001b[0m\u001b[0;34m:\u001b[0m\u001b[0;34m\u001b[0m\u001b[0m\n",
      "\u001b[0;31mMemoryError\u001b[0m: ('Error allocating 48000000 bytes of device memory (CNMEM_STATUS_OUT_OF_MEMORY).', \"you might consider using 'theano.shared(..., borrow=True)'\")"
     ]
    }
   ],
   "source": [
    "input = theano.shared(input)\n",
    "truth = theano.shared(truth)"
   ]
  },
  {
   "cell_type": "code",
   "execution_count": 5,
   "metadata": {
    "collapsed": false
   },
   "outputs": [],
   "source": [
    "net = {}\n",
    "net['input'] = InputLayer((None,3,200,200))\n",
    "net['conv1'] = Conv2DLayer(net['input'], 16, (3,3))\n",
    "net['conv2'] = Conv2DLayer(net['conv1'], 16, (3,3))\n",
    "net['pool1'] = Pool2DLayer(net['conv2'], (2,2))\n",
    "net['conv3'] = Conv2DLayer(net['pool1'], 32, (3,3))\n",
    "net['conv4'] = Conv2DLayer(net['conv3'], 32, (3,3))\n",
    "net['pool2'] = Pool2DLayer(net['conv4'], (2,2))\n",
    "net['conv5'] = Conv2DLayer(net['pool2'], 64, (3,3))\n",
    "net['conv6'] = Conv2DLayer(net['conv5'], 64, (3,3))\n",
    "net['pool3'] = Pool2DLayer(net['conv6'], (2,2))\n",
    "net['conv7'] = Conv2DLayer(net['pool3'], 64, (3,3))\n",
    "net['conv8'] = Conv2DLayer(net['conv7'], 64, (3,3))\n",
    "net['pool4'] = Pool2DLayer(net['conv8'], (2,2))\n",
    "net['dense1'] = DenseLayer(dropout(net['pool4'], p=.8), 1000)\n",
    "net['dense2'] = DenseLayer(dropout(net['dense1'], p=.8), 1000)\n",
    "net['output'] = DenseLayer(dropout(net['dense2'], p=.5), 5, nonlinearity=lasagne.nonlinearities.softmax)"
   ]
  },
  {
   "cell_type": "code",
   "execution_count": 5,
   "metadata": {
    "collapsed": false
   },
   "outputs": [
    {
     "ename": "NameError",
     "evalue": "name 'net' is not defined",
     "output_type": "error",
     "traceback": [
      "\u001b[0;31m---------------------------------------------------------------------------\u001b[0m",
      "\u001b[0;31mNameError\u001b[0m                                 Traceback (most recent call last)",
      "\u001b[0;32m<ipython-input-5-9e84471b2abf>\u001b[0m in \u001b[0;36m<module>\u001b[0;34m()\u001b[0m\n\u001b[1;32m      1\u001b[0m \u001b[0;32mwith\u001b[0m \u001b[0mopen\u001b[0m\u001b[0;34m(\u001b[0m\u001b[0;34m'pretrained_weights.pkl'\u001b[0m\u001b[0;34m,\u001b[0m \u001b[0;34m'rb'\u001b[0m\u001b[0;34m)\u001b[0m \u001b[0;32mas\u001b[0m \u001b[0mf\u001b[0m\u001b[0;34m:\u001b[0m\u001b[0;34m\u001b[0m\u001b[0m\n\u001b[1;32m      2\u001b[0m     \u001b[0mweights\u001b[0m \u001b[0;34m=\u001b[0m \u001b[0mpk\u001b[0m\u001b[0;34m.\u001b[0m\u001b[0mload\u001b[0m\u001b[0;34m(\u001b[0m\u001b[0mf\u001b[0m\u001b[0;34m)\u001b[0m\u001b[0;34m\u001b[0m\u001b[0m\n\u001b[0;32m----> 3\u001b[0;31m     \u001b[0mlasagne\u001b[0m\u001b[0;34m.\u001b[0m\u001b[0mlayers\u001b[0m\u001b[0;34m.\u001b[0m\u001b[0mset_all_param_values\u001b[0m\u001b[0;34m(\u001b[0m\u001b[0mnet\u001b[0m\u001b[0;34m[\u001b[0m\u001b[0;34m'output'\u001b[0m\u001b[0;34m]\u001b[0m\u001b[0;34m,\u001b[0m \u001b[0mweights\u001b[0m\u001b[0;34m)\u001b[0m\u001b[0;34m\u001b[0m\u001b[0m\n\u001b[0m",
      "\u001b[0;31mNameError\u001b[0m: name 'net' is not defined"
     ]
    }
   ],
   "source": [
    "with open('pretrained_weights.pkl', 'rb') as f:\n",
    "    weights = pk.load(f)\n",
    "    lasagne.layers.set_all_param_values(net['output'], weights)"
   ]
  },
  {
   "cell_type": "code",
   "execution_count": null,
   "metadata": {
    "collapsed": false
   },
   "outputs": [],
   "source": [
    "net['dense3'] = DenseLayer(dropout(net['pool4'], p=.8), 2048)\n",
    "net['output'] = DenseLayer(dropout(net['dense3'], p=.8), (S[0] * S[1]) * (5 * B + C), nonlinearity=None)"
   ]
  },
  {
   "cell_type": "code",
   "execution_count": null,
   "metadata": {
    "collapsed": false
   },
   "outputs": [],
   "source": [
    "yl = yolo.YoloObjectDetector(net, (None, 3, 200, 200), C, S, B) "
   ]
  },
  {
   "cell_type": "code",
   "execution_count": 47,
   "metadata": {
    "collapsed": false
   },
   "outputs": [],
   "source": [
    "def _get_cost_optim_multi(self, output, truth, S, B, C,lmbda_coord=5., lmbda_noobj=0.5, iou_thresh=0.05):\n",
    "    '''\n",
    "    Calculates cost for multiple objects in a scene without for loops or scan (so reduces the amount of variable\n",
    "    created in the theano computation graph).  A cell is associated with a certain object if the iou of that cell\n",
    "    and the object is higher than any other ground truth object. and the rest of the objectness scores are pushed\n",
    "    towards zero.\n",
    "    '''\n",
    "    \n",
    "    # calculate height/width of individual cell\n",
    "    block_height, block_width = 1. / S[0], 1./ S[1]\n",
    "\n",
    "    # get the offset of each cell\n",
    "    offset_x, offset_y = meshgrid2D(T.arange(0,1,block_width), T.arange(0,1,block_height))\n",
    "\n",
    "    # get indices for x,y,w,h,object-ness for easy access\n",
    "    x_idx, y_idx = T.arange(0,5*B,5), T.arange(1,5*B, 5)\n",
    "    w_idx, h_idx = T.arange(2,5*B,5), T.arange(3,5*B,5)\n",
    "    conf_idx = T.arange(4,5*B,5)\n",
    "\n",
    "    # Get position predictions with offsets.\n",
    "    pred_x = (output[:,x_idx] + offset_x.dimshuffle('x','x',0,1)).dimshuffle(0,'x',1,2,3)\n",
    "    pred_y = (output[:,y_idx] + offset_y.dimshuffle('x','x',0,1)).dimshuffle(0,'x',1,2,3)\n",
    "    pred_w, pred_h = output[:,w_idx].dimshuffle(0,'x',1,2,3), output[:,h_idx].dimshuffle(0,'x',1,2,3)\n",
    "    pred_conf = output[:,conf_idx].dimshuffle(0,'x',1,2,3)\n",
    "    pred_class = output[:,-C:].dimshuffle(0,'x',1,2,3)\n",
    "    \n",
    "    pred_w, pred_h = T.maximum(pred_w, 0.), T.maximum(pred_h, 0.)\n",
    "\n",
    "    x_idx, y_idx = T.arange(0,truth.shape[1],4+C), T.arange(1,truth.shape[1],4+C)\n",
    "    w_idx, h_idx = T.arange(2,truth.shape[1],4+C), T.arange(3,truth.shape[1],4+C)\n",
    "    class_idx,_ = theano.scan(\n",
    "        lambda x: T.arange(x,x+C,1),\n",
    "        sequences = T.arange(4,truth.shape[1],4+C)\n",
    "    )\n",
    "\n",
    "    truth_x, truth_y = truth[:,x_idx], truth[:,y_idx]\n",
    "    truth_w, truth_h = truth[:,w_idx], truth[:,h_idx]\n",
    "    truth_class = truth[:, class_idx]\n",
    "    \n",
    "\n",
    "    # Get intersection region bounding box coordinates\n",
    "    xi = T.maximum(pred_x, truth_x.dimshuffle(0,1,'x','x','x'))\n",
    "    xf = T.minimum(pred_x + pred_w, (truth_x + truth_w).dimshuffle(0,1,'x','x','x'))\n",
    "    yi = T.maximum(pred_y, truth_y.dimshuffle(0,1,'x','x','x'))\n",
    "    yf = T.minimum(pred_y + pred_h, (truth_y + truth_h).dimshuffle(0,1,'x','x','x'))\n",
    "    w, h = T.maximum(xf - xi, 0.), T.maximum(yf - yi, 0.)\n",
    "\n",
    "    # Calculate iou score for predicted boxes and truth\n",
    "    isec = w * h\n",
    "    union = (pred_w * pred_h) + (truth_w * truth_h).dimshuffle(0,1,'x','x','x') - isec\n",
    "    iou = T.maximum(isec/union, 0.)\n",
    "\n",
    "    # Get index matrix representing max along the 1st dimension for the iou score (reps 'responsible' box).\n",
    "    maxval_idx, _ = meshgrid2D(T.arange(B), T.arange(truth.shape[0]))\n",
    "    maxval_idx = maxval_idx.dimshuffle(0,'x',1,'x','x')\n",
    "    maxval_idx = T.repeat(T.repeat(maxval_idx,S[0],3),S[1],4)\n",
    "\n",
    "    box_is_resp = T.eq(maxval_idx, iou.argmax(axis=2).dimshuffle(0,1,'x',2,3))\n",
    "\n",
    "    # Get matrix for the width/height of each cell\n",
    "    width, height = T.ones(S) / S[1], T.ones(S) / S[0]\n",
    "    width, height = width.dimshuffle('x','x',0,1), height.dimshuffle('x','x',0,1)\n",
    "    offset_x, offset_y = offset_x.dimshuffle('x','x',0,1), offset_y.dimshuffle('x','x',0,1)\n",
    "\n",
    "    # Get bounding box for intersection between CELL and ground truth box.\n",
    "    xi = T.maximum(offset_x, truth_x.dimshuffle(0,1,'x','x'))\n",
    "    xf = T.minimum(offset_x + width, (truth_x + truth_w).dimshuffle(0,1,'x','x'))\n",
    "    yi = T.maximum(offset_y, truth_y.dimshuffle(0,1,'x','x'))\n",
    "    yf = T.minimum(offset_y + height, (truth_y + truth_h).dimshuffle(0,1,'x','x'))\n",
    "    w, h = T.maximum(xf - xi, 0.), T.maximum(yf - yi, 0.)\n",
    "\n",
    "    # Calculate iou score for the cell.\n",
    "    isec = w * h\n",
    "    union = (width * height) + (truth_w* truth_h).dimshuffle(0,1,'x','x') - isec\n",
    "    iou_cell = T.maximum(isec/union, 0.).dimshuffle(0,1,'x',2,3)\n",
    "    \n",
    "    maxval_idx, _ = meshgrid2D(T.arange(iou_cell.shape[1]), T.arange(iou_cell.shape[0]))\n",
    "    maxval_idx = maxval_idx.dimshuffle(0,1,'x','x','x')\n",
    "    maxval_idx = T.repeat(T.repeat(T.repeat(maxval_idx, B, 2), S[0], 3), S[1], 4)\n",
    "    \n",
    "    obj_for_cell = T.eq(maxval_idx, iou_cell.argmax(axis=1).dimshuffle(0,'x',1,2,3))\n",
    "        \n",
    "    # Get logical matrix representing minimum iou score for cell to be considered overlapping ground truth.\n",
    "    cell_intersects = (iou_cell > iou_thresh)\n",
    "        \n",
    "    obj_in_cell_and_resp = T.bitwise_and(T.bitwise_and(cell_intersects, box_is_resp), obj_for_cell)\n",
    "    conf_is_zero = T.bitwise_and(\n",
    "        bitwise_not(T.bitwise_and(cell_intersects, box_is_resp)),\n",
    "        obj_for_cell\n",
    "    )\n",
    "    conf_is_zero = conf_is_zero.sum(axis=1, keepdims=True)\n",
    "    \n",
    "    # repeat \"cell overlaps\" logical matrix for the number of classes.\n",
    "    pred_class = T.repeat(pred_class, truth.shape[1] // (4 + C), axis=1)\n",
    "\n",
    "    # repeat the ground truth for class probabilities for each cell.\n",
    "    truth_class_rep = T.repeat(T.repeat(truth_class.dimshuffle(0,1,2,'x','x'), S[0], axis=3), S[1], axis=4)\n",
    "\n",
    "    # calculate cost\n",
    "    cost = T.sum((pred_conf - iou)[obj_in_cell_and_resp.nonzero()]**2) + \\\n",
    "        lmbda_noobj * T.sum((pred_conf[conf_is_zero.nonzero()])**2) + \\\n",
    "        lmbda_coord * T.sum((pred_x - truth_x.dimshuffle(0,1,'x','x','x'))[obj_in_cell_and_resp.nonzero()]**2) + \\\n",
    "        lmbda_coord * T.sum((pred_y - truth_y.dimshuffle(0,1,'x','x','x'))[obj_in_cell_and_resp.nonzero()]**2) + \\\n",
    "        lmbda_coord * T.sum((pred_w.sqrt() - truth_w.dimshuffle(0,1,'x','x','x').sqrt())[obj_in_cell_and_resp.nonzero()]**2) + \\\n",
    "        lmbda_coord * T.sum((pred_h.sqrt() - truth_h.dimshuffle(0,1,'x','x','x').sqrt())[obj_in_cell_and_resp.nonzero()]**2) + \\\n",
    "        T.sum(((pred_class - truth_class_rep)[cell_intersects.nonzero()])**2)\n",
    "    \n",
    "    return cost / T.maximum(1., truth.shape[0])"
   ]
  },
  {
   "cell_type": "code",
   "execution_count": 7,
   "metadata": {
    "collapsed": true
   },
   "outputs": [],
   "source": [
    "S = (2,2)\n",
    "B = 2\n",
    "C = 2"
   ]
  },
  {
   "cell_type": "code",
   "execution_count": 50,
   "metadata": {
    "collapsed": true
   },
   "outputs": [],
   "source": [
    "truth = np.asarray([[0.,0.,0.5,0.5, 1.,0.,   .6,.6,.3,.3,0.,1.,     -10.,-10.,0.1,0.1, 1.,0.,  \\\n",
    "                     -10.,-10.,0.1,0.1, 1.,0.,    -10.,-10.,0.1,0.1, 1.,0.,    -10.,-10.,0.1,0.1, 1.,0.]])"
   ]
  },
  {
   "cell_type": "code",
   "execution_count": 9,
   "metadata": {
    "collapsed": false
   },
   "outputs": [],
   "source": [
    "pred = np.asarray([[0.,0.,0.5,0.5,1., -10.,-10.,.1,.1,.1  ,1.,0.]]) \n",
    "pred = pred.reshape((1,B*5 + C,1,1))\n",
    "pred = np.repeat(np.repeat(pred,2,axis=2),2,axis=3)"
   ]
  },
  {
   "cell_type": "code",
   "execution_count": 10,
   "metadata": {
    "collapsed": true
   },
   "outputs": [],
   "source": [
    "output = T.tensor4('output')\n",
    "target = T.matrix('target')"
   ]
  },
  {
   "cell_type": "code",
   "execution_count": 11,
   "metadata": {
    "collapsed": true
   },
   "outputs": [],
   "source": [
    "N, M = 10, 2\n",
    "X,y = np.random.rand(N, 5*B + C, S[0], S[1]), np.random.rand(N, M * (4 + C))"
   ]
  },
  {
   "cell_type": "code",
   "execution_count": 51,
   "metadata": {
    "collapsed": true
   },
   "outputs": [],
   "source": [
    "X,y = theano.shared(pred), theano.shared(truth)"
   ]
  },
  {
   "cell_type": "code",
   "execution_count": 52,
   "metadata": {
    "collapsed": false
   },
   "outputs": [],
   "source": [
    "cost = _get_cost_optim_multi(None, X,y,S,B,C)"
   ]
  },
  {
   "cell_type": "code",
   "execution_count": 53,
   "metadata": {
    "collapsed": false
   },
   "outputs": [
    {
     "data": {
      "text/plain": [
       "array(2.7836333075851662)"
      ]
     },
     "execution_count": 53,
     "metadata": {},
     "output_type": "execute_result"
    }
   ],
   "source": [
    "cost.eval()"
   ]
  },
  {
   "cell_type": "code",
   "execution_count": null,
   "metadata": {
    "collapsed": true
   },
   "outputs": [],
   "source": [
    "cost_fn(pred, truth)"
   ]
  },
  {
   "cell_type": "code",
   "execution_count": null,
   "metadata": {
    "collapsed": true
   },
   "outputs": [],
   "source": []
  },
  {
   "cell_type": "code",
   "execution_count": null,
   "metadata": {
    "collapsed": true
   },
   "outputs": [],
   "source": []
  },
  {
   "cell_type": "code",
   "execution_count": null,
   "metadata": {
    "collapsed": true
   },
   "outputs": [],
   "source": []
  },
  {
   "cell_type": "code",
   "execution_count": null,
   "metadata": {
    "collapsed": false
   },
   "outputs": [],
   "source": [
    "_get_cost_optim(yl, yl.output_test, truth, S, B, C)"
   ]
  },
  {
   "cell_type": "code",
   "execution_count": null,
   "metadata": {
    "collapsed": false
   },
   "outputs": [],
   "source": [
    "def manual_cost(output, truth, C, S, B, lmbda_coord=5., lmbda_noobj=.5, thresh = .05):\n",
    "    output, truth = np.copy(output), np.copy(truth)\n",
    "    def calc_iou(b1, b2):\n",
    "        xi = np.maximum(b1[0], b2[0])\n",
    "        xf = np.minimum(b1[0]+b1[2], b2[0]+b2[2])\n",
    "        yi = np.maximum(b1[1], b2[1])\n",
    "        yf = np.minimum(b1[1]+b1[3], b2[1]+b2[3])\n",
    "        w, h = np.maximum(0., xf - xi), np.maximum(0., yf - yi)\n",
    "        isec = np.maximum(w * h, 0.)\n",
    "        union = (b1[2]*b1[3]) + (b2[2]*b2[3]) - isec\n",
    "        iou = isec / union\n",
    "        return iou\n",
    "    \n",
    "    cost = 0.\n",
    "    xshift, yshift = 1./S[1], 1./S[0]\n",
    "    for i in range(S[0]):\n",
    "        for j in range(S[1]):\n",
    "            iou_score_per_box = np.zeros((B,))\n",
    "            for k in range(B):\n",
    "                reg_truth = truth[:4]\n",
    "                reg_box = output[k*5:k*5 + 4, i, j]\n",
    "                reg_box[0] += j * xshift\n",
    "                reg_box[1] += i * yshift\n",
    "                iou_score_per_box[k] = calc_iou(reg_truth, reg_box)\n",
    "            \n",
    "            idx_resp = np.argmax(iou_score_per_box)\n",
    "            \n",
    "            for k in range(B):\n",
    "                reg_fact = lmbda_noobj\n",
    "                if k == idx_resp:\n",
    "                    reg_fact = 1.\n",
    "                cost += reg_fact * (output[k*B + 4, i, j] - iou_score_per_box[k])**2\n",
    "        \n",
    "            reg_cell = np.asarray([j * xshift, i * yshift, xshift, yshift])\n",
    "            iou_cell = calc_iou(reg_cell, truth[:4])\n",
    "            \n",
    "            if iou_cell > thresh:\n",
    "                cost += ((output[-C:, i, j] - truth[-C:])**2).sum()\n",
    "                \n",
    "            cost += lmbda_coord * ((output[idx_resp*5:idx_resp*5+2,i,j] - truth[:2])**2).sum()\n",
    "            cost += lmbda_coord * ((np.sqrt(output[idx_resp*5+2:idx_resp*5+4,i,j]) - np.sqrt(truth[2:4]))**2).sum()\n",
    "    \n",
    "    return cost\n",
    "            "
   ]
  },
  {
   "cell_type": "code",
   "execution_count": null,
   "metadata": {
    "collapsed": true
   },
   "outputs": [],
   "source": [
    "N = 100\n",
    "input = 10000*np.random.randn(N,3,200,200).astype(np.float32)\n",
    "output = np.random.rand(N,B*5 + C, S[0], S[1]).astype(np.float32)\n",
    "truth = np.random.rand(N,4 + C).astype(np.float32)"
   ]
  },
  {
   "cell_type": "code",
   "execution_count": null,
   "metadata": {
    "collapsed": true
   },
   "outputs": [],
   "source": [
    "target = T.matrix('target')\n",
    "art_output = T.tensor4('art_output')"
   ]
  },
  {
   "cell_type": "code",
   "execution_count": null,
   "metadata": {
    "collapsed": false
   },
   "outputs": [],
   "source": [
    "out_fn = theano.function([yl.input], yl.output_test, allow_input_downcast=True)"
   ]
  },
  {
   "cell_type": "code",
   "execution_count": null,
   "metadata": {
    "collapsed": false
   },
   "outputs": [],
   "source": [
    "fn = theano.function([yl.input, target], yl._get_cost_optim(yl.output_test, target, S, B, C), allow_input_downcast=True)"
   ]
  },
  {
   "cell_type": "code",
   "execution_count": null,
   "metadata": {
    "collapsed": false
   },
   "outputs": [],
   "source": [
    "fn(input, truth)"
   ]
  },
  {
   "cell_type": "code",
   "execution_count": null,
   "metadata": {
    "collapsed": true
   },
   "outputs": [],
   "source": [
    "# fn2 = theano.function([art_output, target], get_cost_optim(yl, art_output, target, S, B, C), allow_input_downcast=True)"
   ]
  },
  {
   "cell_type": "code",
   "execution_count": null,
   "metadata": {
    "collapsed": true
   },
   "outputs": [],
   "source": [
    "art_output = iput"
   ]
  },
  {
   "cell_type": "code",
   "execution_count": null,
   "metadata": {
    "collapsed": false
   },
   "outputs": [],
   "source": [
    "fn(iput, truth)"
   ]
  },
  {
   "cell_type": "code",
   "execution_count": null,
   "metadata": {
    "collapsed": false
   },
   "outputs": [],
   "source": [
    "manual_cost(out_fn(iput)[0], truth[0], C, S, B)"
   ]
  },
  {
   "cell_type": "code",
   "execution_count": null,
   "metadata": {
    "collapsed": false
   },
   "outputs": [],
   "source": [
    "# Create artificially correct answer\n",
    "truth = np.random.rand(1, 4 + C)\n",
    "true_column = np.concatenate((truth[[0],:4], [[1.]], [[0.,0.,.0,.0]], [[0.]], truth[[0],-C:]), axis=1).reshape((1,5*B + C, 1, 1))\n",
    "true_column = np.repeat(true_column, S[0], axis=2)\n",
    "true_column = np.repeat(true_column, S[1], axis=3)\n",
    "\n",
    "offset_x, offset_y = np.meshgrid(np.arange(0.,1.,1./9), np.arange(0.,1.,1./9))\n",
    "true_column[:,[0,5]] -= offset_x.reshape((-1,1,9,9))\n",
    "true_column[:,[1,6]] -= offset_y.reshape((-1,1,9,9))"
   ]
  },
  {
   "cell_type": "code",
   "execution_count": null,
   "metadata": {
    "collapsed": false
   },
   "outputs": [],
   "source": [
    "fn2(true_column, truth)"
   ]
  },
  {
   "cell_type": "code",
   "execution_count": null,
   "metadata": {
    "collapsed": false
   },
   "outputs": [],
   "source": [
    "manual_cost(true_column[0], truth[0], C, S, B)"
   ]
  },
  {
   "cell_type": "code",
   "execution_count": null,
   "metadata": {
    "collapsed": true
   },
   "outputs": [],
   "source": []
  }
 ],
 "metadata": {
  "anaconda-cloud": {},
  "kernelspec": {
   "display_name": "Python [Root]",
   "language": "python",
   "name": "Python [Root]"
  },
  "language_info": {
   "codemirror_mode": {
    "name": "ipython",
    "version": 2
   },
   "file_extension": ".py",
   "mimetype": "text/x-python",
   "name": "python",
   "nbconvert_exporter": "python",
   "pygments_lexer": "ipython2",
   "version": "2.7.12"
  }
 },
 "nbformat": 4,
 "nbformat_minor": 0
}
