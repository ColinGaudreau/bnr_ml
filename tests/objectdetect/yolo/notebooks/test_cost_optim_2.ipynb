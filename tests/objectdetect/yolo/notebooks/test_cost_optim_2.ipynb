{
 "cells": [
  {
   "cell_type": "code",
   "execution_count": 1,
   "metadata": {
    "collapsed": false
   },
   "outputs": [
    {
     "name": "stderr",
     "output_type": "stream",
     "text": [
      "ERROR (theano.sandbox.cuda): ERROR: Not using GPU. Initialisation of device gpu failed:\n",
      "initCnmem: cnmemInit call failed! Reason=CNMEM_STATUS_OUT_OF_MEMORY. numdev=1\n",
      "\n",
      "/Library/Python/2.7/site-packages/theano/tensor/signal/downsample.py:6: UserWarning: downsample module has been moved to the theano.tensor.signal.pool module.\n",
      "  \"downsample module has been moved to the theano.tensor.signal.pool module.\")\n",
      "/Users/colingaudreau/anaconda2/lib/python2.7/site-packages/matplotlib/font_manager.py:273: UserWarning: Matplotlib is building the font cache using fc-list. This may take a moment.\n",
      "  warnings.warn('Matplotlib is building the font cache using fc-list. This may take a moment.')\n"
     ]
    }
   ],
   "source": [
    "import theano\n",
    "from theano import tensor as T\n",
    "import numpy as np\n",
    "from collections import OrderedDict\n",
    "from tqdm import tqdm\n",
    "from bnr_ml.utils.helpers import *\n",
    "import time\n",
    "from lasagne import layers\n",
    "from lasagne.updates import rmsprop\n",
    "from itertools import tee"
   ]
  },
  {
   "cell_type": "code",
   "execution_count": 2,
   "metadata": {
    "collapsed": false
   },
   "outputs": [],
   "source": [
    "def _get_cost_optim_multi(output, truth, S, B, C,lmbda_coord=5., lmbda_noobj=0.5, lmbda_obj=3., iou_thresh=1e-3):\n",
    "    '''\n",
    "    Calculates cost for multiple objects in a scene without for loops or scan (so reduces the amount of variable\n",
    "    created in the theano computation graph).  A cell is associated with a certain object if the iou of that cell\n",
    "    and the object is higher than any other ground truth object. and the rest of the objectness scores are pushed\n",
    "    towards zero.\n",
    "    '''\n",
    "\n",
    "    # calculate height/width of individual cell\n",
    "    block_height, block_width = 1. / S[0], 1./ S[1]\n",
    "\n",
    "    # get the offset of each cell\n",
    "    offset_x, offset_y = meshgrid2D(T.arange(0,1,block_width), T.arange(0,1,block_height))\n",
    "\n",
    "    # get indices for x,y,w,h,object-ness for easy access\n",
    "    x_idx, y_idx = T.arange(0,5*B,5), T.arange(1,5*B, 5)\n",
    "    w_idx, h_idx = T.arange(2,5*B,5), T.arange(3,5*B,5)\n",
    "    conf_idx = T.arange(4,5*B,5)\n",
    "\n",
    "    # Get position predictions with offsets.\n",
    "    pred_x = (output[:,x_idx] + offset_x.dimshuffle('x','x',0,1)).dimshuffle(0,'x',1,2,3)\n",
    "    pred_y = (output[:,y_idx] + offset_y.dimshuffle('x','x',0,1)).dimshuffle(0,'x',1,2,3)\n",
    "    pred_w, pred_h = output[:,w_idx].dimshuffle(0,'x',1,2,3), output[:,h_idx].dimshuffle(0,'x',1,2,3)\n",
    "    pred_conf = output[:,conf_idx].dimshuffle(0,'x',1,2,3)\n",
    "    pred_class = output[:,-C:].dimshuffle(0,'x',1,2,3)\n",
    "\n",
    "    pred_w, pred_h = T.maximum(pred_w, 0.), T.maximum(pred_h, 0.)\n",
    "\n",
    "    x_idx, y_idx = T.arange(0,truth.shape[1],4+C), T.arange(1,truth.shape[1],4+C)\n",
    "    w_idx, h_idx = T.arange(2,truth.shape[1],4+C), T.arange(3,truth.shape[1],4+C)\n",
    "    class_idx,_ = theano.scan(\n",
    "        lambda x: T.arange(x,x+C,1),\n",
    "        sequences = T.arange(4,truth.shape[1],4+C)\n",
    "    )\n",
    "\n",
    "    truth_x, truth_y = truth[:,x_idx], truth[:,y_idx]\n",
    "    truth_w, truth_h = truth[:,w_idx], truth[:,h_idx]\n",
    "    truth_class = truth[:, class_idx]\n",
    "\n",
    "\n",
    "    # Get intersection region bounding box coordinates\n",
    "    xi = T.maximum(pred_x, truth_x.dimshuffle(0,1,'x','x','x'))\n",
    "    xf = T.minimum(pred_x + pred_w, (truth_x + truth_w).dimshuffle(0,1,'x','x','x'))\n",
    "    yi = T.maximum(pred_y, truth_y.dimshuffle(0,1,'x','x','x'))\n",
    "    yf = T.minimum(pred_y + pred_h, (truth_y + truth_h).dimshuffle(0,1,'x','x','x'))\n",
    "    w, h = T.maximum(xf - xi, 0.), T.maximum(yf - yi, 0.)\n",
    "\n",
    "    # Calculate iou score for predicted boxes and truth\n",
    "    isec = w * h\n",
    "    union = (pred_w * pred_h) + (truth_w * truth_h).dimshuffle(0,1,'x','x','x') - isec\n",
    "    iou = T.maximum(isec/union, 0.)\n",
    "\n",
    "    # Get index matrix representing max along the 1st dimension for the iou score (reps 'responsible' box).\n",
    "    maxval_idx, _ = meshgrid2D(T.arange(B), T.arange(truth.shape[0]))\n",
    "    maxval_idx = maxval_idx.dimshuffle(0,'x',1,'x','x')\n",
    "    maxval_idx = T.repeat(T.repeat(maxval_idx,S[0],3),S[1],4)\n",
    "\n",
    "    box_is_resp = T.eq(maxval_idx, iou.argmax(axis=2).dimshuffle(0,1,'x',2,3))\n",
    "\n",
    "    # Get matrix for the width/height of each cell\n",
    "    width, height = T.ones(S) / S[1], T.ones(S) / S[0]\n",
    "    width, height = width.dimshuffle('x','x',0,1), height.dimshuffle('x','x',0,1)\n",
    "    offset_x, offset_y = offset_x.dimshuffle('x','x',0,1), offset_y.dimshuffle('x','x',0,1)\n",
    "\n",
    "    # Get bounding box for intersection between CELL and ground truth box.\n",
    "    xi = T.maximum(offset_x, truth_x.dimshuffle(0,1,'x','x'))\n",
    "    xf = T.minimum(offset_x + width, (truth_x + truth_w).dimshuffle(0,1,'x','x'))\n",
    "    yi = T.maximum(offset_y, truth_y.dimshuffle(0,1,'x','x'))\n",
    "    yf = T.minimum(offset_y + height, (truth_y + truth_h).dimshuffle(0,1,'x','x'))\n",
    "    w, h = T.maximum(xf - xi, 0.), T.maximum(yf - yi, 0.)\n",
    "\n",
    "    # Calculate iou score for the cell.\n",
    "    isec = w * h\n",
    "    union = (width * height) + (truth_w* truth_h).dimshuffle(0,1,'x','x') - isec\n",
    "    iou_cell = T.maximum(isec/union, 0.).dimshuffle(0,1,'x',2,3) # * (np.prod(S)) # normalize the iou to make more sense\n",
    "\n",
    "    maxval_idx, _ = meshgrid2D(T.arange(iou_cell.shape[1]), T.arange(iou_cell.shape[0]))\n",
    "    maxval_idx = maxval_idx.dimshuffle(0,1,'x','x','x')\n",
    "    maxval_idx = T.repeat(T.repeat(T.repeat(maxval_idx, B, 2), S[0], 3), S[1], 4)\n",
    "\n",
    "    obj_for_cell = T.eq(maxval_idx, iou_cell.argmax(axis=1).dimshuffle(0,'x',1,2,3))\n",
    "\n",
    "    # Get logical matrix representing minimum iou score for cell to be considered overlapping ground truth.\n",
    "    cell_intersects = (iou_cell > iou_thresh)\n",
    "\n",
    "    obj_in_cell_and_resp = T.bitwise_and(T.bitwise_and(cell_intersects, box_is_resp), obj_for_cell)\n",
    "    conf_is_zero = T.bitwise_and(\n",
    "        bitwise_not(T.bitwise_and(cell_intersects, box_is_resp)),\n",
    "        obj_for_cell\n",
    "    )\n",
    "    conf_is_zero = conf_is_zero.sum(axis=1, keepdims=True)\n",
    "\n",
    "    # repeat \"cell overlaps\" logical matrix for the number of classes.\n",
    "    pred_class = T.repeat(pred_class, truth.shape[1] // (4 + C), axis=1)\n",
    "\n",
    "    # repeat the ground truth for class probabilities for each cell.\n",
    "    truth_class_rep = T.repeat(T.repeat(truth_class.dimshuffle(0,1,2,'x','x'), S[0], axis=3), S[1], axis=4)\n",
    "\n",
    "    cost = T.sum((pred_conf - iou)[obj_in_cell_and_resp.nonzero()]**2) + \\\n",
    "        lmbda_noobj * T.sum((pred_conf[conf_is_zero.nonzero()])**2) + \\\n",
    "        lmbda_coord * T.sum((pred_x - truth_x.dimshuffle(0,1,'x','x','x'))[obj_in_cell_and_resp.nonzero()]**2) + \\\n",
    "        lmbda_coord * T.sum((pred_y - truth_y.dimshuffle(0,1,'x','x','x'))[obj_in_cell_and_resp.nonzero()]**2) + \\\n",
    "        lmbda_coord * T.sum((pred_w.sqrt() - truth_w.dimshuffle(0,1,'x','x','x').sqrt())[obj_in_cell_and_resp.nonzero()]**2) + \\\n",
    "        lmbda_coord * T.sum((pred_h.sqrt() - truth_h.dimshuffle(0,1,'x','x','x').sqrt())[obj_in_cell_and_resp.nonzero()]**2) + \\\n",
    "        lmbda_obj * T.sum(((pred_class - truth_class_rep)[cell_intersects.nonzero()])**2)\n",
    "    pdb.set_trace()\t\n",
    "    return cost / T.maximum(1., truth.shape[0])"
   ]
  },
  {
   "cell_type": "code",
   "execution_count": 26,
   "metadata": {
    "collapsed": true
   },
   "outputs": [],
   "source": [
    "S = (4,4)\n",
    "B = 2\n",
    "C = 4"
   ]
  },
  {
   "cell_type": "code",
   "execution_count": 27,
   "metadata": {
    "collapsed": false
   },
   "outputs": [],
   "source": [
    "truth = np.asarray([0.25,0.25,0.5,0.5,1.,0.,0.,0.])\n",
    "\n",
    "output = np.asarray([0.25,0.25,0.5,0.5,1.]).reshape((1,-1,1,1))\n",
    "output = np.repeat(np.repeat(output, S[0], axis=2), S[1], axis=3)\n",
    "\n",
    "offx, offy = np.meshgrid(np.arange(0,1,1./S[1]), np.arange(0,1,1./S[0]))\n",
    "\n",
    "offx, offy = offx.reshape((1,1) + offx.shape), offy.reshape((1,1) + offy.shape)\n",
    "\n",
    "output[:,[0]] -= offx\n",
    "output[:,[1]] -= offy\n",
    "\n",
    "output = np.concatenate((output, np.zeros((1,5 * B,S[0],S[0]))), axis=1)\n",
    "\n",
    "pred = np.asarray([1.,0.,0.,0.]).reshape((1,-1,1,1))\n",
    "pred = np.repeat(np.repeat(pred, S[0], axis=2), S[1], axis=3)\n",
    "\n",
    "output = np.concatenate((output, pred), axis=1)\n",
    "truth = truth.reshape((1,-1))"
   ]
  },
  {
   "cell_type": "code",
   "execution_count": 28,
   "metadata": {
    "collapsed": false
   },
   "outputs": [],
   "source": [
    "X, y = theano.shared(output), theano.shared(truth)"
   ]
  },
  {
   "cell_type": "code",
   "execution_count": 31,
   "metadata": {
    "collapsed": false
   },
   "outputs": [
    {
     "name": "stdout",
     "output_type": "stream",
     "text": [
      "> <ipython-input-2-4aa3e6c29b69>(101)_get_cost_optim_multi()\n",
      "-> return cost / T.maximum(1., truth.shape[0])\n",
      "(Pdb) output[0,0].eval()\n",
      "array([[ 0.25,  0.  , -0.25, -0.5 ],\n",
      "       [ 0.25,  0.  , -0.25, -0.5 ],\n",
      "       [ 0.25,  0.  , -0.25, -0.5 ],\n",
      "       [ 0.25,  0.  , -0.25, -0.5 ]])\n",
      "(Pdb) truth_x.shape.eval()\n",
      "array([1, 1])\n",
      "(Pdb) pred_x.shape.eval()\n",
      "array([1, 1, 2, 4, 4])\n",
      "(Pdb) pred_x[0,0,0].eval()\n",
      "array([[ 0.25,  0.25,  0.25,  0.25],\n",
      "       [ 0.25,  0.25,  0.25,  0.25],\n",
      "       [ 0.25,  0.25,  0.25,  0.25],\n",
      "       [ 0.25,  0.25,  0.25,  0.25]])\n",
      "(Pdb) pred_y[0,0,0].eval()\n",
      "array([[ 0.25,  0.25,  0.25,  0.25],\n",
      "       [ 0.25,  0.25,  0.25,  0.25],\n",
      "       [ 0.25,  0.25,  0.25,  0.25],\n",
      "       [ 0.25,  0.25,  0.25,  0.25]])\n",
      "(Pdb) pred_w[0,0,0].eval()\n",
      "array([[ 0.5,  0.5,  0.5,  0.5],\n",
      "       [ 0.5,  0.5,  0.5,  0.5],\n",
      "       [ 0.5,  0.5,  0.5,  0.5],\n",
      "       [ 0.5,  0.5,  0.5,  0.5]])\n",
      "(Pdb) pred_h[0,0,0].eval()\n",
      "array([[ 0.5,  0.5,  0.5,  0.5],\n",
      "       [ 0.5,  0.5,  0.5,  0.5],\n",
      "       [ 0.5,  0.5,  0.5,  0.5],\n",
      "       [ 0.5,  0.5,  0.5,  0.5]])\n",
      "(Pdb) output[0,-4:].eval()\n",
      "array([[[ 1.,  1.,  1.,  1.],\n",
      "        [ 1.,  1.,  1.,  1.],\n",
      "        [ 1.,  1.,  1.,  1.],\n",
      "        [ 1.,  1.,  1.,  1.]],\n",
      "\n",
      "       [[ 0.,  0.,  0.,  0.],\n",
      "        [ 0.,  0.,  0.,  0.],\n",
      "        [ 0.,  0.,  0.,  0.],\n",
      "        [ 0.,  0.,  0.,  0.]],\n",
      "\n",
      "       [[ 0.,  0.,  0.,  0.],\n",
      "        [ 0.,  0.,  0.,  0.],\n",
      "        [ 0.,  0.,  0.,  0.],\n",
      "        [ 0.,  0.,  0.,  0.]],\n",
      "\n",
      "       [[ 0.,  0.,  0.,  0.],\n",
      "        [ 0.,  0.,  0.,  0.],\n",
      "        [ 0.,  0.,  0.,  0.],\n",
      "        [ 0.,  0.,  0.,  0.]]])\n",
      "(Pdb) conf_is_zero.shape.eval()\n",
      "array([1, 1, 2, 4, 4])\n",
      "(Pdb) conf_is_zero[0,0].evalv()\n",
      "*** AttributeError: 'TensorVariable' object has no attribute 'evalv'\n",
      "(Pdb) conf_is_zero[0,0].eval()\n",
      "array([[[1, 1, 1, 1],\n",
      "        [1, 0, 0, 1],\n",
      "        [1, 0, 0, 1],\n",
      "        [1, 1, 1, 1]],\n",
      "\n",
      "       [[1, 1, 1, 1],\n",
      "        [1, 1, 1, 1],\n",
      "        [1, 1, 1, 1],\n",
      "        [1, 1, 1, 1]]])\n",
      "(Pdb) lmbda_noobj * T.sum((pred_conf[conf_is_zero.nonzero()])**2).eval()\n",
      "6.0\n",
      "(Pdb) c\n"
     ]
    }
   ],
   "source": [
    "cost = _get_cost_optim_multi(X, y, S, B, C)"
   ]
  },
  {
   "cell_type": "code",
   "execution_count": 30,
   "metadata": {
    "collapsed": false
   },
   "outputs": [
    {
     "data": {
      "text/plain": [
       "array(6.0)"
      ]
     },
     "execution_count": 30,
     "metadata": {},
     "output_type": "execute_result"
    }
   ],
   "source": [
    "cost.eval()"
   ]
  },
  {
   "cell_type": "code",
   "execution_count": null,
   "metadata": {
    "collapsed": true
   },
   "outputs": [],
   "source": []
  }
 ],
 "metadata": {
  "anaconda-cloud": {},
  "kernelspec": {
   "display_name": "Python [Root]",
   "language": "python",
   "name": "Python [Root]"
  },
  "language_info": {
   "codemirror_mode": {
    "name": "ipython",
    "version": 2
   },
   "file_extension": ".py",
   "mimetype": "text/x-python",
   "name": "python",
   "nbconvert_exporter": "python",
   "pygments_lexer": "ipython2",
   "version": "2.7.12"
  }
 },
 "nbformat": 4,
 "nbformat_minor": 0
}
