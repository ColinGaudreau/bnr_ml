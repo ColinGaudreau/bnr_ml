{
 "cells": [
  {
   "cell_type": "markdown",
   "metadata": {},
   "source": [
    "<p style=\"font-size:14pt;text-align:center;\">\n",
    "Pretraining network on pascal VOC.\n",
    "</p>"
   ]
  },
  {
   "cell_type": "code",
   "execution_count": 176,
   "metadata": {
    "collapsed": false
   },
   "outputs": [],
   "source": [
    "%matplotlib inline\n",
    "from matplotlib import pyplot as plt\n",
    "import numpy as np\n",
    "import theano\n",
    "from theano import tensor as T\n",
    "import pickle as pk\n",
    "import re\n",
    "from copy import deepcopy\n",
    "\n",
    "# image processing\n",
    "from skimage.io import imread\n",
    "from skimage.transform import resize\n",
    "\n",
    "import lasagne\n",
    "from lasagne.layers import Pool2DLayer, Conv2DLayer, batch_norm, dropout, \\\n",
    "    DenseLayer, InputLayer, get_output, get_all_params\n",
    "\n",
    "import pdb"
   ]
  },
  {
   "cell_type": "code",
   "execution_count": 3,
   "metadata": {
    "collapsed": true
   },
   "outputs": [],
   "source": [
    "with open('/usr/local/python/bnr_ml/data/PascalVOC/annotations.txt', 'rb') as f:\n",
    "    annotations = pk.load(f)['annotations']"
   ]
  },
  {
   "cell_type": "code",
   "execution_count": 4,
   "metadata": {
    "collapsed": true
   },
   "outputs": [],
   "source": [
    "def add_proper_labels(annotations):\n",
    "    for im in annotations:\n",
    "        for obj in im:\n",
    "            if 'car' in obj['label'].lower():\n",
    "                obj['label'] = 'car'\n",
    "            elif 'bicycle' in obj['label'].lower():\n",
    "                obj['label'] = 'bicycle'\n",
    "            elif 'person' in obj['label'].lower():\n",
    "                obj['label'] = 'person'\n",
    "            elif 'bike' in obj['label'].lower():\n",
    "                obj['label'] = 'bike'\n",
    "            else:\n",
    "                print obj"
   ]
  },
  {
   "cell_type": "code",
   "execution_count": 5,
   "metadata": {
    "collapsed": false
   },
   "outputs": [],
   "source": [
    "def get_label_counts(annotations):\n",
    "    counts = np.zeros((4,))\n",
    "    for im in annotations:\n",
    "        for obj in im:\n",
    "            if obj['label'] == 'car':\n",
    "                counts[0] += 1\n",
    "            elif obj['label'] == 'bicycle':\n",
    "                counts[1] += 1\n",
    "            elif obj['label'] == 'bike':\n",
    "                counts[2] += 1\n",
    "            else:\n",
    "                counts[3] += 1\n",
    "    return counts"
   ]
  },
  {
   "cell_type": "code",
   "execution_count": 6,
   "metadata": {
    "collapsed": false
   },
   "outputs": [],
   "source": [
    "add_proper_labels(annotations)"
   ]
  },
  {
   "cell_type": "code",
   "execution_count": 7,
   "metadata": {
    "collapsed": false
   },
   "outputs": [],
   "source": [
    "annotations = np.asarray(annotations)"
   ]
  },
  {
   "cell_type": "code",
   "execution_count": 8,
   "metadata": {
    "collapsed": true
   },
   "outputs": [],
   "source": [
    "counts = get_label_counts(annotations)"
   ]
  },
  {
   "cell_type": "code",
   "execution_count": 9,
   "metadata": {
    "collapsed": false
   },
   "outputs": [
    {
     "data": {
      "image/png": "[encoded data removed]",
      "text/plain": [
       "<matplotlib.figure.Figure at 0x10ee7a6d0>"
      ]
     },
     "metadata": {},
     "output_type": "display_data"
    }
   ],
   "source": [
    "plt.figure(figsize=(12,8))\n",
    "plt.title('Distribution of labels', fontsize=20)\n",
    "plt.bar(np.arange(counts.size), counts, color='red', alpha=.4)\n",
    "plt.xticks(np.arange(counts.size) + .5, ['car', 'bicycle', 'bike', 'person'], fontsize=14)\n",
    "plt.show()"
   ]
  },
  {
   "cell_type": "code",
   "execution_count": 10,
   "metadata": {
    "collapsed": true
   },
   "outputs": [],
   "source": [
    "np.random.seed(1991)"
   ]
  },
  {
   "cell_type": "markdown",
   "metadata": {},
   "source": [
    "<b>Split the annotations for training and testing, the reason I split by image and not individual object is so that when testing the performance, the network will never have seen any part of the test image."
   ]
  },
  {
   "cell_type": "code",
   "execution_count": 11,
   "metadata": {
    "collapsed": false
   },
   "outputs": [],
   "source": [
    "Ntrain = np.int_(annotations.size * .8)\n",
    "idx = np.arange(annotations.size)\n",
    "np.random.shuffle(idx)\n",
    "train_idx = idx[:Ntrain]\n",
    "test_idx = idx[Ntrain:]\n",
    "\n",
    "indices = {}\n",
    "indices['train_index'] = train_idx\n",
    "indices['test_index'] = test_idx"
   ]
  },
  {
   "cell_type": "code",
   "execution_count": 12,
   "metadata": {
    "collapsed": false
   },
   "outputs": [],
   "source": [
    "with open('indices.pkl', 'wb') as f:\n",
    "    pk.dump(indices, f)"
   ]
  },
  {
   "cell_type": "code",
   "execution_count": 184,
   "metadata": {
    "collapsed": false
   },
   "outputs": [],
   "source": [
    "train_annotations = annotations[train_idx]\n",
    "test_annotations = annotations[test_idx]\n",
    "\n",
    "train_annotations = train_annotations[np.random.random_integers(0,train_annotations.size-1,size=(100,))]\n",
    "test_annotations = test_annotations[np.random.random_integers(0,test_annotations.size-1,size=(20,))]"
   ]
  },
  {
   "cell_type": "code",
   "execution_count": 185,
   "metadata": {
    "collapsed": false
   },
   "outputs": [],
   "source": [
    "class Box(object):\n",
    "    def __init__(self, xi,yi,xf,yf):\n",
    "        self.xi = xi\n",
    "        self.yi = yi\n",
    "        self.xf = xf\n",
    "        self.yf = yf\n",
    "    def iou(self, box):\n",
    "        isec = self.intersection(box)\n",
    "        union = self.size() + box.size() - isec.size()\n",
    "        return isec.size() / union\n",
    "    def intersection(self, box):\n",
    "        new_xi = max(self.xi, box.xi)\n",
    "        new_yi = max(self.yi, box.yi)\n",
    "        new_xf = min(self.xf, box.xf)\n",
    "        new_yf = min(self.yf, box.yf)\n",
    "        if new_xi > new_xf or new_yi > new_yf:\n",
    "            new_xi, new_yi, new_xf, new_yf = 0., 0., 0., 0.\n",
    "        return Box(new_xi, new_yi, new_xf, new_yf)\n",
    "    def size(self):\n",
    "        return (self.xf - self.xi) * (self.yf - self.yi)\n",
    "    def width(self):\n",
    "        return (self.xf - self.xi)\n",
    "    def height(self):\n",
    "        return (self.yf - self.yi)\n",
    "    def copy(self):\n",
    "        return Box(self.xi, self.yi, self.xf, self.yf)\n",
    "    def subimage(self, im):\n",
    "        xi = max(0, self.xi)\n",
    "        yi = max(0, self.yi)\n",
    "        xf = min(im.shape[1], self.xf)\n",
    "        yf = min(im.shape[0], self.yf)\n",
    "        return im[yi:yf, xi:xf]\n",
    "    def round(self):\n",
    "        self.xi, self.yi, self.xf, self.yf = round(self.xi), round(self.yi), round(self.xf), round(self.yf)\n",
    "    def __str__(self):\n",
    "        return '(' + str(self.xi) + ',' + str(self.yi) + ') (' + str(self.xf) + ',' + str(self.yf) + ')'\n",
    "    def __repr__(self):\n",
    "        return self.__str__()\n",
    "    @staticmethod\n",
    "    def gen_randombox(iou, box, eps=.5):\n",
    "        angle = 2 * np.pi * np.random.rand()\n",
    "        delx, dely = eps*np.cos(angle), eps*np.sin(angle)\n",
    "        new_box = box.copy()\n",
    "        while new_box.iou(box) > iou:\n",
    "            new_box.xi += delx\n",
    "            new_box.yi += dely\n",
    "            new_box.xf += delx\n",
    "            new_box.yf += dely\n",
    "        return new_box"
   ]
  },
  {
   "cell_type": "code",
   "execution_count": 199,
   "metadata": {
    "collapsed": false
   },
   "outputs": [],
   "source": [
    "def generate_data(annotations, size=(200,200), augment=4, batch_size=100):\n",
    "    '''\n",
    "    augment: how many times do you want the data to be replicated\n",
    "    '''\n",
    "    def get_objects(annotations):\n",
    "        objs = []\n",
    "        for im in annotations:\n",
    "            objs.extend([deepcopy(obj) for obj in im])\n",
    "        return np.asarray(objs)\n",
    "    def get_num_from_label(label):\n",
    "        if label == 'car':\n",
    "            return 0\n",
    "        elif label == 'bicycle':\n",
    "            return 1\n",
    "        elif label == 'bike':\n",
    "            return 2\n",
    "        elif label == 'person':\n",
    "            return 3\n",
    "        elif label == 'noobj':\n",
    "            return 4\n",
    "        else:\n",
    "            pass\n",
    "#             print('This shouldn\\'t happen')\n",
    "    def subsample_objs(objs, obj_idx, size):\n",
    "        idx = obj_idx[np.random.random_integers(0,obj_idx.size-1, size=(size,))]\n",
    "        copy_obj = []\n",
    "        for obj in objs[idx]:\n",
    "            copy_obj.append(deepcopy(obj))\n",
    "        return np.asarray(copy_obj)\n",
    "    def set_label_to_noobj(objs, obj_idx):\n",
    "        N = np.int_(np.float_(obj_idx.size) / 5)\n",
    "        idx = np.arange(obj_idx.size)\n",
    "        np.random.shuffle(idx)\n",
    "        for obj in objs[obj_idx[idx[:N]]]:\n",
    "            obj['label']  = 'noobj'\n",
    "        return objs\n",
    "    \n",
    "    # return flat list of objects\n",
    "    objs = get_objects(annotations)\n",
    "    \n",
    "    # get number from label\n",
    "    labels = np.asarray([get_num_from_label(obj['label']) for obj in objs])\n",
    "    \n",
    "    idx = np.arange(labels.size)\n",
    "    idx_car = idx[labels==0]\n",
    "    idx_bicycle = idx[labels==1]\n",
    "    idx_bike = idx[labels==2]\n",
    "    idx_person = idx[labels==3]\n",
    "        \n",
    "    max_labels = np.max([idx_car.size, idx_bicycle.size, idx_bike.size, idx_person.size])\n",
    "    \n",
    "    # get subsamples to get equal number of classes\n",
    "    new_car = subsample_objs(objs, idx_car, max_labels - idx_car.size)\n",
    "    new_bicycle = subsample_objs(objs, idx_bicycle, max_labels - idx_bicycle.size)\n",
    "    new_bike = subsample_objs(objs, idx_bike, max_labels - idx_bike.size)\n",
    "    new_person = subsample_objs(objs, idx_person, max_labels - idx_person.size)\n",
    "    \n",
    "    # add new samples\n",
    "    objs = np.concatenate((objs, new_car, new_bicycle, new_bike, new_person))\n",
    "    \n",
    "    # get labels again\n",
    "    labels = np.asarray([get_num_from_label(obj['label']) for obj in objs])\n",
    "    \n",
    "    idx = np.arange(labels.size)\n",
    "    idx_car = idx[labels==0]\n",
    "    idx_bicycle = idx[labels==1]\n",
    "    idx_bike = idx[labels==2]\n",
    "    idx_person = idx[labels==3]\n",
    "        \n",
    "    # set some of the objects to be used as an example of having no object\n",
    "    objs = set_label_to_noobj(objs, idx_car)\n",
    "    objs = set_label_to_noobj(objs, idx_bicycle)\n",
    "    objs = set_label_to_noobj(objs, idx_bike)\n",
    "    objs = set_label_to_noobj(objs, idx_person)\n",
    "    \n",
    "    np.random.shuffle(objs)\n",
    "    \n",
    "    cnt = 0\n",
    "    while cnt < augment * objs.size:\n",
    "        Xbatch = np.zeros((batch_size, 3) + size)\n",
    "        ybatch = np.zeros((batch_size,))\n",
    "        batch_cnt = 0\n",
    "        for j in range(batch_size):\n",
    "            if cnt < augment * objs.size:\n",
    "                obj = objs[cnt % objs.size]\n",
    "                im = imread(obj['image'])\n",
    "                box = Box(*(obj['p1'] + obj['p2']))\n",
    "                if obj['label'] == 'noobj':\n",
    "                    iou = .08 * np.random.rand()\n",
    "                else:\n",
    "                    iou = .6 + 0.4 * np.random.rand()\n",
    "                box = Box.gen_randombox(iou, box)\n",
    "                im = box.subimage(im)\n",
    "                if im.shape.__len__() == 2:\n",
    "                    im = im.reshape(im.shape + (1,))\n",
    "                    im = np.concatenate((im, im, im), axis=2)\n",
    "                elif im.shape[2] == 4:\n",
    "                    im = im[:,:,:3]\n",
    "                if not (im.shape[0] == 0 or im.shape[1] == 0):\n",
    "                    im = resize(im, size).swapaxes(2,1).swapaxes(1,0)\n",
    "                    Xbatch[batch_cnt] = im\n",
    "                    ybatch[batch_cnt] = get_num_from_label(obj['label'])\n",
    "                    batch_cnt += 1\n",
    "            cnt += 1\n",
    "        if batch_cnt < batch_size - 1:\n",
    "            Xbatch, ybatch = Xbatch[:batch_cnt], ybatch[:batch_cnt]\n",
    "        yield Xbatch.astype(theano.config.floatX), ybatch.astype(np.int32)"
   ]
  },
  {
   "cell_type": "markdown",
   "metadata": {},
   "source": [
    "<b>Now we define the net for recognition.</b>"
   ]
  },
  {
   "cell_type": "code",
   "execution_count": 200,
   "metadata": {
    "collapsed": true
   },
   "outputs": [],
   "source": [
    "net = {}\n",
    "net['input'] = InputLayer((None,3,200,200))\n",
    "net['conv1'] = Conv2DLayer(net['input'], 16, (3,3))\n",
    "net['conv2'] = Conv2DLayer(net['conv1'], 16, (3,3))\n",
    "net['pool1'] = Pool2DLayer(net['conv2'], (2,2))\n",
    "net['conv3'] = Conv2DLayer(net['pool1'], 32, (3,3))\n",
    "net['conv4'] = Conv2DLayer(net['conv3'], 32, (3,3))\n",
    "net['pool2'] = Pool2DLayer(net['conv4'], (2,2))\n",
    "net['conv5'] = Conv2DLayer(net['pool2'], 64, (3,3))\n",
    "net['conv6'] = Conv2DLayer(net['conv5'], 64, (3,3))\n",
    "net['pool3'] = Pool2DLayer(net['conv6'], (2,2))\n",
    "net['conv7'] = Conv2DLayer(net['pool3'], 64, (3,3))\n",
    "net['conv8'] = Conv2DLayer(net['conv7'], 64, (3,3))\n",
    "net['pool4'] = Pool2DLayer(net['conv8'], (2,2))\n",
    "net['dense1'] = DenseLayer(dropout(net['pool4'], p=.8), 1000)\n",
    "net['dense2'] = DenseLayer(dropout(net['dense1'], p=.8), 1000)\n",
    "net['output'] = DenseLayer(dropout(net['dense2'], p=.5), 5, nonlinearity=lasagne.nonlinearities.softmax)"
   ]
  },
  {
   "cell_type": "markdown",
   "metadata": {},
   "source": [
    "<b>Train the network"
   ]
  },
  {
   "cell_type": "code",
   "execution_count": 201,
   "metadata": {
    "collapsed": true
   },
   "outputs": [],
   "source": [
    "num_epochs = 5\n",
    "batch_size = 100\n",
    "test_every = 2"
   ]
  },
  {
   "cell_type": "code",
   "execution_count": 202,
   "metadata": {
    "collapsed": true
   },
   "outputs": [],
   "source": [
    "target = T.ivector('target')"
   ]
  },
  {
   "cell_type": "code",
   "execution_count": 203,
   "metadata": {
    "collapsed": false
   },
   "outputs": [],
   "source": [
    "output_train = get_output(net['output'], deterministic=False)\n",
    "output_test = get_output(net['output'], deterministic=True)\n",
    "\n",
    "params = get_all_params(net['output'])\n",
    "\n",
    "cost_train = lasagne.objectives.categorical_crossentropy(output_train, target).mean()\n",
    "cost_test = lasagne.objectives.categorical_crossentropy(output_test, target).mean()\n",
    "\n",
    "updates = lasagne.updates.rmsprop(cost_train, params)\n",
    "\n",
    "train_fn = theano.function([net['input'].input_var, target], cost_train, updates=updates)\n",
    "test_fn = theano.function([net['input'].input_var, target], cost_test, updates=updates)"
   ]
  },
  {
   "cell_type": "code",
   "execution_count": 204,
   "metadata": {
    "collapsed": false
   },
   "outputs": [
    {
     "name": "stderr",
     "output_type": "stream",
     "text": [
      "/Users/colingaudreau/anaconda/lib/python2.7/site-packages/ipykernel/__main__.py:32: DeprecationWarning: using a non-integer number instead of an integer will result in an error in the future\n"
     ]
    },
    {
     "ename": "KeyboardInterrupt",
     "evalue": "",
     "output_type": "error",
     "traceback": [
      "\u001b[0;31m---------------------------------------------------------------------------\u001b[0m",
      "\u001b[0;31mKeyboardInterrupt\u001b[0m                         Traceback (most recent call last)",
      "\u001b[0;32m<ipython-input-204-a273c26c76bb>\u001b[0m in \u001b[0;36m<module>\u001b[0;34m()\u001b[0m\n\u001b[1;32m      6\u001b[0m \u001b[0;34m\u001b[0m\u001b[0m\n\u001b[1;32m      7\u001b[0m     \u001b[0;32mfor\u001b[0m \u001b[0mXbatch\u001b[0m\u001b[0;34m,\u001b[0m \u001b[0mybatch\u001b[0m \u001b[0;32min\u001b[0m \u001b[0mgenerate_data\u001b[0m\u001b[0;34m(\u001b[0m\u001b[0mtest_annotations\u001b[0m\u001b[0;34m)\u001b[0m\u001b[0;34m:\u001b[0m\u001b[0;34m\u001b[0m\u001b[0m\n\u001b[0;32m----> 8\u001b[0;31m         \u001b[0mbatch_loss\u001b[0m\u001b[0;34m.\u001b[0m\u001b[0mappend\u001b[0m\u001b[0;34m(\u001b[0m\u001b[0mtrain_fn\u001b[0m\u001b[0;34m(\u001b[0m\u001b[0mXbatch\u001b[0m\u001b[0;34m,\u001b[0m \u001b[0mybatch\u001b[0m\u001b[0;34m)\u001b[0m\u001b[0;34m)\u001b[0m\u001b[0;34m\u001b[0m\u001b[0m\n\u001b[0m\u001b[1;32m      9\u001b[0m \u001b[0;34m\u001b[0m\u001b[0m\n\u001b[1;32m     10\u001b[0m     \u001b[0mtrain_loss\u001b[0m\u001b[0;34m[\u001b[0m\u001b[0mepoch\u001b[0m\u001b[0;34m]\u001b[0m \u001b[0;34m=\u001b[0m \u001b[0mnp\u001b[0m\u001b[0;34m.\u001b[0m\u001b[0mmean\u001b[0m\u001b[0;34m(\u001b[0m\u001b[0mbatch_loss\u001b[0m\u001b[0;34m)\u001b[0m\u001b[0;34m\u001b[0m\u001b[0m\n",
      "\u001b[0;32m/Library/Python/2.7/site-packages/theano/compile/function_module.pyc\u001b[0m in \u001b[0;36m__call__\u001b[0;34m(self, *args, **kwargs)\u001b[0m\n\u001b[1;32m    897\u001b[0m         \u001b[0;32mtry\u001b[0m\u001b[0;34m:\u001b[0m\u001b[0;34m\u001b[0m\u001b[0m\n\u001b[1;32m    898\u001b[0m             \u001b[0moutputs\u001b[0m \u001b[0;34m=\u001b[0m\u001b[0;31m\\\u001b[0m\u001b[0;34m\u001b[0m\u001b[0m\n\u001b[0;32m--> 899\u001b[0;31m                 \u001b[0mself\u001b[0m\u001b[0;34m.\u001b[0m\u001b[0mfn\u001b[0m\u001b[0;34m(\u001b[0m\u001b[0;34m)\u001b[0m \u001b[0;32mif\u001b[0m \u001b[0moutput_subset\u001b[0m \u001b[0;32mis\u001b[0m \u001b[0mNone\u001b[0m \u001b[0;32melse\u001b[0m\u001b[0;31m\\\u001b[0m\u001b[0;34m\u001b[0m\u001b[0m\n\u001b[0m\u001b[1;32m    900\u001b[0m                 \u001b[0mself\u001b[0m\u001b[0;34m.\u001b[0m\u001b[0mfn\u001b[0m\u001b[0;34m(\u001b[0m\u001b[0moutput_subset\u001b[0m\u001b[0;34m=\u001b[0m\u001b[0moutput_subset\u001b[0m\u001b[0;34m)\u001b[0m\u001b[0;34m\u001b[0m\u001b[0m\n\u001b[1;32m    901\u001b[0m         \u001b[0;32mexcept\u001b[0m \u001b[0mException\u001b[0m\u001b[0;34m:\u001b[0m\u001b[0;34m\u001b[0m\u001b[0m\n",
      "\u001b[0;31mKeyboardInterrupt\u001b[0m: "
     ]
    }
   ],
   "source": [
    "train_loss = np.zeros((num_epochs,))\n",
    "test_loss = np.zeros((num_epochs,))\n",
    "\n",
    "for epoch in range(num_epochs):\n",
    "    batch_loss = []\n",
    "    \n",
    "    for Xbatch, ybatch in generate_data(test_annotations):\n",
    "        batch_loss.append(train_fn(Xbatch, ybatch))\n",
    "    \n",
    "    train_loss[epoch] = np.mean(batch_loss)\n",
    "    print('Training loss: %.4f' % (train_loss[epoch],))\n",
    "    \n",
    "    if epoch % test_every == 0:\n",
    "        batch_loss = []\n",
    "        for Xbatch, ybatch in generate_data(train_annotations, augment=1, batch_size=2000):\n",
    "            batch_loss.append(test_fn(Xbatch, ybatch))\n",
    "        test_loss[epoch] = np.mean(batch_loss)\n",
    "        print('Test loss: %.4f' % (test_loss[epoch],))"
   ]
  },
  {
   "cell_type": "code",
   "execution_count": null,
   "metadata": {
    "collapsed": true
   },
   "outputs": [],
   "source": []
  }
 ],
 "metadata": {
  "kernelspec": {
   "display_name": "Python 2",
   "language": "python",
   "name": "python2"
  },
  "language_info": {
   "codemirror_mode": {
    "name": "ipython",
    "version": 2
   },
   "file_extension": ".py",
   "mimetype": "text/x-python",
   "name": "python",
   "nbconvert_exporter": "python",
   "pygments_lexer": "ipython2",
   "version": "2.7.11"
  }
 },
 "nbformat": 4,
 "nbformat_minor": 0
}
