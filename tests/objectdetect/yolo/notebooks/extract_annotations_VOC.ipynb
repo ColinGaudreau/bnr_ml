{
 "cells": [
  {
   "cell_type": "markdown",
   "metadata": {},
   "source": [
    "<p style=\"font-size: 14pt; text-align:center;\">\n",
    "Script to extract location of images + annotations for each of these images\n",
    "</p>"
   ]
  },
  {
   "cell_type": "code",
   "execution_count": 3,
   "metadata": {
    "collapsed": false
   },
   "outputs": [],
   "source": [
    "%matplotlib inline\n",
    "import numpy as np\n",
    "from glob import glob\n",
    "import re\n",
    "import pickle as pk\n",
    "\n",
    "import pdb"
   ]
  },
  {
   "cell_type": "code",
   "execution_count": 21,
   "metadata": {
    "collapsed": true
   },
   "outputs": [],
   "source": [
    "annotation_list = glob('../../../../data/PascalVOC/VOC2005_*/Annotations/**/*.txt')"
   ]
  },
  {
   "cell_type": "code",
   "execution_count": 22,
   "metadata": {
    "collapsed": false
   },
   "outputs": [
    {
     "data": {
      "text/plain": [
       "['../../../../data/PascalVOC/VOC2005_1/Annotations/Caltech_cars/image_0001.txt',\n",
       " '../../../../data/PascalVOC/VOC2005_1/Annotations/Caltech_cars/image_0007.txt',\n",
       " '../../../../data/PascalVOC/VOC2005_1/Annotations/Caltech_cars/image_0010.txt',\n",
       " '../../../../data/PascalVOC/VOC2005_1/Annotations/Caltech_cars/image_0034.txt',\n",
       " '../../../../data/PascalVOC/VOC2005_1/Annotations/Caltech_cars/image_0035.txt',\n",
       " '../../../../data/PascalVOC/VOC2005_1/Annotations/Caltech_cars/image_0038.txt',\n",
       " '../../../../data/PascalVOC/VOC2005_1/Annotations/Caltech_cars/image_0043.txt',\n",
       " '../../../../data/PascalVOC/VOC2005_1/Annotations/Caltech_cars/image_0047.txt',\n",
       " '../../../../data/PascalVOC/VOC2005_1/Annotations/Caltech_cars/image_0060.txt',\n",
       " '../../../../data/PascalVOC/VOC2005_1/Annotations/Caltech_cars/image_0067.txt']"
      ]
     },
     "execution_count": 22,
     "metadata": {},
     "output_type": "execute_result"
    }
   ],
   "source": [
    "annotation_list[:10]"
   ]
  },
  {
   "cell_type": "code",
   "execution_count": 23,
   "metadata": {
    "collapsed": false
   },
   "outputs": [],
   "source": [
    "def parse_annotation(filename, imbase='/usr/local/python/bnr_ml/data/PascalVOC/'):\n",
    "    p_inquote = re.compile('\\\"(.+)\\\"')\n",
    "    p_inquote_lab = re.compile('\\\"(.+)\\\" : \\\"(.+)\\\"')\n",
    "    p_coord = re.compile('\\(\\s*(-?\\d+)\\s*,\\s*(-?\\d+)\\s*\\)')\n",
    "    with open(filename, 'r') as f:\n",
    "        line = f.readline()\n",
    "        newobj = True\n",
    "        imname, objlabel, objcoord = None, None, None\n",
    "        objects = []\n",
    "        while line:\n",
    "            try:\n",
    "                if 'Image filename' in line:\n",
    "                    imname = p_inquote.findall(line)[0]\n",
    "                if 'Original label for object' in line:\n",
    "                    objlabel = p_inquote_lab.findall(line)[0]\n",
    "                    if objlabel[1] == 'none':\n",
    "                        objlabel = objlabel[0]\n",
    "                    else:\n",
    "                        objlabel = objlabel[1]\n",
    "                if 'Bounding box for object' in line:\n",
    "                    objcoord = p_coord.findall(line)\n",
    "\n",
    "                if imname is not None and objlabel is not None and objcoord is not None:\n",
    "                    obj = {}\n",
    "                    obj['image'] = imbase + imname\n",
    "                    obj['label'] = objlabel\n",
    "                    obj['p1'] = tuple([int(pix) for pix in objcoord[0]])\n",
    "                    obj['p2'] = tuple([int(pix) for pix in objcoord[1]])\n",
    "                    objlabel, objcoord = None, None\n",
    "                    objects.append(obj)\n",
    "                line = f.readline()\n",
    "            except:\n",
    "                pdb.set_trace()\n",
    "        return objects\n",
    "            "
   ]
  },
  {
   "cell_type": "code",
   "execution_count": 24,
   "metadata": {
    "collapsed": false
   },
   "outputs": [],
   "source": [
    "annotations = []\n",
    "for annotation in annotation_list:\n",
    "    annotations.append(parse_annotation(annotation))"
   ]
  },
  {
   "cell_type": "code",
   "execution_count": 25,
   "metadata": {
    "collapsed": false
   },
   "outputs": [
    {
     "data": {
      "text/plain": [
       "[[{'image': '/usr/local/python/bnr_ml/data/PascalVOC/VOC2005_2/PNGImages/voiture/wwwprestanimcombelgiqueprofessionnelsdivers92lecoffreaideespage.png',\n",
       "   'label': 'PAScar',\n",
       "   'p1': (27, 270),\n",
       "   'p2': (235, 366)}],\n",
       " [{'image': '/usr/local/python/bnr_ml/data/PascalVOC/VOC2005_2/PNGImages/voiture/wwwsalebetenetarchivesimagesjuin04awestchester.png',\n",
       "   'label': 'PAScarRear',\n",
       "   'p1': (268, 202),\n",
       "   'p2': (399, 330)},\n",
       "  {'image': '/usr/local/python/bnr_ml/data/PascalVOC/VOC2005_2/PNGImages/voiture/wwwsalebetenetarchivesimagesjuin04awestchester.png',\n",
       "   'label': 'PAScarRear',\n",
       "   'p1': (431, 216),\n",
       "   'p2': (577, 310)},\n",
       "  {'image': '/usr/local/python/bnr_ml/data/PascalVOC/VOC2005_2/PNGImages/voiture/wwwsalebetenetarchivesimagesjuin04awestchester.png',\n",
       "   'label': 'PAScarRear',\n",
       "   'p1': (386, 230),\n",
       "   'p2': (450, 278)},\n",
       "  {'image': '/usr/local/python/bnr_ml/data/PascalVOC/VOC2005_2/PNGImages/voiture/wwwsalebetenetarchivesimagesjuin04awestchester.png',\n",
       "   'label': 'PAScar',\n",
       "   'p1': (-38, 221),\n",
       "   'p2': (172, 332)},\n",
       "  {'image': '/usr/local/python/bnr_ml/data/PascalVOC/VOC2005_2/PNGImages/voiture/wwwsalebetenetarchivesimagesjuin04awestchester.png',\n",
       "   'label': 'PAScarRear',\n",
       "   'p1': (188, 231),\n",
       "   'p2': (245, 280)}],\n",
       " [{'image': '/usr/local/python/bnr_ml/data/PascalVOC/VOC2005_2/PNGImages/voiture/wwwsalebetenetarchivesimagesjuin04sortie57.png',\n",
       "   'label': 'PAScarRear',\n",
       "   'p1': (293, 229),\n",
       "   'p2': (428, 323)},\n",
       "  {'image': '/usr/local/python/bnr_ml/data/PascalVOC/VOC2005_2/PNGImages/voiture/wwwsalebetenetarchivesimagesjuin04sortie57.png',\n",
       "   'label': 'PAScarRear',\n",
       "   'p1': (139, 253),\n",
       "   'p2': (205, 310)},\n",
       "  {'image': '/usr/local/python/bnr_ml/data/PascalVOC/VOC2005_2/PNGImages/voiture/wwwsalebetenetarchivesimagesjuin04sortie57.png',\n",
       "   'label': 'PAScarRear',\n",
       "   'p1': (219, 262),\n",
       "   'p2': (260, 290)}],\n",
       " [{'image': '/usr/local/python/bnr_ml/data/PascalVOC/VOC2005_2/PNGImages/voiture/wwwsfrautomobilesfrpagesImagesMini2.png',\n",
       "   'label': 'PAScar',\n",
       "   'p1': (7, 12),\n",
       "   'p2': (244, 179)}],\n",
       " [{'image': '/usr/local/python/bnr_ml/data/PascalVOC/VOC2005_2/PNGImages/voiture/wwwstrasbourgcomcarrentalcar.png',\n",
       "   'label': 'PAScarSide',\n",
       "   'p1': (26, 134),\n",
       "   'p2': (150, 183)}],\n",
       " [{'image': '/usr/local/python/bnr_ml/data/PascalVOC/VOC2005_2/PNGImages/voiture/wwwsymbiozdesigncomwickedVoiture.png',\n",
       "   'label': 'PAScar',\n",
       "   'p1': (69, 63),\n",
       "   'p2': (264, 166)},\n",
       "  {'image': '/usr/local/python/bnr_ml/data/PascalVOC/VOC2005_2/PNGImages/voiture/wwwsymbiozdesigncomwickedVoiture.png',\n",
       "   'label': 'PASpersonStanding',\n",
       "   'p1': (72, 47),\n",
       "   'p2': (129, 193)},\n",
       "  {'image': '/usr/local/python/bnr_ml/data/PascalVOC/VOC2005_2/PNGImages/voiture/wwwsymbiozdesigncomwickedVoiture.png',\n",
       "   'label': 'PASpersonStanding',\n",
       "   'p1': (44, 46),\n",
       "   'p2': (80, 187)}],\n",
       " [{'image': '/usr/local/python/bnr_ml/data/PascalVOC/VOC2005_2/PNGImages/voiture/wwwtaxihenricomgifsvoiture.png',\n",
       "   'label': 'PAScar',\n",
       "   'p1': (38, 146),\n",
       "   'p2': (264, 228)},\n",
       "  {'image': '/usr/local/python/bnr_ml/data/PascalVOC/VOC2005_2/PNGImages/voiture/wwwtaxihenricomgifsvoiture.png',\n",
       "   'label': 'PASpersonStanding',\n",
       "   'p1': (327, 137),\n",
       "   'p2': (348, 221)},\n",
       "  {'image': '/usr/local/python/bnr_ml/data/PascalVOC/VOC2005_2/PNGImages/voiture/wwwtaxihenricomgifsvoiture.png',\n",
       "   'label': 'PASpersonStanding',\n",
       "   'p1': (284, 136),\n",
       "   'p2': (305, 220)},\n",
       "  {'image': '/usr/local/python/bnr_ml/data/PascalVOC/VOC2005_2/PNGImages/voiture/wwwtaxihenricomgifsvoiture.png',\n",
       "   'label': 'PASpersonStanding',\n",
       "   'p1': (303, 138),\n",
       "   'p2': (330, 211)}],\n",
       " [{'image': '/usr/local/python/bnr_ml/data/PascalVOC/VOC2005_2/PNGImages/voiture/wwwtranspolitancomvoiture.png',\n",
       "   'label': 'PAScar',\n",
       "   'p1': (39, 39),\n",
       "   'p2': (263, 150)}],\n",
       " [{'image': '/usr/local/python/bnr_ml/data/PascalVOC/VOC2005_2/PNGImages/voiture/wwwventtropicalcomiconoalbum1Lamythiquevoitureduclub.png',\n",
       "   'label': 'PAScarFrontal',\n",
       "   'p1': (112, 98),\n",
       "   'p2': (267, 247)}],\n",
       " [{'image': '/usr/local/python/bnr_ml/data/PascalVOC/VOC2005_2/PNGImages/voiture/zazadesignfreefrforumhvoiture.png',\n",
       "   'label': 'PAScar',\n",
       "   'p1': (32, 91),\n",
       "   'p2': (351, 254)},\n",
       "  {'image': '/usr/local/python/bnr_ml/data/PascalVOC/VOC2005_2/PNGImages/voiture/zazadesignfreefrforumhvoiture.png',\n",
       "   'label': 'PAScarSide',\n",
       "   'p1': (284, 70),\n",
       "   'p2': (331, 90)}]]"
      ]
     },
     "execution_count": 25,
     "metadata": {},
     "output_type": "execute_result"
    }
   ],
   "source": [
    "annotations[-10:]"
   ]
  },
  {
   "cell_type": "code",
   "execution_count": 27,
   "metadata": {
    "collapsed": false
   },
   "outputs": [],
   "source": [
    "tmp = {}\n",
    "tmp['annotations'] = annotations\n",
    "annotations = tmp\n",
    "with open('/usr/local/python/bnr_ml/data/PascalVOC/annotations.txt', 'wb') as f:\n",
    "    pk.dump(annotations, f)"
   ]
  },
  {
   "cell_type": "code",
   "execution_count": 28,
   "metadata": {
    "collapsed": false
   },
   "outputs": [],
   "source": [
    "with open('/usr/local/python/bnr_ml/data/PascalVOC/annotations.txt', 'rb') as f:\n",
    "    an = pk.load(f)"
   ]
  },
  {
   "cell_type": "code",
   "execution_count": 32,
   "metadata": {
    "collapsed": false
   },
   "outputs": [
    {
     "data": {
      "text/plain": [
       "[[{'image': '/usr/local/python/bnr_ml/data/PascalVOC/VOC2005_2/PNGImages/voiture/wwwprestanimcombelgiqueprofessionnelsdivers92lecoffreaideespage.png',\n",
       "   'label': 'PAScar',\n",
       "   'p1': (27, 270),\n",
       "   'p2': (235, 366)}],\n",
       " [{'image': '/usr/local/python/bnr_ml/data/PascalVOC/VOC2005_2/PNGImages/voiture/wwwsalebetenetarchivesimagesjuin04awestchester.png',\n",
       "   'label': 'PAScarRear',\n",
       "   'p1': (268, 202),\n",
       "   'p2': (399, 330)},\n",
       "  {'image': '/usr/local/python/bnr_ml/data/PascalVOC/VOC2005_2/PNGImages/voiture/wwwsalebetenetarchivesimagesjuin04awestchester.png',\n",
       "   'label': 'PAScarRear',\n",
       "   'p1': (431, 216),\n",
       "   'p2': (577, 310)},\n",
       "  {'image': '/usr/local/python/bnr_ml/data/PascalVOC/VOC2005_2/PNGImages/voiture/wwwsalebetenetarchivesimagesjuin04awestchester.png',\n",
       "   'label': 'PAScarRear',\n",
       "   'p1': (386, 230),\n",
       "   'p2': (450, 278)},\n",
       "  {'image': '/usr/local/python/bnr_ml/data/PascalVOC/VOC2005_2/PNGImages/voiture/wwwsalebetenetarchivesimagesjuin04awestchester.png',\n",
       "   'label': 'PAScar',\n",
       "   'p1': (-38, 221),\n",
       "   'p2': (172, 332)},\n",
       "  {'image': '/usr/local/python/bnr_ml/data/PascalVOC/VOC2005_2/PNGImages/voiture/wwwsalebetenetarchivesimagesjuin04awestchester.png',\n",
       "   'label': 'PAScarRear',\n",
       "   'p1': (188, 231),\n",
       "   'p2': (245, 280)}],\n",
       " [{'image': '/usr/local/python/bnr_ml/data/PascalVOC/VOC2005_2/PNGImages/voiture/wwwsalebetenetarchivesimagesjuin04sortie57.png',\n",
       "   'label': 'PAScarRear',\n",
       "   'p1': (293, 229),\n",
       "   'p2': (428, 323)},\n",
       "  {'image': '/usr/local/python/bnr_ml/data/PascalVOC/VOC2005_2/PNGImages/voiture/wwwsalebetenetarchivesimagesjuin04sortie57.png',\n",
       "   'label': 'PAScarRear',\n",
       "   'p1': (139, 253),\n",
       "   'p2': (205, 310)},\n",
       "  {'image': '/usr/local/python/bnr_ml/data/PascalVOC/VOC2005_2/PNGImages/voiture/wwwsalebetenetarchivesimagesjuin04sortie57.png',\n",
       "   'label': 'PAScarRear',\n",
       "   'p1': (219, 262),\n",
       "   'p2': (260, 290)}],\n",
       " [{'image': '/usr/local/python/bnr_ml/data/PascalVOC/VOC2005_2/PNGImages/voiture/wwwsfrautomobilesfrpagesImagesMini2.png',\n",
       "   'label': 'PAScar',\n",
       "   'p1': (7, 12),\n",
       "   'p2': (244, 179)}],\n",
       " [{'image': '/usr/local/python/bnr_ml/data/PascalVOC/VOC2005_2/PNGImages/voiture/wwwstrasbourgcomcarrentalcar.png',\n",
       "   'label': 'PAScarSide',\n",
       "   'p1': (26, 134),\n",
       "   'p2': (150, 183)}],\n",
       " [{'image': '/usr/local/python/bnr_ml/data/PascalVOC/VOC2005_2/PNGImages/voiture/wwwsymbiozdesigncomwickedVoiture.png',\n",
       "   'label': 'PAScar',\n",
       "   'p1': (69, 63),\n",
       "   'p2': (264, 166)},\n",
       "  {'image': '/usr/local/python/bnr_ml/data/PascalVOC/VOC2005_2/PNGImages/voiture/wwwsymbiozdesigncomwickedVoiture.png',\n",
       "   'label': 'PASpersonStanding',\n",
       "   'p1': (72, 47),\n",
       "   'p2': (129, 193)},\n",
       "  {'image': '/usr/local/python/bnr_ml/data/PascalVOC/VOC2005_2/PNGImages/voiture/wwwsymbiozdesigncomwickedVoiture.png',\n",
       "   'label': 'PASpersonStanding',\n",
       "   'p1': (44, 46),\n",
       "   'p2': (80, 187)}],\n",
       " [{'image': '/usr/local/python/bnr_ml/data/PascalVOC/VOC2005_2/PNGImages/voiture/wwwtaxihenricomgifsvoiture.png',\n",
       "   'label': 'PAScar',\n",
       "   'p1': (38, 146),\n",
       "   'p2': (264, 228)},\n",
       "  {'image': '/usr/local/python/bnr_ml/data/PascalVOC/VOC2005_2/PNGImages/voiture/wwwtaxihenricomgifsvoiture.png',\n",
       "   'label': 'PASpersonStanding',\n",
       "   'p1': (327, 137),\n",
       "   'p2': (348, 221)},\n",
       "  {'image': '/usr/local/python/bnr_ml/data/PascalVOC/VOC2005_2/PNGImages/voiture/wwwtaxihenricomgifsvoiture.png',\n",
       "   'label': 'PASpersonStanding',\n",
       "   'p1': (284, 136),\n",
       "   'p2': (305, 220)},\n",
       "  {'image': '/usr/local/python/bnr_ml/data/PascalVOC/VOC2005_2/PNGImages/voiture/wwwtaxihenricomgifsvoiture.png',\n",
       "   'label': 'PASpersonStanding',\n",
       "   'p1': (303, 138),\n",
       "   'p2': (330, 211)}],\n",
       " [{'image': '/usr/local/python/bnr_ml/data/PascalVOC/VOC2005_2/PNGImages/voiture/wwwtranspolitancomvoiture.png',\n",
       "   'label': 'PAScar',\n",
       "   'p1': (39, 39),\n",
       "   'p2': (263, 150)}],\n",
       " [{'image': '/usr/local/python/bnr_ml/data/PascalVOC/VOC2005_2/PNGImages/voiture/wwwventtropicalcomiconoalbum1Lamythiquevoitureduclub.png',\n",
       "   'label': 'PAScarFrontal',\n",
       "   'p1': (112, 98),\n",
       "   'p2': (267, 247)}],\n",
       " [{'image': '/usr/local/python/bnr_ml/data/PascalVOC/VOC2005_2/PNGImages/voiture/zazadesignfreefrforumhvoiture.png',\n",
       "   'label': 'PAScar',\n",
       "   'p1': (32, 91),\n",
       "   'p2': (351, 254)},\n",
       "  {'image': '/usr/local/python/bnr_ml/data/PascalVOC/VOC2005_2/PNGImages/voiture/zazadesignfreefrforumhvoiture.png',\n",
       "   'label': 'PAScarSide',\n",
       "   'p1': (284, 70),\n",
       "   'p2': (331, 90)}]]"
      ]
     },
     "execution_count": 32,
     "metadata": {},
     "output_type": "execute_result"
    }
   ],
   "source": [
    "an['annotations'][-10:]"
   ]
  },
  {
   "cell_type": "code",
   "execution_count": null,
   "metadata": {
    "collapsed": true
   },
   "outputs": [],
   "source": []
  }
 ],
 "metadata": {
  "kernelspec": {
   "display_name": "Python 2",
   "language": "python",
   "name": "python2"
  },
  "language_info": {
   "codemirror_mode": {
    "name": "ipython",
    "version": 2
   },
   "file_extension": ".py",
   "mimetype": "text/x-python",
   "name": "python",
   "nbconvert_exporter": "python",
   "pygments_lexer": "ipython2",
   "version": "2.7.11"
  }
 },
 "nbformat": 4,
 "nbformat_minor": 0
}
