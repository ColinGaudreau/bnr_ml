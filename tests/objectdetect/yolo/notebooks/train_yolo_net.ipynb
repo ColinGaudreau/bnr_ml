{
 "cells": [
  {
   "cell_type": "markdown",
   "metadata": {},
   "source": [
    "<p style=\"font-size:14pt;text-align:center;\">\n",
    "Pretraining network on pascal VOC.\n",
    "</p>"
   ]
  },
  {
   "cell_type": "code",
   "execution_count": 1,
   "metadata": {
    "collapsed": false
   },
   "outputs": [
    {
     "name": "stderr",
     "output_type": "stream",
     "text": [
      "Using gpu device 0: GeForce GTX 960 (CNMeM is enabled with initial size: 80.0% of memory, cuDNN not available)\n",
      "/Library/Python/2.7/site-packages/theano/tensor/signal/downsample.py:6: UserWarning: downsample module has been moved to the theano.tensor.signal.pool module.\n",
      "  \"downsample module has been moved to the theano.tensor.signal.pool module.\")\n"
     ]
    }
   ],
   "source": [
    "%matplotlib inline\n",
    "from matplotlib import pyplot as plt\n",
    "import numpy as np\n",
    "import theano\n",
    "from theano import tensor as T\n",
    "import pickle as pk\n",
    "import re\n",
    "from copy import deepcopy\n",
    "import sys\n",
    "\n",
    "# image processing\n",
    "from skimage.io import imread\n",
    "from skimage.transform import resize\n",
    "\n",
    "import lasagne\n",
    "from lasagne.layers import Pool2DLayer, Conv2DLayer, dropout, \\\n",
    "    DenseLayer, InputLayer, get_output, get_all_params\n",
    "    \n",
    "import bnr_ml.objectdetect.yolo as yolo\n",
    "\n",
    "import pdb"
   ]
  },
  {
   "cell_type": "code",
   "execution_count": 2,
   "metadata": {
    "collapsed": true
   },
   "outputs": [],
   "source": [
    "with open('/usr/local/python/bnr_ml/data/PascalVOC/annotations.txt', 'rb') as f:\n",
    "    annotations = pk.load(f)['annotations']"
   ]
  },
  {
   "cell_type": "code",
   "execution_count": 3,
   "metadata": {
    "collapsed": true
   },
   "outputs": [],
   "source": [
    "def add_proper_labels(annotations):\n",
    "    for im in annotations:\n",
    "        for obj in im:\n",
    "            if 'car' in obj['label'].lower():\n",
    "                obj['label'] = 'car'\n",
    "            elif 'bicycle' in obj['label'].lower():\n",
    "                obj['label'] = 'bicycle'\n",
    "            elif 'person' in obj['label'].lower():\n",
    "                obj['label'] = 'person'\n",
    "            elif 'bike' in obj['label'].lower():\n",
    "                obj['label'] = 'bike'\n",
    "            else:\n",
    "                print obj"
   ]
  },
  {
   "cell_type": "code",
   "execution_count": 4,
   "metadata": {
    "collapsed": false
   },
   "outputs": [],
   "source": [
    "def get_label_counts(annotations):\n",
    "    counts = np.zeros((4,))\n",
    "    for im in annotations:\n",
    "        for obj in im:\n",
    "            if obj['label'] == 'car':\n",
    "                counts[0] += 1\n",
    "            elif obj['label'] == 'bicycle':\n",
    "                counts[1] += 1\n",
    "            elif obj['label'] == 'bike':\n",
    "                counts[2] += 1\n",
    "            else:\n",
    "                counts[3] += 1\n",
    "    return counts"
   ]
  },
  {
   "cell_type": "code",
   "execution_count": 5,
   "metadata": {
    "collapsed": false
   },
   "outputs": [],
   "source": [
    "add_proper_labels(annotations)"
   ]
  },
  {
   "cell_type": "code",
   "execution_count": 6,
   "metadata": {
    "collapsed": false
   },
   "outputs": [],
   "source": [
    "annotations = np.asarray(annotations)"
   ]
  },
  {
   "cell_type": "code",
   "execution_count": 7,
   "metadata": {
    "collapsed": true
   },
   "outputs": [],
   "source": [
    "counts = get_label_counts(annotations)"
   ]
  },
  {
   "cell_type": "code",
   "execution_count": 8,
   "metadata": {
    "collapsed": false
   },
   "outputs": [
    {
     "data": {
      "image/png": "[encoded data removed]",
      "text/plain": [
       "<matplotlib.figure.Figure at 0x118841c50>"
      ]
     },
     "metadata": {},
     "output_type": "display_data"
    }
   ],
   "source": [
    "plt.figure(figsize=(12,8))\n",
    "plt.title('Distribution of labels', fontsize=20)\n",
    "plt.bar(np.arange(counts.size), counts, color='red', alpha=.4)\n",
    "plt.xticks(np.arange(counts.size) + .5, ['car', 'bicycle', 'bike', 'person'], fontsize=14)\n",
    "plt.show()"
   ]
  },
  {
   "cell_type": "code",
   "execution_count": 9,
   "metadata": {
    "collapsed": true
   },
   "outputs": [],
   "source": [
    "np.random.seed(1991)"
   ]
  },
  {
   "cell_type": "markdown",
   "metadata": {},
   "source": [
    "<b>Split the annotations for training and testing, the reason I split by image and not individual object is so that when testing the performance, the network will never have seen any part of the test image."
   ]
  },
  {
   "cell_type": "code",
   "execution_count": 10,
   "metadata": {
    "collapsed": false
   },
   "outputs": [],
   "source": [
    "with open('indices.pkl', 'rb') as f:\n",
    "    indices = pk.load(f)\n",
    "    train_idx = indices['train_index']\n",
    "    test_idx = indices['test_index']"
   ]
  },
  {
   "cell_type": "code",
   "execution_count": 11,
   "metadata": {
    "collapsed": false
   },
   "outputs": [],
   "source": [
    "train_annotations = annotations[train_idx]\n",
    "test_annotations = annotations[test_idx]"
   ]
  },
  {
   "cell_type": "code",
   "execution_count": 12,
   "metadata": {
    "collapsed": false
   },
   "outputs": [],
   "source": [
    "class Box(object):\n",
    "    def __init__(self, xi,yi,xf,yf):\n",
    "        self.xi = xi\n",
    "        self.yi = yi\n",
    "        self.xf = xf\n",
    "        self.yf = yf\n",
    "    def iou(self, box):\n",
    "        isec = self.intersection(box)\n",
    "        union = self.size() + box.size() - isec.size()\n",
    "        return isec.size() / union\n",
    "    def intersection(self, box):\n",
    "        new_xi = max(self.xi, box.xi)\n",
    "        new_yi = max(self.yi, box.yi)\n",
    "        new_xf = min(self.xf, box.xf)\n",
    "        new_yf = min(self.yf, box.yf)\n",
    "        if new_xi > new_xf or new_yi > new_yf:\n",
    "            new_xi, new_yi, new_xf, new_yf = 0., 0., 0., 0.\n",
    "        return Box(new_xi, new_yi, new_xf, new_yf)\n",
    "    def size(self):\n",
    "        return (self.xf - self.xi) * (self.yf - self.yi)\n",
    "    def width(self):\n",
    "        return (self.xf - self.xi)\n",
    "    def height(self):\n",
    "        return (self.yf - self.yi)\n",
    "    def copy(self):\n",
    "        return Box(self.xi, self.yi, self.xf, self.yf)\n",
    "    def subimage(self, im):\n",
    "        xi = max(0, self.xi)\n",
    "        yi = max(0, self.yi)\n",
    "        xf = min(im.shape[1], self.xf)\n",
    "        yf = min(im.shape[0], self.yf)\n",
    "        return im[yi:yf, xi:xf]\n",
    "    def round(self):\n",
    "        self.xi, self.yi, self.xf, self.yf = round(self.xi), round(self.yi), round(self.xf), round(self.yf)\n",
    "    def __str__(self):\n",
    "        return '(' + str(self.xi) + ',' + str(self.yi) + ') (' + str(self.xf) + ',' + str(self.yf) + ')'\n",
    "    def __repr__(self):\n",
    "        return self.__str__()\n",
    "    @staticmethod\n",
    "    def gen_randombox(iou, box, eps=.5):\n",
    "        angle = 2 * np.pi * np.random.rand()\n",
    "        delx, dely = eps*np.cos(angle), eps*np.sin(angle)\n",
    "        new_box = box.copy()\n",
    "        while new_box.iou(box) > iou:\n",
    "            new_box.xi += delx\n",
    "            new_box.yi += dely\n",
    "            new_box.xf += delx\n",
    "            new_box.yf += dely\n",
    "        return new_box"
   ]
  },
  {
   "cell_type": "code",
   "execution_count": 13,
   "metadata": {
    "collapsed": false
   },
   "outputs": [],
   "source": [
    "def generate_data(annotations, size=(200,200), batch_size=100):\n",
    "    '''\n",
    "    augment: how many times do you want the data to be replicated\n",
    "    '''\n",
    "    def get_objects(annotations):\n",
    "        objs = []\n",
    "        for im in annotations:\n",
    "            objs.extend([deepcopy(obj) for obj in im])\n",
    "        return np.asarray(objs)\n",
    "    def get_num_from_label(label):\n",
    "        if label == 'car':\n",
    "            return 0\n",
    "        elif label == 'bicycle':\n",
    "            return 1\n",
    "        elif label == 'bike':\n",
    "            return 2\n",
    "        elif label == 'person':\n",
    "            return 3\n",
    "        elif label == 'noobj':\n",
    "            return 4\n",
    "        else:\n",
    "            pass\n",
    "#             print('This shouldn\\'t happen')\n",
    "    def subsample_objs(objs, obj_idx, size):\n",
    "        idx = obj_idx[np.random.random_integers(0,obj_idx.size-1, size=(size,))]\n",
    "        copy_obj = []\n",
    "        for obj in objs[idx]:\n",
    "            copy_obj.append(deepcopy(obj))\n",
    "        return np.asarray(copy_obj)\n",
    "    def set_label_to_noobj(objs, obj_idx):\n",
    "        N = np.int_(np.float_(obj_idx.size) / 5)\n",
    "        idx = np.arange(obj_idx.size)\n",
    "        np.random.shuffle(idx)\n",
    "        for obj in objs[obj_idx[idx[:N]]]:\n",
    "            obj['label']  = 'noobj'\n",
    "        return objs\n",
    "    \n",
    "    # return flat list of objects\n",
    "    objs = get_objects(annotations)\n",
    "    \n",
    "    # get number from label\n",
    "    labels = np.asarray([get_num_from_label(obj['label']) for obj in objs])\n",
    "    \n",
    "    idx = np.arange(labels.size)\n",
    "    idx_car = idx[labels==0]\n",
    "    idx_bicycle = idx[labels==1]\n",
    "    idx_bike = idx[labels==2]\n",
    "    idx_person = idx[labels==3]\n",
    "        \n",
    "    max_labels = np.max([idx_car.size, idx_bicycle.size, idx_bike.size, idx_person.size])\n",
    "    \n",
    "    # get subsamples to get equal number of classes\n",
    "    new_car = subsample_objs(objs, idx_car, max_labels - idx_car.size)\n",
    "    new_bicycle = subsample_objs(objs, idx_bicycle, max_labels - idx_bicycle.size)\n",
    "    new_bike = subsample_objs(objs, idx_bike, max_labels - idx_bike.size)\n",
    "    new_person = subsample_objs(objs, idx_person, max_labels - idx_person.size)\n",
    "    \n",
    "    # add new samples\n",
    "    objs = np.concatenate((objs, new_car, new_bicycle, new_bike, new_person))\n",
    "    \n",
    "    np.random.shuffle(objs)\n",
    "    \n",
    "    cnt = 0\n",
    "    while cnt < objs.size:\n",
    "        Xbatch = np.zeros((batch_size, 3) + size)\n",
    "        ybatch = np.zeros((batch_size, 4 + 4))\n",
    "        batch_cnt = 0\n",
    "        for j in range(batch_size):\n",
    "            if cnt < objs.size:\n",
    "                obj = objs[cnt]\n",
    "                im = imread(obj['image'])\n",
    "                im = im.astype(theano.config.floatX) / 255\n",
    "                xscale, yscale = np.float_(size[1]) / im.shape[1], np.float_(size[0]) / im.shape[0]\n",
    "#                 pdb.set_trace()\n",
    "                coord = np.asarray(obj['p1'] + obj['p2']).astype(theano.config.floatX)\n",
    "                coord[[0,2]] *= (xscale / 200)\n",
    "                coord[[1,3]] *= (yscale / 200)\n",
    "                coord[2:] = coord[2:] - coord[:2]\n",
    "                if im.shape.__len__() == 2:\n",
    "                    im = im.reshape(im.shape + (1,))\n",
    "                    im = np.concatenate((im, im, im), axis=2)\n",
    "                elif im.shape[2] == 4:\n",
    "                    im = im[:,:,:3]\n",
    "                if not (im.shape[0] == 0 or im.shape[1] == 0):\n",
    "                    im = resize(im, size).swapaxes(2,1).swapaxes(1,0)\n",
    "                    Xbatch[batch_cnt] = im\n",
    "                    ybatch[batch_cnt, :4] =  coord\n",
    "                    ybatch[batch_cnt, 4 + get_num_from_label(obj['label'])] += 1\n",
    "                    batch_cnt += 1\n",
    "            cnt += 1\n",
    "        if batch_cnt < batch_size - 1:\n",
    "            Xbatch, ybatch = Xbatch[:batch_cnt], ybatch[:batch_cnt]\n",
    "        yield Xbatch.astype(theano.config.floatX), ybatch.astype(theano.config.floatX)"
   ]
  },
  {
   "cell_type": "markdown",
   "metadata": {},
   "source": [
    "<b>Now we define the net for recognition.</b>"
   ]
  },
  {
   "cell_type": "code",
   "execution_count": 62,
   "metadata": {
    "collapsed": true
   },
   "outputs": [],
   "source": [
    "net = {}\n",
    "net['input'] = InputLayer((None,3,200,200))\n",
    "net['conv1'] = Conv2DLayer(net['input'], 16, (3,3))\n",
    "net['conv2'] = Conv2DLayer(net['conv1'], 16, (3,3))\n",
    "net['pool1'] = Pool2DLayer(net['conv2'], (2,2))\n",
    "net['conv3'] = Conv2DLayer(net['pool1'], 32, (3,3))\n",
    "net['conv4'] = Conv2DLayer(net['conv3'], 32, (3,3))\n",
    "net['pool2'] = Pool2DLayer(net['conv4'], (2,2))\n",
    "net['conv5'] = Conv2DLayer(net['pool2'], 64, (3,3))\n",
    "net['conv6'] = Conv2DLayer(net['conv5'], 64, (3,3))\n",
    "net['pool3'] = Pool2DLayer(net['conv6'], (2,2))\n",
    "net['conv7'] = Conv2DLayer(net['pool3'], 64, (3,3))\n",
    "net['conv8'] = Conv2DLayer(net['conv7'], 64, (3,3))\n",
    "net['pool4'] = Pool2DLayer(net['conv8'], (2,2))\n",
    "net['dense1'] = DenseLayer(dropout(net['pool4'], p=.8), 1000)\n",
    "net['dense2'] = DenseLayer(dropout(net['dense1'], p=.8), 1000)\n",
    "net['output'] = DenseLayer(dropout(net['dense2'], p=.5), 5, nonlinearity=lasagne.nonlinearities.softmax)"
   ]
  },
  {
   "cell_type": "markdown",
   "metadata": {},
   "source": [
    "<b>Load pre-trained weights</b>"
   ]
  },
  {
   "cell_type": "code",
   "execution_count": 63,
   "metadata": {
    "collapsed": false
   },
   "outputs": [],
   "source": [
    "with open('pretrained_weights.pkl', 'rb') as f:\n",
    "    weights = pk.load(f)\n",
    "    lasagne.layers.set_all_param_values(net['output'], weights)"
   ]
  },
  {
   "cell_type": "markdown",
   "metadata": {},
   "source": [
    "<b>Add extra layers to network for detection</b>"
   ]
  },
  {
   "cell_type": "code",
   "execution_count": 64,
   "metadata": {
    "collapsed": true
   },
   "outputs": [],
   "source": [
    "S = (9,9)\n",
    "B = 2\n",
    "C = 4"
   ]
  },
  {
   "cell_type": "code",
   "execution_count": 65,
   "metadata": {
    "collapsed": false
   },
   "outputs": [],
   "source": [
    "net['dense1'] = DenseLayer(dropout(net['pool4'], p=.8), 2048)\n",
    "net['output'] = DenseLayer(dropout(net['dense1'], p=.8), (S[0] * S[1]) * (5 * B + C), nonlinearity=None)"
   ]
  },
  {
   "cell_type": "markdown",
   "metadata": {},
   "source": [
    "<b>Train the network"
   ]
  },
  {
   "cell_type": "code",
   "execution_count": 66,
   "metadata": {
    "collapsed": true
   },
   "outputs": [],
   "source": [
    "num_epochs = 10\n",
    "batch_size = 100"
   ]
  },
  {
   "cell_type": "code",
   "execution_count": 112,
   "metadata": {
    "collapsed": false
   },
   "outputs": [
    {
     "data": {
      "text/plain": [
       "<module 'bnr_ml.objectdetect.yolo' from '/usr/local/python/bnr_ml/objectdetect/yolo.py'>"
      ]
     },
     "execution_count": 112,
     "metadata": {},
     "output_type": "execute_result"
    }
   ],
   "source": [
    "reload(yolo)"
   ]
  },
  {
   "cell_type": "code",
   "execution_count": 113,
   "metadata": {
    "collapsed": false
   },
   "outputs": [],
   "source": [
    "yl = yolo.YoloObjectDetector(net, (None, 3, 200, 200), C, S, B) "
   ]
  },
  {
   "cell_type": "code",
   "execution_count": 114,
   "metadata": {
    "collapsed": true
   },
   "outputs": [],
   "source": [
    "target = T.matrix('target')\n",
    "cost = yl._get_cost_optim(yl.output, target, S, B, C)"
   ]
  },
  {
   "cell_type": "code",
   "execution_count": 115,
   "metadata": {
    "collapsed": true
   },
   "outputs": [],
   "source": [
    "fn = theano.function([yl.input, target], cost, allow_input_downcast=True)"
   ]
  },
  {
   "cell_type": "code",
   "execution_count": 125,
   "metadata": {
    "collapsed": true
   },
   "outputs": [],
   "source": [
    "out_fn = theano.function([yl.input], yl.output, allow_input_downcast=True)"
   ]
  },
  {
   "cell_type": "code",
   "execution_count": 148,
   "metadata": {
    "collapsed": false
   },
   "outputs": [
    {
     "data": {
      "text/plain": [
       "array(48559.640625, dtype=float32)"
      ]
     },
     "execution_count": 148,
     "metadata": {},
     "output_type": "execute_result"
    }
   ],
   "source": [
    "fn(np.random.rand(100,3,200,200), np.random.rand(100,4 + C))"
   ]
  },
  {
   "cell_type": "code",
   "execution_count": 149,
   "metadata": {
    "collapsed": false
   },
   "outputs": [],
   "source": [
    "tmp = out_fn(100 * np.random.randn(10,3,200,200))"
   ]
  },
  {
   "cell_type": "code",
   "execution_count": 132,
   "metadata": {
    "collapsed": false
   },
   "outputs": [
    {
     "data": {
      "text/plain": [
       "2.0073986"
      ]
     },
     "execution_count": 132,
     "metadata": {},
     "output_type": "execute_result"
    }
   ],
   "source": [
    "np.sqrt(tmp[:,[0,],:,:]).mean()"
   ]
  },
  {
   "cell_type": "code",
   "execution_count": 21,
   "metadata": {
    "collapsed": false
   },
   "outputs": [
    {
     "name": "stdout",
     "output_type": "stream",
     "text": [
      "Getting cost...\n",
      "Creating cost variable took 0.3689 seconds\n",
      "Compiling...\n"
     ]
    },
    {
     "name": "stderr",
     "output_type": "stream",
     "text": [
      "\r",
      "  0%|          | 0/10 [00:00<?, ?it/s]"
     ]
    },
    {
     "name": "stdout",
     "output_type": "stream",
     "text": [
      "Compiling functions took 83.3794 seconds\n",
      "Beginning training...\n"
     ]
    },
    {
     "name": "stderr",
     "output_type": "stream",
     "text": [
      "\r",
      " 10%|█         | 1/10 [03:49<34:25, 229.53s/it]"
     ]
    },
    {
     "name": "stdout",
     "output_type": "stream",
     "text": [
      "Epoch 0\n",
      "------\n",
      "Train Loss: nan, Test Loss: nan\n"
     ]
    },
    {
     "name": "stderr",
     "output_type": "stream",
     "text": [
      "\n"
     ]
    }
   ],
   "source": [
    "train_loss, test_loss = yl.train(\n",
    "    generate_data(train_annotations),\n",
    "    generate_data(test_annotations),\n",
    "    lr=1e-5\n",
    ")"
   ]
  },
  {
   "cell_type": "code",
   "execution_count": null,
   "metadata": {
    "collapsed": false
   },
   "outputs": [],
   "source": [
    "# train_loss_total, test_loss_total = train_loss, test_loss\n",
    "train_loss_total = np.concatenate((train_loss_total, train_loss))\n",
    "test_loss_total = np.concatenate((test_loss_total, test_loss))"
   ]
  },
  {
   "cell_type": "code",
   "execution_count": null,
   "metadata": {
    "collapsed": false
   },
   "outputs": [],
   "source": [
    "plt.figure(figsize=(8,8))\n",
    "plt.plot(train_loss_total, 'b')\n",
    "epochs = np.arange(num_epochs)\n",
    "idx = epochs % test_every == 0\n",
    "plt.plot(epochs[idx], test_loss_total[idx], 'r')"
   ]
  }
 ],
 "metadata": {
  "anaconda-cloud": {},
  "kernelspec": {
   "display_name": "Python [Root]",
   "language": "python",
   "name": "Python [Root]"
  },
  "language_info": {
   "codemirror_mode": {
    "name": "ipython",
    "version": 2
   },
   "file_extension": ".py",
   "mimetype": "text/x-python",
   "name": "python",
   "nbconvert_exporter": "python",
   "pygments_lexer": "ipython2",
   "version": "2.7.12"
  }
 },
 "nbformat": 4,
 "nbformat_minor": 0
}
