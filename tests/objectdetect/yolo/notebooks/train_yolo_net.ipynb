{
 "cells": [
  {
   "cell_type": "markdown",
   "metadata": {},
   "source": [
    "<p style=\"font-size:14pt;text-align:center;\">\n",
    "Pretraining network on pascal VOC.\n",
    "</p>"
   ]
  },
  {
   "cell_type": "code",
   "execution_count": 1,
   "metadata": {
    "collapsed": false
   },
   "outputs": [
    {
     "name": "stderr",
     "output_type": "stream",
     "text": [
      "/Users/colingaudreau/anaconda2/lib/python2.7/site-packages/matplotlib/font_manager.py:273: UserWarning: Matplotlib is building the font cache using fc-list. This may take a moment.\n",
      "  warnings.warn('Matplotlib is building the font cache using fc-list. This may take a moment.')\n",
      "Using gpu device 0: GeForce GTX 960 (CNMeM is enabled with initial size: 80.0% of memory, cuDNN not available)\n",
      "/Library/Python/2.7/site-packages/theano/tensor/signal/downsample.py:6: UserWarning: downsample module has been moved to the theano.tensor.signal.pool module.\n",
      "  \"downsample module has been moved to the theano.tensor.signal.pool module.\")\n"
     ]
    }
   ],
   "source": [
    "%matplotlib inline\n",
    "from matplotlib import pyplot as plt\n",
    "import numpy as np\n",
    "import theano\n",
    "from theano import tensor as T\n",
    "import pickle as pk\n",
    "import re\n",
    "from copy import deepcopy\n",
    "import sys\n",
    "\n",
    "# image processing\n",
    "from skimage.io import imread\n",
    "from skimage.transform import resize\n",
    "from skimage.color import rgb2hsv, hsv2rgb\n",
    "\n",
    "import lasagne\n",
    "from lasagne.layers import Pool2DLayer, Conv2DLayer, dropout, \\\n",
    "    DenseLayer, InputLayer, get_output, get_all_params\n",
    "    \n",
    "import bnr_ml.objectdetect.yolo as yolo\n",
    "\n",
    "import pdb"
   ]
  },
  {
   "cell_type": "code",
   "execution_count": 2,
   "metadata": {
    "collapsed": true
   },
   "outputs": [],
   "source": [
    "with open('/usr/local/python/bnr_ml/data/PascalVOC/annotations.txt', 'rb') as f:\n",
    "    annotations = pk.load(f)['annotations']"
   ]
  },
  {
   "cell_type": "code",
   "execution_count": 3,
   "metadata": {
    "collapsed": true
   },
   "outputs": [],
   "source": [
    "def add_proper_labels(annotations):\n",
    "    for im in annotations:\n",
    "        for obj in im:\n",
    "            if 'car' in obj['label'].lower():\n",
    "                obj['label'] = 'car'\n",
    "            elif 'bicycle' in obj['label'].lower():\n",
    "                obj['label'] = 'bicycle'\n",
    "            elif 'person' in obj['label'].lower():\n",
    "                obj['label'] = 'person'\n",
    "            elif 'bike' in obj['label'].lower():\n",
    "                obj['label'] = 'bike'\n",
    "            else:\n",
    "                print obj"
   ]
  },
  {
   "cell_type": "code",
   "execution_count": 4,
   "metadata": {
    "collapsed": false
   },
   "outputs": [],
   "source": [
    "def get_label_counts(annotations):\n",
    "    counts = np.zeros((4,))\n",
    "    for im in annotations:\n",
    "        for obj in im:\n",
    "            if obj['label'] == 'car':\n",
    "                counts[0] += 1\n",
    "            elif obj['label'] == 'bicycle':\n",
    "                counts[1] += 1\n",
    "            elif obj['label'] == 'bike':\n",
    "                counts[2] += 1\n",
    "            else:\n",
    "                counts[3] += 1\n",
    "    return counts"
   ]
  },
  {
   "cell_type": "code",
   "execution_count": 5,
   "metadata": {
    "collapsed": false
   },
   "outputs": [],
   "source": [
    "add_proper_labels(annotations)"
   ]
  },
  {
   "cell_type": "code",
   "execution_count": 6,
   "metadata": {
    "collapsed": false
   },
   "outputs": [],
   "source": [
    "annotations = np.asarray(annotations)"
   ]
  },
  {
   "cell_type": "code",
   "execution_count": 7,
   "metadata": {
    "collapsed": true
   },
   "outputs": [],
   "source": [
    "counts = get_label_counts(annotations)"
   ]
  },
  {
   "cell_type": "code",
   "execution_count": 8,
   "metadata": {
    "collapsed": false
   },
   "outputs": [
    {
     "data": {
      "image/png": "[encoded data removed]",
      "text/plain": [
       "<matplotlib.figure.Figure at 0x119ac5950>"
      ]
     },
     "metadata": {},
     "output_type": "display_data"
    }
   ],
   "source": [
    "plt.figure(figsize=(12,8))\n",
    "plt.title('Distribution of labels', fontsize=20)\n",
    "plt.bar(np.arange(counts.size), counts, color='red', alpha=.4)\n",
    "plt.xticks(np.arange(counts.size) + .5, ['car', 'bicycle', 'bike', 'person'], fontsize=14)\n",
    "plt.show()"
   ]
  },
  {
   "cell_type": "code",
   "execution_count": 9,
   "metadata": {
    "collapsed": true
   },
   "outputs": [],
   "source": [
    "np.random.seed(1991)"
   ]
  },
  {
   "cell_type": "markdown",
   "metadata": {},
   "source": [
    "<b>Split the annotations for training and testing, the reason I split by image and not individual object is so that when testing the performance, the network will never have seen any part of the test image."
   ]
  },
  {
   "cell_type": "code",
   "execution_count": 10,
   "metadata": {
    "collapsed": false
   },
   "outputs": [],
   "source": [
    "with open('indices.pkl', 'rb') as f:\n",
    "    indices = pk.load(f)\n",
    "    train_idx = indices['train_index']\n",
    "    test_idx = indices['test_index']"
   ]
  },
  {
   "cell_type": "code",
   "execution_count": 11,
   "metadata": {
    "collapsed": false
   },
   "outputs": [],
   "source": [
    "train_annotations = annotations[train_idx]\n",
    "test_annotations = annotations[test_idx]"
   ]
  },
  {
   "cell_type": "code",
   "execution_count": 12,
   "metadata": {
    "collapsed": false
   },
   "outputs": [],
   "source": [
    "class Box(object):\n",
    "    def __init__(self, xi,yi,xf,yf):\n",
    "        self.xi = xi\n",
    "        self.yi = yi\n",
    "        self.xf = xf\n",
    "        self.yf = yf\n",
    "    def iou(self, box):\n",
    "        isec = self.intersection(box)\n",
    "        union = self.size() + box.size() - isec.size()\n",
    "        return isec.size() / union\n",
    "    def intersection(self, box):\n",
    "        new_xi = max(self.xi, box.xi)\n",
    "        new_yi = max(self.yi, box.yi)\n",
    "        new_xf = min(self.xf, box.xf)\n",
    "        new_yf = min(self.yf, box.yf)\n",
    "        if new_xi > new_xf or new_yi > new_yf:\n",
    "            new_xi, new_yi, new_xf, new_yf = 0., 0., 0., 0.\n",
    "        return Box(new_xi, new_yi, new_xf, new_yf)\n",
    "    def size(self):\n",
    "        return (self.xf - self.xi) * (self.yf - self.yi)\n",
    "    def width(self):\n",
    "        return (self.xf - self.xi)\n",
    "    def height(self):\n",
    "        return (self.yf - self.yi)\n",
    "    def copy(self):\n",
    "        return Box(self.xi, self.yi, self.xf, self.yf)\n",
    "    def subimage(self, im):\n",
    "        xi = max(0, self.xi)\n",
    "        yi = max(0, self.yi)\n",
    "        xf = min(im.shape[1], self.xf)\n",
    "        yf = min(im.shape[0], self.yf)\n",
    "        return im[yi:yf, xi:xf]\n",
    "    def round(self):\n",
    "        self.xi, self.yi, self.xf, self.yf = round(self.xi), round(self.yi), round(self.xf), round(self.yf)\n",
    "    def __str__(self):\n",
    "        return '(' + str(self.xi) + ',' + str(self.yi) + ') (' + str(self.xf) + ',' + str(self.yf) + ')'\n",
    "    def __repr__(self):\n",
    "        return self.__str__()\n",
    "    @staticmethod\n",
    "    def gen_randombox(iou, box, eps=.5):\n",
    "        angle = 2 * np.pi * np.random.rand()\n",
    "        delx, dely = eps*np.cos(angle), eps*np.sin(angle)\n",
    "        new_box = box.copy()\n",
    "        while new_box.iou(box) > iou:\n",
    "            new_box.xi += delx\n",
    "            new_box.yi += dely\n",
    "            new_box.xf += delx\n",
    "            new_box.yf += dely\n",
    "        return new_box"
   ]
  },
  {
   "cell_type": "code",
   "execution_count": 212,
   "metadata": {
    "collapsed": true
   },
   "outputs": [],
   "source": [
    "def generate_data_2(annotations, C, max_objs=15, size=(200,200), batch_size=100):\n",
    "    def reformat_image(im, new_size):\n",
    "        if im.shape.__len__() == 2:\n",
    "            im = np.repeat(im.reshape(im.shape + (1,)), 3, axis=2)\n",
    "        elif im.shape[2] > 3:\n",
    "            im = im[:,:,:3]\n",
    "        if im.shape[0] == 0 or im.shape[2] == 0:\n",
    "            return None\n",
    "        return resize(im, new_size).swapaxes(2,1).swapaxes(1,0)\n",
    "    def transform_coord(coord, old_size, new_size):\n",
    "        coord[[0,2]] *= 1. / old_size[1]\n",
    "        coord[[1,3]] *= 1. / old_size[0]\n",
    "        \n",
    "        if coord[2] >= coord[0]:\n",
    "            coord[2] -= coord[0]\n",
    "        else:\n",
    "            coord[2] = coord[0] - coord[2]\n",
    "        if coord[3] >= coord[1]:\n",
    "            coord[3] -= coord[1]\n",
    "        else:\n",
    "            coord[3] = coord[1] - coord[3]\n",
    "        return coord\n",
    "    def get_num_from_label(label):\n",
    "        if label == 'car':\n",
    "            return 0\n",
    "        elif label == 'bicycle':\n",
    "            return 1\n",
    "        elif label == 'bike':\n",
    "            return 2\n",
    "        elif label == 'person':\n",
    "            return 3\n",
    "        elif label == 'noobj':\n",
    "            return 4\n",
    "        else:\n",
    "            pass\n",
    "        \n",
    "    annotations = np.asarray([[deepcopy(obj) for obj in objs] for objs in annotations]) # deep copy annotations\n",
    "\n",
    "    fake_truth = np.concatenate((np.asarray([-10.,-10.,.01,.01]), np.zeros((C,))))\n",
    "    \n",
    "    np.random.shuffle(annotations)\n",
    "    \n",
    "    for i in range(0,annotations.size, batch_size):\n",
    "        Xbatch = np.zeros((batch_size,3) + size)\n",
    "        ybatch = np.zeros((batch_size, (4 + C) * max_objs))\n",
    "        \n",
    "        for j in range(min(batch_size, annotations.size - i)):\n",
    "            objs = annotations[i+j]\n",
    "            im = imread(objs[0]['image'])\n",
    "            old_size = im.shape\n",
    "            \n",
    "            Xbatch[j] = reformat_image(im, size)\n",
    "            \n",
    "            for k in range(max_objs):\n",
    "                if k < objs.__len__():\n",
    "                    obj = objs[k]\n",
    "                    coord = np.asarray(obj['p1'] + obj['p2']).astype(theano.config.floatX)\n",
    "                    coord = transform_coord(coord, old_size, size)\n",
    "                    ybatch[j,k*(4 + C):k*(4 + C) + 4] = coord\n",
    "                    ybatch[j,k*(4 + C)+4:k*(4 + C)+4 + get_num_from_label(obj['label'])]\n",
    "                else:\n",
    "                    ybatch[j,k*(4 + C):(k + 1)*(4 + C)] = fake_truth\n",
    "            \n",
    "        yield Xbatch[:j+1].astype(theano.config.floatX), ybatch[:j+1].astype(theano.config.floatX)"
   ]
  },
  {
   "cell_type": "code",
   "execution_count": 14,
   "metadata": {
    "collapsed": false
   },
   "outputs": [],
   "source": [
    "def generate_data(annotations, C, size=(200,200), batch_size=100):\n",
    "    '''\n",
    "    augment: how many times do you want the data to be replicated\n",
    "    '''\n",
    "    def get_objects(annotations):\n",
    "        objs = []\n",
    "        for im in annotations:\n",
    "            objs.extend([deepcopy(obj) for obj in im])\n",
    "        return np.asarray(objs)\n",
    "    def get_num_from_label(label):\n",
    "        if label == 'car':\n",
    "            return 0\n",
    "        elif label == 'bicycle':\n",
    "            return 1\n",
    "        elif label == 'bike':\n",
    "            return 2\n",
    "        elif label == 'person':\n",
    "            return 3\n",
    "        elif label == 'noobj':\n",
    "            return 4\n",
    "        else:\n",
    "            pass\n",
    "#             print('This shouldn\\'t happen')\n",
    "    def subsample_objs(objs, obj_idx, size):\n",
    "        idx = obj_idx[np.random.random_integers(0,obj_idx.size-1, size=(size,))]\n",
    "        copy_obj = []\n",
    "        for obj in objs[idx]:\n",
    "            copy_obj.append(deepcopy(obj))\n",
    "        return np.asarray(copy_obj)\n",
    "    def set_label_to_noobj(objs, obj_idx):\n",
    "        N = np.int_(np.float_(obj_idx.size) / 5)\n",
    "        idx = np.arange(obj_idx.size)\n",
    "        np.random.shuffle(idx)\n",
    "        for obj in objs[obj_idx[idx[:N]]]:\n",
    "            obj['label']  = 'noobj'\n",
    "        return objs\n",
    "    \n",
    "    # return flat list of objects\n",
    "    objs = get_objects(annotations)\n",
    "    \n",
    "    # get number from label\n",
    "    labels = np.asarray([get_num_from_label(obj['label']) for obj in objs])\n",
    "    \n",
    "    idx = np.arange(labels.size)\n",
    "    idx_car = idx[labels==0]\n",
    "    idx_bicycle = idx[labels==1]\n",
    "    idx_bike = idx[labels==2]\n",
    "    idx_person = idx[labels==3]\n",
    "        \n",
    "    max_labels = np.max([idx_car.size, idx_bicycle.size, idx_bike.size, idx_person.size])\n",
    "    \n",
    "    # get subsamples to get equal number of classes\n",
    "    new_car = subsample_objs(objs, idx_car, max_labels - idx_car.size)\n",
    "    new_bicycle = subsample_objs(objs, idx_bicycle, max_labels - idx_bicycle.size)\n",
    "    new_bike = subsample_objs(objs, idx_bike, max_labels - idx_bike.size)\n",
    "    new_person = subsample_objs(objs, idx_person, max_labels - idx_person.size)\n",
    "    \n",
    "    # add new samples\n",
    "    objs = np.concatenate((objs, new_car, new_bicycle, new_bike, new_person))\n",
    "    \n",
    "    np.random.shuffle(objs)\n",
    "    \n",
    "    cnt = 0\n",
    "    while cnt < objs.size:\n",
    "        Xbatch = np.zeros((batch_size, 3) + size)\n",
    "        ybatch = np.zeros((batch_size, 4 + C))\n",
    "        batch_cnt = 0\n",
    "        for j in range(batch_size):\n",
    "            if cnt < objs.size:\n",
    "                obj = objs[cnt]\n",
    "                im = imread(obj['image'])\n",
    "                im = im.astype(theano.config.floatX) / 255\n",
    "                xscale, yscale = np.float_(size[1]) / im.shape[1], np.float_(size[0]) / im.shape[0]\n",
    "#                 pdb.set_trace()\n",
    "                coord = np.asarray(obj['p1'] + obj['p2']).astype(theano.config.floatX)\n",
    "                coord[[0,2]] *= (xscale / 200)\n",
    "                coord[[1,3]] *= (yscale / 200)\n",
    "                if coord[2] >= coord[0]:\n",
    "                    coord[2] -= coord[0]\n",
    "                else:\n",
    "                    coord[2] = coord[0] - coord[2]\n",
    "                if coord[3] >= coord[1]:\n",
    "                    coord[3] -= coord[1]\n",
    "                else:\n",
    "                    coord[3] = coord[1] - coord[3]\n",
    "                    \n",
    "                if coord[2] < 0 or coord[3] < 0:\n",
    "                    print image\n",
    "                    \n",
    "                if im.shape.__len__() == 2:\n",
    "                    im = im.reshape(im.shape + (1,))\n",
    "                    im = np.concatenate((im, im, im), axis=2)\n",
    "                elif im.shape[2] == 4:\n",
    "                    im = im[:,:,:3]\n",
    "                if not (im.shape[0] == 0 or im.shape[1] == 0):\n",
    "                    im = resize(im, size).swapaxes(2,1).swapaxes(1,0)\n",
    "                    Xbatch[batch_cnt] = im\n",
    "                    ybatch[batch_cnt, :4] =  coord\n",
    "                    ybatch[batch_cnt, 4 + get_num_from_label(obj['label'])] += 1\n",
    "                    batch_cnt += 1\n",
    "            cnt += 1\n",
    "        if batch_cnt < batch_size - 1:\n",
    "            Xbatch, ybatch = Xbatch[:batch_cnt], ybatch[:batch_cnt]\n",
    "        yield Xbatch.astype(theano.config.floatX), ybatch.astype(theano.config.floatX)"
   ]
  },
  {
   "cell_type": "markdown",
   "metadata": {},
   "source": [
    "<b>Now we define the net for recognition.</b>"
   ]
  },
  {
   "cell_type": "code",
   "execution_count": 216,
   "metadata": {
    "collapsed": false
   },
   "outputs": [],
   "source": [
    "Xtest, ytest = theano.shared(Xtest), theano.shared(ytest)"
   ]
  },
  {
   "cell_type": "code",
   "execution_count": 226,
   "metadata": {
    "collapsed": true
   },
   "outputs": [],
   "source": [
    "net = {}\n",
    "net['input'] = InputLayer((None,3,200,200))\n",
    "net['conv1'] = Conv2DLayer(net['input'], 16, (3,3))\n",
    "net['conv2'] = Conv2DLayer(net['conv1'], 16, (3,3))\n",
    "net['pool1'] = Pool2DLayer(net['conv2'], (2,2))\n",
    "net['conv3'] = Conv2DLayer(net['pool1'], 32, (3,3))\n",
    "net['conv4'] = Conv2DLayer(net['conv3'], 32, (3,3))\n",
    "net['pool2'] = Pool2DLayer(net['conv4'], (2,2))\n",
    "net['conv5'] = Conv2DLayer(net['pool2'], 64, (3,3))\n",
    "net['conv6'] = Conv2DLayer(net['conv5'], 64, (3,3))\n",
    "net['pool3'] = Pool2DLayer(net['conv6'], (2,2))\n",
    "net['conv7'] = Conv2DLayer(net['pool3'], 64, (3,3))\n",
    "net['conv8'] = Conv2DLayer(net['conv7'], 64, (3,3))\n",
    "net['pool4'] = Pool2DLayer(net['conv8'], (2,2))\n",
    "net['dense1'] = DenseLayer(dropout(net['pool4'], p=.8), 1000)\n",
    "net['dense2'] = DenseLayer(dropout(net['dense1'], p=.8), 1000)\n",
    "net['output'] = DenseLayer(dropout(net['dense2'], p=.5), 5, nonlinearity=lasagne.nonlinearities.softmax)"
   ]
  },
  {
   "cell_type": "markdown",
   "metadata": {},
   "source": [
    "<b>Load pre-trained weights</b>"
   ]
  },
  {
   "cell_type": "code",
   "execution_count": 227,
   "metadata": {
    "collapsed": false
   },
   "outputs": [],
   "source": [
    "with open('pretrained_weights.pkl', 'rb') as f:\n",
    "    weights = pk.load(f)\n",
    "    lasagne.layers.set_all_param_values(net['output'], weights)"
   ]
  },
  {
   "cell_type": "markdown",
   "metadata": {},
   "source": [
    "<b>Add extra layers to network for detection</b>"
   ]
  },
  {
   "cell_type": "code",
   "execution_count": 228,
   "metadata": {
    "collapsed": true
   },
   "outputs": [],
   "source": [
    "S = (6,6)\n",
    "B = 2\n",
    "C = 4"
   ]
  },
  {
   "cell_type": "code",
   "execution_count": 229,
   "metadata": {
    "collapsed": false
   },
   "outputs": [],
   "source": [
    "net['dense1'] = DenseLayer(dropout(net['pool4'], p=.9), 2048)\n",
    "net['output'] = DenseLayer(dropout(net['dense1'], p=.9), (S[0] * S[1]) * (5 * B + C), nonlinearity=None)"
   ]
  },
  {
   "cell_type": "code",
   "execution_count": 230,
   "metadata": {
    "collapsed": false
   },
   "outputs": [],
   "source": [
    "load_weights = False\n",
    "if load_weights:\n",
    "    with open('yolo_weights.pkl', 'rb') as f:\n",
    "        weights = pk.load(f)\n",
    "        lasagne.layers.set_all_param_values(net['output'], weights)"
   ]
  },
  {
   "cell_type": "markdown",
   "metadata": {},
   "source": [
    "<b>Train the network"
   ]
  },
  {
   "cell_type": "code",
   "execution_count": 231,
   "metadata": {
    "collapsed": true
   },
   "outputs": [],
   "source": [
    "num_epochs = 10\n",
    "batch_size = 50"
   ]
  },
  {
   "cell_type": "code",
   "execution_count": 232,
   "metadata": {
    "collapsed": false
   },
   "outputs": [
    {
     "data": {
      "text/plain": [
       "<module 'bnr_ml.objectdetect.yolo' from '/usr/local/python/bnr_ml/objectdetect/yolo.pyc'>"
      ]
     },
     "execution_count": 232,
     "metadata": {},
     "output_type": "execute_result"
    }
   ],
   "source": [
    "reload(yolo)"
   ]
  },
  {
   "cell_type": "code",
   "execution_count": 233,
   "metadata": {
    "collapsed": false
   },
   "outputs": [],
   "source": [
    "yl = yolo.YoloObjectDetector(net, (None, 3, 200, 200), C, S, B) "
   ]
  },
  {
   "cell_type": "code",
   "execution_count": null,
   "metadata": {
    "collapsed": false
   },
   "outputs": [
    {
     "name": "stdout",
     "output_type": "stream",
     "text": [
      "Getting cost...\n",
      "Creating cost variable took 0.6637 seconds\n",
      "Compiling...\n"
     ]
    },
    {
     "name": "stderr",
     "output_type": "stream",
     "text": [
      "\r",
      "  0%|          | 0/10 [00:00<?, ?it/s]"
     ]
    },
    {
     "name": "stdout",
     "output_type": "stream",
     "text": [
      "Compiling functions took 27.7837 seconds\n",
      "Beginning training...\n",
      "15.3582495117\n",
      "14.9108959961\n",
      "14.3445263672\n",
      "15.0796716309\n",
      "16.2612744141\n",
      "16.3703881836\n",
      "15.9731762695\n",
      "13.9431933594\n",
      "14.8290917969\n",
      "13.3257983398\n",
      "13.8550585937\n",
      "15.0107324219\n",
      "14.8751806641\n",
      "13.851315918\n",
      "15.0015039063\n",
      "14.6645410156\n",
      "13.8738500977\n",
      "14.5823461914\n",
      "12.4562524414\n",
      "13.8663769531\n",
      "15.0343481445\n",
      "12.2171362305\n",
      "12.7846484375\n",
      "13.633894043\n",
      "12.417355957\n",
      "11.4109179688\n",
      "11.5739282227\n",
      "12.3680126953\n",
      "12.2231176758\n"
     ]
    }
   ],
   "source": [
    "train_loss, test_loss = yl.train(\n",
    "    generate_data_2(train_annotations, C, batch_size=batch_size),\n",
    "    generate_data_2(test_annotations, C, batch_size=batch_size),\n",
    "    lr=1e-4,\n",
    "    epochs=num_epochs\n",
    ")"
   ]
  },
  {
   "cell_type": "code",
   "execution_count": 188,
   "metadata": {
    "collapsed": true
   },
   "outputs": [],
   "source": [
    "with open('yolo_weights.pkl', 'wb') as f:\n",
    "    weights = lasagne.layers.get_all_param_values(net['output'])\n",
    "    pk.dump(weights, f)"
   ]
  },
  {
   "cell_type": "code",
   "execution_count": 24,
   "metadata": {
    "collapsed": false
   },
   "outputs": [],
   "source": [
    "train_loss_total, test_loss_total = train_loss, test_loss\n",
    "# train_loss_total = np.concatenate((train_loss_total, train_loss))\n",
    "# test_loss_total = np.concatenate((test_loss_total, test_loss))"
   ]
  },
  {
   "cell_type": "code",
   "execution_count": 25,
   "metadata": {
    "collapsed": false
   },
   "outputs": [
    {
     "data": {
      "text/plain": [
       "[<matplotlib.lines.Line2D at 0x1347dad10>]"
      ]
     },
     "execution_count": 25,
     "metadata": {},
     "output_type": "execute_result"
    },
    {
     "data": {
      "image/png": "[encoded data removed]",
      "text/plain": [
       "<matplotlib.figure.Figure at 0x1347fd2d0>"
      ]
     },
     "metadata": {},
     "output_type": "display_data"
    }
   ],
   "source": [
    "plt.figure(figsize=(8,8))\n",
    "idx = train_loss_total != 0\n",
    "plt.plot(train_loss_total[idx], 'b')\n",
    "plt.plot(test_loss_total[idx], 'r')"
   ]
  },
  {
   "cell_type": "code",
   "execution_count": 213,
   "metadata": {
    "collapsed": false
   },
   "outputs": [],
   "source": [
    "gen = generate_data_2(test_annotations[np.random.random_integers(0, test_annotations.size - 1, size=(100,))], C)"
   ]
  },
  {
   "cell_type": "code",
   "execution_count": 214,
   "metadata": {
    "collapsed": false
   },
   "outputs": [],
   "source": [
    "testdat = [t for t in gen]"
   ]
  },
  {
   "cell_type": "code",
   "execution_count": 215,
   "metadata": {
    "collapsed": false
   },
   "outputs": [],
   "source": [
    "Xtest, ytest = testdat[0]"
   ]
  },
  {
   "cell_type": "code",
   "execution_count": 114,
   "metadata": {
    "collapsed": false
   },
   "outputs": [],
   "source": [
    "out_fn = theano.function([yl.input], yl.output_test)"
   ]
  },
  {
   "cell_type": "code",
   "execution_count": 115,
   "metadata": {
    "collapsed": true
   },
   "outputs": [],
   "source": [
    "Xtest_out = out_fn(Xtest)"
   ]
  },
  {
   "cell_type": "code",
   "execution_count": 143,
   "metadata": {
    "collapsed": false
   },
   "outputs": [],
   "source": [
    "def draw_best(im, output):\n",
    "    idx = (output[[4,9]] * output[10:].max()).argmax()\n",
    "    idx = np.unravel_index(idx, output[[4,9]].shape)\n",
    "    coord = output[5 * idx[0]:5 * idx[0] + 4, idx[1], idx[2]]\n",
    "    obj_score = output[5 * idx[0] + 4, idx[1], idx[2]]\n",
    "    class_score = output[-4:, idx[1], idx[2]]\n",
    "\n",
    "    xi = int(im.shape[1] * (coord[0] + 1./S[1] * idx[2]))\n",
    "    yi = int(im.shape[0] * (coord[1] + 1./S[0] * idx[1]))\n",
    "    xf = xi + int(coord[2] * im.shape[1])\n",
    "    yf = yi + int(coord[3] * im.shape[0])\n",
    "    \n",
    "    xi, yi = min(im.shape[1]-1, max(0, xi)), min(im.shape[1]-1, max(0, yi))\n",
    "    xf, yf = min(im.shape[1]-1 , xf), min(im.shape[0]-1, yf)\n",
    "\n",
    "    draw_im = np.copy(im)\n",
    "    draw_im[yi,xi:xf] = [1,0,0]\n",
    "    draw_im[yf,xi:xf] = [1,0,0]\n",
    "    draw_im[yi:yf,xi] = [1,0,0]\n",
    "    draw_im[yi:yf,xf] = [1,0,0]\n",
    "    \n",
    "    tmp = np.zeros((im.shape[0] + 10, im.shape[1] + 10) + im.shape[2:])\n",
    "    tmp[5:-5,5:-5] = draw_im\n",
    "    draw_im = tmp\n",
    "\n",
    "    return draw_im, obj_score, class_score, coord"
   ]
  },
  {
   "cell_type": "code",
   "execution_count": 144,
   "metadata": {
    "collapsed": true
   },
   "outputs": [],
   "source": [
    "def get_label_from_num(label):\n",
    "    if label == 0:\n",
    "        return 'car'\n",
    "    elif label == 1:\n",
    "        return 'bicycle'\n",
    "    elif label == 2:\n",
    "        return 'bike'\n",
    "    elif label == 3:\n",
    "        return 'person'\n",
    "    elif label == 4:\n",
    "        return 'noobj'\n",
    "    else:\n",
    "        return"
   ]
  },
  {
   "cell_type": "code",
   "execution_count": 145,
   "metadata": {
    "collapsed": true
   },
   "outputs": [],
   "source": [
    "swap = lambda x: x.swapaxes(0,1).swapaxes(1,2)"
   ]
  },
  {
   "cell_type": "code",
   "execution_count": 146,
   "metadata": {
    "collapsed": false
   },
   "outputs": [
    {
     "data": {
      "text/plain": [
       "(3, 200, 200)"
      ]
     },
     "execution_count": 146,
     "metadata": {},
     "output_type": "execute_result"
    }
   ],
   "source": [
    "Xtest[0].shape"
   ]
  },
  {
   "cell_type": "code",
   "execution_count": 161,
   "metadata": {
    "collapsed": false
   },
   "outputs": [
    {
     "name": "stdout",
     "output_type": "stream",
     "text": [
      "29\n"
     ]
    }
   ],
   "source": [
    "N = int(Xtest.shape[0] * np.random.rand())\n",
    "print N\n",
    "a,b,c,d = draw_best(swap(Xtest[N]), Xtest_out[N])"
   ]
  },
  {
   "cell_type": "code",
   "execution_count": 162,
   "metadata": {
    "collapsed": false
   },
   "outputs": [
    {
     "name": "stdout",
     "output_type": "stream",
     "text": [
      "person with class score: 0.252, objectness: 0.513\n",
      "[ 0.24988714  0.24827975  0.24936236  0.25247076]\n",
      "[ 0.00697827 -0.00671566  0.50759184  0.50331873]\n"
     ]
    },
    {
     "data": {
      "image/png": "[encoded data removed]",
      "text/plain": [
       "<matplotlib.figure.Figure at 0x11cef9cd0>"
      ]
     },
     "metadata": {},
     "output_type": "display_data"
    }
   ],
   "source": [
    "plt.figure(figsize=(6,6))\n",
    "plt.imshow(a)\n",
    "print '%s with class score: %.3f, objectness: %.3f' % (get_label_from_num(c.argmax()), c.max(), b)\n",
    "print c\n",
    "print d"
   ]
  },
  {
   "cell_type": "code",
   "execution_count": 64,
   "metadata": {
    "collapsed": false
   },
   "outputs": [],
   "source": [
    "im = swap(Xtest[int(np.random.rand()*Xtest.shape[0])])"
   ]
  },
  {
   "cell_type": "code",
   "execution_count": null,
   "metadata": {
    "collapsed": false
   },
   "outputs": [],
   "source": [
    "im2 = rgb2hsv(im)"
   ]
  },
  {
   "cell_type": "code",
   "execution_count": null,
   "metadata": {
    "collapsed": false
   },
   "outputs": [],
   "source": [
    "im2[:,:,1:] *= (1. + .3 * np.random.rand(1,1,2))"
   ]
  },
  {
   "cell_type": "code",
   "execution_count": null,
   "metadata": {
    "collapsed": false
   },
   "outputs": [],
   "source": [
    "plt.figure(figsize=(12,6))\n",
    "plt.subplot(1,2,1)\n",
    "plt.imshow(im)\n",
    "plt.subplot(1,2,2)\n",
    "plt.imshow(hsv2rgb(im2))"
   ]
  },
  {
   "cell_type": "code",
   "execution_count": null,
   "metadata": {
    "collapsed": true
   },
   "outputs": [],
   "source": [
    "im3 = hsv2rgb(im2)"
   ]
  },
  {
   "cell_type": "code",
   "execution_count": null,
   "metadata": {
    "collapsed": true
   },
   "outputs": [],
   "source": []
  }
 ],
 "metadata": {
  "anaconda-cloud": {},
  "kernelspec": {
   "display_name": "Python [Root]",
   "language": "python",
   "name": "Python [Root]"
  },
  "language_info": {
   "codemirror_mode": {
    "name": "ipython",
    "version": 2
   },
   "file_extension": ".py",
   "mimetype": "text/x-python",
   "name": "python",
   "nbconvert_exporter": "python",
   "pygments_lexer": "ipython2",
   "version": "2.7.12"
  }
 },
 "nbformat": 4,
 "nbformat_minor": 0
}
