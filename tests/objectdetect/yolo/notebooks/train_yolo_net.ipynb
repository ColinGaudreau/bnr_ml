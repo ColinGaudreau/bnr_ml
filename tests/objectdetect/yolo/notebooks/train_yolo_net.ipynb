{
 "cells": [
  {
   "cell_type": "markdown",
   "metadata": {},
   "source": [
    "<p style=\"font-size:14pt;text-align:center;\">\n",
    "Pretraining network on pascal VOC.\n",
    "</p>"
   ]
  },
  {
   "cell_type": "code",
   "execution_count": 1,
   "metadata": {
    "collapsed": false
   },
   "outputs": [
    {
     "name": "stderr",
     "output_type": "stream",
     "text": [
      "/Users/colingaudreau/anaconda2/lib/python2.7/site-packages/matplotlib/font_manager.py:273: UserWarning: Matplotlib is building the font cache using fc-list. This may take a moment.\n",
      "  warnings.warn('Matplotlib is building the font cache using fc-list. This may take a moment.')\n",
      "Using gpu device 0: GeForce GTX 960 (CNMeM is enabled with initial size: 80.0% of memory, cuDNN not available)\n",
      "/Library/Python/2.7/site-packages/theano/tensor/signal/downsample.py:6: UserWarning: downsample module has been moved to the theano.tensor.signal.pool module.\n",
      "  \"downsample module has been moved to the theano.tensor.signal.pool module.\")\n"
     ]
    }
   ],
   "source": [
    "%matplotlib inline\n",
    "from matplotlib import pyplot as plt\n",
    "import numpy as np\n",
    "import theano\n",
    "from theano import tensor as T\n",
    "import pickle as pk\n",
    "import re\n",
    "from copy import deepcopy\n",
    "import sys\n",
    "\n",
    "# image processing\n",
    "from skimage.io import imread\n",
    "from skimage.transform import resize\n",
    "\n",
    "import lasagne\n",
    "from lasagne.layers import Pool2DLayer, Conv2DLayer, dropout, \\\n",
    "    DenseLayer, InputLayer, get_output, get_all_params\n",
    "    \n",
    "import bnr_ml.objectdetect.yolo as yolo\n",
    "\n",
    "import pdb"
   ]
  },
  {
   "cell_type": "code",
   "execution_count": 2,
   "metadata": {
    "collapsed": true
   },
   "outputs": [],
   "source": [
    "with open('/usr/local/python/bnr_ml/data/PascalVOC/annotations.txt', 'rb') as f:\n",
    "    annotations = pk.load(f)['annotations']"
   ]
  },
  {
   "cell_type": "code",
   "execution_count": 3,
   "metadata": {
    "collapsed": true
   },
   "outputs": [],
   "source": [
    "def add_proper_labels(annotations):\n",
    "    for im in annotations:\n",
    "        for obj in im:\n",
    "            if 'car' in obj['label'].lower():\n",
    "                obj['label'] = 'car'\n",
    "            elif 'bicycle' in obj['label'].lower():\n",
    "                obj['label'] = 'bicycle'\n",
    "            elif 'person' in obj['label'].lower():\n",
    "                obj['label'] = 'person'\n",
    "            elif 'bike' in obj['label'].lower():\n",
    "                obj['label'] = 'bike'\n",
    "            else:\n",
    "                print obj"
   ]
  },
  {
   "cell_type": "code",
   "execution_count": 4,
   "metadata": {
    "collapsed": false
   },
   "outputs": [],
   "source": [
    "def get_label_counts(annotations):\n",
    "    counts = np.zeros((4,))\n",
    "    for im in annotations:\n",
    "        for obj in im:\n",
    "            if obj['label'] == 'car':\n",
    "                counts[0] += 1\n",
    "            elif obj['label'] == 'bicycle':\n",
    "                counts[1] += 1\n",
    "            elif obj['label'] == 'bike':\n",
    "                counts[2] += 1\n",
    "            else:\n",
    "                counts[3] += 1\n",
    "    return counts"
   ]
  },
  {
   "cell_type": "code",
   "execution_count": 5,
   "metadata": {
    "collapsed": false
   },
   "outputs": [],
   "source": [
    "add_proper_labels(annotations)"
   ]
  },
  {
   "cell_type": "code",
   "execution_count": 6,
   "metadata": {
    "collapsed": false
   },
   "outputs": [],
   "source": [
    "annotations = np.asarray(annotations)"
   ]
  },
  {
   "cell_type": "code",
   "execution_count": 7,
   "metadata": {
    "collapsed": true
   },
   "outputs": [],
   "source": [
    "counts = get_label_counts(annotations)"
   ]
  },
  {
   "cell_type": "code",
   "execution_count": 8,
   "metadata": {
    "collapsed": false
   },
   "outputs": [
    {
     "data": {
      "image/png": "[encoded data removed]",
      "text/plain": [
       "<matplotlib.figure.Figure at 0x11852b290>"
      ]
     },
     "metadata": {},
     "output_type": "display_data"
    }
   ],
   "source": [
    "plt.figure(figsize=(12,8))\n",
    "plt.title('Distribution of labels', fontsize=20)\n",
    "plt.bar(np.arange(counts.size), counts, color='red', alpha=.4)\n",
    "plt.xticks(np.arange(counts.size) + .5, ['car', 'bicycle', 'bike', 'person'], fontsize=14)\n",
    "plt.show()"
   ]
  },
  {
   "cell_type": "code",
   "execution_count": 9,
   "metadata": {
    "collapsed": true
   },
   "outputs": [],
   "source": [
    "np.random.seed(1991)"
   ]
  },
  {
   "cell_type": "markdown",
   "metadata": {},
   "source": [
    "<b>Split the annotations for training and testing, the reason I split by image and not individual object is so that when testing the performance, the network will never have seen any part of the test image."
   ]
  },
  {
   "cell_type": "code",
   "execution_count": 10,
   "metadata": {
    "collapsed": false
   },
   "outputs": [],
   "source": [
    "with open('indices.pkl', 'rb') as f:\n",
    "    indices = pk.load(f)\n",
    "    train_idx = indices['train_index']\n",
    "    test_idx = indices['test_index']"
   ]
  },
  {
   "cell_type": "code",
   "execution_count": 11,
   "metadata": {
    "collapsed": false
   },
   "outputs": [],
   "source": [
    "train_annotations = annotations[train_idx]\n",
    "test_annotations = annotations[test_idx]"
   ]
  },
  {
   "cell_type": "code",
   "execution_count": 12,
   "metadata": {
    "collapsed": false
   },
   "outputs": [],
   "source": [
    "class Box(object):\n",
    "    def __init__(self, xi,yi,xf,yf):\n",
    "        self.xi = xi\n",
    "        self.yi = yi\n",
    "        self.xf = xf\n",
    "        self.yf = yf\n",
    "    def iou(self, box):\n",
    "        isec = self.intersection(box)\n",
    "        union = self.size() + box.size() - isec.size()\n",
    "        return isec.size() / union\n",
    "    def intersection(self, box):\n",
    "        new_xi = max(self.xi, box.xi)\n",
    "        new_yi = max(self.yi, box.yi)\n",
    "        new_xf = min(self.xf, box.xf)\n",
    "        new_yf = min(self.yf, box.yf)\n",
    "        if new_xi > new_xf or new_yi > new_yf:\n",
    "            new_xi, new_yi, new_xf, new_yf = 0., 0., 0., 0.\n",
    "        return Box(new_xi, new_yi, new_xf, new_yf)\n",
    "    def size(self):\n",
    "        return (self.xf - self.xi) * (self.yf - self.yi)\n",
    "    def width(self):\n",
    "        return (self.xf - self.xi)\n",
    "    def height(self):\n",
    "        return (self.yf - self.yi)\n",
    "    def copy(self):\n",
    "        return Box(self.xi, self.yi, self.xf, self.yf)\n",
    "    def subimage(self, im):\n",
    "        xi = max(0, self.xi)\n",
    "        yi = max(0, self.yi)\n",
    "        xf = min(im.shape[1], self.xf)\n",
    "        yf = min(im.shape[0], self.yf)\n",
    "        return im[yi:yf, xi:xf]\n",
    "    def round(self):\n",
    "        self.xi, self.yi, self.xf, self.yf = round(self.xi), round(self.yi), round(self.xf), round(self.yf)\n",
    "    def __str__(self):\n",
    "        return '(' + str(self.xi) + ',' + str(self.yi) + ') (' + str(self.xf) + ',' + str(self.yf) + ')'\n",
    "    def __repr__(self):\n",
    "        return self.__str__()\n",
    "    @staticmethod\n",
    "    def gen_randombox(iou, box, eps=.5):\n",
    "        angle = 2 * np.pi * np.random.rand()\n",
    "        delx, dely = eps*np.cos(angle), eps*np.sin(angle)\n",
    "        new_box = box.copy()\n",
    "        while new_box.iou(box) > iou:\n",
    "            new_box.xi += delx\n",
    "            new_box.yi += dely\n",
    "            new_box.xf += delx\n",
    "            new_box.yf += dely\n",
    "        return new_box"
   ]
  },
  {
   "cell_type": "code",
   "execution_count": 13,
   "metadata": {
    "collapsed": false
   },
   "outputs": [],
   "source": [
    "def generate_data(annotations, size=(200,200), batch_size=100):\n",
    "    '''\n",
    "    augment: how many times do you want the data to be replicated\n",
    "    '''\n",
    "    def get_objects(annotations):\n",
    "        objs = []\n",
    "        for im in annotations:\n",
    "            objs.extend([deepcopy(obj) for obj in im])\n",
    "        return np.asarray(objs)\n",
    "    def get_num_from_label(label):\n",
    "        if label == 'car':\n",
    "            return 0\n",
    "        elif label == 'bicycle':\n",
    "            return 1\n",
    "        elif label == 'bike':\n",
    "            return 2\n",
    "        elif label == 'person':\n",
    "            return 3\n",
    "        elif label == 'noobj':\n",
    "            return 4\n",
    "        else:\n",
    "            pass\n",
    "#             print('This shouldn\\'t happen')\n",
    "    def subsample_objs(objs, obj_idx, size):\n",
    "        idx = obj_idx[np.random.random_integers(0,obj_idx.size-1, size=(size,))]\n",
    "        copy_obj = []\n",
    "        for obj in objs[idx]:\n",
    "            copy_obj.append(deepcopy(obj))\n",
    "        return np.asarray(copy_obj)\n",
    "    def set_label_to_noobj(objs, obj_idx):\n",
    "        N = np.int_(np.float_(obj_idx.size) / 5)\n",
    "        idx = np.arange(obj_idx.size)\n",
    "        np.random.shuffle(idx)\n",
    "        for obj in objs[obj_idx[idx[:N]]]:\n",
    "            obj['label']  = 'noobj'\n",
    "        return objs\n",
    "    \n",
    "    # return flat list of objects\n",
    "    objs = get_objects(annotations)\n",
    "    \n",
    "    # get number from label\n",
    "    labels = np.asarray([get_num_from_label(obj['label']) for obj in objs])\n",
    "    \n",
    "    idx = np.arange(labels.size)\n",
    "    idx_car = idx[labels==0]\n",
    "    idx_bicycle = idx[labels==1]\n",
    "    idx_bike = idx[labels==2]\n",
    "    idx_person = idx[labels==3]\n",
    "        \n",
    "    max_labels = np.max([idx_car.size, idx_bicycle.size, idx_bike.size, idx_person.size])\n",
    "    \n",
    "    # get subsamples to get equal number of classes\n",
    "    new_car = subsample_objs(objs, idx_car, max_labels - idx_car.size)\n",
    "    new_bicycle = subsample_objs(objs, idx_bicycle, max_labels - idx_bicycle.size)\n",
    "    new_bike = subsample_objs(objs, idx_bike, max_labels - idx_bike.size)\n",
    "    new_person = subsample_objs(objs, idx_person, max_labels - idx_person.size)\n",
    "    \n",
    "    # add new samples\n",
    "    objs = np.concatenate((objs, new_car, new_bicycle, new_bike, new_person))\n",
    "    \n",
    "    np.random.shuffle(objs)\n",
    "    \n",
    "    cnt = 0\n",
    "    while cnt < objs.size:\n",
    "        Xbatch = np.zeros((batch_size, 3) + size)\n",
    "        ybatch = np.zeros((batch_size, 4 + 4))\n",
    "        batch_cnt = 0\n",
    "        for j in range(batch_size):\n",
    "            if cnt < objs.size:\n",
    "                obj = objs[cnt]\n",
    "                im = imread(obj['image'])\n",
    "                im = im.astype(theano.config.floatX) / 255\n",
    "                xscale, yscale = np.float_(size[1]) / im.shape[1], np.float_(size[0]) / im.shape[0]\n",
    "#                 pdb.set_trace()\n",
    "                coord = np.asarray(obj['p1'] + obj['p2']).astype(theano.config.floatX)\n",
    "                coord[[0,2]] *= (xscale / 200)\n",
    "                coord[[1,3]] *= (yscale / 200)\n",
    "                if coord[2] >= coord[0]:\n",
    "                    coord[2] -= coord[0]\n",
    "                else:\n",
    "                    coord[2] = coord[0] - coord[2]\n",
    "                if coord[3] >= coord[1]:\n",
    "                    coord[3] -= coord[1]\n",
    "                else:\n",
    "                    coord[3] = coord[1] - coord[3]\n",
    "                    \n",
    "                if coord[2] < 0 or coord[3] < 0:\n",
    "                    print image\n",
    "                    \n",
    "                if im.shape.__len__() == 2:\n",
    "                    im = im.reshape(im.shape + (1,))\n",
    "                    im = np.concatenate((im, im, im), axis=2)\n",
    "                elif im.shape[2] == 4:\n",
    "                    im = im[:,:,:3]\n",
    "                if not (im.shape[0] == 0 or im.shape[1] == 0):\n",
    "                    im = resize(im, size).swapaxes(2,1).swapaxes(1,0)\n",
    "                    Xbatch[batch_cnt] = im\n",
    "                    ybatch[batch_cnt, :4] =  coord\n",
    "                    ybatch[batch_cnt, 4 + get_num_from_label(obj['label'])] += 1\n",
    "                    batch_cnt += 1\n",
    "            cnt += 1\n",
    "        if batch_cnt < batch_size - 1:\n",
    "            Xbatch, ybatch = Xbatch[:batch_cnt], ybatch[:batch_cnt]\n",
    "        yield Xbatch.astype(theano.config.floatX), ybatch.astype(theano.config.floatX)"
   ]
  },
  {
   "cell_type": "markdown",
   "metadata": {},
   "source": [
    "<b>Now we define the net for recognition.</b>"
   ]
  },
  {
   "cell_type": "code",
   "execution_count": 184,
   "metadata": {
    "collapsed": true
   },
   "outputs": [],
   "source": [
    "net = {}\n",
    "net['input'] = InputLayer((None,3,200,200))\n",
    "net['conv1'] = Conv2DLayer(net['input'], 16, (3,3))\n",
    "net['conv2'] = Conv2DLayer(net['conv1'], 16, (3,3))\n",
    "net['pool1'] = Pool2DLayer(net['conv2'], (2,2))\n",
    "net['conv3'] = Conv2DLayer(net['pool1'], 32, (3,3))\n",
    "net['conv4'] = Conv2DLayer(net['conv3'], 32, (3,3))\n",
    "net['pool2'] = Pool2DLayer(net['conv4'], (2,2))\n",
    "net['conv5'] = Conv2DLayer(net['pool2'], 64, (3,3))\n",
    "net['conv6'] = Conv2DLayer(net['conv5'], 64, (3,3))\n",
    "net['pool3'] = Pool2DLayer(net['conv6'], (2,2))\n",
    "net['conv7'] = Conv2DLayer(net['pool3'], 64, (3,3))\n",
    "net['conv8'] = Conv2DLayer(net['conv7'], 64, (3,3))\n",
    "net['pool4'] = Pool2DLayer(net['conv8'], (2,2))\n",
    "net['dense1'] = DenseLayer(dropout(net['pool4'], p=.8), 1000)\n",
    "net['dense2'] = DenseLayer(dropout(net['dense1'], p=.8), 1000)\n",
    "net['output'] = DenseLayer(dropout(net['dense2'], p=.5), 5, nonlinearity=lasagne.nonlinearities.softmax)"
   ]
  },
  {
   "cell_type": "markdown",
   "metadata": {},
   "source": [
    "<b>Load pre-trained weights</b>"
   ]
  },
  {
   "cell_type": "code",
   "execution_count": 15,
   "metadata": {
    "collapsed": false
   },
   "outputs": [],
   "source": [
    "with open('pretrained_weights.pkl', 'rb') as f:\n",
    "    weights = pk.load(f)\n",
    "    lasagne.layers.set_all_param_values(net['output'], weights)"
   ]
  },
  {
   "cell_type": "markdown",
   "metadata": {},
   "source": [
    "<b>Add extra layers to network for detection</b>"
   ]
  },
  {
   "cell_type": "code",
   "execution_count": 185,
   "metadata": {
    "collapsed": true
   },
   "outputs": [],
   "source": [
    "S = (9,9)\n",
    "B = 2\n",
    "C = 4"
   ]
  },
  {
   "cell_type": "code",
   "execution_count": 186,
   "metadata": {
    "collapsed": false
   },
   "outputs": [],
   "source": [
    "net['dense1'] = DenseLayer(dropout(net['pool4'], p=.8), 2048)\n",
    "net['output'] = DenseLayer(dropout(net['dense1'], p=.8), (S[0] * S[1]) * (5 * B + C), nonlinearity=None)"
   ]
  },
  {
   "cell_type": "code",
   "execution_count": 187,
   "metadata": {
    "collapsed": false
   },
   "outputs": [],
   "source": [
    "load_weights = True\n",
    "if load_weights:\n",
    "    with open('yolo_weights.pkl', 'rb') as f:\n",
    "        weights = pk.load(f)\n",
    "        lasagne.layers.set_all_param_values(net['output'], weights)"
   ]
  },
  {
   "cell_type": "markdown",
   "metadata": {},
   "source": [
    "<b>Train the network"
   ]
  },
  {
   "cell_type": "code",
   "execution_count": 188,
   "metadata": {
    "collapsed": true
   },
   "outputs": [],
   "source": [
    "num_epochs = 100\n",
    "batch_size = 100"
   ]
  },
  {
   "cell_type": "code",
   "execution_count": 189,
   "metadata": {
    "collapsed": false
   },
   "outputs": [
    {
     "data": {
      "text/plain": [
       "<module 'bnr_ml.objectdetect.yolo' from '/usr/local/python/bnr_ml/objectdetect/yolo.pyc'>"
      ]
     },
     "execution_count": 189,
     "metadata": {},
     "output_type": "execute_result"
    }
   ],
   "source": [
    "reload(yolo)"
   ]
  },
  {
   "cell_type": "code",
   "execution_count": 190,
   "metadata": {
    "collapsed": false
   },
   "outputs": [],
   "source": [
    "yl = yolo.YoloObjectDetector(net, (None, 3, 200, 200), C, S, B) "
   ]
  },
  {
   "cell_type": "code",
   "execution_count": 191,
   "metadata": {
    "collapsed": false
   },
   "outputs": [
    {
     "name": "stdout",
     "output_type": "stream",
     "text": [
      "Getting cost...\n",
      "Creating cost variable took 0.3655 seconds\n",
      "Compiling...\n"
     ]
    },
    {
     "name": "stderr",
     "output_type": "stream",
     "text": [
      "\r",
      "  0%|          | 0/100 [00:00<?, ?it/s]"
     ]
    },
    {
     "name": "stdout",
     "output_type": "stream",
     "text": [
      "Compiling functions took 23.1563 seconds\n",
      "Beginning training...\n",
      "3845.63500977\n",
      "9303.125\n",
      "8965.02050781\n",
      "12546.203125\n",
      "5475.17871094\n",
      "5380.48730469\n",
      "5013.58740234\n",
      "4594.92138672\n",
      "5777.11621094\n",
      "4906.38818359\n",
      "4074.66967773\n",
      "4648.234375\n",
      "4902.33886719\n",
      "4602.8125\n",
      "4628.10791016\n",
      "3805.05981445\n",
      "5064.06640625\n",
      "5408.67724609\n",
      "4840.05615234\n",
      "4328.55322266\n",
      "3914.72998047\n",
      "4188.66699219\n",
      "4276.40136719\n",
      "4984.31005859\n",
      "4689.79785156\n",
      "4146.13427734\n",
      "4704.30712891\n",
      "5074.08837891\n",
      "4231.98632812\n",
      "4121.28515625\n",
      "4444.38525391\n",
      "3742.04785156\n",
      "3512.15698242\n",
      "4178.27050781\n",
      "3649.62988281\n",
      "3702.47583008\n",
      "3168.88720703\n"
     ]
    },
    {
     "name": "stderr",
     "output_type": "stream",
     "text": [
      "\r",
      "  1%|          | 1/100 [03:46<6:12:56, 226.03s/it]"
     ]
    },
    {
     "name": "stdout",
     "output_type": "stream",
     "text": [
      "Epoch 0\n",
      "------\n",
      "Train Loss: 4941.6157, Test Loss: 5481.7593\n",
      "4343.97998047\n",
      "4079.84375\n",
      "4073.89013672\n",
      "3751.10424805\n",
      "3837.41894531\n",
      "4466.95800781\n",
      "4432.82910156\n",
      "4159.91113281\n",
      "4789.60205078\n",
      "4765.58789062\n",
      "4023.20825195\n",
      "4641.99853516\n",
      "5287.07226562\n",
      "4976.19921875\n",
      "4377.03271484\n",
      "3907.60205078\n",
      "4628.12353516\n",
      "5114.47314453\n",
      "5011.96582031\n",
      "3829.28271484\n",
      "3388.01025391\n",
      "4026.51806641\n",
      "4200.06445312\n",
      "4868.29882812\n",
      "4165.26806641\n",
      "4092.98925781\n",
      "4151.88378906\n",
      "4177.1484375\n",
      "4275.36181641\n",
      "3843.41259766\n",
      "4270.97851562\n",
      "3414.5546875\n",
      "3637.62158203\n",
      "4095.67041016\n",
      "3584.3684082\n",
      "3875.71875\n",
      "3315.53735352\n"
     ]
    },
    {
     "name": "stderr",
     "output_type": "stream",
     "text": [
      "\r",
      "  2%|▏         | 2/100 [04:28<4:39:00, 170.82s/it]"
     ]
    },
    {
     "name": "stdout",
     "output_type": "stream",
     "text": [
      "Epoch 1\n",
      "------\n",
      "Train Loss: 4213.0137, Test Loss: 5623.3276\n",
      "4297.54882812\n",
      "3773.99902344\n",
      "4930.56933594\n",
      "4478.71386719\n",
      "3681.3684082\n",
      "4002.22167969\n",
      "4098.56787109\n",
      "3820.96923828\n",
      "4090.65234375\n",
      "4235.56640625\n",
      "3583.34985352\n",
      "4172.27099609\n",
      "4700.00585938\n",
      "5019.47851562\n",
      "4697.41064453\n",
      "3947.16967773\n",
      "4689.35546875\n",
      "4762.29931641\n",
      "4516.87988281\n",
      "3653.16992188\n",
      "3430.09765625\n",
      "3807.84277344\n",
      "3785.71020508\n",
      "4512.21826172\n",
      "4479.38427734\n",
      "4136.52783203\n",
      "3628.23535156\n",
      "4377.29638672\n",
      "4199.23046875\n",
      "3773.31445312\n",
      "4052.34863281\n",
      "3463.89282227\n",
      "3487.8918457\n",
      "4334.45996094\n",
      "3978.84619141\n",
      "3755.92626953\n",
      "3288.55859375\n"
     ]
    },
    {
     "name": "stderr",
     "output_type": "stream",
     "text": [
      "\r",
      "  3%|▎         | 3/100 [05:10<3:33:41, 132.18s/it]"
     ]
    },
    {
     "name": "stdout",
     "output_type": "stream",
     "text": [
      "Epoch 2\n",
      "------\n",
      "Train Loss: 4098.4683, Test Loss: 5146.4248\n",
      "4191.50097656\n",
      "4209.41455078\n",
      "4049.57324219\n",
      "3451.24658203\n",
      "3433.24560547\n",
      "4192.29589844\n",
      "3963.63964844\n",
      "3836.39233398\n",
      "4289.12451172\n",
      "3873.04882812\n",
      "3224.70922852\n",
      "4062.40795898\n",
      "4317.09082031\n",
      "4634.56787109\n",
      "4116.12353516\n",
      "4039.05859375\n",
      "5276.72998047\n",
      "4892.79150391\n",
      "4640.73242188\n",
      "3670.97753906\n",
      "3341.16333008\n",
      "3824.57666016\n",
      "4067.40722656\n",
      "4707.64648438\n",
      "4320.33056641\n",
      "4492.45019531\n",
      "3698.47583008\n",
      "4624.22509766\n",
      "4173.42382812\n",
      "3802.08276367\n",
      "4176.00244141\n",
      "3430.4309082\n",
      "3268.60522461\n",
      "4261.12402344\n",
      "3226.08496094\n",
      "3599.35961914\n",
      "3310.3671875\n"
     ]
    },
    {
     "name": "stderr",
     "output_type": "stream",
     "text": [
      "\r",
      "  4%|▍         | 4/100 [05:52<2:48:12, 105.13s/it]"
     ]
    },
    {
     "name": "stdout",
     "output_type": "stream",
     "text": [
      "Epoch 3\n",
      "------\n",
      "Train Loss: 4018.6055, Test Loss: 5546.9224\n",
      "4156.48632812\n",
      "3733.92285156\n",
      "4177.98974609\n",
      "3495.53735352\n",
      "3071.19897461\n",
      "4094.86816406\n",
      "4220.91699219\n",
      "3825.06494141\n",
      "4255.03173828\n",
      "4142.26318359\n",
      "3437.97558594\n",
      "3761.13037109\n",
      "4241.40429688\n",
      "4658.60205078\n",
      "4331.97851562\n",
      "3788.01123047\n",
      "4570.82373047\n",
      "4846.24169922\n",
      "5191.73925781\n",
      "3823.78295898\n",
      "3526.46264648\n",
      "4036.4934082\n",
      "4016.35571289\n",
      "4483.4609375\n",
      "3957.36865234\n",
      "3819.15283203\n",
      "3565.40722656\n",
      "3784.04931641\n",
      "4270.21679688\n",
      "3730.35693359\n",
      "3951.90356445\n",
      "3404.7734375\n",
      "3674.23364258\n",
      "4240.61181641\n",
      "3198.07568359\n",
      "3485.09350586\n",
      "3052.73852539\n"
     ]
    },
    {
     "name": "stderr",
     "output_type": "stream",
     "text": [
      "\r",
      "  5%|▌         | 5/100 [06:34<2:16:28, 86.19s/it] "
     ]
    },
    {
     "name": "stdout",
     "output_type": "stream",
     "text": [
      "Epoch 4\n",
      "------\n",
      "Train Loss: 3946.5330, Test Loss: 5944.6782\n",
      "4090.88964844\n",
      "3782.12402344\n",
      "4230.38867188\n",
      "4353.85742188\n",
      "3680.02832031\n",
      "4304.29003906\n",
      "4161.06542969\n",
      "3496.85424805\n",
      "4255.41064453\n",
      "3871.43530273\n",
      "3170.11865234\n",
      "3685.84912109\n",
      "3855.63330078\n",
      "4348.64208984\n",
      "4311.97167969\n",
      "4218.17236328\n",
      "5154.32861328\n",
      "4779.39550781\n",
      "4523.58544922\n",
      "3396.93066406\n",
      "3487.59326172\n",
      "3852.97094727\n",
      "3656.86621094\n",
      "4273.12646484\n",
      "3863.42456055\n",
      "3426.69799805\n",
      "3825.17919922\n",
      "4027.27172852\n",
      "4170.22021484\n",
      "3739.80737305\n",
      "4032.21899414\n",
      "3291.80126953\n",
      "3348.08740234\n",
      "4055.98510742\n",
      "3105.19506836\n",
      "3462.68310547\n",
      "3141.28710938\n"
     ]
    },
    {
     "name": "stderr",
     "output_type": "stream",
     "text": [
      "\r",
      "  6%|▌         | 6/100 [07:16<1:54:15, 72.94s/it]"
     ]
    },
    {
     "name": "stdout",
     "output_type": "stream",
     "text": [
      "Epoch 5\n",
      "------\n",
      "Train Loss: 3903.5508, Test Loss: 5007.3110\n",
      "3656.79248047\n",
      "3478.10424805\n",
      "3669.70166016\n",
      "3343.47338867\n",
      "4123.36767578\n",
      "4342.37890625\n",
      "4076.58154297\n",
      "3678.87036133\n",
      "4177.46826172\n",
      "3677.80810547\n",
      "3628.43115234\n",
      "3840.76782227\n",
      "4504.37011719\n",
      "4059.99365234\n",
      "4082.85717773\n",
      "3357.30957031\n",
      "4469.46728516\n",
      "4999.65625\n",
      "5644.80957031\n",
      "3793.68017578\n",
      "3508.05615234\n",
      "4110.00878906\n",
      "3812.16113281\n",
      "4027.35351562\n",
      "3722.92700195\n",
      "3582.03662109\n",
      "3414.78686523\n",
      "4114.23730469\n",
      "3762.45483398\n",
      "3372.3059082\n",
      "3956.64477539\n",
      "3600.46972656\n",
      "3213.29052734\n",
      "4074.2800293\n",
      "3079.91870117\n",
      "3555.40893555\n",
      "3216.10888672\n"
     ]
    },
    {
     "name": "stderr",
     "output_type": "stream",
     "text": [
      "\r",
      "  7%|▋         | 7/100 [07:58<1:38:40, 63.66s/it]"
     ]
    },
    {
     "name": "stdout",
     "output_type": "stream",
     "text": [
      "Epoch 6\n",
      "------\n",
      "Train Loss: 3857.5225, Test Loss: 5774.5312\n",
      "4192.03564453\n",
      "3254.97412109\n",
      "3504.18530273\n",
      "3263.54956055\n",
      "3485.51953125\n",
      "4453.79003906\n",
      "4352.54931641\n",
      "3610.55517578\n",
      "4029.75415039\n",
      "3706.51489258\n",
      "3087.84082031\n",
      "3882.6940918\n",
      "4266.74804688\n",
      "4294.0859375\n",
      "3889.96166992\n",
      "3293.40600586\n",
      "4016.30004883\n",
      "4597.30908203\n",
      "4677.85449219\n",
      "3794.26977539\n",
      "3996.70092773\n",
      "3900.60302734\n",
      "3726.02050781\n",
      "3868.81103516\n",
      "3935.91821289\n",
      "3609.89550781\n",
      "3570.38989258\n",
      "3888.30932617\n",
      "3965.95410156\n",
      "3415.81030273\n",
      "4179.55273438\n",
      "3421.72265625\n",
      "3515.73388672\n",
      "4070.78076172\n",
      "3259.27661133\n",
      "3336.55126953\n",
      "2721.62939453\n"
     ]
    },
    {
     "name": "stderr",
     "output_type": "stream",
     "text": [
      "\r",
      "  8%|▊         | 8/100 [08:40<1:27:39, 57.16s/it]"
     ]
    },
    {
     "name": "stdout",
     "output_type": "stream",
     "text": [
      "Epoch 7\n",
      "------\n",
      "Train Loss: 3784.7986, Test Loss: 5035.7817\n",
      "3718.37524414\n",
      "3204.53515625\n",
      "3625.64208984\n",
      "3191.74267578\n",
      "3088.84863281\n",
      "3937.90893555\n",
      "4170.95654297\n",
      "3994.01049805\n",
      "4249.94042969\n",
      "4020.67138672\n",
      "3473.0402832\n",
      "3754.3762207\n",
      "4190.55664062\n",
      "4211.12841797\n",
      "3649.54467773\n",
      "3411.52050781\n",
      "3991.24072266\n",
      "4192.30224609\n",
      "4258.33007812\n",
      "3484.76000977\n",
      "3118.23876953\n",
      "3938.19946289\n",
      "3719.5246582\n",
      "4147.91113281\n",
      "4001.68969727\n",
      "3767.40551758\n",
      "3324.93603516\n",
      "3834.8449707\n",
      "3729.25488281\n",
      "3061.0402832\n",
      "3733.17138672\n",
      "3270.2824707\n",
      "3298.53222656\n",
      "3974.10693359\n",
      "2985.73193359\n",
      "3251.64672852\n",
      "2819.74926758\n"
     ]
    },
    {
     "name": "stderr",
     "output_type": "stream",
     "text": [
      "\r",
      "  9%|▉         | 9/100 [09:22<1:19:48, 52.62s/it]"
     ]
    },
    {
     "name": "stdout",
     "output_type": "stream",
     "text": [
      "Epoch 8\n",
      "------\n",
      "Train Loss: 3670.1541, Test Loss: 4872.4697\n",
      "3840.44702148\n",
      "3632.13989258\n",
      "3553.42749023\n",
      "3454.49414062\n",
      "3409.15844727\n",
      "3714.41113281\n",
      "3938.95117188\n",
      "3547.70385742\n",
      "3956.5546875\n",
      "3798.14404297\n",
      "3234.27832031\n",
      "4063.97583008\n",
      "4822.82421875\n",
      "4163.94677734\n",
      "3729.88256836\n",
      "3477.47265625\n",
      "3835.61523438\n",
      "4220.1640625\n",
      "4276.89257812\n",
      "3422.40527344\n",
      "3099.42651367\n",
      "3903.79370117\n",
      "3568.87915039\n",
      "3991.35131836\n",
      "3636.82421875\n",
      "3268.90698242\n",
      "3585.09936523\n",
      "3607.90600586\n",
      "3846.06713867\n",
      "3282.35888672\n",
      "3783.04296875\n",
      "3207.18798828\n",
      "3545.68603516\n",
      "4261.47070312\n",
      "3272.66162109\n",
      "3202.09545898\n",
      "2626.89794922\n"
     ]
    },
    {
     "name": "stderr",
     "output_type": "stream",
     "text": [
      "\r",
      " 10%|█         | 10/100 [10:04<1:14:09, 49.44s/it]"
     ]
    },
    {
     "name": "stdout",
     "output_type": "stream",
     "text": [
      "Epoch 9\n",
      "------\n",
      "Train Loss: 3669.7986, Test Loss: 5108.8433\n",
      "3672.40454102\n",
      "3120.16577148\n",
      "3506.76293945\n",
      "3009.97363281\n",
      "3071.23535156\n",
      "4097.75292969\n",
      "4039.77587891\n",
      "3818.52416992\n",
      "4169.33691406\n",
      "3724.50537109\n",
      "3281.26123047\n",
      "3455.78173828\n",
      "3618.83642578\n",
      "4092.53027344\n",
      "3675.01757812\n",
      "3321.25683594\n",
      "4202.6484375\n",
      "4097.77636719\n",
      "4003.00146484\n",
      "3295.32983398\n",
      "3378.64550781\n",
      "3733.36474609\n",
      "3224.49584961\n",
      "4184.04101562\n",
      "4012.71411133\n",
      "3748.11767578\n",
      "3415.1027832\n",
      "3941.49511719\n",
      "4047.92016602\n",
      "3255.19165039\n",
      "3517.06445312\n",
      "3243.99951172\n",
      "2932.11035156\n",
      "3986.55981445\n",
      "3158.02246094\n",
      "3150.09130859\n",
      "2878.30444336\n"
     ]
    },
    {
     "name": "stderr",
     "output_type": "stream",
     "text": [
      "\r",
      " 11%|█         | 11/100 [10:46<1:10:01, 47.21s/it]"
     ]
    },
    {
     "name": "stdout",
     "output_type": "stream",
     "text": [
      "Epoch 10\n",
      "------\n",
      "Train Loss: 3596.7871, Test Loss: 5509.6187\n",
      "3966.89208984\n",
      "3312.43188477\n",
      "4193.49609375\n",
      "3031.6496582\n",
      "3038.14208984\n",
      "3347.73876953\n",
      "3468.59423828\n",
      "3496.62841797\n",
      "3613.30859375\n",
      "3828.96679688\n",
      "2910.96362305\n",
      "4444.05810547\n",
      "4874.14648438\n",
      "5157.32666016\n",
      "4374.45263672\n",
      "3267.92382812\n",
      "3887.1418457\n",
      "3950.33129883\n",
      "4214.67724609\n",
      "3259.86474609\n",
      "2868.41577148\n",
      "3764.73461914\n",
      "3709.24633789\n",
      "3806.56787109\n",
      "3624.03759766\n",
      "3316.21166992\n",
      "3231.53515625\n",
      "3283.31640625\n",
      "3653.25683594\n",
      "3321.83178711\n",
      "3424.03051758\n",
      "2912.87353516\n",
      "3244.8815918\n",
      "3672.71704102\n",
      "3257.24072266\n",
      "3105.13012695\n",
      "3049.08447266\n"
     ]
    },
    {
     "name": "stderr",
     "output_type": "stream",
     "text": [
      "\r",
      " 12%|█▏        | 12/100 [11:28<1:06:57, 45.65s/it]"
     ]
    },
    {
     "name": "stdout",
     "output_type": "stream",
     "text": [
      "Epoch 11\n",
      "------\n",
      "Train Loss: 3591.4556, Test Loss: 5917.3706\n",
      "3803.46801758\n",
      "3560.64453125\n",
      "3657.71362305\n",
      "2894.03027344\n",
      "3001.95947266\n",
      "3719.24072266\n",
      "3465.73535156\n",
      "3782.21191406\n",
      "3640.79150391\n",
      "3545.35205078\n",
      "2936.9152832\n",
      "3879.61328125\n",
      "4096.68164062\n",
      "3991.19995117\n",
      "3704.81738281\n",
      "3105.87597656\n",
      "3840.38623047\n",
      "3970.57397461\n",
      "4627.62744141\n",
      "3597.28173828\n",
      "3249.5065918\n",
      "3708.21875\n",
      "3648.71557617\n",
      "3981.73242188\n",
      "3625.56591797\n",
      "3000.7512207\n",
      "3111.1184082\n",
      "3526.33300781\n",
      "3766.72998047\n",
      "3407.95458984\n",
      "4207.32128906\n",
      "3786.34692383\n",
      "3389.29931641\n",
      "4147.93310547\n",
      "2879.11230469\n",
      "2812.73046875\n",
      "2724.97729492\n"
     ]
    },
    {
     "name": "stderr",
     "output_type": "stream",
     "text": [
      "\r",
      " 13%|█▎        | 13/100 [12:10<1:04:36, 44.56s/it]"
     ]
    },
    {
     "name": "stdout",
     "output_type": "stream",
     "text": [
      "Epoch 12\n",
      "------\n",
      "Train Loss: 3562.0667, Test Loss: 4885.7129\n",
      "3442.0612793\n",
      "3325.82421875\n",
      "3568.18969727\n",
      "3175.51806641\n",
      "3651.81835938\n",
      "3250.05493164\n",
      "3202.67431641\n",
      "3184.16503906\n",
      "3340.85449219\n",
      "3488.17138672\n",
      "2886.98681641\n",
      "3643.53881836\n",
      "4070.37915039\n",
      "3890.42578125\n",
      "3785.51049805\n",
      "3088.12304688\n",
      "3834.25097656\n",
      "4222.55078125\n",
      "4025.02685547\n",
      "3517.71020508\n",
      "3155.28222656\n",
      "3613.4934082\n",
      "3379.28564453\n",
      "3812.94995117\n",
      "3515.47314453\n",
      "3447.15307617\n",
      "3879.90136719\n",
      "3742.71557617\n",
      "3595.31640625\n",
      "3437.07324219\n",
      "3566.47363281\n",
      "3023.77050781\n",
      "2951.40307617\n",
      "3876.42553711\n",
      "2886.72143555\n",
      "2988.07006836\n",
      "2755.77978516\n"
     ]
    },
    {
     "name": "stderr",
     "output_type": "stream",
     "text": [
      "\r",
      " 14%|█▍        | 14/100 [12:52<1:02:46, 43.80s/it]"
     ]
    },
    {
     "name": "stdout",
     "output_type": "stream",
     "text": [
      "Epoch 13\n",
      "------\n",
      "Train Loss: 3465.4355, Test Loss: 5574.5640\n",
      "3823.88671875\n",
      "3507.18066406\n",
      "3719.30151367\n",
      "3054.94335938\n",
      "3067.37329102\n",
      "3497.73461914\n",
      "3542.01269531\n",
      "3129.35693359\n",
      "3445.2265625\n",
      "3334.13183594\n",
      "2629.94677734\n",
      "3567.63964844\n",
      "3763.46411133\n",
      "3948.49511719\n",
      "3853.64794922\n",
      "3381.91943359\n",
      "4318.35693359\n",
      "4865.83496094\n",
      "6507.92138672\n",
      "4062.88891602\n",
      "2886.97412109\n",
      "3782.60595703\n",
      "3236.03710938\n",
      "3642.86865234\n",
      "3810.02368164\n",
      "3449.96484375\n",
      "3217.23535156\n",
      "3684.8527832\n",
      "3591.69458008\n",
      "2951.3581543\n",
      "3592.34838867\n",
      "2882.42749023\n",
      "2977.31933594\n",
      "3606.72973633\n",
      "2637.80322266\n",
      "2889.20019531\n",
      "2539.2956543\n"
     ]
    },
    {
     "name": "stderr",
     "output_type": "stream",
     "text": [
      "\r",
      " 15%|█▌        | 15/100 [13:34<1:01:17, 43.27s/it]"
     ]
    },
    {
     "name": "stdout",
     "output_type": "stream",
     "text": [
      "Epoch 14\n",
      "------\n",
      "Train Loss: 3524.3245, Test Loss: 5076.8887\n",
      "3373.38647461\n",
      "2894.36083984\n",
      "3315.92041016\n",
      "2990.54345703\n",
      "3393.18066406\n",
      "3541.95166016\n",
      "3478.45458984\n",
      "3072.39428711\n",
      "3409.44824219\n",
      "3596.84277344\n",
      "2776.53759766\n",
      "3540.83056641\n",
      "3591.56567383\n",
      "4344.21826172\n",
      "3634.50244141\n",
      "3037.27563477\n",
      "3822.57568359\n",
      "4150.47460938\n",
      "3859.86865234\n",
      "2997.37255859\n",
      "2918.45288086\n",
      "3664.3894043\n",
      "3359.41162109\n",
      "4221.43798828\n",
      "3877.21240234\n",
      "3247.21020508\n",
      "3411.58154297\n",
      "3694.29321289\n",
      "3616.02246094\n",
      "3350.6940918\n",
      "3460.04858398\n",
      "3416.24511719\n",
      "3295.6315918\n",
      "4102.45214844\n",
      "3058.62915039\n",
      "3048.22070312\n",
      "2790.99389648\n"
     ]
    },
    {
     "name": "stderr",
     "output_type": "stream",
     "text": [
      "\r",
      " 16%|█▌        | 16/100 [14:16<1:00:02, 42.89s/it]"
     ]
    },
    {
     "name": "stdout",
     "output_type": "stream",
     "text": [
      "Epoch 15\n",
      "------\n",
      "Train Loss: 3442.0171, Test Loss: 5228.4692\n",
      "3340.64990234\n",
      "3039.47265625\n",
      "3606.76733398\n",
      "2710.91235352\n",
      "2546.56542969\n",
      "3436.76635742\n",
      "3420.18701172\n",
      "3044.06713867\n",
      "3678.31689453\n",
      "3075.10986328\n",
      "3064.93286133\n",
      "4545.17089844\n",
      "4364.29296875\n",
      "4991.49951172\n",
      "3951.25805664\n",
      "3186.67773438\n",
      "3653.37451172\n",
      "3807.53637695\n",
      "3641.69580078\n",
      "3561.05908203\n",
      "2907.00585938\n",
      "3387.97949219\n",
      "3403.5246582\n",
      "3693.30151367\n",
      "3276.51489258\n",
      "3178.10083008\n",
      "3130.03686523\n",
      "3459.78955078\n",
      "3750.51416016\n",
      "3570.53051758\n",
      "3739.73828125\n",
      "3086.67822266\n",
      "3442.88964844\n",
      "3933.48461914\n",
      "2647.1496582\n",
      "2981.20410156\n",
      "2844.65112305\n"
     ]
    },
    {
     "name": "stderr",
     "output_type": "stream",
     "text": [
      "\r",
      " 17%|█▋        | 17/100 [14:58<58:58, 42.63s/it]  "
     ]
    },
    {
     "name": "stdout",
     "output_type": "stream",
     "text": [
      "Epoch 16\n",
      "------\n",
      "Train Loss: 3435.1191, Test Loss: 5057.6094\n",
      "3522.52026367\n",
      "3001.609375\n",
      "3344.08520508\n",
      "2751.68261719\n",
      "2927.42163086\n",
      "3413.63964844\n",
      "3163.63085938\n",
      "3251.72998047\n",
      "3414.20068359\n",
      "3544.54980469\n",
      "2850.88427734\n",
      "3755.45019531\n",
      "4552.40283203\n",
      "4563.359375\n",
      "3917.73388672\n",
      "3616.0090332\n",
      "3932.93408203\n",
      "3859.41015625\n",
      "3901.24047852\n",
      "3290.18017578\n",
      "3225.89550781\n",
      "3733.58837891\n",
      "3315.65332031\n",
      "3822.67333984\n",
      "3414.05664062\n",
      "3370.57617188\n",
      "3073.91088867\n",
      "3702.65380859\n",
      "3565.81811523\n",
      "2943.54931641\n",
      "3216.76782227\n",
      "2933.08398438\n",
      "3086.77270508\n",
      "3741.99047852\n",
      "2932.27880859\n",
      "2838.19458008\n",
      "2633.85449219\n"
     ]
    },
    {
     "name": "stderr",
     "output_type": "stream",
     "text": [
      "\r",
      " 18%|█▊        | 18/100 [15:40<58:00, 42.44s/it]"
     ]
    },
    {
     "name": "stdout",
     "output_type": "stream",
     "text": [
      "Epoch 17\n",
      "------\n",
      "Train Loss: 3408.8108, Test Loss: 5024.9805\n",
      "3710.15039062\n",
      "3449.33349609\n",
      "3501.90429688\n",
      "2840.19482422\n",
      "3141.75610352\n",
      "3455.41748047\n",
      "3463.3190918\n",
      "3450.67895508\n",
      "3547.92504883\n",
      "3397.32324219\n",
      "2587.17431641\n",
      "3521.2590332\n",
      "3871.82568359\n",
      "3942.26391602\n",
      "3617.90380859\n",
      "2923.42529297\n",
      "3437.0715332\n",
      "3654.17700195\n",
      "4032.67456055\n",
      "3127.03369141\n",
      "3165.53613281\n",
      "3915.87084961\n",
      "3292.54370117\n",
      "3877.29443359\n",
      "3633.4621582\n",
      "3383.14038086\n",
      "3300.65698242\n",
      "3661.37963867\n",
      "3514.86767578\n",
      "3084.06323242\n",
      "3218.80810547\n",
      "3126.34936523\n",
      "3197.83251953\n",
      "3706.66455078\n",
      "2842.07910156\n",
      "2957.75268555\n",
      "2531.22265625\n"
     ]
    },
    {
     "name": "stderr",
     "output_type": "stream",
     "text": [
      "\r",
      " 19%|█▉        | 19/100 [16:22<57:07, 42.32s/it]"
     ]
    },
    {
     "name": "stdout",
     "output_type": "stream",
     "text": [
      "Epoch 18\n",
      "------\n",
      "Train Loss: 3380.6035, Test Loss: 5303.2344\n",
      "3097.32421875\n",
      "3144.48120117\n",
      "3219.04296875\n",
      "3062.51074219\n",
      "2722.09326172\n",
      "3308.7019043\n",
      "3613.26049805\n",
      "3146.5625\n",
      "3495.4230957\n",
      "3261.14257812\n",
      "2517.19506836\n",
      "3140.09667969\n",
      "3352.27368164\n",
      "3740.74072266\n",
      "3594.58251953\n",
      "3125.29785156\n",
      "3794.32861328\n",
      "3730.73754883\n",
      "4036.64160156\n",
      "2913.27832031\n",
      "2782.81323242\n",
      "3494.38720703\n",
      "3294.43969727\n",
      "4125.09082031\n",
      "3971.93896484\n",
      "3509.77490234\n",
      "3025.62402344\n",
      "3581.66992188\n",
      "3409.69482422\n",
      "2988.73291016\n",
      "3406.30078125\n",
      "2781.93457031\n",
      "2952.02856445\n",
      "3552.78222656\n",
      "2655.05297852\n",
      "2828.87255859\n",
      "2740.68896484\n"
     ]
    },
    {
     "name": "stderr",
     "output_type": "stream",
     "text": [
      "\r",
      " 20%|██        | 20/100 [17:04<56:18, 42.23s/it]"
     ]
    },
    {
     "name": "stdout",
     "output_type": "stream",
     "text": [
      "Epoch 19\n",
      "------\n",
      "Train Loss: 3273.4473, Test Loss: 5129.5728\n",
      "3373.125\n",
      "2870.00366211\n",
      "3168.48754883\n",
      "2545.40771484\n",
      "2838.15649414\n",
      "3710.75292969\n",
      "3565.83496094\n",
      "3509.26196289\n",
      "3475.67651367\n",
      "3567.57763672\n",
      "2890.90234375\n",
      "3406.11499023\n",
      "3535.69677734\n",
      "3674.36694336\n",
      "3327.64868164\n",
      "3218.14892578\n",
      "3512.81982422\n",
      "3943.47314453\n",
      "4468.15771484\n",
      "3382.96972656\n",
      "3386.14428711\n",
      "3407.78857422\n",
      "3381.63085938\n",
      "3612.52099609\n",
      "3145.13354492\n",
      "2980.50488281\n",
      "2993.43310547\n",
      "3512.74462891\n",
      "3524.23413086\n",
      "2834.07324219\n",
      "3282.40820312\n",
      "2609.00610352\n",
      "3150.2043457\n",
      "3625.8203125\n",
      "2751.90600586\n",
      "2768.82299805\n",
      "2632.1550293\n"
     ]
    },
    {
     "name": "stderr",
     "output_type": "stream",
     "text": [
      "\r",
      " 21%|██        | 21/100 [17:46<55:31, 42.16s/it]"
     ]
    },
    {
     "name": "stdout",
     "output_type": "stream",
     "text": [
      "Epoch 20\n",
      "------\n",
      "Train Loss: 3286.0300, Test Loss: 5172.4658\n",
      "3262.10205078\n",
      "2886.34106445\n",
      "3396.86767578\n",
      "2650.71435547\n",
      "2622.73266602\n",
      "3374.08740234\n",
      "3627.03857422\n",
      "3138.17871094\n",
      "3461.05737305\n",
      "3256.90136719\n",
      "2786.39013672\n",
      "4001.73071289\n",
      "4444.8828125\n",
      "4021.69189453\n",
      "3793.63061523\n",
      "2880.86474609\n",
      "3493.88671875\n",
      "3459.02172852\n",
      "3958.0168457\n",
      "3170.07666016\n",
      "2740.84082031\n",
      "3335.5\n",
      "3348.5234375\n",
      "3676.375\n",
      "3428.14868164\n",
      "3086.63500977\n",
      "2995.63525391\n",
      "3469.05566406\n",
      "3558.19824219\n",
      "2983.28491211\n",
      "3317.75976562\n",
      "2843.03710938\n",
      "2774.56860352\n",
      "3752.56274414\n",
      "2749.33251953\n",
      "2814.30053711\n",
      "2624.75048828\n"
     ]
    },
    {
     "name": "stderr",
     "output_type": "stream",
     "text": [
      "\r",
      " 22%|██▏       | 22/100 [18:28<54:45, 42.12s/it]"
     ]
    },
    {
     "name": "stdout",
     "output_type": "stream",
     "text": [
      "Epoch 21\n",
      "------\n",
      "Train Loss: 3275.2627, Test Loss: 5276.2090\n",
      "3490.71240234\n",
      "3105.86206055\n",
      "3412.56005859\n",
      "2710.72363281\n",
      "3126.29321289\n",
      "3347.79101562\n",
      "3436.23681641\n",
      "3342.79101562\n",
      "3534.06738281\n",
      "3349.87426758\n",
      "2843.13867188\n",
      "3616.50537109\n",
      "3361.12719727\n",
      "3471.5637207\n",
      "3510.4296875\n",
      "2887.64160156\n",
      "3392.07104492\n",
      "3950.41430664\n",
      "3663.98242188\n",
      "3134.75805664\n",
      "2789.75708008\n",
      "3546.51342773\n",
      "3268.59277344\n",
      "3596.14086914\n",
      "3290.74316406\n",
      "3536.55639648\n",
      "3566.59619141\n",
      "3754.51855469\n",
      "3888.48510742\n",
      "3545.07446289\n",
      "3245.03637695\n",
      "2547.07592773\n",
      "2779.60107422\n",
      "3456.57324219\n",
      "2508.38623047\n",
      "2609.66479492\n",
      "2573.47753906\n"
     ]
    },
    {
     "name": "stderr",
     "output_type": "stream",
     "text": [
      "\r",
      " 23%|██▎       | 23/100 [19:10<54:00, 42.09s/it]"
     ]
    },
    {
     "name": "stdout",
     "output_type": "stream",
     "text": [
      "Epoch 22\n",
      "------\n",
      "Train Loss: 3275.4414, Test Loss: 5218.6636\n",
      "3375.23071289\n",
      "2913.76464844\n",
      "3453.01660156\n",
      "2842.1484375\n",
      "2669.38769531\n",
      "3438.34375\n",
      "3149.89550781\n",
      "3161.86962891\n",
      "3827.57885742\n",
      "3248.96191406\n",
      "2711.16210938\n",
      "3201.24194336\n",
      "3359.06396484\n",
      "3732.37451172\n",
      "3242.87695312\n",
      "2939.21899414\n",
      "3736.21044922\n",
      "4324.73779297\n",
      "4017.68286133\n",
      "3152.52685547\n",
      "2938.69604492\n",
      "3353.9855957\n",
      "3249.4284668\n",
      "3832.37719727\n",
      "3430.46948242\n",
      "3153.70922852\n",
      "3040.10888672\n",
      "3545.29589844\n",
      "3240.49145508\n",
      "2972.3046875\n",
      "3155.53710938\n",
      "2699.45947266\n",
      "2768.40258789\n",
      "3600.37939453\n",
      "2748.32202148\n",
      "2766.7409668\n",
      "2543.7512207\n"
     ]
    },
    {
     "name": "stderr",
     "output_type": "stream",
     "text": [
      "\r",
      " 24%|██▍       | 24/100 [19:52<53:17, 42.08s/it]"
     ]
    },
    {
     "name": "stdout",
     "output_type": "stream",
     "text": [
      "Epoch 23\n",
      "------\n",
      "Train Loss: 3230.7231, Test Loss: 5555.2451\n",
      "3267.55908203\n",
      "2928.97241211\n",
      "3128.5078125\n",
      "2420.79223633\n",
      "2727.42773438\n",
      "3090.41674805\n",
      "3288.36987305\n",
      "3156.47143555\n",
      "3606.49707031\n",
      "3397.51245117\n",
      "2548.50537109\n",
      "3085.89599609\n",
      "3531.82275391\n",
      "3521.16503906\n",
      "3208.54467773\n",
      "2913.91381836\n",
      "3868.91699219\n",
      "3807.91967773\n",
      "4197.13623047\n",
      "3408.15917969\n",
      "3117.31225586\n",
      "3911.10595703\n",
      "3595.30566406\n",
      "3717.10546875\n",
      "2998.85424805\n",
      "2988.39575195\n",
      "3145.28857422\n",
      "3219.38061523\n",
      "3356.05810547\n",
      "3161.6887207\n",
      "3543.54125977\n",
      "2789.12011719\n",
      "2607.35766602\n",
      "3532.83300781\n",
      "2726.44921875\n",
      "2627.42089844\n",
      "2456.97216797\n"
     ]
    },
    {
     "name": "stderr",
     "output_type": "stream",
     "text": [
      "\r",
      " 25%|██▌       | 25/100 [20:34<52:34, 42.06s/it]"
     ]
    },
    {
     "name": "stdout",
     "output_type": "stream",
     "text": [
      "Epoch 24\n",
      "------\n",
      "Train Loss: 3205.3699, Test Loss: 5210.1362\n",
      "3239.77880859\n",
      "3063.49926758\n",
      "3434.22607422\n",
      "2925.54589844\n",
      "2957.38476562\n",
      "3387.57666016\n",
      "3298.24169922\n",
      "3583.99316406\n",
      "3425.85058594\n",
      "3384.56762695\n",
      "2498.50366211\n",
      "3416.73486328\n",
      "3574.62597656\n",
      "3472.92993164\n",
      "3534.49902344\n",
      "2729.70141602\n",
      "3503.71728516\n",
      "3539.2331543\n",
      "3820.43261719\n",
      "3507.66723633\n",
      "2964.13037109\n",
      "3641.86474609\n",
      "3304.15917969\n",
      "3651.46337891\n",
      "3147.47314453\n",
      "3236.54785156\n",
      "3090.47216797\n",
      "3341.19750977\n",
      "3284.54882812\n",
      "2814.11279297\n",
      "3073.61645508\n",
      "2929.01586914\n",
      "2768.07275391\n",
      "3573.81738281\n",
      "2659.84594727\n",
      "2487.73950195\n",
      "2369.78759766\n"
     ]
    },
    {
     "name": "stderr",
     "output_type": "stream",
     "text": [
      "\r",
      " 26%|██▌       | 26/100 [21:16<51:51, 42.05s/it]"
     ]
    },
    {
     "name": "stdout",
     "output_type": "stream",
     "text": [
      "Epoch 25\n",
      "------\n",
      "Train Loss: 3206.3940, Test Loss: 5157.6255\n",
      "3467.24243164\n",
      "2791.65087891\n",
      "3358.52441406\n",
      "2545.70825195\n",
      "3098.47485352\n",
      "3348.375\n",
      "3279.44775391\n",
      "3075.68969727\n",
      "3521.32861328\n",
      "3294.40429688\n",
      "2762.67822266\n",
      "3250.88598633\n",
      "3191.0703125\n",
      "3675.79125977\n",
      "3340.96069336\n",
      "3195.6418457\n",
      "4125.51074219\n",
      "3460.11108398\n",
      "3837.13745117\n",
      "2835.58691406\n",
      "2572.9765625\n",
      "3407.93237305\n",
      "3096.73022461\n",
      "3525.43701172\n",
      "3260.78637695\n",
      "3225.12451172\n",
      "2916.67333984\n",
      "3097.64379883\n",
      "3451.078125\n",
      "3295.57470703\n",
      "3455.48071289\n",
      "2837.3894043\n",
      "2768.77246094\n",
      "3540.59326172\n",
      "2607.875\n",
      "2635.22094727\n",
      "2433.95996094\n"
     ]
    },
    {
     "name": "stderr",
     "output_type": "stream",
     "text": [
      "\r",
      " 27%|██▋       | 27/100 [21:58<51:08, 42.04s/it]"
     ]
    },
    {
     "name": "stdout",
     "output_type": "stream",
     "text": [
      "Epoch 26\n",
      "------\n",
      "Train Loss: 3177.9856, Test Loss: 5248.4741\n",
      "3070.33764648\n",
      "2773.40527344\n",
      "3228.76806641\n",
      "2999.35327148\n",
      "3328.36401367\n",
      "3413.52148438\n",
      "3449.16699219\n",
      "3129.34228516\n",
      "3069.90917969\n",
      "3147.77587891\n",
      "2344.58374023\n",
      "3830.17944336\n",
      "3705.5625\n",
      "3787.70556641\n",
      "3108.12036133\n",
      "2674.80322266\n",
      "3305.60009766\n",
      "4202.77148438\n",
      "3894.72631836\n",
      "2994.93017578\n",
      "2799.30273438\n",
      "3201.53417969\n",
      "3179.81689453\n",
      "3668.10717773\n",
      "3356.2175293\n",
      "2808.92138672\n",
      "2901.33007812\n",
      "3242.34326172\n",
      "3341.16064453\n",
      "3012.2578125\n",
      "3198.63305664\n",
      "2630.32836914\n",
      "2604.47314453\n",
      "3395.23999023\n",
      "2419.46484375\n",
      "2584.70556641\n",
      "2794.09716797\n"
     ]
    },
    {
     "name": "stderr",
     "output_type": "stream",
     "text": [
      "\r",
      " 28%|██▊       | 28/100 [22:40<50:26, 42.04s/it]"
     ]
    },
    {
     "name": "stdout",
     "output_type": "stream",
     "text": [
      "Epoch 27\n",
      "------\n",
      "Train Loss: 3151.2664, Test Loss: 5544.9106\n",
      "3378.51245117\n",
      "2977.0078125\n",
      "3029.92431641\n",
      "2528.83349609\n",
      "2603.48901367\n",
      "3026.0480957\n",
      "2841.6796875\n",
      "2993.59765625\n",
      "3485.45288086\n",
      "3397.18994141\n",
      "2567.58129883\n",
      "3352.22729492\n",
      "3500.11401367\n",
      "3443.32275391\n",
      "3489.65283203\n",
      "2916.81030273\n",
      "3928.28881836\n",
      "3640.09350586\n",
      "3610.33618164\n",
      "2649.91943359\n",
      "2664.76074219\n",
      "3344.82641602\n",
      "3053.58666992\n",
      "3812.15917969\n",
      "2982.81835938\n",
      "2956.58520508\n",
      "3000.00415039\n",
      "3188.44726562\n",
      "3253.16870117\n",
      "3281.76416016\n",
      "3208.23095703\n",
      "2558.77001953\n",
      "2428.68212891\n",
      "3225.73364258\n",
      "2142.10473633\n",
      "2679.9519043\n",
      "2400.01123047\n"
     ]
    },
    {
     "name": "stderr",
     "output_type": "stream",
     "text": [
      "\r",
      " 29%|██▉       | 29/100 [23:22<49:44, 42.03s/it]"
     ]
    },
    {
     "name": "stdout",
     "output_type": "stream",
     "text": [
      "Epoch 28\n",
      "------\n",
      "Train Loss: 3068.6941, Test Loss: 4956.9956\n",
      "3146.65820312\n",
      "2768.21362305\n",
      "3254.13427734\n",
      "2467.06689453\n"
     ]
    },
    {
     "name": "stderr",
     "output_type": "stream",
     "text": [
      "\n"
     ]
    }
   ],
   "source": [
    "train_loss, test_loss = yl.train(\n",
    "    generate_data(train_annotations),\n",
    "    generate_data(test_annotations),\n",
    "    lr=1e-3,\n",
    "    epochs=num_epochs\n",
    ")"
   ]
  },
  {
   "cell_type": "code",
   "execution_count": 192,
   "metadata": {
    "collapsed": true
   },
   "outputs": [],
   "source": [
    "with open('yolo_weights.pkl', 'wb') as f:\n",
    "    weights = lasagne.layers.get_all_param_values(net['output'])\n",
    "    pk.dump(weights, f)"
   ]
  },
  {
   "cell_type": "code",
   "execution_count": 193,
   "metadata": {
    "collapsed": false
   },
   "outputs": [],
   "source": [
    "# train_loss_total, test_loss_total = train_loss, test_loss\n",
    "train_loss_total = np.concatenate((train_loss_total, train_loss))\n",
    "test_loss_total = np.concatenate((test_loss_total, test_loss))"
   ]
  },
  {
   "cell_type": "code",
   "execution_count": 194,
   "metadata": {
    "collapsed": false
   },
   "outputs": [
    {
     "data": {
      "text/plain": [
       "[<matplotlib.lines.Line2D at 0x129da7750>]"
      ]
     },
     "execution_count": 194,
     "metadata": {},
     "output_type": "execute_result"
    },
    {
     "data": {
      "image/png": "[encoded data removed]",
      "text/plain": [
       "<matplotlib.figure.Figure at 0x129da7090>"
      ]
     },
     "metadata": {},
     "output_type": "display_data"
    }
   ],
   "source": [
    "plt.figure(figsize=(8,8))\n",
    "idx = train_loss_total != 0\n",
    "plt.plot(train_loss_total[idx], 'b')\n",
    "plt.plot(test_loss_total[idx], 'r')"
   ]
  },
  {
   "cell_type": "code",
   "execution_count": 195,
   "metadata": {
    "collapsed": true
   },
   "outputs": [],
   "source": [
    "gen = generate_data(test_annotations[np.random.random_integers(0, test_annotations.size - 1, size=(100,))])"
   ]
  },
  {
   "cell_type": "code",
   "execution_count": 196,
   "metadata": {
    "collapsed": true
   },
   "outputs": [],
   "source": [
    "testdat = [t for t in gen]"
   ]
  },
  {
   "cell_type": "code",
   "execution_count": 197,
   "metadata": {
    "collapsed": false
   },
   "outputs": [],
   "source": [
    "Xtest, ytest = testdat[0]"
   ]
  },
  {
   "cell_type": "code",
   "execution_count": 198,
   "metadata": {
    "collapsed": false
   },
   "outputs": [],
   "source": [
    "out_fn = theano.function([yl.input], yl.output_test)"
   ]
  },
  {
   "cell_type": "code",
   "execution_count": 199,
   "metadata": {
    "collapsed": true
   },
   "outputs": [],
   "source": [
    "Xtest_out = out_fn(Xtest)"
   ]
  },
  {
   "cell_type": "code",
   "execution_count": 200,
   "metadata": {
    "collapsed": false
   },
   "outputs": [],
   "source": [
    "def draw_best(im, output):\n",
    "    idx = (output[[4,9]] * output[-4:].max(axis=0,keepdims=True)).argmax()\n",
    "    idx = np.unravel_index(idx, output[[4,9]].shape)\n",
    "    coord = output[5 * idx[0]:5 * idx[0] + 4, idx[1], idx[2]]\n",
    "    obj_score = output[5 * idx[0] + 4, idx[1], idx[2]]\n",
    "    class_score = output[-4:, idx[1], idx[2]]\n",
    "\n",
    "    xi = int(coord[0] * im.shape[1] + 1./9 * idx[2])\n",
    "    yi = int(coord[1] * im.shape[0] + 1./9 * idx[1])\n",
    "    xf = xi + int(coord[2] * im.shape[1])\n",
    "    yf = yi + int(coord[3] * im.shape[0])\n",
    "\n",
    "    xi, yi = max(0, xi), max(0, yi)\n",
    "    xf, yf = max(im.shape[1]-1 , 0), max(im.shape[0]-1, 0)\n",
    "\n",
    "    draw_im = np.copy(im)\n",
    "    draw_im[yi,xi:xf] = [1,0,0]\n",
    "    draw_im[yf,xi:xf] = [1,0,0]\n",
    "    draw_im[yi:yf,xi] = [1,0,0]\n",
    "    draw_im[yi:yf,xf] = [1,0,0]\n",
    "\n",
    "    return draw_im, obj_score, class_score"
   ]
  },
  {
   "cell_type": "code",
   "execution_count": 201,
   "metadata": {
    "collapsed": true
   },
   "outputs": [],
   "source": [
    "def get_label_from_num(label):\n",
    "    if label == 0:\n",
    "        return 'car'\n",
    "    elif label == 1:\n",
    "        return 'bicycle'\n",
    "    elif label == 2:\n",
    "        return 'bike'\n",
    "    elif label == 3:\n",
    "        return 'person'\n",
    "    elif label == 4:\n",
    "        return 'noobj'\n",
    "    else:\n",
    "        return"
   ]
  },
  {
   "cell_type": "code",
   "execution_count": 202,
   "metadata": {
    "collapsed": true
   },
   "outputs": [],
   "source": [
    "swap = lambda x: x.swapaxes(0,1).swapaxes(1,2)"
   ]
  },
  {
   "cell_type": "code",
   "execution_count": 209,
   "metadata": {
    "collapsed": true
   },
   "outputs": [],
   "source": [
    "N = int(Xtest.shape[0] * np.random.rand())"
   ]
  },
  {
   "cell_type": "code",
   "execution_count": 210,
   "metadata": {
    "collapsed": false
   },
   "outputs": [],
   "source": [
    "a,b,c = draw_best(swap(Xtest[N]), Xtest_out[N])"
   ]
  },
  {
   "cell_type": "code",
   "execution_count": 211,
   "metadata": {
    "collapsed": false
   },
   "outputs": [
    {
     "name": "stdout",
     "output_type": "stream",
     "text": [
      "car with class score: 0.488, objectness: 0.535\n"
     ]
    },
    {
     "data": {
      "image/png": "[encoded data removed]",
      "text/plain": [
       "<matplotlib.figure.Figure at 0x126c1d050>"
      ]
     },
     "metadata": {},
     "output_type": "display_data"
    }
   ],
   "source": [
    "plt.imshow(a)\n",
    "print '%s with class score: %.3f, objectness: %.3f' % (get_label_from_num(c.argmax()), b, c.max())"
   ]
  },
  {
   "cell_type": "code",
   "execution_count": 47,
   "metadata": {
    "collapsed": true
   },
   "outputs": [],
   "source": [
    "im = Xtest[0].swapaxes(0,1).swapaxes(1,2)"
   ]
  },
  {
   "cell_type": "code",
   "execution_count": 48,
   "metadata": {
    "collapsed": false
   },
   "outputs": [
    {
     "data": {
      "text/plain": [
       "<matplotlib.image.AxesImage at 0x12991c810>"
      ]
     },
     "execution_count": 48,
     "metadata": {},
     "output_type": "execute_result"
    },
    {
     "data": {
      "image/png": "[encoded data removed]",
      "text/plain": [
       "<matplotlib.figure.Figure at 0x11d64ac50>"
      ]
     },
     "metadata": {},
     "output_type": "display_data"
    }
   ],
   "source": [
    "plt.imshow(im)"
   ]
  },
  {
   "cell_type": "code",
   "execution_count": null,
   "metadata": {
    "collapsed": true
   },
   "outputs": [],
   "source": []
  }
 ],
 "metadata": {
  "anaconda-cloud": {},
  "kernelspec": {
   "display_name": "Python [Root]",
   "language": "python",
   "name": "Python [Root]"
  },
  "language_info": {
   "codemirror_mode": {
    "name": "ipython",
    "version": 2
   },
   "file_extension": ".py",
   "mimetype": "text/x-python",
   "name": "python",
   "nbconvert_exporter": "python",
   "pygments_lexer": "ipython2",
   "version": "2.7.12"
  }
 },
 "nbformat": 4,
 "nbformat_minor": 0
}
