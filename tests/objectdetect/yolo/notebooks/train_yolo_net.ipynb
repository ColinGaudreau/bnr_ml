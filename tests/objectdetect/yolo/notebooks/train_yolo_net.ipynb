{
 "cells": [
  {
   "cell_type": "markdown",
   "metadata": {},
   "source": [
    "<p style=\"font-size:14pt;text-align:center;\">\n",
    "Pretraining network on pascal VOC.\n",
    "</p>"
   ]
  },
  {
   "cell_type": "code",
   "execution_count": 1,
   "metadata": {
    "collapsed": false
   },
   "outputs": [
    {
     "name": "stderr",
     "output_type": "stream",
     "text": [
      "/Users/colingaudreau/anaconda2/lib/python2.7/site-packages/matplotlib/font_manager.py:273: UserWarning: Matplotlib is building the font cache using fc-list. This may take a moment.\n",
      "  warnings.warn('Matplotlib is building the font cache using fc-list. This may take a moment.')\n",
      "Using gpu device 0: GeForce GTX 960 (CNMeM is enabled with initial size: 80.0% of memory, cuDNN not available)\n",
      "/Library/Python/2.7/site-packages/theano/tensor/signal/downsample.py:6: UserWarning: downsample module has been moved to the theano.tensor.signal.pool module.\n",
      "  \"downsample module has been moved to the theano.tensor.signal.pool module.\")\n"
     ]
    }
   ],
   "source": [
    "%matplotlib inline\n",
    "from matplotlib import pyplot as plt\n",
    "import numpy as np\n",
    "import theano\n",
    "from theano import tensor as T\n",
    "import pickle as pk\n",
    "import re\n",
    "from copy import deepcopy\n",
    "import sys\n",
    "\n",
    "# image processing\n",
    "from skimage.io import imread\n",
    "from skimage.transform import resize\n",
    "from skimage.color import rgb2hsv, hsv2rgb\n",
    "\n",
    "import lasagne\n",
    "from lasagne.layers import Pool2DLayer, Conv2DLayer, dropout, \\\n",
    "    DenseLayer, InputLayer, get_output, get_all_params\n",
    "    \n",
    "import bnr_ml.objectdetect.yolo as yolo\n",
    "\n",
    "import pdb"
   ]
  },
  {
   "cell_type": "code",
   "execution_count": 2,
   "metadata": {
    "collapsed": true
   },
   "outputs": [],
   "source": [
    "with open('/usr/local/python/bnr_ml/data/PascalVOC/annotations.txt', 'rb') as f:\n",
    "    annotations = pk.load(f)['annotations']"
   ]
  },
  {
   "cell_type": "code",
   "execution_count": 3,
   "metadata": {
    "collapsed": true
   },
   "outputs": [],
   "source": [
    "def add_proper_labels(annotations):\n",
    "    for im in annotations:\n",
    "        for obj in im:\n",
    "            if 'car' in obj['label'].lower():\n",
    "                obj['label'] = 'car'\n",
    "            elif 'bicycle' in obj['label'].lower():\n",
    "                obj['label'] = 'bicycle'\n",
    "            elif 'person' in obj['label'].lower():\n",
    "                obj['label'] = 'person'\n",
    "            elif 'bike' in obj['label'].lower():\n",
    "                obj['label'] = 'bike'\n",
    "            else:\n",
    "                print obj"
   ]
  },
  {
   "cell_type": "code",
   "execution_count": 4,
   "metadata": {
    "collapsed": false
   },
   "outputs": [],
   "source": [
    "def get_label_counts(annotations):\n",
    "    counts = np.zeros((4,))\n",
    "    for im in annotations:\n",
    "        for obj in im:\n",
    "            if obj['label'] == 'car':\n",
    "                counts[0] += 1\n",
    "            elif obj['label'] == 'bicycle':\n",
    "                counts[1] += 1\n",
    "            elif obj['label'] == 'bike':\n",
    "                counts[2] += 1\n",
    "            else:\n",
    "                counts[3] += 1\n",
    "    return counts"
   ]
  },
  {
   "cell_type": "code",
   "execution_count": 5,
   "metadata": {
    "collapsed": false
   },
   "outputs": [],
   "source": [
    "add_proper_labels(annotations)"
   ]
  },
  {
   "cell_type": "code",
   "execution_count": 6,
   "metadata": {
    "collapsed": false
   },
   "outputs": [],
   "source": [
    "annotations = np.asarray(annotations)"
   ]
  },
  {
   "cell_type": "code",
   "execution_count": 7,
   "metadata": {
    "collapsed": true
   },
   "outputs": [],
   "source": [
    "counts = get_label_counts(annotations)"
   ]
  },
  {
   "cell_type": "code",
   "execution_count": 8,
   "metadata": {
    "collapsed": false
   },
   "outputs": [
    {
     "data": {
      "image/png": "[encoded data removed]",
      "text/plain": [
       "<matplotlib.figure.Figure at 0x1041d9790>"
      ]
     },
     "metadata": {},
     "output_type": "display_data"
    }
   ],
   "source": [
    "plt.figure(figsize=(12,8))\n",
    "plt.title('Distribution of labels', fontsize=20)\n",
    "plt.bar(np.arange(counts.size), counts, color='red', alpha=.4)\n",
    "plt.xticks(np.arange(counts.size) + .5, ['car', 'bicycle', 'bike', 'person'], fontsize=14)\n",
    "plt.show()"
   ]
  },
  {
   "cell_type": "code",
   "execution_count": 9,
   "metadata": {
    "collapsed": true
   },
   "outputs": [],
   "source": [
    "np.random.seed(1991)"
   ]
  },
  {
   "cell_type": "markdown",
   "metadata": {},
   "source": [
    "<b>Split the annotations for training and testing, the reason I split by image and not individual object is so that when testing the performance, the network will never have seen any part of the test image."
   ]
  },
  {
   "cell_type": "code",
   "execution_count": 10,
   "metadata": {
    "collapsed": false
   },
   "outputs": [],
   "source": [
    "with open('indices.pkl', 'rb') as f:\n",
    "    indices = pk.load(f)\n",
    "    train_idx = indices['train_index']\n",
    "    test_idx = indices['test_index']"
   ]
  },
  {
   "cell_type": "code",
   "execution_count": 11,
   "metadata": {
    "collapsed": false
   },
   "outputs": [],
   "source": [
    "train_annotations = annotations[train_idx]\n",
    "test_annotations = annotations[test_idx]"
   ]
  },
  {
   "cell_type": "code",
   "execution_count": 12,
   "metadata": {
    "collapsed": false
   },
   "outputs": [],
   "source": [
    "class Box(object):\n",
    "    def __init__(self, xi,yi,xf,yf):\n",
    "        self.xi = xi\n",
    "        self.yi = yi\n",
    "        self.xf = xf\n",
    "        self.yf = yf\n",
    "    def iou(self, box):\n",
    "        isec = self.intersection(box)\n",
    "        union = self.size() + box.size() - isec.size()\n",
    "        return isec.size() / union\n",
    "    def intersection(self, box):\n",
    "        new_xi = max(self.xi, box.xi)\n",
    "        new_yi = max(self.yi, box.yi)\n",
    "        new_xf = min(self.xf, box.xf)\n",
    "        new_yf = min(self.yf, box.yf)\n",
    "        if new_xi > new_xf or new_yi > new_yf:\n",
    "            new_xi, new_yi, new_xf, new_yf = 0., 0., 0., 0.\n",
    "        return Box(new_xi, new_yi, new_xf, new_yf)\n",
    "    def size(self):\n",
    "        return (self.xf - self.xi) * (self.yf - self.yi)\n",
    "    def width(self):\n",
    "        return (self.xf - self.xi)\n",
    "    def height(self):\n",
    "        return (self.yf - self.yi)\n",
    "    def copy(self):\n",
    "        return Box(self.xi, self.yi, self.xf, self.yf)\n",
    "    def subimage(self, im):\n",
    "        xi = max(0, int(im.shape[1] * self.xi))\n",
    "        yi = max(0, int(im.shape[0] * self.yi))\n",
    "        xf = min(im.shape[1], int(im.shape[1] * self.xf))\n",
    "        yf = min(im.shape[0], int(im.shape[0] * self.yf))\n",
    "        return im[yi:yf, xi:xf]\n",
    "    def round(self):\n",
    "        self.xi, self.yi, self.xf, self.yf = round(self.xi), round(self.yi), round(self.xf), round(self.yf)\n",
    "    def __str__(self):\n",
    "        return '(' + str(self.xi) + ',' + str(self.yi) + ') (' + str(self.xf) + ',' + str(self.yf) + ')'\n",
    "    def __repr__(self):\n",
    "        return self.__str__()\n",
    "    @staticmethod\n",
    "    def gen_randombox(iou, box, eps=.5):\n",
    "        angle = 2 * np.pi * np.random.rand()\n",
    "        delx, dely = eps*np.cos(angle), eps*np.sin(angle)\n",
    "        new_box = box.copy()\n",
    "        while new_box.iou(box) > iou:\n",
    "            new_box.xi += delx\n",
    "            new_box.yi += dely\n",
    "            new_box.xf += delx\n",
    "            new_box.yf += dely\n",
    "        return new_box"
   ]
  },
  {
   "cell_type": "code",
   "execution_count": 13,
   "metadata": {
    "collapsed": true
   },
   "outputs": [],
   "source": [
    "def generate_data_2(annotations, C, max_objs=15, size=(200,200), batch_size=100):\n",
    "    def reformat_image(im, new_size):\n",
    "        if im.shape.__len__() == 2:\n",
    "            im = np.repeat(im.reshape(im.shape + (1,)), 3, axis=2)\n",
    "        elif im.shape[2] > 3:\n",
    "            im = im[:,:,:3]\n",
    "        if im.shape[0] == 0 or im.shape[2] == 0:\n",
    "            return None\n",
    "        return resize(im, new_size).swapaxes(2,1).swapaxes(1,0)\n",
    "    def transform_coord(coord, old_size, new_size):\n",
    "        coord[[0,2]] *= 1. / old_size[1]\n",
    "        coord[[1,3]] *= 1. / old_size[0]\n",
    "        \n",
    "        if coord[2] >= coord[0]:\n",
    "            coord[2] -= coord[0]\n",
    "        else:\n",
    "            coord[2] = coord[0] - coord[2]\n",
    "        if coord[3] >= coord[1]:\n",
    "            coord[3] -= coord[1]\n",
    "        else:\n",
    "            coord[3] = coord[1] - coord[3]\n",
    "        return coord\n",
    "    def get_num_from_label(label):\n",
    "        if label == 'car':\n",
    "            return 0\n",
    "        elif label == 'bicycle':\n",
    "            return 1\n",
    "        elif label == 'bike':\n",
    "            return 2\n",
    "        elif label == 'person':\n",
    "            return 3\n",
    "        elif label == 'noobj':\n",
    "            return 4\n",
    "        else:\n",
    "            pass\n",
    "        \n",
    "    annotations = np.asarray([[deepcopy(obj) for obj in objs] for objs in annotations]) # deep copy annotations\n",
    "\n",
    "    fake_truth = np.concatenate((np.asarray([-10.,-10.,.01,.01]), np.zeros((C,))))\n",
    "    \n",
    "    np.random.shuffle(annotations)\n",
    "    \n",
    "    for i in range(0,annotations.size, batch_size):\n",
    "        Xbatch = np.zeros((batch_size,3) + size)\n",
    "        ybatch = np.zeros((batch_size, (4 + C) * max_objs))\n",
    "        \n",
    "        for j in range(min(batch_size, annotations.size - i)):\n",
    "            objs = annotations[i+j]\n",
    "            im = imread(objs[0]['image'])\n",
    "            old_size = im.shape\n",
    "            \n",
    "            Xbatch[j] = reformat_image(im, size)\n",
    "            \n",
    "            for k in range(max_objs):\n",
    "                if k < objs.__len__():\n",
    "                    obj = objs[k]\n",
    "                    coord = np.asarray(obj['p1'] + obj['p2']).astype(theano.config.floatX)\n",
    "                    coord = transform_coord(coord, old_size, size)\n",
    "                    ybatch[j,k*(4 + C):k*(4 + C) + 4] = coord\n",
    "                    ybatch[j,k*(4 + C)+4 + get_num_from_label(obj['label'])] += 1\n",
    "                else:\n",
    "                    ybatch[j,k*(4 + C):(k + 1)*(4 + C)] = fake_truth\n",
    "            \n",
    "        yield Xbatch[:j+1].astype(theano.config.floatX), ybatch[:j+1].astype(theano.config.floatX)"
   ]
  },
  {
   "cell_type": "code",
   "execution_count": 14,
   "metadata": {
    "collapsed": true
   },
   "outputs": [],
   "source": [
    "def generate_data_3(annotations, C, max_objs=15, size=(200,200), batch_size=100, augment=10):\n",
    "    def reformat_image(im, new_size):\n",
    "        if im.shape.__len__() == 2:\n",
    "            im = np.repeat(im.reshape(im.shape + (1,)), 3, axis=2)\n",
    "        elif im.shape[2] > 3:\n",
    "            im = im[:,:,:3]\n",
    "        if im.shape[0] == 0 or im.shape[2] == 0:\n",
    "            return None\n",
    "        return resize(im, new_size)\n",
    "    def transform_coord(coord, old_size, new_size):\n",
    "        coord[[0,2]] *= 1. / old_size[1]\n",
    "        coord[[1,3]] *= 1. / old_size[0]\n",
    "        \n",
    "        if coord[2] >= coord[0]:\n",
    "            coord[2] -= coord[0]\n",
    "        else:\n",
    "            coord[2] = coord[0] - coord[2]\n",
    "        if coord[3] >= coord[1]:\n",
    "            coord[3] -= coord[1]\n",
    "        else:\n",
    "            coord[3] = coord[1] - coord[3]\n",
    "        return coord\n",
    "    def get_num_from_label(label):\n",
    "        if label == 'car':\n",
    "            return 0\n",
    "        elif label == 'bicycle':\n",
    "            return 1\n",
    "        elif label == 'bike':\n",
    "            return 2\n",
    "        elif label == 'person':\n",
    "            return 3\n",
    "        elif label == 'noobj':\n",
    "            return 4\n",
    "        else:\n",
    "            pass\n",
    "        \n",
    "    annotations = np.asarray([[deepcopy(obj) for obj in objs] for objs in annotations]) # deep copy annotations\n",
    "\n",
    "    fake_truth = np.concatenate((np.asarray([-10.,-10.,.01,.01]), np.zeros((C,))))\n",
    "    \n",
    "    np.random.shuffle(annotations)\n",
    "    \n",
    "    for num in range(augment):\n",
    "        for i in range(0,annotations.size, batch_size):\n",
    "            Xbatch = np.zeros((batch_size,3) + size)\n",
    "            ybatch = np.zeros((batch_size, (4 + C) * max_objs))\n",
    "\n",
    "            for j in range(min(batch_size, annotations.size - i)):\n",
    "                objs = annotations[i+j]\n",
    "                im = imread(objs[0]['image'])\n",
    "                old_size = im.shape\n",
    "                \n",
    "                old_box = Box(0.,0.,1.,1.)\n",
    "                iterlap = 1.\n",
    "                new_width = iterlap + (1. - iterlap) * np.random.rand()\n",
    "                new_height = iterlap +  (1. - iterlap) * np.random.rand()\n",
    "                new_xi = (1. - new_width) * np.random.rand()\n",
    "                new_yi = (1. - new_height) * np.random.rand()\n",
    "                new_box = Box(\n",
    "                    new_xi,\n",
    "                    new_yi,\n",
    "                    new_width + new_xi,\n",
    "                    new_height + new_yi\n",
    "                )\n",
    "                im = new_box.subimage(im)\n",
    "\n",
    "                im = reformat_image(im, size)\n",
    "                \n",
    "                im = rgb2hsv(im)\n",
    "                im[:,:,[0,2]] *= (1 + .3 * np.random.rand(1,1,2))\n",
    "                im = hsv2rgb(im)\n",
    "                \n",
    "                Xbatch[j] = im.swapaxes(2,1).swapaxes(1,0)\n",
    "\n",
    "                for k in range(max_objs):\n",
    "                    if k < objs.__len__():\n",
    "                        obj = objs[k]\n",
    "                        coord = np.asarray(obj['p1'] + obj['p2']).astype(theano.config.floatX)\n",
    "                        coord = transform_coord(coord, old_size, size)\n",
    "                        \n",
    "                        obj_box = Box(coord[0], coord[1], coord[0] + coord[2], coord[1] + coord[3])\n",
    "                        \n",
    "                        if new_box.iou(obj_box) > 0.5:\n",
    "                            coord[0] -= new_box.xi\n",
    "                            coord[1] -= new_box.yi\n",
    "                            coord[[0,2]] /= (new_box.xf - new_box.xi)\n",
    "                            coord[[1,3]] /= (new_box.yf - new_box.yi)\n",
    "                            ybatch[j,k*(4 + C):k*(4 + C) + 4] = coord\n",
    "                            ybatch[j,k*(4 + C)+4 + get_num_from_label(obj['label'])] += 1\n",
    "                        else:\n",
    "                            ybatch[j,k*(4 + C):(k + 1)*(4 + C)] = fake_truth\n",
    "\n",
    "                    else:\n",
    "                        ybatch[j,k*(4 + C):(k + 1)*(4 + C)] = fake_truth\n",
    "\n",
    "            yield Xbatch[:j+1].astype(theano.config.floatX), ybatch[:j+1].astype(theano.config.floatX)"
   ]
  },
  {
   "cell_type": "code",
   "execution_count": 15,
   "metadata": {
    "collapsed": false
   },
   "outputs": [],
   "source": [
    "def generate_data(annotations, C, size=(200,200), batch_size=100):\n",
    "    '''\n",
    "    augment: how many times do you want the data to be replicated\n",
    "    '''\n",
    "    def get_objects(annotations):\n",
    "        objs = []\n",
    "        for im in annotations:\n",
    "            objs.extend([deepcopy(obj) for obj in im])\n",
    "        return np.asarray(objs)\n",
    "    def get_num_from_label(label):\n",
    "        if label == 'car':\n",
    "            return 0\n",
    "        elif label == 'bicycle':\n",
    "            return 1\n",
    "        elif label == 'bike':\n",
    "            return 2\n",
    "        elif label == 'person':\n",
    "            return 3\n",
    "        elif label == 'noobj':\n",
    "            return 4\n",
    "        else:\n",
    "            pass\n",
    "#             print('This shouldn\\'t happen')\n",
    "    def subsample_objs(objs, obj_idx, size):\n",
    "        idx = obj_idx[np.random.random_integers(0,obj_idx.size-1, size=(size,))]\n",
    "        copy_obj = []\n",
    "        for obj in objs[idx]:\n",
    "            copy_obj.append(deepcopy(obj))\n",
    "        return np.asarray(copy_obj)\n",
    "    def set_label_to_noobj(objs, obj_idx):\n",
    "        N = np.int_(np.float_(obj_idx.size) / 5)\n",
    "        idx = np.arange(obj_idx.size)\n",
    "        np.random.shuffle(idx)\n",
    "        for obj in objs[obj_idx[idx[:N]]]:\n",
    "            obj['label']  = 'noobj'\n",
    "        return objs\n",
    "    \n",
    "    # return flat list of objects\n",
    "    objs = get_objects(annotations)\n",
    "    \n",
    "    # get number from label\n",
    "    labels = np.asarray([get_num_from_label(obj['label']) for obj in objs])\n",
    "    \n",
    "    idx = np.arange(labels.size)\n",
    "    idx_car = idx[labels==0]\n",
    "    idx_bicycle = idx[labels==1]\n",
    "    idx_bike = idx[labels==2]\n",
    "    idx_person = idx[labels==3]\n",
    "        \n",
    "    max_labels = np.max([idx_car.size, idx_bicycle.size, idx_bike.size, idx_person.size])\n",
    "    \n",
    "    # get subsamples to get equal number of classes\n",
    "    new_car = subsample_objs(objs, idx_car, max_labels - idx_car.size)\n",
    "    new_bicycle = subsample_objs(objs, idx_bicycle, max_labels - idx_bicycle.size)\n",
    "    new_bike = subsample_objs(objs, idx_bike, max_labels - idx_bike.size)\n",
    "    new_person = subsample_objs(objs, idx_person, max_labels - idx_person.size)\n",
    "    \n",
    "    # add new samples\n",
    "    objs = np.concatenate((objs, new_car, new_bicycle, new_bike, new_person))\n",
    "    \n",
    "    np.random.shuffle(objs)\n",
    "    \n",
    "    cnt = 0\n",
    "    while cnt < objs.size:\n",
    "        Xbatch = np.zeros((batch_size, 3) + size)\n",
    "        ybatch = np.zeros((batch_size, 4 + C))\n",
    "        batch_cnt = 0\n",
    "        for j in range(batch_size):\n",
    "            if cnt < objs.size:\n",
    "                obj = objs[cnt]\n",
    "                im = imread(obj['image'])\n",
    "                im = im.astype(theano.config.floatX) / 255\n",
    "                xscale, yscale = np.float_(size[1]) / im.shape[1], np.float_(size[0]) / im.shape[0]\n",
    "#                 pdb.set_trace()\n",
    "                coord = np.asarray(obj['p1'] + obj['p2']).astype(theano.config.floatX)\n",
    "                coord[[0,2]] *= (xscale / 200)\n",
    "                coord[[1,3]] *= (yscale / 200)\n",
    "                if coord[2] >= coord[0]:\n",
    "                    coord[2] -= coord[0]\n",
    "                else:\n",
    "                    coord[2] = coord[0] - coord[2]\n",
    "                if coord[3] >= coord[1]:\n",
    "                    coord[3] -= coord[1]\n",
    "                else:\n",
    "                    coord[3] = coord[1] - coord[3]\n",
    "                    \n",
    "                if coord[2] < 0 or coord[3] < 0:\n",
    "                    print image\n",
    "                    \n",
    "                if im.shape.__len__() == 2:\n",
    "                    im = im.reshape(im.shape + (1,))\n",
    "                    im = np.concatenate((im, im, im), axis=2)\n",
    "                elif im.shape[2] == 4:\n",
    "                    im = im[:,:,:3]\n",
    "                if not (im.shape[0] == 0 or im.shape[1] == 0):\n",
    "                    im = resize(im, size).swapaxes(2,1).swapaxes(1,0)\n",
    "                    Xbatch[batch_cnt] = im\n",
    "                    ybatch[batch_cnt, :4] =  coord\n",
    "                    ybatch[batch_cnt, 4 + get_num_from_label(obj['label'])] += 1\n",
    "                    batch_cnt += 1\n",
    "            cnt += 1\n",
    "        if batch_cnt < batch_size - 1:\n",
    "            Xbatch, ybatch = Xbatch[:batch_cnt], ybatch[:batch_cnt]\n",
    "        yield Xbatch.astype(theano.config.floatX), ybatch.astype(theano.config.floatX)"
   ]
  },
  {
   "cell_type": "markdown",
   "metadata": {},
   "source": [
    "<b>Now we define the net for recognition.</b>"
   ]
  },
  {
   "cell_type": "code",
   "execution_count": 16,
   "metadata": {
    "collapsed": true
   },
   "outputs": [],
   "source": [
    "S = (7,7)\n",
    "B = 2\n",
    "C = 4"
   ]
  },
  {
   "cell_type": "code",
   "execution_count": 17,
   "metadata": {
    "collapsed": true
   },
   "outputs": [],
   "source": [
    "num_epochs = 1000\n",
    "batch_size = 50"
   ]
  },
  {
   "cell_type": "code",
   "execution_count": 18,
   "metadata": {
    "collapsed": false
   },
   "outputs": [],
   "source": [
    "Xtest,ytest = [t for t in generate_data_2(train_annotations[:1], C, batch_size=batch_size)][0]\n",
    "Xtest, ytest = theano.shared(Xtest), theano.shared(ytest)"
   ]
  },
  {
   "cell_type": "code",
   "execution_count": 213,
   "metadata": {
    "collapsed": true
   },
   "outputs": [],
   "source": [
    "net = {}\n",
    "net['input'] = InputLayer((None,3,200,200), input_var=Xtest)\n",
    "net['conv1'] = Conv2DLayer(net['input'], 16, (3,3))\n",
    "net['conv2'] = Conv2DLayer(net['conv1'], 16, (3,3))\n",
    "net['pool1'] = Pool2DLayer(net['conv2'], (2,2))\n",
    "net['conv3'] = Conv2DLayer(net['pool1'], 32, (3,3))\n",
    "net['conv4'] = Conv2DLayer(net['conv3'], 32, (3,3))\n",
    "net['pool2'] = Pool2DLayer(net['conv4'], (2,2))\n",
    "net['conv5'] = Conv2DLayer(net['pool2'], 64, (3,3))\n",
    "net['conv6'] = Conv2DLayer(net['conv5'], 64, (3,3))\n",
    "net['conv7'] = Conv2DLayer(net['conv6'], 64, (3,3))\n",
    "net['pool3'] = Pool2DLayer(net['conv7'], (2,2))\n",
    "net['conv8'] = Conv2DLayer(net['pool3'], 128, (3,3))\n",
    "net['conv9'] = Conv2DLayer(net['conv8'], 128, (3,3))\n",
    "net['conv10'] = Conv2DLayer(net['conv9'], 128, (3,3))\n",
    "net['pool4'] = Pool2DLayer(net['conv10'], (2,2))\n",
    "\n",
    "\n",
    "net['dense1'] = DenseLayer(dropout(net['pool4'], p=.0), 2048)\n",
    "net['dense2'] = DenseLayer(dropout(net['dense1'], p=.0), (2 * 5 + 4) * (7*7))\n",
    "net['output'] = DenseLayer(dropout(net['dense2'], p=.0), 5, nonlinearity=lasagne.nonlinearities.softmax)"
   ]
  },
  {
   "cell_type": "markdown",
   "metadata": {},
   "source": [
    "<b>Load pre-trained weights</b>"
   ]
  },
  {
   "cell_type": "code",
   "execution_count": 206,
   "metadata": {
    "collapsed": false
   },
   "outputs": [],
   "source": [
    "load_pretrained = True\n",
    "if load_pretrained:\n",
    "    with open('pretrained_weights.pkl', 'rb') as f:\n",
    "        weights = pk.load(f)\n",
    "        lasagne.layers.set_all_param_values(net['output'], weights)"
   ]
  },
  {
   "cell_type": "markdown",
   "metadata": {},
   "source": [
    "<b>Add extra layers to network for detection</b>"
   ]
  },
  {
   "cell_type": "code",
   "execution_count": 214,
   "metadata": {
    "collapsed": false
   },
   "outputs": [],
   "source": [
    "net['output'] = net['dense2']\n",
    "# net['output'] = DenseLayer(dropout(net['dense1'], p=.0), (B * 5 + C) * S[0]*S[1])"
   ]
  },
  {
   "cell_type": "code",
   "execution_count": 215,
   "metadata": {
    "collapsed": false
   },
   "outputs": [],
   "source": [
    "load_weights = True\n",
    "if load_weights:\n",
    "    with open('yolo_weights.pkl', 'rb') as f:\n",
    "        weights = pk.load(f)\n",
    "        lasagne.layers.set_all_param_values(net['output'], weights)"
   ]
  },
  {
   "cell_type": "markdown",
   "metadata": {},
   "source": [
    "<b>Train the network"
   ]
  },
  {
   "cell_type": "code",
   "execution_count": 216,
   "metadata": {
    "collapsed": false
   },
   "outputs": [
    {
     "data": {
      "text/plain": [
       "<module 'bnr_ml.objectdetect.yolo' from '/usr/local/python/bnr_ml/objectdetect/yolo.py'>"
      ]
     },
     "execution_count": 216,
     "metadata": {},
     "output_type": "execute_result"
    }
   ],
   "source": [
    "reload(yolo)"
   ]
  },
  {
   "cell_type": "code",
   "execution_count": 217,
   "metadata": {
    "collapsed": false
   },
   "outputs": [],
   "source": [
    "yl = yolo.YoloObjectDetector(net, (None, 3, 200, 200), C, S, B) "
   ]
  },
  {
   "cell_type": "code",
   "execution_count": null,
   "metadata": {
    "collapsed": false
   },
   "outputs": [
    {
     "name": "stdout",
     "output_type": "stream",
     "text": [
      "> /usr/local/python/bnr_ml/objectdetect/yolo.py(260)_get_cost_optim_multi()\n",
      "-> return cost, [iou, obj_in_cell_and_resp, conf_is_zero, obj_in_cell_and_resp, cell_intersects]\n",
      "(Pdb) pred_w[0,0].eval()\n",
      "array([[[ 0.97171628,  0.5       ,  0.96881008,  0.97108644,  0.97120172,\n",
      "          0.97132325,  0.97075784],\n",
      "        [ 0.9714812 ,  0.97087091,  0.97164607,  0.97198266,  0.97239518,\n",
      "          0.97141796,  0.97112852],\n",
      "        [ 0.5       ,  0.97224987,  0.9726336 ,  0.97133934,  0.96998399,\n",
      "          0.97334981,  0.97172886],\n",
      "        [ 0.96215624,  0.97219831,  0.9711284 ,  0.97068572,  0.97135949,\n",
      "          0.96873301,  0.97178358],\n",
      "        [ 0.97387516,  0.96691418,  0.97154367,  0.9719069 ,  0.96969044,\n",
      "          0.97251004,  0.97108376],\n",
      "        [ 0.9720661 ,  0.97180837,  0.97364986,  0.97130078,  0.96963924,\n",
      "          0.97172087,  0.97282696],\n",
      "        [ 0.97176039,  0.97173071,  0.5       ,  0.97144169,  0.96921921,\n",
      "          0.97254169,  0.96974427]],\n",
      "\n",
      "       [[ 0.97055769,  0.5       ,  0.97029549,  0.5       ,  0.97113132,\n",
      "          0.96460295,  0.97337365],\n",
      "        [ 0.96992368,  0.97263676,  0.97244328,  0.97123027,  0.5       ,\n",
      "          0.5       ,  0.97079492],\n",
      "        [ 0.97199249,  0.97102022,  0.5       ,  0.97135645,  0.97162545,\n",
      "          0.97258288,  0.97118425],\n",
      "        [ 0.97083223,  0.97185159,  0.97227424,  0.97083485,  0.97300369,\n",
      "          0.5       ,  0.97004527],\n",
      "        [ 0.97262192,  0.97132099,  0.97175783,  0.97295839,  0.97192132,\n",
      "          0.97222579,  0.97023374],\n",
      "        [ 0.97271144,  0.97166115,  0.97235143,  0.97327977,  0.5       ,\n",
      "          0.97272462,  0.5       ],\n",
      "        [ 0.96983868,  0.97304755,  0.5       ,  0.97163534,  0.5       ,\n",
      "          0.97046113,  0.9707197 ]]], dtype=float32)\n"
     ]
    }
   ],
   "source": [
    "cost = yl._get_cost_optim_multi(yl.output, ytest, S, B, C)"
   ]
  },
  {
   "cell_type": "code",
   "execution_count": 211,
   "metadata": {
    "collapsed": false
   },
   "outputs": [
    {
     "name": "stdout",
     "output_type": "stream",
     "text": [
      "Getting cost...\n",
      "> /usr/local/python/bnr_ml/objectdetect/yolo.py(260)_get_cost_optim_multi()\n",
      "-> return cost, [iou, obj_in_cell_and_resp, conf_is_zero, obj_in_cell_and_resp, cell_intersects]\n",
      "(Pdb) c\n",
      "> /usr/local/python/bnr_ml/objectdetect/yolo.py(260)_get_cost_optim_multi()\n",
      "-> return cost, [iou, obj_in_cell_and_resp, conf_is_zero, obj_in_cell_and_resp, cell_intersects]\n",
      "(Pdb) c\n",
      "Creating cost variable took 2.2816 seconds\n",
      "Compiling...\n"
     ]
    },
    {
     "name": "stderr",
     "output_type": "stream",
     "text": [
      "\r",
      "  0%|          | 0/1000 [00:00<?, ?it/s]"
     ]
    },
    {
     "name": "stdout",
     "output_type": "stream",
     "text": [
      "Compiling functions took 22.9872 seconds\n",
      "Beginning training...\n",
      "454.954925537\n",
      "Epoch 0\n",
      "------\n",
      "Train Loss: 454.9549, Test Loss: 169.0661\n"
     ]
    },
    {
     "name": "stderr",
     "output_type": "stream",
     "text": [
      "\r",
      "  0%|          | 1/1000 [00:00<06:47,  2.45it/s]"
     ]
    },
    {
     "name": "stdout",
     "output_type": "stream",
     "text": [
      "189.689025879\n",
      "Epoch 1\n",
      "------\n",
      "Train Loss: 189.6890, Test Loss: 168.0614\n"
     ]
    },
    {
     "name": "stderr",
     "output_type": "stream",
     "text": [
      "\r",
      "  0%|          | 2/1000 [00:00<06:22,  2.61it/s]"
     ]
    },
    {
     "name": "stdout",
     "output_type": "stream",
     "text": [
      "185.320724487\n",
      "Epoch 2\n",
      "------\n",
      "Train Loss: 185.3207, Test Loss: 167.1252\n"
     ]
    },
    {
     "name": "stderr",
     "output_type": "stream",
     "text": [
      "\r",
      "  0%|          | 3/1000 [00:01<06:05,  2.73it/s]"
     ]
    },
    {
     "name": "stdout",
     "output_type": "stream",
     "text": [
      "182.900802612\n",
      "Epoch 3\n",
      "------\n",
      "Train Loss: 182.9008, Test Loss: 166.1133\n"
     ]
    },
    {
     "name": "stderr",
     "output_type": "stream",
     "text": [
      "\r",
      "  0%|          | 4/1000 [00:01<05:53,  2.81it/s]"
     ]
    },
    {
     "name": "stdout",
     "output_type": "stream",
     "text": [
      "180.432846069\n",
      "Epoch 4\n",
      "------\n",
      "Train Loss: 180.4328, Test Loss: 164.9594\n"
     ]
    },
    {
     "name": "stderr",
     "output_type": "stream",
     "text": [
      "\r",
      "  0%|          | 5/1000 [00:01<05:45,  2.88it/s]"
     ]
    },
    {
     "name": "stdout",
     "output_type": "stream",
     "text": [
      "177.680541992\n",
      "Epoch 5\n",
      "------\n",
      "Train Loss: 177.6805, Test Loss: 163.4620\n"
     ]
    },
    {
     "name": "stderr",
     "output_type": "stream",
     "text": [
      "\r",
      "  1%|          | 6/1000 [00:02<05:40,  2.92it/s]"
     ]
    },
    {
     "name": "stdout",
     "output_type": "stream",
     "text": [
      "174.451934814\n",
      "Epoch 6\n",
      "------\n",
      "Train Loss: 174.4519, Test Loss: 161.5810\n"
     ]
    },
    {
     "name": "stderr",
     "output_type": "stream",
     "text": [
      "\r",
      "  1%|          | 7/1000 [00:02<05:35,  2.96it/s]"
     ]
    },
    {
     "name": "stdout",
     "output_type": "stream",
     "text": [
      "170.51789856\n",
      "Epoch 7\n",
      "------\n",
      "Train Loss: 170.5179, Test Loss: 159.0017\n"
     ]
    },
    {
     "name": "stderr",
     "output_type": "stream",
     "text": [
      "\r",
      "  1%|          | 8/1000 [00:02<05:32,  2.98it/s]"
     ]
    },
    {
     "name": "stdout",
     "output_type": "stream",
     "text": [
      "165.588699341\n",
      "Epoch 8\n",
      "------\n",
      "Train Loss: 165.5887, Test Loss: 155.5093\n"
     ]
    },
    {
     "name": "stderr",
     "output_type": "stream",
     "text": [
      "\r",
      "  1%|          | 9/1000 [00:03<05:30,  3.00it/s]"
     ]
    },
    {
     "name": "stdout",
     "output_type": "stream",
     "text": [
      "159.315948486\n",
      "Epoch 9\n",
      "------\n",
      "Train Loss: 159.3159, Test Loss: 150.6988\n"
     ]
    },
    {
     "name": "stderr",
     "output_type": "stream",
     "text": [
      "\r",
      "  1%|          | 10/1000 [00:03<05:27,  3.03it/s]"
     ]
    },
    {
     "name": "stdout",
     "output_type": "stream",
     "text": [
      "151.319259644\n",
      "Epoch 10\n",
      "------\n",
      "Train Loss: 151.3193, Test Loss: 144.7785\n"
     ]
    },
    {
     "name": "stderr",
     "output_type": "stream",
     "text": [
      "\r",
      "  1%|          | 11/1000 [00:03<05:26,  3.03it/s]"
     ]
    },
    {
     "name": "stdout",
     "output_type": "stream",
     "text": [
      "141.570739746\n",
      "Epoch 11\n",
      "------\n",
      "Train Loss: 141.5707, Test Loss: 136.9992\n"
     ]
    },
    {
     "name": "stderr",
     "output_type": "stream",
     "text": [
      "\r",
      "  1%|          | 12/1000 [00:04<05:24,  3.04it/s]"
     ]
    },
    {
     "name": "stdout",
     "output_type": "stream",
     "text": [
      "133.078201294\n",
      "Epoch 12\n",
      "------\n",
      "Train Loss: 133.0782, Test Loss: 133.9059\n"
     ]
    },
    {
     "name": "stderr",
     "output_type": "stream",
     "text": [
      "\r",
      "  1%|▏         | 13/1000 [00:04<05:25,  3.03it/s]"
     ]
    },
    {
     "name": "stdout",
     "output_type": "stream",
     "text": [
      "132.109405518\n",
      "Epoch 13\n",
      "------\n",
      "Train Loss: 132.1094, Test Loss: 123.5395\n"
     ]
    },
    {
     "name": "stderr",
     "output_type": "stream",
     "text": [
      "\r",
      "  1%|▏         | 14/1000 [00:04<05:26,  3.02it/s]"
     ]
    },
    {
     "name": "stdout",
     "output_type": "stream",
     "text": [
      "108.144981384\n",
      "Epoch 14\n",
      "------\n",
      "Train Loss: 108.1450, Test Loss: 108.7600\n"
     ]
    },
    {
     "name": "stderr",
     "output_type": "stream",
     "text": [
      "\r",
      "  2%|▏         | 15/1000 [00:05<05:26,  3.02it/s]"
     ]
    },
    {
     "name": "stdout",
     "output_type": "stream",
     "text": [
      "92.6738433838\n",
      "Epoch 15\n",
      "------\n",
      "Train Loss: 92.6738, Test Loss: 100.0292\n"
     ]
    },
    {
     "name": "stderr",
     "output_type": "stream",
     "text": [
      "\r",
      "  2%|▏         | 16/1000 [00:05<05:25,  3.02it/s]"
     ]
    },
    {
     "name": "stdout",
     "output_type": "stream",
     "text": [
      "79.1188735962\n",
      "Epoch 16\n",
      "------\n",
      "Train Loss: 79.1189, Test Loss: 85.5291\n"
     ]
    },
    {
     "name": "stderr",
     "output_type": "stream",
     "text": [
      "\r",
      "  2%|▏         | 17/1000 [00:05<05:25,  3.02it/s]"
     ]
    },
    {
     "name": "stdout",
     "output_type": "stream",
     "text": [
      "70.9046783447\n",
      "Epoch 17\n",
      "------\n",
      "Train Loss: 70.9047, Test Loss: 88.0285\n"
     ]
    },
    {
     "name": "stderr",
     "output_type": "stream",
     "text": [
      "\r",
      "  2%|▏         | 18/1000 [00:06<05:24,  3.03it/s]"
     ]
    },
    {
     "name": "stdout",
     "output_type": "stream",
     "text": [
      "81.9694824219\n",
      "Epoch 18\n",
      "------\n",
      "Train Loss: 81.9695, Test Loss: 81.6531\n"
     ]
    },
    {
     "name": "stderr",
     "output_type": "stream",
     "text": [
      "\r",
      "  2%|▏         | 19/1000 [00:06<05:23,  3.03it/s]"
     ]
    },
    {
     "name": "stdout",
     "output_type": "stream",
     "text": [
      "58.6028785706\n",
      "Epoch 19\n",
      "------\n",
      "Train Loss: 58.6029, Test Loss: 65.1712\n"
     ]
    },
    {
     "name": "stderr",
     "output_type": "stream",
     "text": [
      "\r",
      "  2%|▏         | 20/1000 [00:06<05:22,  3.04it/s]"
     ]
    },
    {
     "name": "stdout",
     "output_type": "stream",
     "text": [
      "49.8483161926\n",
      "Epoch 20\n",
      "------\n",
      "Train Loss: 49.8483, Test Loss: 55.2826\n"
     ]
    },
    {
     "name": "stderr",
     "output_type": "stream",
     "text": [
      "\r",
      "  2%|▏         | 21/1000 [00:06<05:23,  3.03it/s]"
     ]
    },
    {
     "name": "stdout",
     "output_type": "stream",
     "text": [
      "44.4962654114\n",
      "Epoch 21\n",
      "------\n",
      "Train Loss: 44.4963, Test Loss: 49.0909\n"
     ]
    },
    {
     "name": "stderr",
     "output_type": "stream",
     "text": [
      "\r",
      "  2%|▏         | 22/1000 [00:07<05:20,  3.05it/s]"
     ]
    },
    {
     "name": "stdout",
     "output_type": "stream",
     "text": [
      "41.0829772949\n",
      "Epoch 22\n",
      "------\n",
      "Train Loss: 41.0830, Test Loss: 45.4642\n"
     ]
    },
    {
     "name": "stderr",
     "output_type": "stream",
     "text": [
      "\r",
      "  2%|▏         | 23/1000 [00:07<05:22,  3.03it/s]"
     ]
    },
    {
     "name": "stdout",
     "output_type": "stream",
     "text": [
      "39.0788269043\n",
      "Epoch 23\n",
      "------\n",
      "Train Loss: 39.0788, Test Loss: 43.5132\n"
     ]
    },
    {
     "name": "stderr",
     "output_type": "stream",
     "text": [
      "\r",
      "  2%|▏         | 24/1000 [00:07<05:22,  3.03it/s]"
     ]
    },
    {
     "name": "stdout",
     "output_type": "stream",
     "text": [
      "37.7735404968\n",
      "Epoch 24\n",
      "------\n",
      "Train Loss: 37.7735, Test Loss: 40.7430\n"
     ]
    },
    {
     "name": "stderr",
     "output_type": "stream",
     "text": [
      "\r",
      "  2%|▎         | 25/1000 [00:08<05:22,  3.03it/s]"
     ]
    },
    {
     "name": "stdout",
     "output_type": "stream",
     "text": [
      "36.8450927734\n",
      "Epoch 25\n",
      "------\n",
      "Train Loss: 36.8451, Test Loss: 39.7098\n"
     ]
    },
    {
     "name": "stderr",
     "output_type": "stream",
     "text": [
      "\r",
      "  3%|▎         | 26/1000 [00:08<05:22,  3.02it/s]"
     ]
    },
    {
     "name": "stdout",
     "output_type": "stream",
     "text": [
      "36.2325935364\n",
      "Epoch 26\n",
      "------\n",
      "Train Loss: 36.2326, Test Loss: 38.8372\n"
     ]
    },
    {
     "name": "stderr",
     "output_type": "stream",
     "text": [
      "\r",
      "  3%|▎         | 27/1000 [00:08<05:21,  3.03it/s]"
     ]
    },
    {
     "name": "stdout",
     "output_type": "stream",
     "text": [
      "35.8155136108\n",
      "Epoch 27\n",
      "------\n",
      "Train Loss: 35.8155, Test Loss: 38.1549\n"
     ]
    },
    {
     "name": "stderr",
     "output_type": "stream",
     "text": [
      "\r",
      "  3%|▎         | 28/1000 [00:09<05:22,  3.02it/s]"
     ]
    },
    {
     "name": "stdout",
     "output_type": "stream",
     "text": [
      "35.5217132568\n",
      "Epoch 28\n",
      "------\n",
      "Train Loss: 35.5217, Test Loss: 38.0252\n"
     ]
    },
    {
     "name": "stderr",
     "output_type": "stream",
     "text": [
      "\r",
      "  3%|▎         | 29/1000 [00:09<05:21,  3.02it/s]"
     ]
    },
    {
     "name": "stdout",
     "output_type": "stream",
     "text": [
      "35.4766960144\n",
      "Epoch 29\n",
      "------\n",
      "Train Loss: 35.4767, Test Loss: 36.6885\n"
     ]
    },
    {
     "name": "stderr",
     "output_type": "stream",
     "text": [
      "\r",
      "  3%|▎         | 30/1000 [00:09<05:19,  3.04it/s]"
     ]
    },
    {
     "name": "stdout",
     "output_type": "stream",
     "text": [
      "35.3114395142\n",
      "Epoch 30\n",
      "------\n",
      "Train Loss: 35.3114, Test Loss: 36.7908\n"
     ]
    },
    {
     "name": "stderr",
     "output_type": "stream",
     "text": [
      "\r",
      "  3%|▎         | 31/1000 [00:10<05:17,  3.05it/s]"
     ]
    },
    {
     "name": "stdout",
     "output_type": "stream",
     "text": [
      "35.1119117737\n",
      "Epoch 31\n",
      "------\n",
      "Train Loss: 35.1119, Test Loss: 36.3951\n"
     ]
    },
    {
     "name": "stderr",
     "output_type": "stream",
     "text": [
      "\r",
      "  3%|▎         | 32/1000 [00:10<05:17,  3.05it/s]"
     ]
    },
    {
     "name": "stdout",
     "output_type": "stream",
     "text": [
      "35.0278015137\n",
      "Epoch 32\n",
      "------\n",
      "Train Loss: 35.0278, Test Loss: 36.0758\n"
     ]
    },
    {
     "name": "stderr",
     "output_type": "stream",
     "text": [
      "\r",
      "  3%|▎         | 33/1000 [00:10<05:17,  3.04it/s]"
     ]
    },
    {
     "name": "stdout",
     "output_type": "stream",
     "text": [
      "34.936580658\n",
      "Epoch 33\n",
      "------\n",
      "Train Loss: 34.9366, Test Loss: 35.9945\n"
     ]
    },
    {
     "name": "stderr",
     "output_type": "stream",
     "text": [
      "\r",
      "  3%|▎         | 34/1000 [00:11<05:16,  3.05it/s]"
     ]
    },
    {
     "name": "stdout",
     "output_type": "stream",
     "text": [
      "34.9298362732\n",
      "Epoch 34\n",
      "------\n",
      "Train Loss: 34.9298, Test Loss: 35.2372\n"
     ]
    },
    {
     "name": "stderr",
     "output_type": "stream",
     "text": [
      "\r",
      "  4%|▎         | 35/1000 [00:11<05:17,  3.04it/s]"
     ]
    },
    {
     "name": "stdout",
     "output_type": "stream",
     "text": [
      "34.832901001\n",
      "Epoch 35\n",
      "------\n",
      "Train Loss: 34.8329, Test Loss: 35.0107\n"
     ]
    },
    {
     "name": "stderr",
     "output_type": "stream",
     "text": [
      "\r",
      "  4%|▎         | 36/1000 [00:11<05:17,  3.04it/s]"
     ]
    },
    {
     "name": "stdout",
     "output_type": "stream",
     "text": [
      "34.7864227295\n",
      "Epoch 36\n",
      "------\n",
      "Train Loss: 34.7864, Test Loss: 34.8114\n"
     ]
    },
    {
     "name": "stderr",
     "output_type": "stream",
     "text": [
      "\r",
      "  4%|▎         | 37/1000 [00:12<05:17,  3.03it/s]"
     ]
    },
    {
     "name": "stdout",
     "output_type": "stream",
     "text": [
      "34.7548065186\n",
      "Epoch 37\n",
      "------\n",
      "Train Loss: 34.7548, Test Loss: 34.7448\n"
     ]
    },
    {
     "name": "stderr",
     "output_type": "stream",
     "text": [
      "\r",
      "  4%|▍         | 38/1000 [00:12<05:18,  3.02it/s]"
     ]
    },
    {
     "name": "stdout",
     "output_type": "stream",
     "text": [
      "34.7483100891\n",
      "Epoch 38\n",
      "------\n",
      "Train Loss: 34.7483, Test Loss: 34.7955\n"
     ]
    },
    {
     "name": "stderr",
     "output_type": "stream",
     "text": [
      "\r",
      "  4%|▍         | 39/1000 [00:12<05:18,  3.02it/s]"
     ]
    },
    {
     "name": "stdout",
     "output_type": "stream",
     "text": [
      "34.6905403137\n",
      "Epoch 39\n",
      "------\n",
      "Train Loss: 34.6905, Test Loss: 34.6461\n"
     ]
    },
    {
     "name": "stderr",
     "output_type": "stream",
     "text": [
      "\r",
      "  4%|▍         | 40/1000 [00:13<05:16,  3.04it/s]"
     ]
    },
    {
     "name": "stdout",
     "output_type": "stream",
     "text": [
      "34.6575622559\n",
      "Epoch 40\n",
      "------\n",
      "Train Loss: 34.6576, Test Loss: 34.5204\n"
     ]
    },
    {
     "name": "stderr",
     "output_type": "stream",
     "text": [
      "\r",
      "  4%|▍         | 41/1000 [00:13<05:15,  3.04it/s]"
     ]
    },
    {
     "name": "stdout",
     "output_type": "stream",
     "text": [
      "34.6191864014\n",
      "Epoch 41\n",
      "------\n",
      "Train Loss: 34.6192, Test Loss: 33.8749\n"
     ]
    },
    {
     "name": "stderr",
     "output_type": "stream",
     "text": [
      "\r",
      "  4%|▍         | 42/1000 [00:13<05:16,  3.03it/s]"
     ]
    },
    {
     "name": "stdout",
     "output_type": "stream",
     "text": [
      "34.5365486145\n",
      "Epoch 42\n",
      "------\n",
      "Train Loss: 34.5365, Test Loss: 35.2019\n"
     ]
    },
    {
     "name": "stderr",
     "output_type": "stream",
     "text": [
      "\r",
      "  4%|▍         | 43/1000 [00:14<05:14,  3.04it/s]"
     ]
    },
    {
     "name": "stdout",
     "output_type": "stream",
     "text": [
      "33.7114372253\n",
      "Epoch 43\n",
      "------\n",
      "Train Loss: 33.7114, Test Loss: 33.5918\n"
     ]
    },
    {
     "name": "stderr",
     "output_type": "stream",
     "text": [
      "\r",
      "  4%|▍         | 44/1000 [00:14<05:13,  3.05it/s]"
     ]
    },
    {
     "name": "stdout",
     "output_type": "stream",
     "text": [
      "33.4893951416\n",
      "Epoch 44\n",
      "------\n",
      "Train Loss: 33.4894, Test Loss: 34.0786\n"
     ]
    },
    {
     "name": "stderr",
     "output_type": "stream",
     "text": [
      "\r",
      "  4%|▍         | 45/1000 [00:14<05:11,  3.06it/s]"
     ]
    },
    {
     "name": "stdout",
     "output_type": "stream",
     "text": [
      "33.162689209\n",
      "Epoch 45\n",
      "------\n",
      "Train Loss: 33.1627, Test Loss: 33.7269\n"
     ]
    },
    {
     "name": "stderr",
     "output_type": "stream",
     "text": [
      "\r",
      "  5%|▍         | 46/1000 [00:15<05:12,  3.06it/s]"
     ]
    },
    {
     "name": "stdout",
     "output_type": "stream",
     "text": [
      "32.8903884888\n",
      "Epoch 46\n",
      "------\n",
      "Train Loss: 32.8904, Test Loss: 32.3767\n"
     ]
    },
    {
     "name": "stderr",
     "output_type": "stream",
     "text": [
      "\r",
      "  5%|▍         | 47/1000 [00:15<05:12,  3.05it/s]"
     ]
    },
    {
     "name": "stdout",
     "output_type": "stream",
     "text": [
      "32.6979980469\n",
      "Epoch 47\n",
      "------\n",
      "Train Loss: 32.6980, Test Loss: 32.1322\n"
     ]
    },
    {
     "name": "stderr",
     "output_type": "stream",
     "text": [
      "\r",
      "  5%|▍         | 48/1000 [00:15<05:11,  3.06it/s]"
     ]
    },
    {
     "name": "stdout",
     "output_type": "stream",
     "text": [
      "32.5901908875\n",
      "Epoch 48\n",
      "------\n",
      "Train Loss: 32.5902, Test Loss: 31.7409\n"
     ]
    },
    {
     "name": "stderr",
     "output_type": "stream",
     "text": [
      "\r",
      "  5%|▍         | 49/1000 [00:16<05:12,  3.04it/s]"
     ]
    },
    {
     "name": "stdout",
     "output_type": "stream",
     "text": [
      "31.9378032684\n",
      "Epoch 49\n",
      "------\n",
      "Train Loss: 31.9378, Test Loss: 31.4626\n"
     ]
    },
    {
     "name": "stderr",
     "output_type": "stream",
     "text": [
      "\r",
      "  5%|▌         | 50/1000 [00:16<05:13,  3.03it/s]"
     ]
    },
    {
     "name": "stdout",
     "output_type": "stream",
     "text": [
      "31.7355937958\n",
      "Epoch 50\n",
      "------\n",
      "Train Loss: 31.7356, Test Loss: 31.2764\n"
     ]
    },
    {
     "name": "stderr",
     "output_type": "stream",
     "text": [
      "\r",
      "  5%|▌         | 51/1000 [00:16<05:13,  3.03it/s]"
     ]
    },
    {
     "name": "stdout",
     "output_type": "stream",
     "text": [
      "31.6271419525\n",
      "Epoch 51\n",
      "------\n",
      "Train Loss: 31.6271, Test Loss: 31.2487\n"
     ]
    },
    {
     "name": "stderr",
     "output_type": "stream",
     "text": [
      "\r",
      "  5%|▌         | 52/1000 [00:17<05:12,  3.03it/s]"
     ]
    },
    {
     "name": "stdout",
     "output_type": "stream",
     "text": [
      "31.7813911438\n",
      "Epoch 52\n",
      "------\n",
      "Train Loss: 31.7814, Test Loss: 31.3759\n"
     ]
    },
    {
     "name": "stderr",
     "output_type": "stream",
     "text": [
      "\r",
      "  5%|▌         | 53/1000 [00:17<05:10,  3.05it/s]"
     ]
    },
    {
     "name": "stdout",
     "output_type": "stream",
     "text": [
      "31.6349239349\n",
      "Epoch 53\n",
      "------\n",
      "Train Loss: 31.6349, Test Loss: 31.5677\n"
     ]
    },
    {
     "name": "stderr",
     "output_type": "stream",
     "text": [
      "\r",
      "  5%|▌         | 54/1000 [00:17<05:11,  3.04it/s]"
     ]
    },
    {
     "name": "stdout",
     "output_type": "stream",
     "text": [
      "31.9581050873\n",
      "Epoch 54\n",
      "------\n",
      "Train Loss: 31.9581, Test Loss: 31.2267\n"
     ]
    },
    {
     "name": "stderr",
     "output_type": "stream",
     "text": [
      "\r",
      "  6%|▌         | 55/1000 [00:18<05:11,  3.04it/s]"
     ]
    },
    {
     "name": "stdout",
     "output_type": "stream",
     "text": [
      "31.503900528\n",
      "Epoch 55\n",
      "------\n",
      "Train Loss: 31.5039, Test Loss: 31.4930\n"
     ]
    },
    {
     "name": "stderr",
     "output_type": "stream",
     "text": [
      "\r",
      "  6%|▌         | 56/1000 [00:18<05:10,  3.04it/s]"
     ]
    },
    {
     "name": "stdout",
     "output_type": "stream",
     "text": [
      "31.7710647583\n",
      "Epoch 56\n",
      "------\n",
      "Train Loss: 31.7711, Test Loss: 32.0966\n"
     ]
    },
    {
     "name": "stderr",
     "output_type": "stream",
     "text": [
      "\r",
      "  6%|▌         | 57/1000 [00:18<05:08,  3.05it/s]"
     ]
    },
    {
     "name": "stdout",
     "output_type": "stream",
     "text": [
      "31.5127906799\n",
      "Epoch 57\n",
      "------\n",
      "Train Loss: 31.5128, Test Loss: 31.0968\n"
     ]
    },
    {
     "name": "stderr",
     "output_type": "stream",
     "text": [
      "\r",
      "  6%|▌         | 58/1000 [00:19<05:07,  3.07it/s]"
     ]
    },
    {
     "name": "stdout",
     "output_type": "stream",
     "text": [
      "31.7874565125\n",
      "Epoch 58\n",
      "------\n",
      "Train Loss: 31.7875, Test Loss: 32.3593\n"
     ]
    },
    {
     "name": "stderr",
     "output_type": "stream",
     "text": [
      "\r",
      "  6%|▌         | 59/1000 [00:19<05:08,  3.05it/s]"
     ]
    },
    {
     "name": "stdout",
     "output_type": "stream",
     "text": [
      "31.4959506989\n",
      "Epoch 59\n",
      "------\n",
      "Train Loss: 31.4960, Test Loss: 31.0381\n"
     ]
    },
    {
     "name": "stderr",
     "output_type": "stream",
     "text": [
      "\r",
      "  6%|▌         | 60/1000 [00:19<05:07,  3.06it/s]"
     ]
    },
    {
     "name": "stdout",
     "output_type": "stream",
     "text": [
      "31.4173336029\n",
      "Epoch 60\n",
      "------\n",
      "Train Loss: 31.4173, Test Loss: 31.1217\n"
     ]
    },
    {
     "name": "stderr",
     "output_type": "stream",
     "text": [
      "\r",
      "  6%|▌         | 61/1000 [00:20<05:06,  3.06it/s]"
     ]
    },
    {
     "name": "stdout",
     "output_type": "stream",
     "text": [
      "31.5465679169\n",
      "Epoch 61\n",
      "------\n",
      "Train Loss: 31.5466, Test Loss: 31.6435\n"
     ]
    },
    {
     "name": "stderr",
     "output_type": "stream",
     "text": [
      "\r",
      "  6%|▌         | 62/1000 [00:20<05:07,  3.05it/s]"
     ]
    },
    {
     "name": "stdout",
     "output_type": "stream",
     "text": [
      "31.429485321\n",
      "Epoch 62\n",
      "------\n",
      "Train Loss: 31.4295, Test Loss: 31.0945\n"
     ]
    },
    {
     "name": "stderr",
     "output_type": "stream",
     "text": [
      "\r",
      "  6%|▋         | 63/1000 [00:20<05:07,  3.05it/s]"
     ]
    },
    {
     "name": "stdout",
     "output_type": "stream",
     "text": [
      "31.3864555359\n",
      "Epoch 63\n",
      "------\n",
      "Train Loss: 31.3865, Test Loss: 31.1678\n"
     ]
    },
    {
     "name": "stderr",
     "output_type": "stream",
     "text": [
      "\r",
      "  6%|▋         | 64/1000 [00:21<05:05,  3.06it/s]"
     ]
    },
    {
     "name": "stdout",
     "output_type": "stream",
     "text": [
      "31.3660621643\n",
      "Epoch 64\n",
      "------\n",
      "Train Loss: 31.3661, Test Loss: 31.1317\n"
     ]
    },
    {
     "name": "stderr",
     "output_type": "stream",
     "text": [
      "\r",
      "  6%|▋         | 65/1000 [00:21<05:05,  3.06it/s]"
     ]
    },
    {
     "name": "stdout",
     "output_type": "stream",
     "text": [
      "31.3535194397\n",
      "Epoch 65\n",
      "------\n",
      "Train Loss: 31.3535, Test Loss: 31.1289\n"
     ]
    },
    {
     "name": "stderr",
     "output_type": "stream",
     "text": [
      "\r",
      "  7%|▋         | 66/1000 [00:21<05:05,  3.05it/s]"
     ]
    },
    {
     "name": "stdout",
     "output_type": "stream",
     "text": [
      "31.3447704315\n",
      "Epoch 66\n",
      "------\n",
      "Train Loss: 31.3448, Test Loss: 31.1177\n"
     ]
    },
    {
     "name": "stderr",
     "output_type": "stream",
     "text": [
      "\r",
      "  7%|▋         | 67/1000 [00:22<05:04,  3.06it/s]"
     ]
    },
    {
     "name": "stdout",
     "output_type": "stream",
     "text": [
      "31.3380355835\n",
      "Epoch 67\n",
      "------\n",
      "Train Loss: 31.3380, Test Loss: 31.1138\n"
     ]
    },
    {
     "name": "stderr",
     "output_type": "stream",
     "text": [
      "\r",
      "  7%|▋         | 68/1000 [00:22<05:06,  3.04it/s]"
     ]
    },
    {
     "name": "stdout",
     "output_type": "stream",
     "text": [
      "31.3325614929\n",
      "Epoch 68\n",
      "------\n",
      "Train Loss: 31.3326, Test Loss: 31.1091\n"
     ]
    },
    {
     "name": "stderr",
     "output_type": "stream",
     "text": [
      "\r",
      "  7%|▋         | 69/1000 [00:22<05:06,  3.04it/s]"
     ]
    },
    {
     "name": "stdout",
     "output_type": "stream",
     "text": [
      "31.3279800415\n",
      "Epoch 69\n",
      "------\n",
      "Train Loss: 31.3280, Test Loss: 31.1038\n"
     ]
    },
    {
     "name": "stderr",
     "output_type": "stream",
     "text": [
      "\r",
      "  7%|▋         | 70/1000 [00:23<05:06,  3.03it/s]"
     ]
    },
    {
     "name": "stdout",
     "output_type": "stream",
     "text": [
      "31.324092865\n",
      "Epoch 70\n",
      "------\n",
      "Train Loss: 31.3241, Test Loss: 31.0983\n"
     ]
    },
    {
     "name": "stderr",
     "output_type": "stream",
     "text": [
      "\r",
      "  7%|▋         | 71/1000 [00:23<05:07,  3.02it/s]"
     ]
    },
    {
     "name": "stdout",
     "output_type": "stream",
     "text": [
      "31.3207740784\n",
      "Epoch 71\n",
      "------\n",
      "Train Loss: 31.3208, Test Loss: 31.0940\n"
     ]
    },
    {
     "name": "stderr",
     "output_type": "stream",
     "text": [
      "\r",
      "  7%|▋         | 72/1000 [00:23<05:06,  3.03it/s]"
     ]
    },
    {
     "name": "stdout",
     "output_type": "stream",
     "text": [
      "31.3179283142\n",
      "Epoch 72\n",
      "------\n",
      "Train Loss: 31.3179, Test Loss: 31.0897\n"
     ]
    },
    {
     "name": "stderr",
     "output_type": "stream",
     "text": [
      "\r",
      "  7%|▋         | 73/1000 [00:24<05:06,  3.02it/s]"
     ]
    },
    {
     "name": "stdout",
     "output_type": "stream",
     "text": [
      "31.3154850006\n",
      "Epoch 73\n",
      "------\n",
      "Train Loss: 31.3155, Test Loss: 31.0861\n"
     ]
    },
    {
     "name": "stderr",
     "output_type": "stream",
     "text": [
      "\r",
      "  7%|▋         | 74/1000 [00:24<05:06,  3.02it/s]"
     ]
    },
    {
     "name": "stdout",
     "output_type": "stream",
     "text": [
      "31.3133850098\n",
      "Epoch 74\n",
      "------\n",
      "Train Loss: 31.3134, Test Loss: 31.0825\n"
     ]
    },
    {
     "name": "stderr",
     "output_type": "stream",
     "text": [
      "\r",
      "  8%|▊         | 75/1000 [00:24<05:07,  3.01it/s]"
     ]
    },
    {
     "name": "stdout",
     "output_type": "stream",
     "text": [
      "31.3115921021\n",
      "Epoch 75\n",
      "------\n",
      "Train Loss: 31.3116, Test Loss: 31.0793\n"
     ]
    },
    {
     "name": "stderr",
     "output_type": "stream",
     "text": [
      "\r",
      "  8%|▊         | 76/1000 [00:25<05:07,  3.01it/s]"
     ]
    },
    {
     "name": "stdout",
     "output_type": "stream",
     "text": [
      "31.3100700378\n",
      "Epoch 76\n",
      "------\n",
      "Train Loss: 31.3101, Test Loss: 31.0764\n"
     ]
    },
    {
     "name": "stderr",
     "output_type": "stream",
     "text": [
      "\r",
      "  8%|▊         | 77/1000 [00:25<05:06,  3.01it/s]"
     ]
    },
    {
     "name": "stdout",
     "output_type": "stream",
     "text": [
      "31.3087940216\n",
      "Epoch 77\n",
      "------\n",
      "Train Loss: 31.3088, Test Loss: 31.0739\n"
     ]
    },
    {
     "name": "stderr",
     "output_type": "stream",
     "text": [
      "\r",
      "  8%|▊         | 78/1000 [00:25<05:05,  3.01it/s]"
     ]
    },
    {
     "name": "stdout",
     "output_type": "stream",
     "text": [
      "31.3077354431\n",
      "Epoch 78\n",
      "------\n",
      "Train Loss: 31.3077, Test Loss: 31.0712\n"
     ]
    },
    {
     "name": "stderr",
     "output_type": "stream",
     "text": [
      "\r",
      "  8%|▊         | 79/1000 [00:26<05:04,  3.02it/s]"
     ]
    },
    {
     "name": "stdout",
     "output_type": "stream",
     "text": [
      "31.3068771362\n",
      "Epoch 79\n",
      "------\n",
      "Train Loss: 31.3069, Test Loss: 31.0701\n"
     ]
    },
    {
     "name": "stderr",
     "output_type": "stream",
     "text": [
      "\r",
      "  8%|▊         | 80/1000 [00:26<05:03,  3.03it/s]"
     ]
    },
    {
     "name": "stdout",
     "output_type": "stream",
     "text": [
      "31.3061885834\n",
      "Epoch 80\n",
      "------\n",
      "Train Loss: 31.3062, Test Loss: 31.0655\n"
     ]
    },
    {
     "name": "stderr",
     "output_type": "stream",
     "text": [
      "\r",
      "  8%|▊         | 81/1000 [00:26<05:03,  3.03it/s]"
     ]
    },
    {
     "name": "stdout",
     "output_type": "stream",
     "text": [
      "31.3056430817\n",
      "Epoch 81\n",
      "------\n",
      "Train Loss: 31.3056, Test Loss: 31.0697\n"
     ]
    },
    {
     "name": "stderr",
     "output_type": "stream",
     "text": [
      "\r",
      "  8%|▊         | 82/1000 [00:27<05:02,  3.03it/s]"
     ]
    },
    {
     "name": "stdout",
     "output_type": "stream",
     "text": [
      "31.3052177429\n",
      "Epoch 82\n",
      "------\n",
      "Train Loss: 31.3052, Test Loss: 31.0538\n"
     ]
    },
    {
     "name": "stderr",
     "output_type": "stream",
     "text": [
      "\r",
      "  8%|▊         | 83/1000 [00:27<05:03,  3.02it/s]"
     ]
    },
    {
     "name": "stdout",
     "output_type": "stream",
     "text": [
      "31.3048858643\n",
      "Epoch 83\n",
      "------\n",
      "Train Loss: 31.3049, Test Loss: 31.0890\n"
     ]
    },
    {
     "name": "stderr",
     "output_type": "stream",
     "text": [
      "\r",
      "  8%|▊         | 84/1000 [00:27<05:00,  3.05it/s]"
     ]
    },
    {
     "name": "stdout",
     "output_type": "stream",
     "text": [
      "31.3046569824\n",
      "Epoch 84\n",
      "------\n",
      "Train Loss: 31.3047, Test Loss: 30.9869\n"
     ]
    },
    {
     "name": "stderr",
     "output_type": "stream",
     "text": [
      "\r",
      "  8%|▊         | 85/1000 [00:28<05:00,  3.04it/s]"
     ]
    },
    {
     "name": "stdout",
     "output_type": "stream",
     "text": [
      "31.3046913147\n",
      "Epoch 85\n",
      "------\n",
      "Train Loss: 31.3047, Test Loss: 31.2923\n"
     ]
    },
    {
     "name": "stderr",
     "output_type": "stream",
     "text": [
      "\r",
      "  9%|▊         | 86/1000 [00:28<05:00,  3.04it/s]"
     ]
    },
    {
     "name": "stdout",
     "output_type": "stream",
     "text": [
      "31.3067779541\n",
      "Epoch 86\n",
      "------\n",
      "Train Loss: 31.3068, Test Loss: 30.4046\n"
     ]
    },
    {
     "name": "stderr",
     "output_type": "stream",
     "text": [
      "\r",
      "  9%|▊         | 87/1000 [00:28<04:58,  3.06it/s]"
     ]
    },
    {
     "name": "stdout",
     "output_type": "stream",
     "text": [
      "31.330078125\n",
      "Epoch 87\n",
      "------\n",
      "Train Loss: 31.3301, Test Loss: 33.9917\n"
     ]
    },
    {
     "name": "stderr",
     "output_type": "stream",
     "text": [
      "\r",
      "  9%|▉         | 88/1000 [00:29<04:57,  3.07it/s]"
     ]
    },
    {
     "name": "stdout",
     "output_type": "stream",
     "text": [
      "31.5767669678\n",
      "Epoch 88\n",
      "------\n",
      "Train Loss: 31.5768, Test Loss: 39.4785\n"
     ]
    },
    {
     "name": "stderr",
     "output_type": "stream",
     "text": [
      "\r",
      "  9%|▉         | 89/1000 [00:29<04:56,  3.07it/s]"
     ]
    },
    {
     "name": "stdout",
     "output_type": "stream",
     "text": [
      "33.6339645386\n",
      "Epoch 89\n",
      "------\n",
      "Train Loss: 33.6340, Test Loss: 41.9952\n"
     ]
    },
    {
     "name": "stderr",
     "output_type": "stream",
     "text": [
      "\r",
      "  9%|▉         | 90/1000 [00:29<04:57,  3.06it/s]"
     ]
    },
    {
     "name": "stdout",
     "output_type": "stream",
     "text": [
      "40.3710136414\n",
      "Epoch 90\n",
      "------\n",
      "Train Loss: 40.3710, Test Loss: 33.4843\n"
     ]
    },
    {
     "name": "stderr",
     "output_type": "stream",
     "text": [
      "\r",
      "  9%|▉         | 91/1000 [00:30<04:56,  3.07it/s]"
     ]
    },
    {
     "name": "stdout",
     "output_type": "stream",
     "text": [
      "36.332195282\n",
      "Epoch 91\n",
      "------\n",
      "Train Loss: 36.3322, Test Loss: 30.7604\n"
     ]
    },
    {
     "name": "stderr",
     "output_type": "stream",
     "text": [
      "\r",
      "  9%|▉         | 92/1000 [00:30<04:57,  3.05it/s]"
     ]
    },
    {
     "name": "stdout",
     "output_type": "stream",
     "text": [
      "31.0589923859\n",
      "Epoch 92\n",
      "------\n",
      "Train Loss: 31.0590, Test Loss: 29.4282\n"
     ]
    },
    {
     "name": "stderr",
     "output_type": "stream",
     "text": [
      "\r",
      "  9%|▉         | 93/1000 [00:30<04:56,  3.06it/s]"
     ]
    },
    {
     "name": "stdout",
     "output_type": "stream",
     "text": [
      "30.4038124084\n",
      "Epoch 93\n",
      "------\n",
      "Train Loss: 30.4038, Test Loss: 29.0676\n"
     ]
    },
    {
     "name": "stderr",
     "output_type": "stream",
     "text": [
      "\r",
      "  9%|▉         | 94/1000 [00:30<04:56,  3.05it/s]"
     ]
    },
    {
     "name": "stdout",
     "output_type": "stream",
     "text": [
      "30.0637054443\n",
      "Epoch 94\n",
      "------\n",
      "Train Loss: 30.0637, Test Loss: 28.8630\n"
     ]
    },
    {
     "name": "stderr",
     "output_type": "stream",
     "text": [
      "\r",
      " 10%|▉         | 95/1000 [00:31<04:57,  3.04it/s]"
     ]
    },
    {
     "name": "stdout",
     "output_type": "stream",
     "text": [
      "29.8452281952\n",
      "Epoch 95\n",
      "------\n",
      "Train Loss: 29.8452, Test Loss: 28.7448\n"
     ]
    },
    {
     "name": "stderr",
     "output_type": "stream",
     "text": [
      "\r",
      " 10%|▉         | 96/1000 [00:31<04:58,  3.03it/s]"
     ]
    },
    {
     "name": "stdout",
     "output_type": "stream",
     "text": [
      "29.6991767883\n",
      "Epoch 96\n",
      "------\n",
      "Train Loss: 29.6992, Test Loss: 28.6760\n"
     ]
    },
    {
     "name": "stderr",
     "output_type": "stream",
     "text": [
      "\r",
      " 10%|▉         | 97/1000 [00:31<04:58,  3.02it/s]"
     ]
    },
    {
     "name": "stdout",
     "output_type": "stream",
     "text": [
      "29.5972881317\n",
      "Epoch 97\n",
      "------\n",
      "Train Loss: 29.5973, Test Loss: 28.6365\n"
     ]
    },
    {
     "name": "stderr",
     "output_type": "stream",
     "text": [
      "\r",
      " 10%|▉         | 98/1000 [00:32<04:59,  3.01it/s]"
     ]
    },
    {
     "name": "stdout",
     "output_type": "stream",
     "text": [
      "29.5233459473\n",
      "Epoch 98\n",
      "------\n",
      "Train Loss: 29.5233, Test Loss: 28.6131\n"
     ]
    },
    {
     "name": "stderr",
     "output_type": "stream",
     "text": [
      "\r",
      " 10%|▉         | 99/1000 [00:32<04:56,  3.04it/s]"
     ]
    },
    {
     "name": "stdout",
     "output_type": "stream",
     "text": [
      "29.4680538177\n",
      "Epoch 99\n",
      "------\n",
      "Train Loss: 29.4681, Test Loss: 28.5975\n"
     ]
    },
    {
     "name": "stderr",
     "output_type": "stream",
     "text": [
      "\r",
      " 10%|█         | 100/1000 [00:32<04:55,  3.05it/s]"
     ]
    },
    {
     "name": "stdout",
     "output_type": "stream",
     "text": [
      "29.4257602692\n",
      "Epoch 100\n",
      "------\n",
      "Train Loss: 29.4258, Test Loss: 28.5899\n"
     ]
    },
    {
     "name": "stderr",
     "output_type": "stream",
     "text": [
      "\r",
      " 10%|█         | 101/1000 [00:33<04:55,  3.04it/s]"
     ]
    },
    {
     "name": "stdout",
     "output_type": "stream",
     "text": [
      "29.3926849365\n",
      "Epoch 101\n",
      "------\n",
      "Train Loss: 29.3927, Test Loss: 28.5859\n"
     ]
    },
    {
     "name": "stderr",
     "output_type": "stream",
     "text": [
      "\r",
      " 10%|█         | 102/1000 [00:33<04:55,  3.04it/s]"
     ]
    },
    {
     "name": "stdout",
     "output_type": "stream",
     "text": [
      "29.3663406372\n",
      "Epoch 102\n",
      "------\n",
      "Train Loss: 29.3663, Test Loss: 28.5849\n"
     ]
    },
    {
     "name": "stderr",
     "output_type": "stream",
     "text": [
      "\r",
      " 10%|█         | 103/1000 [00:33<04:56,  3.03it/s]"
     ]
    },
    {
     "name": "stdout",
     "output_type": "stream",
     "text": [
      "29.3450965881\n",
      "Epoch 103\n",
      "------\n",
      "Train Loss: 29.3451, Test Loss: 28.5853\n"
     ]
    },
    {
     "name": "stderr",
     "output_type": "stream",
     "text": [
      "\r",
      " 10%|█         | 104/1000 [00:34<04:55,  3.03it/s]"
     ]
    },
    {
     "name": "stdout",
     "output_type": "stream",
     "text": [
      "29.3277397156\n",
      "Epoch 104\n",
      "------\n",
      "Train Loss: 29.3277, Test Loss: 28.5879\n"
     ]
    },
    {
     "name": "stderr",
     "output_type": "stream",
     "text": [
      "\r",
      " 10%|█         | 105/1000 [00:34<04:53,  3.05it/s]"
     ]
    },
    {
     "name": "stdout",
     "output_type": "stream",
     "text": [
      "29.3134002686\n",
      "Epoch 105\n",
      "------\n",
      "Train Loss: 29.3134, Test Loss: 28.5916\n"
     ]
    },
    {
     "name": "stderr",
     "output_type": "stream",
     "text": [
      "\r",
      " 11%|█         | 106/1000 [00:34<04:52,  3.05it/s]"
     ]
    },
    {
     "name": "stdout",
     "output_type": "stream",
     "text": [
      "29.3014450073\n",
      "Epoch 106\n",
      "------\n",
      "Train Loss: 29.3014, Test Loss: 28.5960\n"
     ]
    },
    {
     "name": "stderr",
     "output_type": "stream",
     "text": [
      "\r",
      " 11%|█         | 107/1000 [00:35<04:52,  3.05it/s]"
     ]
    },
    {
     "name": "stdout",
     "output_type": "stream",
     "text": [
      "29.291431427\n",
      "Epoch 107\n",
      "------\n",
      "Train Loss: 29.2914, Test Loss: 28.6003\n"
     ]
    },
    {
     "name": "stderr",
     "output_type": "stream",
     "text": [
      "\r",
      " 11%|█         | 108/1000 [00:35<04:51,  3.06it/s]"
     ]
    },
    {
     "name": "stdout",
     "output_type": "stream",
     "text": [
      "29.2829685211\n",
      "Epoch 108\n",
      "------\n",
      "Train Loss: 29.2830, Test Loss: 28.6056\n"
     ]
    },
    {
     "name": "stderr",
     "output_type": "stream",
     "text": [
      "\r",
      " 11%|█         | 109/1000 [00:35<04:52,  3.05it/s]"
     ]
    },
    {
     "name": "stdout",
     "output_type": "stream",
     "text": [
      "29.2757759094\n",
      "Epoch 109\n",
      "------\n",
      "Train Loss: 29.2758, Test Loss: 28.6113\n"
     ]
    },
    {
     "name": "stderr",
     "output_type": "stream",
     "text": [
      "\r",
      " 11%|█         | 110/1000 [00:36<04:50,  3.06it/s]"
     ]
    },
    {
     "name": "stdout",
     "output_type": "stream",
     "text": [
      "29.2696266174\n",
      "Epoch 110\n",
      "------\n",
      "Train Loss: 29.2696, Test Loss: 28.6177\n"
     ]
    },
    {
     "name": "stderr",
     "output_type": "stream",
     "text": [
      "\r",
      " 11%|█         | 111/1000 [00:36<04:51,  3.05it/s]"
     ]
    },
    {
     "name": "stdout",
     "output_type": "stream",
     "text": [
      "29.2643356323\n",
      "Epoch 111\n",
      "------\n",
      "Train Loss: 29.2643, Test Loss: 28.6230\n"
     ]
    },
    {
     "name": "stderr",
     "output_type": "stream",
     "text": [
      "\r",
      " 11%|█         | 112/1000 [00:36<04:52,  3.03it/s]"
     ]
    },
    {
     "name": "stdout",
     "output_type": "stream",
     "text": [
      "29.2597732544\n",
      "Epoch 112\n",
      "------\n",
      "Train Loss: 29.2598, Test Loss: 28.6280\n"
     ]
    },
    {
     "name": "stderr",
     "output_type": "stream",
     "text": [
      "\r",
      " 11%|█▏        | 113/1000 [00:37<04:52,  3.03it/s]"
     ]
    },
    {
     "name": "stdout",
     "output_type": "stream",
     "text": [
      "29.2558326721\n",
      "Epoch 113\n",
      "------\n",
      "Train Loss: 29.2558, Test Loss: 28.6336\n"
     ]
    },
    {
     "name": "stderr",
     "output_type": "stream",
     "text": [
      "\r",
      " 11%|█▏        | 114/1000 [00:37<04:52,  3.02it/s]"
     ]
    },
    {
     "name": "stdout",
     "output_type": "stream",
     "text": [
      "29.252412796\n",
      "Epoch 114\n",
      "------\n",
      "Train Loss: 29.2524, Test Loss: 28.6385\n"
     ]
    },
    {
     "name": "stderr",
     "output_type": "stream",
     "text": [
      "\r",
      " 12%|█▏        | 115/1000 [00:37<04:51,  3.04it/s]"
     ]
    },
    {
     "name": "stdout",
     "output_type": "stream",
     "text": [
      "29.2494335175\n",
      "Epoch 115\n",
      "------\n",
      "Train Loss: 29.2494, Test Loss: 28.6445\n"
     ]
    },
    {
     "name": "stderr",
     "output_type": "stream",
     "text": [
      "\r",
      " 12%|█▏        | 116/1000 [00:38<04:52,  3.03it/s]"
     ]
    },
    {
     "name": "stdout",
     "output_type": "stream",
     "text": [
      "29.246837616\n",
      "Epoch 116\n",
      "------\n",
      "Train Loss: 29.2468, Test Loss: 28.6489\n"
     ]
    },
    {
     "name": "stderr",
     "output_type": "stream",
     "text": [
      "\r",
      " 12%|█▏        | 117/1000 [00:38<04:50,  3.04it/s]"
     ]
    },
    {
     "name": "stdout",
     "output_type": "stream",
     "text": [
      "29.2445659637\n",
      "Epoch 117\n",
      "------\n",
      "Train Loss: 29.2446, Test Loss: 28.6553\n"
     ]
    },
    {
     "name": "stderr",
     "output_type": "stream",
     "text": [
      "\r",
      " 12%|█▏        | 118/1000 [00:38<04:51,  3.03it/s]"
     ]
    },
    {
     "name": "stdout",
     "output_type": "stream",
     "text": [
      "29.2425765991\n",
      "Epoch 118\n",
      "------\n",
      "Train Loss: 29.2426, Test Loss: 28.6581\n"
     ]
    },
    {
     "name": "stderr",
     "output_type": "stream",
     "text": [
      "\r",
      " 12%|█▏        | 119/1000 [00:39<04:49,  3.05it/s]"
     ]
    },
    {
     "name": "stdout",
     "output_type": "stream",
     "text": [
      "29.2408275604\n",
      "Epoch 119\n",
      "------\n",
      "Train Loss: 29.2408, Test Loss: 28.6663\n"
     ]
    },
    {
     "name": "stderr",
     "output_type": "stream",
     "text": [
      "\r",
      " 12%|█▏        | 120/1000 [00:39<04:48,  3.05it/s]"
     ]
    },
    {
     "name": "stdout",
     "output_type": "stream",
     "text": [
      "29.2392921448\n",
      "Epoch 120\n",
      "------\n",
      "Train Loss: 29.2393, Test Loss: 28.6646\n"
     ]
    },
    {
     "name": "stderr",
     "output_type": "stream",
     "text": [
      "\r",
      " 12%|█▏        | 121/1000 [00:39<04:49,  3.04it/s]"
     ]
    },
    {
     "name": "stdout",
     "output_type": "stream",
     "text": [
      "29.2379455566\n",
      "Epoch 121\n",
      "------\n",
      "Train Loss: 29.2379, Test Loss: 28.6810\n"
     ]
    },
    {
     "name": "stderr",
     "output_type": "stream",
     "text": [
      "\r",
      " 12%|█▏        | 122/1000 [00:40<04:48,  3.04it/s]"
     ]
    },
    {
     "name": "stdout",
     "output_type": "stream",
     "text": [
      "29.2367630005\n",
      "Epoch 122\n",
      "------\n",
      "Train Loss: 29.2368, Test Loss: 28.6596\n"
     ]
    },
    {
     "name": "stderr",
     "output_type": "stream",
     "text": [
      "\r",
      " 12%|█▏        | 123/1000 [00:40<04:48,  3.04it/s]"
     ]
    },
    {
     "name": "stdout",
     "output_type": "stream",
     "text": [
      "29.235742569\n",
      "Epoch 123\n",
      "------\n",
      "Train Loss: 29.2357, Test Loss: 28.7223\n"
     ]
    },
    {
     "name": "stderr",
     "output_type": "stream",
     "text": [
      "\r",
      " 12%|█▏        | 124/1000 [00:40<04:47,  3.04it/s]"
     ]
    },
    {
     "name": "stdout",
     "output_type": "stream",
     "text": [
      "29.234954834\n",
      "Epoch 124\n",
      "------\n",
      "Train Loss: 29.2350, Test Loss: 28.5845\n"
     ]
    },
    {
     "name": "stderr",
     "output_type": "stream",
     "text": [
      "\r",
      " 12%|█▎        | 125/1000 [00:41<04:48,  3.03it/s]"
     ]
    },
    {
     "name": "stdout",
     "output_type": "stream",
     "text": [
      "29.2350120544\n",
      "Epoch 125\n",
      "------\n",
      "Train Loss: 29.2350, Test Loss: 28.9671\n"
     ]
    },
    {
     "name": "stderr",
     "output_type": "stream",
     "text": [
      "\r",
      " 13%|█▎        | 126/1000 [00:41<04:49,  3.02it/s]"
     ]
    },
    {
     "name": "stdout",
     "output_type": "stream",
     "text": [
      "29.2404251099\n",
      "Epoch 126\n",
      "------\n",
      "Train Loss: 29.2404, Test Loss: 28.0264\n"
     ]
    },
    {
     "name": "stderr",
     "output_type": "stream",
     "text": [
      "\r",
      " 13%|█▎        | 127/1000 [00:41<04:48,  3.03it/s]"
     ]
    },
    {
     "name": "stdout",
     "output_type": "stream",
     "text": [
      "29.2867698669\n",
      "Epoch 127\n",
      "------\n",
      "Train Loss: 29.2868, Test Loss: 30.8625\n"
     ]
    },
    {
     "name": "stderr",
     "output_type": "stream",
     "text": [
      "\r",
      " 13%|█▎        | 128/1000 [00:42<04:48,  3.02it/s]"
     ]
    },
    {
     "name": "stdout",
     "output_type": "stream",
     "text": [
      "29.5488433838\n",
      "Epoch 128\n",
      "------\n",
      "Train Loss: 29.5488, Test Loss: 27.5093\n"
     ]
    },
    {
     "name": "stderr",
     "output_type": "stream",
     "text": [
      "\r",
      " 13%|█▎        | 129/1000 [00:42<04:46,  3.04it/s]"
     ]
    },
    {
     "name": "stdout",
     "output_type": "stream",
     "text": [
      "30.1718158722\n",
      "Epoch 129\n",
      "------\n",
      "Train Loss: 30.1718, Test Loss: 28.1214\n"
     ]
    },
    {
     "name": "stderr",
     "output_type": "stream",
     "text": [
      "\r",
      " 13%|█▎        | 130/1000 [00:42<04:46,  3.04it/s]"
     ]
    },
    {
     "name": "stdout",
     "output_type": "stream",
     "text": [
      "29.2577152252\n",
      "Epoch 130\n",
      "------\n",
      "Train Loss: 29.2577, Test Loss: 29.3069\n"
     ]
    },
    {
     "name": "stderr",
     "output_type": "stream",
     "text": [
      "\r",
      " 13%|█▎        | 131/1000 [00:43<04:45,  3.04it/s]"
     ]
    },
    {
     "name": "stdout",
     "output_type": "stream",
     "text": [
      "29.2743988037\n",
      "Epoch 131\n",
      "------\n",
      "Train Loss: 29.2744, Test Loss: 27.6961\n"
     ]
    },
    {
     "name": "stderr",
     "output_type": "stream",
     "text": [
      "\r",
      " 13%|█▎        | 132/1000 [00:43<04:46,  3.03it/s]"
     ]
    },
    {
     "name": "stdout",
     "output_type": "stream",
     "text": [
      "29.3525390625\n",
      "Epoch 132\n",
      "------\n",
      "Train Loss: 29.3525, Test Loss: 30.1605\n"
     ]
    },
    {
     "name": "stderr",
     "output_type": "stream",
     "text": [
      "\r",
      " 13%|█▎        | 133/1000 [00:43<04:47,  3.02it/s]"
     ]
    },
    {
     "name": "stdout",
     "output_type": "stream",
     "text": [
      "29.406211853\n",
      "Epoch 133\n",
      "------\n",
      "Train Loss: 29.4062, Test Loss: 27.2928\n"
     ]
    },
    {
     "name": "stderr",
     "output_type": "stream",
     "text": [
      "\r",
      " 13%|█▎        | 134/1000 [00:44<04:46,  3.03it/s]"
     ]
    },
    {
     "name": "stdout",
     "output_type": "stream",
     "text": [
      "29.7079124451\n",
      "Epoch 134\n",
      "------\n",
      "Train Loss: 29.7079, Test Loss: 29.4788\n"
     ]
    },
    {
     "name": "stderr",
     "output_type": "stream",
     "text": [
      "\r",
      " 14%|█▎        | 135/1000 [00:44<04:45,  3.03it/s]"
     ]
    },
    {
     "name": "stdout",
     "output_type": "stream",
     "text": [
      "29.3065891266\n",
      "Epoch 135\n",
      "------\n",
      "Train Loss: 29.3066, Test Loss: 27.5178\n"
     ]
    },
    {
     "name": "stderr",
     "output_type": "stream",
     "text": [
      "\r",
      " 14%|█▎        | 136/1000 [00:44<04:45,  3.02it/s]"
     ]
    },
    {
     "name": "stdout",
     "output_type": "stream",
     "text": [
      "29.4128303528\n",
      "Epoch 136\n",
      "------\n",
      "Train Loss: 29.4128, Test Loss: 29.9033\n"
     ]
    },
    {
     "name": "stderr",
     "output_type": "stream",
     "text": [
      "\r",
      " 14%|█▎        | 137/1000 [00:45<04:45,  3.03it/s]"
     ]
    },
    {
     "name": "stdout",
     "output_type": "stream",
     "text": [
      "29.3796253204\n",
      "Epoch 137\n",
      "------\n",
      "Train Loss: 29.3796, Test Loss: 27.3216\n"
     ]
    },
    {
     "name": "stderr",
     "output_type": "stream",
     "text": [
      "\r",
      " 14%|█▍        | 138/1000 [00:45<04:42,  3.05it/s]"
     ]
    },
    {
     "name": "stdout",
     "output_type": "stream",
     "text": [
      "29.5911941528\n",
      "Epoch 138\n",
      "------\n",
      "Train Loss: 29.5912, Test Loss: 29.5728\n"
     ]
    },
    {
     "name": "stderr",
     "output_type": "stream",
     "text": [
      "\r",
      " 14%|█▍        | 139/1000 [00:45<04:42,  3.05it/s]"
     ]
    },
    {
     "name": "stdout",
     "output_type": "stream",
     "text": [
      "29.3333187103\n",
      "Epoch 139\n",
      "------\n",
      "Train Loss: 29.3333, Test Loss: 27.4152\n"
     ]
    },
    {
     "name": "stderr",
     "output_type": "stream",
     "text": [
      "\r",
      " 14%|█▍        | 140/1000 [00:46<04:42,  3.05it/s]"
     ]
    },
    {
     "name": "stdout",
     "output_type": "stream",
     "text": [
      "29.4628486633\n",
      "Epoch 140\n",
      "------\n",
      "Train Loss: 29.4628, Test Loss: 29.6593\n"
     ]
    },
    {
     "name": "stderr",
     "output_type": "stream",
     "text": [
      "\r",
      " 14%|█▍        | 141/1000 [00:46<04:43,  3.03it/s]"
     ]
    },
    {
     "name": "stdout",
     "output_type": "stream",
     "text": [
      "29.3562736511\n",
      "Epoch 141\n",
      "------\n",
      "Train Loss: 29.3563, Test Loss: 27.3548\n"
     ]
    },
    {
     "name": "stderr",
     "output_type": "stream",
     "text": [
      "\r",
      " 14%|█▍        | 142/1000 [00:46<04:42,  3.03it/s]"
     ]
    },
    {
     "name": "stdout",
     "output_type": "stream",
     "text": [
      "29.5174713135\n",
      "Epoch 142\n",
      "------\n",
      "Train Loss: 29.5175, Test Loss: 29.5457\n"
     ]
    },
    {
     "name": "stderr",
     "output_type": "stream",
     "text": [
      "\r",
      " 14%|█▍        | 143/1000 [00:47<04:43,  3.02it/s]"
     ]
    },
    {
     "name": "stdout",
     "output_type": "stream",
     "text": [
      "29.3470630646\n",
      "Epoch 143\n",
      "------\n",
      "Train Loss: 29.3471, Test Loss: 27.3712\n"
     ]
    },
    {
     "name": "stderr",
     "output_type": "stream",
     "text": [
      "\r",
      " 14%|█▍        | 144/1000 [00:47<04:41,  3.04it/s]"
     ]
    },
    {
     "name": "stdout",
     "output_type": "stream",
     "text": [
      "29.4866714478\n",
      "Epoch 144\n",
      "------\n",
      "Train Loss: 29.4867, Test Loss: 29.5161\n"
     ]
    },
    {
     "name": "stderr",
     "output_type": "stream",
     "text": [
      "\r",
      " 14%|█▍        | 145/1000 [00:47<04:41,  3.03it/s]"
     ]
    },
    {
     "name": "stdout",
     "output_type": "stream",
     "text": [
      "29.3500518799\n",
      "Epoch 145\n",
      "------\n",
      "Train Loss: 29.3501, Test Loss: 27.3570\n"
     ]
    },
    {
     "name": "stderr",
     "output_type": "stream",
     "text": [
      "\n"
     ]
    }
   ],
   "source": [
    "train_loss, test_loss = yl.train(\n",
    "    generate_data_2(train_annotations[:1], C, batch_size=batch_size),\n",
    "    generate_data_2(test_annotations[:1], C, batch_size=batch_size),\n",
    "    lr=1e-4,\n",
    "    epochs=num_epochs\n",
    ")"
   ]
  },
  {
   "cell_type": "code",
   "execution_count": 212,
   "metadata": {
    "collapsed": true
   },
   "outputs": [],
   "source": [
    "with open('yolo_weights.pkl', 'wb') as f:\n",
    "    weights = lasagne.layers.get_all_param_values(net['output'])\n",
    "    pk.dump(weights, f)"
   ]
  },
  {
   "cell_type": "code",
   "execution_count": null,
   "metadata": {
    "collapsed": false
   },
   "outputs": [],
   "source": [
    "# train_loss_total, test_loss_total = train_loss, test_loss\n",
    "train_loss_total = np.concatenate((train_loss_total, train_loss))\n",
    "test_loss_total = np.concatenate((test_loss_total, test_loss))"
   ]
  },
  {
   "cell_type": "code",
   "execution_count": null,
   "metadata": {
    "collapsed": false
   },
   "outputs": [],
   "source": [
    "plt.figure(figsize=(8,8))\n",
    "idx = train_loss_total != 0\n",
    "plt.plot(train_loss_total[idx], 'b')\n",
    "plt.plot(test_loss_total[idx], 'r')"
   ]
  },
  {
   "cell_type": "code",
   "execution_count": null,
   "metadata": {
    "collapsed": false
   },
   "outputs": [],
   "source": [
    "gen = generate_data_2(train_annotations[:1], C, max_objs=1)"
   ]
  },
  {
   "cell_type": "code",
   "execution_count": null,
   "metadata": {
    "collapsed": false
   },
   "outputs": [],
   "source": [
    "testdat = [t for t in gen]"
   ]
  },
  {
   "cell_type": "code",
   "execution_count": null,
   "metadata": {
    "collapsed": false
   },
   "outputs": [],
   "source": [
    "Xtest, ytest = testdat[0]"
   ]
  },
  {
   "cell_type": "code",
   "execution_count": null,
   "metadata": {
    "collapsed": false
   },
   "outputs": [],
   "source": [
    "out_fn = theano.function([yl.input], yl.output_test)"
   ]
  },
  {
   "cell_type": "code",
   "execution_count": null,
   "metadata": {
    "collapsed": false
   },
   "outputs": [],
   "source": [
    "Xtest_out = out_fn(Xtest)"
   ]
  },
  {
   "cell_type": "code",
   "execution_count": null,
   "metadata": {
    "collapsed": true
   },
   "outputs": [],
   "source": [
    "def draw_coord(im, coord, idx):\n",
    "#     xi = int(im.shape[1] * (coord[0] + 1./S[1] * idx[2]))\n",
    "#     yi = int(im.shape[0] * (coord[1] + 1./S[0] * idx[1]))\n",
    "    xi = int(im.shape[1] * coord[0])\n",
    "    yi = int(im.shape[0] * coord[1])\n",
    "    xf = xi + int(coord[2] * im.shape[1])\n",
    "    yf = yi + int(coord[3] * im.shape[0])\n",
    "    \n",
    "    xi, yi = min(im.shape[1]-1, max(0, xi)), min(im.shape[1]-1, max(0, yi))\n",
    "    xf, yf = min(im.shape[1]-1 , xf), min(im.shape[0]-1, yf)\n",
    "    \n",
    "    draw_im = np.copy(im)\n",
    "    draw_im[yi,xi:xf] = [1,0,0]\n",
    "    draw_im[yf,xi:xf] = [1,0,0]\n",
    "    draw_im[yi:yf,xi] = [1,0,0]\n",
    "    draw_im[yi:yf,xf] = [1,0,0]\n",
    "    \n",
    "    return draw_im"
   ]
  },
  {
   "cell_type": "code",
   "execution_count": null,
   "metadata": {
    "collapsed": false
   },
   "outputs": [],
   "source": [
    "def draw_best(im, output, num=None, thresh=.3):\n",
    "    im = np.copy(im)\n",
    "    objectness = output[[4,9]] * output[-C:].max()\n",
    "    isgreater = objectness[objectness > thresh].size\n",
    "    idxs = objectness.flatten().argsort()[::-1]\n",
    "    for i in range(1):\n",
    "        idx = idxs[i]\n",
    "        idx = np.unravel_index(idx, objectness.shape)\n",
    "        coord = output[5 * idx[0]:5 * idx[0] + 4, idx[1], idx[2]]\n",
    "        im = draw_coord(im, coord, idx)\n",
    "        \n",
    "    print objectness.max()\n",
    "    print objectness[np.unravel_index(idxs[0], objectness.shape)]\n",
    "    return im\n",
    "        "
   ]
  },
  {
   "cell_type": "code",
   "execution_count": null,
   "metadata": {
    "collapsed": false
   },
   "outputs": [],
   "source": [
    "def draw_best_one(im, output):\n",
    "    idx = (output[[4,9]]).argmax()\n",
    "    idx = np.unravel_index(idx, output[[4,9]].shape)\n",
    "    coord = output[5 * idx[0]:5 * idx[0] + 4, idx[1], idx[2]]\n",
    "    obj_score = output[5 * idx[0] + 4, idx[1], idx[2]]\n",
    "    class_score = output[-4:, idx[1], idx[2]]\n",
    "\n",
    "    xi = int(im.shape[1] * (coord[0] + 1./S[1] * idx[2]))\n",
    "    yi = int(im.shape[0] * (coord[1] + 1./S[0] * idx[1]))\n",
    "    xf = xi + int(coord[2] * im.shape[1])\n",
    "    yf = yi + int(coord[3] * im.shape[0])\n",
    "    \n",
    "    xi, yi = min(im.shape[1]-1, max(0, xi)), min(im.shape[1]-1, max(0, yi))\n",
    "    xf, yf = min(im.shape[1]-1 , xf), min(im.shape[0]-1, yf)\n",
    "\n",
    "    draw_im = np.copy(im)\n",
    "    draw_im[yi,xi:xf] = [1,0,0]\n",
    "    draw_im[yf,xi:xf] = [1,0,0]\n",
    "    draw_im[yi:yf,xi] = [1,0,0]\n",
    "    draw_im[yi:yf,xf] = [1,0,0]\n",
    "    \n",
    "    tmp = np.zeros((im.shape[0] + 10, im.shape[1] + 10) + im.shape[2:])\n",
    "    tmp[5:-5,5:-5] = draw_im\n",
    "    draw_im = tmp\n",
    "\n",
    "    return draw_im, obj_score, class_score, coord"
   ]
  },
  {
   "cell_type": "code",
   "execution_count": null,
   "metadata": {
    "collapsed": true
   },
   "outputs": [],
   "source": [
    "def get_label_from_num(label):\n",
    "    if label == 0:\n",
    "        return 'car'\n",
    "    elif label == 1:\n",
    "        return 'bicycle'\n",
    "    elif label == 2:\n",
    "        return 'bike'\n",
    "    elif label == 3:\n",
    "        return 'person'\n",
    "    elif label == 4:\n",
    "        return 'noobj'\n",
    "    else:\n",
    "        return"
   ]
  },
  {
   "cell_type": "code",
   "execution_count": null,
   "metadata": {
    "collapsed": false
   },
   "outputs": [],
   "source": [
    "tmp = Xtest_out"
   ]
  },
  {
   "cell_type": "code",
   "execution_count": null,
   "metadata": {
    "collapsed": false
   },
   "outputs": [],
   "source": [
    "tmp.shape"
   ]
  },
  {
   "cell_type": "code",
   "execution_count": null,
   "metadata": {
    "collapsed": false
   },
   "outputs": [],
   "source": [
    "tmp[0,:,0,1]"
   ]
  },
  {
   "cell_type": "code",
   "execution_count": null,
   "metadata": {
    "collapsed": true
   },
   "outputs": [],
   "source": [
    "swap = lambda x: x.swapaxes(0,1).swapaxes(1,2)"
   ]
  },
  {
   "cell_type": "code",
   "execution_count": null,
   "metadata": {
    "collapsed": false
   },
   "outputs": [],
   "source": [
    "N = int(Xtest.shape[0] * np.random.rand())\n",
    "# N = 20\n",
    "print N\n",
    "a = draw_best(swap(Xtest[N]), Xtest_out[N], thresh=.2)"
   ]
  },
  {
   "cell_type": "code",
   "execution_count": null,
   "metadata": {
    "collapsed": false
   },
   "outputs": [],
   "source": [
    "plt.figure(figsize=(6,6))\n",
    "plt.imshow(a)\n",
    "# print '%s with class score: %.3f, objectness: %.3f' % (get_label_from_num(c.argmax()), c.max(), b)\n",
    "# print c\n",
    "# print d"
   ]
  },
  {
   "cell_type": "code",
   "execution_count": null,
   "metadata": {
    "collapsed": false
   },
   "outputs": [],
   "source": [
    "im = swap(Xtest[int(np.random.rand()*Xtest.shape[0])])"
   ]
  },
  {
   "cell_type": "code",
   "execution_count": null,
   "metadata": {
    "collapsed": false
   },
   "outputs": [],
   "source": [
    "im2 = rgb2hsv(im)"
   ]
  },
  {
   "cell_type": "code",
   "execution_count": null,
   "metadata": {
    "collapsed": false
   },
   "outputs": [],
   "source": [
    "im2[:,:,1:] *= (1. + .3 * np.random.rand(1,1,2))"
   ]
  },
  {
   "cell_type": "code",
   "execution_count": null,
   "metadata": {
    "collapsed": false
   },
   "outputs": [],
   "source": [
    "plt.figure(figsize=(12,6))\n",
    "plt.subplot(1,2,1)\n",
    "plt.imshow(im)\n",
    "plt.subplot(1,2,2)\n",
    "plt.imshow(hsv2rgb(im2))"
   ]
  },
  {
   "cell_type": "code",
   "execution_count": null,
   "metadata": {
    "collapsed": true
   },
   "outputs": [],
   "source": [
    "im3 = hsv2rgb(im2)"
   ]
  },
  {
   "cell_type": "code",
   "execution_count": null,
   "metadata": {
    "collapsed": true
   },
   "outputs": [],
   "source": []
  }
 ],
 "metadata": {
  "anaconda-cloud": {},
  "kernelspec": {
   "display_name": "Python [Root]",
   "language": "python",
   "name": "Python [Root]"
  },
  "language_info": {
   "codemirror_mode": {
    "name": "ipython",
    "version": 2
   },
   "file_extension": ".py",
   "mimetype": "text/x-python",
   "name": "python",
   "nbconvert_exporter": "python",
   "pygments_lexer": "ipython2",
   "version": "2.7.12"
  }
 },
 "nbformat": 4,
 "nbformat_minor": 0
}
