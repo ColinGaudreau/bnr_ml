{
 "cells": [
  {
   "cell_type": "markdown",
   "metadata": {},
   "source": [
    "<p style=\"font-size:14pt;text-align:center;\">\n",
    "Train YOLO network on pascal VOC.\n",
    "</p>"
   ]
  },
  {
   "cell_type": "code",
   "execution_count": 1,
   "metadata": {
    "collapsed": false
   },
   "outputs": [
    {
     "name": "stderr",
     "output_type": "stream",
     "text": [
      "/Users/colingaudreau/anaconda2/lib/python2.7/site-packages/matplotlib/font_manager.py:273: UserWarning: Matplotlib is building the font cache using fc-list. This may take a moment.\n",
      "  warnings.warn('Matplotlib is building the font cache using fc-list. This may take a moment.')\n",
      "Using gpu device 0: GeForce GTX 960 (CNMeM is enabled with initial size: 80.0% of memory, cuDNN not available)\n",
      "/Library/Python/2.7/site-packages/theano/tensor/signal/downsample.py:6: UserWarning: downsample module has been moved to the theano.tensor.signal.pool module.\n",
      "  \"downsample module has been moved to the theano.tensor.signal.pool module.\")\n"
     ]
    }
   ],
   "source": [
    "%matplotlib inline\n",
    "from matplotlib import pyplot as plt\n",
    "import numpy as np\n",
    "import theano\n",
    "from theano import tensor as T\n",
    "import pickle as pk\n",
    "import re\n",
    "from copy import deepcopy\n",
    "import sys\n",
    "import simplejson\n",
    "\n",
    "# image processing\n",
    "from skimage.io import imread\n",
    "from skimage.transform import resize\n",
    "from skimage.color import rgb2hsv, hsv2rgb\n",
    "\n",
    "import lasagne\n",
    "from lasagne.layers import Pool2DLayer, Conv2DLayer, dropout, \\\n",
    "    DenseLayer, InputLayer, get_output, get_all_params\n",
    "from lasagne import nonlinearities\n",
    "from lasagne import layers\n",
    "    \n",
    "import bnr_ml.objectdetect.yolo as yolo\n",
    "\n",
    "import pdb"
   ]
  },
  {
   "cell_type": "code",
   "execution_count": 2,
   "metadata": {
    "collapsed": false
   },
   "outputs": [],
   "source": [
    "with open('/usr/local/python/bnr_ml/data/PascalVOC/annotations.json', 'r') as f:\n",
    "    annotations = simplejson.load(f)"
   ]
  },
  {
   "cell_type": "code",
   "execution_count": 3,
   "metadata": {
    "collapsed": true
   },
   "outputs": [],
   "source": [
    "def get_label_counts(annotations):\n",
    "    counts = np.zeros((4,))\n",
    "    for a in annotations:\n",
    "        for obj in a['annotations']:\n",
    "            if obj['label'] == 'car':\n",
    "                counts[0] += 1\n",
    "            elif obj['label'] == 'bicycle':\n",
    "                counts[1] += 1\n",
    "            elif obj['label'] == 'bike':\n",
    "                counts[2] += 1\n",
    "            else:\n",
    "                counts[3] += 1\n",
    "    return counts"
   ]
  },
  {
   "cell_type": "code",
   "execution_count": 4,
   "metadata": {
    "collapsed": true
   },
   "outputs": [],
   "source": [
    "def fix_labels(annotations):\n",
    "    for a in annotations:\n",
    "        a['image'] = '/usr/local/python/bnr_ml/data/PascalVOC/' + a['image']\n",
    "        new_objs = []\n",
    "        for obj in a['annotations']:\n",
    "            lab = obj['label'].lower()\n",
    "            if 'car' in lab:\n",
    "                lab = 'car'\n",
    "            elif 'person' in lab:\n",
    "                lab = 'person'\n",
    "            elif 'bike' in lab:\n",
    "                lab = 'bike'\n",
    "            elif 'bicycle' in lab:\n",
    "                lab = 'bicycle'\n",
    "            else:\n",
    "                lab = None\n",
    "                \n",
    "            if lab != None:\n",
    "                obj['label'] = lab\n",
    "                new_objs.append(obj)\n",
    "        a['annotations'] = new_objs\n",
    "    return annotations"
   ]
  },
  {
   "cell_type": "code",
   "execution_count": 5,
   "metadata": {
    "collapsed": false
   },
   "outputs": [],
   "source": [
    "annotations = np.asarray(fix_labels(annotations))"
   ]
  },
  {
   "cell_type": "code",
   "execution_count": 6,
   "metadata": {
    "collapsed": false
   },
   "outputs": [],
   "source": [
    "counts = get_label_counts(annotations)"
   ]
  },
  {
   "cell_type": "code",
   "execution_count": 7,
   "metadata": {
    "collapsed": false
   },
   "outputs": [
    {
     "data": {
      "image/png": "[encoded data removed]",
      "text/plain": [
       "<matplotlib.figure.Figure at 0x1187e1050>"
      ]
     },
     "metadata": {},
     "output_type": "display_data"
    }
   ],
   "source": [
    "plt.figure(figsize=(12,8))\n",
    "plt.title('Distribution of labels', fontsize=20)\n",
    "plt.bar(np.arange(counts.size), counts, color='red', alpha=.4)\n",
    "plt.xticks(np.arange(counts.size) + .5, ['car', 'bicycle', 'bike', 'person'], fontsize=14)\n",
    "plt.show()"
   ]
  },
  {
   "cell_type": "code",
   "execution_count": 8,
   "metadata": {
    "collapsed": true
   },
   "outputs": [],
   "source": [
    "np.random.seed(1991)"
   ]
  },
  {
   "cell_type": "markdown",
   "metadata": {},
   "source": [
    "<b>Split the annotations for training and testing, the reason I split by image and not individual object is so that when testing the performance, the network will never have seen any part of the test image."
   ]
  },
  {
   "cell_type": "code",
   "execution_count": 9,
   "metadata": {
    "collapsed": false
   },
   "outputs": [],
   "source": [
    "with open('indices.pkl', 'rb') as f:\n",
    "    indices = pk.load(f)\n",
    "    train_idx = indices['train_index']\n",
    "    test_idx = indices['test_index']"
   ]
  },
  {
   "cell_type": "code",
   "execution_count": 10,
   "metadata": {
    "collapsed": false
   },
   "outputs": [],
   "source": [
    "train_annotations = annotations[train_idx]\n",
    "test_annotations = annotations[test_idx]"
   ]
  },
  {
   "cell_type": "code",
   "execution_count": 11,
   "metadata": {
    "collapsed": false
   },
   "outputs": [],
   "source": [
    "def generate_data_2(annotations, C, max_objs=15, size=(200,200), batch_size=100):\n",
    "    def reformat_image(im, new_size):\n",
    "        if im.shape.__len__() == 2:\n",
    "            im = np.repeat(im.reshape(im.shape + (1,)), 3, axis=2)\n",
    "        elif im.shape[2] > 3:\n",
    "            im = im[:,:,:3]\n",
    "        if im.shape[0] == 0 or im.shape[2] == 0:\n",
    "            return None\n",
    "        return resize(im, new_size).swapaxes(2,1).swapaxes(1,0)\n",
    "    def transform_coord(coord, old_size, new_size):\n",
    "        coord[[0,2]] = np.float_(coord[[0,2]]) / old_size[1]\n",
    "        coord[[1,3]] = np.float_(coord[[1,3]]) / old_size[0]\n",
    "        \n",
    "        if coord[2] >= coord[0]:\n",
    "            coord[2] -= coord[0]\n",
    "        else:\n",
    "            coord[2] = coord[0] - coord[2]\n",
    "        if coord[3] >= coord[1]:\n",
    "            coord[3] -= coord[1]\n",
    "        else:\n",
    "            coord[3] = coord[1] - coord[3]\n",
    "        return coord\n",
    "    def get_num_from_label(label):\n",
    "        if label == 'car':\n",
    "            return 0\n",
    "        elif label == 'bicycle':\n",
    "            return 1\n",
    "        elif label == 'bike':\n",
    "            return 2\n",
    "        elif label == 'person':\n",
    "            return 3\n",
    "        elif label == 'noobj':\n",
    "            return 4\n",
    "        else:\n",
    "            pass\n",
    "        \n",
    "#     annotations = np.asarray([[deepcopy(obj) for obj in objs] for objs in annotations]) # deep copy annotations\n",
    "\n",
    "    fake_truth = np.concatenate((np.asarray([-10.,-10.,.01,.01]), np.zeros((C,))))\n",
    "    \n",
    "    np.random.shuffle(annotations)\n",
    "    \n",
    "    for i in range(0,annotations.shape[0], batch_size):\n",
    "        Xbatch = np.zeros((batch_size,3) + size)\n",
    "        ybatch = np.zeros((batch_size, (4 + C) * max_objs))\n",
    "        \n",
    "        for j in range(min(batch_size, annotations.shape[0] - i)):\n",
    "            annotation = annotations[i+j]\n",
    "            objs = annotation['annotations']\n",
    "            im = imread(annotation['image'])\n",
    "            old_size = np.float_(annotation['size'])\n",
    "            \n",
    "            Xbatch[j] = reformat_image(im, size)\n",
    "            \n",
    "            for k in range(max_objs):\n",
    "                if k < objs.__len__():\n",
    "                    obj = objs[k]\n",
    "                    coord = np.asarray([\n",
    "                            obj['x'],\n",
    "                            obj['y'],\n",
    "                            obj['w'],\n",
    "                            obj['h']\n",
    "                        ], dtype=theano.config.floatX)\n",
    "                    coord = transform_coord(coord, old_size, size)\n",
    "                    ybatch[j,k*(4 + C):k*(4 + C) + 4] = coord\n",
    "                    ybatch[j,k*(4 + C)+4 + get_num_from_label(obj['label'])] += 1\n",
    "                else:\n",
    "                    ybatch[j,k*(4 + C):(k + 1)*(4 + C)] = fake_truth\n",
    "            \n",
    "        yield Xbatch[:j+1].astype(theano.config.floatX), ybatch[:j+1].astype(theano.config.floatX)"
   ]
  },
  {
   "cell_type": "code",
   "execution_count": 12,
   "metadata": {
    "collapsed": true
   },
   "outputs": [],
   "source": [
    "def generate_data_3(annotations, C, max_objs=15, size=(200,200), batch_size=100, augment=10):\n",
    "    def reformat_image(im, new_size):\n",
    "        if im.shape.__len__() == 2:\n",
    "            im = np.repeat(im.reshape(im.shape + (1,)), 3, axis=2)\n",
    "        elif im.shape[2] > 3:\n",
    "            im = im[:,:,:3]\n",
    "        if im.shape[0] == 0 or im.shape[2] == 0:\n",
    "            return None\n",
    "        return resize(im, new_size)\n",
    "    def transform_coord(coord, old_size, new_size):\n",
    "        coord[[0,2]] *= 1. / old_size[1]\n",
    "        coord[[1,3]] *= 1. / old_size[0]\n",
    "        \n",
    "        if coord[2] >= coord[0]:\n",
    "            coord[2] -= coord[0]\n",
    "        else:\n",
    "            coord[2] = coord[0] - coord[2]\n",
    "        if coord[3] >= coord[1]:\n",
    "            coord[3] -= coord[1]\n",
    "        else:\n",
    "            coord[3] = coord[1] - coord[3]\n",
    "        return coord\n",
    "    def get_num_from_label(label):\n",
    "        if label == 'car':\n",
    "            return 0\n",
    "        elif label == 'bicycle':\n",
    "            return 1\n",
    "        elif label == 'bike':\n",
    "            return 2\n",
    "        elif label == 'person':\n",
    "            return 3\n",
    "        elif label == 'noobj':\n",
    "            return 4\n",
    "        else:\n",
    "            pass\n",
    "        \n",
    "    annotations = np.asarray([[deepcopy(obj) for obj in objs] for objs in annotations]) # deep copy annotations\n",
    "\n",
    "    fake_truth = np.concatenate((np.asarray([-10.,-10.,.01,.01]), np.zeros((C,))))\n",
    "    \n",
    "    np.random.shuffle(annotations)\n",
    "    \n",
    "    for num in range(augment):\n",
    "        for i in range(0,annotations.size, batch_size):\n",
    "            Xbatch = np.zeros((batch_size,3) + size)\n",
    "            ybatch = np.zeros((batch_size, (4 + C) * max_objs))\n",
    "\n",
    "            for j in range(min(batch_size, annotations.size - i)):\n",
    "                objs = annotations[i+j][annotations]\n",
    "                im = imread(annotations[i+j]['image'])\n",
    "                old_size = im.shape\n",
    "                \n",
    "                old_box = Box(0.,0.,1.,1.)\n",
    "                iterlap = .8\n",
    "                new_width = iterlap + (1. - iterlap) * np.random.rand()\n",
    "                new_height = iterlap +  (1. - iterlap) * np.random.rand()\n",
    "                new_xi = (1. - new_width) * np.random.rand()\n",
    "                new_yi = (1. - new_height) * np.random.rand()\n",
    "                new_box = Box(\n",
    "                    new_xi,\n",
    "                    new_yi,\n",
    "                    new_width + new_xi,\n",
    "                    new_height + new_yi\n",
    "                )\n",
    "                im = new_box.subimage(im)\n",
    "\n",
    "                im = reformat_image(im, size)\n",
    "                \n",
    "                im = rgb2hsv(im)\n",
    "                im[:,:,[0,2]] *= (1 + .1 * np.random.rand(1,1,2))\n",
    "                im = hsv2rgb(im)\n",
    "                \n",
    "                Xbatch[j] = im.swapaxes(2,1).swapaxes(1,0)\n",
    "\n",
    "                for k in range(max_objs):\n",
    "                    if k < objs.__len__():\n",
    "                        obj = objs[k]\n",
    "                        coord = np.asarray([\n",
    "                                obj['x'],\n",
    "                                obj['y'],\n",
    "                                obj['w'],\n",
    "                                obj['h']\n",
    "                            ])\n",
    "#                         coord = np.asarray(obj['p1'] + obj['p2']).astype(theano.config.floatX)\n",
    "                        coord = transform_coord(coord, old_size, size)\n",
    "                        \n",
    "                        obj_box = Box(coord[0], coord[1], coord[0] + coord[2], coord[1] + coord[3])\n",
    "                        \n",
    "                        if new_box.iou(obj_box) > 0.5:\n",
    "                            coord[0] -= new_box.xi\n",
    "                            coord[1] -= new_box.yi\n",
    "                            coord[[0,2]] /= (new_box.xf - new_box.xi)\n",
    "                            coord[[1,3]] /= (new_box.yf - new_box.yi)\n",
    "                            ybatch[j,k*(4 + C):k*(4 + C) + 4] = coord\n",
    "                            ybatch[j,k*(4 + C)+4 + get_num_from_label(obj['label'])] += 1\n",
    "                        else:\n",
    "                            ybatch[j,k*(4 + C):(k + 1)*(4 + C)] = fake_truth\n",
    "\n",
    "                    else:\n",
    "                        ybatch[j,k*(4 + C):(k + 1)*(4 + C)] = fake_truth\n",
    "\n",
    "            yield Xbatch[:j+1].astype(theano.config.floatX), ybatch[:j+1].astype(theano.config.floatX)"
   ]
  },
  {
   "cell_type": "code",
   "execution_count": 13,
   "metadata": {
    "collapsed": false
   },
   "outputs": [],
   "source": [
    "def generate_data(annotations, C, size=(200,200), batch_size=100):\n",
    "    '''\n",
    "    augment: how many times do you want the data to be replicated\n",
    "    '''\n",
    "    def get_objects(annotations):\n",
    "        objs = []\n",
    "        for im in annotations:\n",
    "            objs.extend([deepcopy(obj) for obj in im])\n",
    "        return np.asarray(objs)\n",
    "    def get_num_from_label(label):\n",
    "        if label == 'car':\n",
    "            return 0\n",
    "        elif label == 'bicycle':\n",
    "            return 1\n",
    "        elif label == 'bike':\n",
    "            return 2\n",
    "        elif label == 'person':\n",
    "            return 3\n",
    "        elif label == 'noobj':\n",
    "            return 4\n",
    "        else:\n",
    "            pass\n",
    "#             print('This shouldn\\'t happen')\n",
    "    def subsample_objs(objs, obj_idx, size):\n",
    "        idx = obj_idx[np.random.random_integers(0,obj_idx.size-1, size=(size,))]\n",
    "        copy_obj = []\n",
    "        for obj in objs[idx]:\n",
    "            copy_obj.append(deepcopy(obj))\n",
    "        return np.asarray(copy_obj)\n",
    "    def set_label_to_noobj(objs, obj_idx):\n",
    "        N = np.int_(np.float_(obj_idx.size) / 5)\n",
    "        idx = np.arange(obj_idx.size)\n",
    "        np.random.shuffle(idx)\n",
    "        for obj in objs[obj_idx[idx[:N]]]:\n",
    "            obj['label']  = 'noobj'\n",
    "        return objs\n",
    "    \n",
    "    # return flat list of objects\n",
    "    objs = get_objects(annotations)\n",
    "    \n",
    "    # get number from label\n",
    "    labels = np.asarray([get_num_from_label(obj['label']) for obj in objs])\n",
    "    \n",
    "    idx = np.arange(labels.size)\n",
    "    idx_car = idx[labels==0]\n",
    "    idx_bicycle = idx[labels==1]\n",
    "    idx_bike = idx[labels==2]\n",
    "    idx_person = idx[labels==3]\n",
    "        \n",
    "    max_labels = np.max([idx_car.size, idx_bicycle.size, idx_bike.size, idx_person.size])\n",
    "    \n",
    "    # get subsamples to get equal number of classes\n",
    "    new_car = subsample_objs(objs, idx_car, max_labels - idx_car.size)\n",
    "    new_bicycle = subsample_objs(objs, idx_bicycle, max_labels - idx_bicycle.size)\n",
    "    new_bike = subsample_objs(objs, idx_bike, max_labels - idx_bike.size)\n",
    "    new_person = subsample_objs(objs, idx_person, max_labels - idx_person.size)\n",
    "    \n",
    "    # add new samples\n",
    "    objs = np.concatenate((objs, new_car, new_bicycle, new_bike, new_person))\n",
    "    \n",
    "    np.random.shuffle(objs)\n",
    "    \n",
    "    cnt = 0\n",
    "    while cnt < objs.size:\n",
    "        Xbatch = np.zeros((batch_size, 3) + size)\n",
    "        ybatch = np.zeros((batch_size, 4 + C))\n",
    "        batch_cnt = 0\n",
    "        for j in range(batch_size):\n",
    "            if cnt < objs.size:\n",
    "                obj = objs[cnt]\n",
    "                im = imread(obj['image'])\n",
    "                im = im.astype(theano.config.floatX) / 255\n",
    "                xscale, yscale = np.float_(size[1]) / im.shape[1], np.float_(size[0]) / im.shape[0]\n",
    "#                 pdb.set_trace()\n",
    "                coord = np.asarray(obj['p1'] + obj['p2']).astype(theano.config.floatX)\n",
    "                coord[[0,2]] *= (xscale / 200)\n",
    "                coord[[1,3]] *= (yscale / 200)\n",
    "                if coord[2] >= coord[0]:\n",
    "                    coord[2] -= coord[0]\n",
    "                else:\n",
    "                    coord[2] = coord[0] - coord[2]\n",
    "                if coord[3] >= coord[1]:\n",
    "                    coord[3] -= coord[1]\n",
    "                else:\n",
    "                    coord[3] = coord[1] - coord[3]\n",
    "                    \n",
    "                if coord[2] < 0 or coord[3] < 0:\n",
    "                    print image\n",
    "                    \n",
    "                if im.shape.__len__() == 2:\n",
    "                    im = im.reshape(im.shape + (1,))\n",
    "                    im = np.concatenate((im, im, im), axis=2)\n",
    "                elif im.shape[2] == 4:\n",
    "                    im = im[:,:,:3]\n",
    "                if not (im.shape[0] == 0 or im.shape[1] == 0):\n",
    "                    im = resize(im, size).swapaxes(2,1).swapaxes(1,0)\n",
    "                    Xbatch[batch_cnt] = im\n",
    "                    ybatch[batch_cnt, :4] =  coord\n",
    "                    ybatch[batch_cnt, 4 + get_num_from_label(obj['label'])] += 1\n",
    "                    batch_cnt += 1\n",
    "            cnt += 1\n",
    "        if batch_cnt < batch_size - 1:\n",
    "            Xbatch, ybatch = Xbatch[:batch_cnt], ybatch[:batch_cnt]\n",
    "        yield Xbatch.astype(theano.config.floatX), ybatch.astype(theano.config.floatX)"
   ]
  },
  {
   "cell_type": "markdown",
   "metadata": {},
   "source": [
    "<b>Now we define the net for recognition.</b>"
   ]
  },
  {
   "cell_type": "code",
   "execution_count": 14,
   "metadata": {
    "collapsed": true
   },
   "outputs": [],
   "source": [
    "S = (6,6)\n",
    "B = 2\n",
    "C = 4"
   ]
  },
  {
   "cell_type": "code",
   "execution_count": 15,
   "metadata": {
    "collapsed": true
   },
   "outputs": [],
   "source": [
    "num_epochs = 1000\n",
    "batch_size = 10\n",
    "input_shape = (224,224)"
   ]
  },
  {
   "cell_type": "code",
   "execution_count": 16,
   "metadata": {
    "collapsed": false
   },
   "outputs": [],
   "source": [
    "test_net = False\n",
    "if test_net:\n",
    "    Xtest, ytest = [t for t in generate_data_2(train_annotations[:10], C, batch_size=batch_size)][0]\n",
    "    Xtest, ytest = theano.shared(Xtest), theano.shared(ytest)\n",
    "    input_var = Xtest\n",
    "else:\n",
    "    input_var=None"
   ]
  },
  {
   "cell_type": "code",
   "execution_count": 17,
   "metadata": {
    "collapsed": false
   },
   "outputs": [],
   "source": [
    "net = {}\n",
    "net['input'] = InputLayer((None, 3) + input_shape, input_var=input_var)\n",
    "net['conv1_1'] = Conv2DLayer(net['input'], 64, 3, pad=1, nonlinearity=nonlinearities.leaky_rectify)\n",
    "net['conv1_2'] = Conv2DLayer(net['conv1_1'], 64, 3, pad=1, nonlinearity=nonlinearities.leaky_rectify)\n",
    "net['pool1'] = Pool2DLayer(net['conv1_2'], 2)\n",
    "net['conv2_1'] = Conv2DLayer( net['pool1'], 128, 3, pad=1, nonlinearity=nonlinearities.leaky_rectify)\n",
    "net['conv2_2'] = Conv2DLayer(net['conv2_1'], 128, 3, pad=1, nonlinearity=nonlinearities.leaky_rectify)\n",
    "net['pool2'] = Pool2DLayer(net['conv2_2'], 2)\n",
    "net['conv3_1'] = Conv2DLayer(net['pool2'], 256, 3, pad=1, nonlinearity=nonlinearities.leaky_rectify)\n",
    "net['conv3_2'] = Conv2DLayer(net['conv3_1'], 256, 3, pad=1, nonlinearity=nonlinearities.leaky_rectify)\n",
    "net['conv3_3'] = Conv2DLayer(net['conv3_2'], 256, 3, pad=1, nonlinearity=nonlinearities.leaky_rectify)\n",
    "net['pool3'] = Pool2DLayer(net['conv3_3'], 2)\n",
    "net['conv4_1'] = Conv2DLayer(net['pool3'], 512, 3, pad=1, nonlinearity=nonlinearities.leaky_rectify)\n",
    "net['conv4_2'] = Conv2DLayer(net['conv4_1'], 512, 3, pad=1, nonlinearity=nonlinearities.leaky_rectify)\n",
    "net['conv4_3'] = Conv2DLayer(net['conv4_2'], 512, 3, pad=1, nonlinearity=nonlinearities.leaky_rectify)\n",
    "net['pool4'] = Pool2DLayer(net['conv4_3'], 2)\n",
    "net['conv5_1'] = Conv2DLayer(net['pool4'], 512, 3, pad=1, nonlinearity=nonlinearities.leaky_rectify)\n",
    "net['conv5_2'] = Conv2DLayer(net['conv5_1'], 512, 3, pad=1, nonlinearity=nonlinearities.leaky_rectify)\n",
    "net['conv5_3'] = Conv2DLayer(net['conv5_2'], 512, 3, pad=1, nonlinearity=nonlinearities.leaky_rectify)\n",
    "net['pool5'] = Pool2DLayer(net['conv5_3'], 2)\n",
    "net['fc6'] = DenseLayer(net['pool5'], num_units=2048, nonlinearity=None)\n",
    "net['fc6_dropout'] = dropout(net['fc6'], p=0.5)\n",
    "net['fc7'] = DenseLayer(net['fc6_dropout'], num_units=2048, nonlinearity=None)\n",
    "net['fc7_dropout'] = dropout(net['fc7'], p=0.5)\n",
    "# net['fc8'] = DenseLayer(net['fc7_dropout'], num_units=1000, nonlinearity=None)\n",
    "# net['prob'] = NonlinearityLayer(net['fc8'], nonlinearities.softmax)"
   ]
  },
  {
   "cell_type": "markdown",
   "metadata": {},
   "source": [
    "<b>Load pre-trained weights</b>"
   ]
  },
  {
   "cell_type": "code",
   "execution_count": 18,
   "metadata": {
    "collapsed": false
   },
   "outputs": [],
   "source": [
    "load_pretrained = True\n",
    "if load_pretrained:\n",
    "    with open('/usr/local/python/bnr_ml/data/pretrained/vgg16.pkl', 'rb') as f:\n",
    "        weights = pk.load(f)['param values']\n",
    "        lasagne.layers.set_all_param_values(net['conv5_3'], weights[:-6])"
   ]
  },
  {
   "cell_type": "markdown",
   "metadata": {},
   "source": [
    "<b>Add extra layers to network for detection</b>"
   ]
  },
  {
   "cell_type": "code",
   "execution_count": 19,
   "metadata": {
    "collapsed": false
   },
   "outputs": [],
   "source": [
    "net['fc6'] = DenseLayer(net['pool5'], 2048, nonlinearity=None)\n",
    "net['output'] = DenseLayer(dropout(net['fc6'], p=.5), (B * (C + 1) + 4) * (S[0] * S[1]), nonlinearity=None)\n",
    "# net['output'] = DenseLayer(dropout(net['dense1'], p=.0), (B * 5 + C) * S[0]*S[1])"
   ]
  },
  {
   "cell_type": "code",
   "execution_count": 20,
   "metadata": {
    "collapsed": false
   },
   "outputs": [],
   "source": [
    "load_weights = False\n",
    "if load_weights:\n",
    "    with open('yolo_weights.pkl', 'rb') as f:\n",
    "        weights = pk.load(f)\n",
    "        lasagne.layers.set_all_param_values(net['output'], weights)"
   ]
  },
  {
   "cell_type": "markdown",
   "metadata": {},
   "source": [
    "<b>Train the network"
   ]
  },
  {
   "cell_type": "code",
   "execution_count": 21,
   "metadata": {
    "collapsed": false
   },
   "outputs": [
    {
     "data": {
      "text/plain": [
       "<module 'bnr_ml.objectdetect.yolo' from '/usr/local/python/bnr_ml/objectdetect/yolo.pyc'>"
      ]
     },
     "execution_count": 21,
     "metadata": {},
     "output_type": "execute_result"
    }
   ],
   "source": [
    "reload(yolo)"
   ]
  },
  {
   "cell_type": "code",
   "execution_count": 22,
   "metadata": {
    "collapsed": false
   },
   "outputs": [
    {
     "name": "stderr",
     "output_type": "stream",
     "text": [
      "/Library/Python/2.7/site-packages/lasagne/layers/conv.py:489: UserWarning: The `image_shape` keyword argument to `tensor.nnet.conv2d` is deprecated, it has been renamed to `input_shape`.\n",
      "  border_mode=border_mode)\n"
     ]
    }
   ],
   "source": [
    "yl = yolo.YoloObjectDetector(net, (None, 3) + input_shape, C, S, B) "
   ]
  },
  {
   "cell_type": "markdown",
   "metadata": {
    "collapsed": false
   },
   "source": [
    "cost = yl._get_cost_optim_multi(yl.output, ytest, S, B, C)"
   ]
  },
  {
   "cell_type": "code",
   "execution_count": null,
   "metadata": {
    "collapsed": false
   },
   "outputs": [
    {
     "name": "stdout",
     "output_type": "stream",
     "text": [
      "Getting cost...\n",
      "Creating cost variable took 0.7971 seconds\n",
      "Compiling...\n"
     ]
    },
    {
     "name": "stderr",
     "output_type": "stream",
     "text": [
      "\r",
      "  0%|          | 0/1000 [00:00<?, ?it/s]"
     ]
    },
    {
     "name": "stdout",
     "output_type": "stream",
     "text": [
      "Compiling functions took 35.3493 seconds\n",
      "Beginning training...\n",
      "298.571435547\n",
      "293.910522461\n",
      "292.271484375\n",
      "161.414953613\n",
      "156.87199707\n",
      "135.586523438\n",
      "226.473168945\n",
      "217.525878906\n",
      "88.7337280273\n",
      "147.927600098\n",
      "93.3462402344\n",
      "97.2674804687\n",
      "155.71105957\n",
      "70.4098388672\n",
      "121.776049805\n",
      "120.942883301\n",
      "106.157226562\n",
      "149.244152832\n",
      "122.735009766\n"
     ]
    }
   ],
   "source": [
    "train_loss, test_loss = yl.train(\n",
    "    generate_data_2(train_annotations, C, size=input_shape, batch_size=batch_size),\n",
    "    generate_data_2(test_annotations, C, size=input_shape, batch_size=batch_size),\n",
    "    lr=1e-5,\n",
    "    epochs=num_epochs\n",
    ")"
   ]
  },
  {
   "cell_type": "code",
   "execution_count": null,
   "metadata": {
    "collapsed": true
   },
   "outputs": [],
   "source": [
    "with open('yolo_weights.pkl', 'wb') as f:\n",
    "    weights = lasagne.layers.get_all_param_values(net['output'])\n",
    "    pk.dump(weights, f)"
   ]
  },
  {
   "cell_type": "code",
   "execution_count": null,
   "metadata": {
    "collapsed": false
   },
   "outputs": [],
   "source": [
    "train_loss_total, test_loss_total = train_loss, test_loss\n",
    "# train_loss_total = np.concatenate((train_loss_total, train_loss))\n",
    "# test_loss_total = np.concatenate((test_loss_total, test_loss))"
   ]
  },
  {
   "cell_type": "code",
   "execution_count": null,
   "metadata": {
    "collapsed": false
   },
   "outputs": [],
   "source": [
    "plt.figure(figsize=(8,8))\n",
    "idx = train_loss_total != 0\n",
    "plt.plot(train_loss_total[idx], 'b')\n",
    "plt.plot(test_loss_total[idx], 'r')"
   ]
  },
  {
   "cell_type": "code",
   "execution_count": null,
   "metadata": {
    "collapsed": false
   },
   "outputs": [],
   "source": [
    "gen = generate_data_2(train_annotations[200:300], C, max_objs=5)"
   ]
  },
  {
   "cell_type": "code",
   "execution_count": null,
   "metadata": {
    "collapsed": false
   },
   "outputs": [],
   "source": [
    "testdat = [t for t in gen]"
   ]
  },
  {
   "cell_type": "code",
   "execution_count": null,
   "metadata": {
    "collapsed": false
   },
   "outputs": [],
   "source": [
    "Xtest, ytest = testdat[0]"
   ]
  },
  {
   "cell_type": "code",
   "execution_count": null,
   "metadata": {
    "collapsed": false
   },
   "outputs": [],
   "source": [
    "out_fn = theano.function([yl.input], yl.output_test)"
   ]
  },
  {
   "cell_type": "code",
   "execution_count": null,
   "metadata": {
    "collapsed": false
   },
   "outputs": [],
   "source": [
    "Xtest_out = out_fn(Xtest)"
   ]
  },
  {
   "cell_type": "code",
   "execution_count": null,
   "metadata": {
    "collapsed": true
   },
   "outputs": [],
   "source": [
    "N = int(np.random.rand() * Xtest.shape[0])"
   ]
  },
  {
   "cell_type": "code",
   "execution_count": null,
   "metadata": {
    "collapsed": false
   },
   "outputs": [],
   "source": [
    "coords = yolo.YoloObjectDetector.nms(Xtest_out[N], S, B, C, thresh=.3, overlap=.3)"
   ]
  },
  {
   "cell_type": "code",
   "execution_count": null,
   "metadata": {
    "collapsed": false
   },
   "outputs": [],
   "source": [
    "im = yolo.YoloObjectDetector.draw_coord(swap(Xtest[N]), coords, get_label_from_num)"
   ]
  },
  {
   "cell_type": "code",
   "execution_count": null,
   "metadata": {
    "collapsed": false
   },
   "outputs": [],
   "source": [
    "plt.figure(figsize=(8,8))\n",
    "plt.imshow(im)"
   ]
  },
  {
   "cell_type": "code",
   "execution_count": null,
   "metadata": {
    "collapsed": true
   },
   "outputs": [],
   "source": [
    "pred = np.copy(Xtest_out[N])\n",
    "score = pred[[4,9]] * pred[-C:].max(keepdims=True)\n",
    "score = score.flatten()\n",
    "args = score.argsort()[::-1][:10]\n",
    "preds = []\n",
    "for i in range(args.size):\n",
    "    idx = np.unravel_index(args[i], pred[[4,9]].shape)\n",
    "    crd = pred[5*idx[0]:5*idx[0] + 4,idx[1], idx[2]]\n",
    "    tmp = crd[[2,3]]\n",
    "    tmp[tmp<1] = 0.5*tmp[tmp<1]**2\n",
    "    tmp[tmp>=1] = np.abs(tmp[tmp>=1]) - 0.5\n",
    "    crd[[2,3]] = tmp\n",
    "    crd = crd.tolist()\n",
    "    crd[0], crd[1] = crd[0] + np.float_(idx[2]) /S[1], crd[1] + np.float_(idx[1]) / S[0]\n",
    "    crd.append(score[args[i]])\n",
    "    preds.append(crd)\n",
    "preds = np.asarray(preds)"
   ]
  },
  {
   "cell_type": "code",
   "execution_count": null,
   "metadata": {
    "collapsed": false
   },
   "outputs": [],
   "source": [
    "nms(preds, .3)"
   ]
  },
  {
   "cell_type": "code",
   "execution_count": null,
   "metadata": {
    "collapsed": false
   },
   "outputs": [],
   "source": [
    "plt.imshow(draw_coord(swap(Xtest[N]), nms(preds, .3)[0], None))"
   ]
  },
  {
   "cell_type": "code",
   "execution_count": null,
   "metadata": {
    "collapsed": true
   },
   "outputs": [],
   "source": [
    "tmp = np.arange()"
   ]
  },
  {
   "cell_type": "code",
   "execution_count": null,
   "metadata": {
    "collapsed": true
   },
   "outputs": [],
   "source": [
    "swap = lambda x: x.swapaxes(0,1).swapaxes(1,2)"
   ]
  },
  {
   "cell_type": "code",
   "execution_count": null,
   "metadata": {
    "collapsed": false
   },
   "outputs": [],
   "source": [
    "N = int(Xtest.shape[0] * np.random.rand())\n",
    "print N\n",
    "a, b = draw_best(swap(Xtest[N]), Xtest_out[N], num = 5, thresh=.2)"
   ]
  },
  {
   "cell_type": "code",
   "execution_count": null,
   "metadata": {
    "collapsed": false
   },
   "outputs": [],
   "source": [
    "plt.figure(figsize=(6,6))\n",
    "plt.imshow(a)\n",
    "print b\n",
    "# print '%s with class score: %.3f, objectness: %.3f' % (get_label_from_num(c.argmax()), c.max(), b)\n",
    "# print c\n",
    "# print d"
   ]
  },
  {
   "cell_type": "code",
   "execution_count": null,
   "metadata": {
    "collapsed": false
   },
   "outputs": [],
   "source": [
    "im = swap(Xtest[int(np.random.rand()*Xtest.shape[0])])"
   ]
  },
  {
   "cell_type": "code",
   "execution_count": null,
   "metadata": {
    "collapsed": false
   },
   "outputs": [],
   "source": [
    "im2 = rgb2hsv(im)"
   ]
  },
  {
   "cell_type": "code",
   "execution_count": null,
   "metadata": {
    "collapsed": false
   },
   "outputs": [],
   "source": [
    "im2[:,:,1:] *= (1. + .3 * np.random.rand(1,1,2))"
   ]
  },
  {
   "cell_type": "code",
   "execution_count": null,
   "metadata": {
    "collapsed": false
   },
   "outputs": [],
   "source": [
    "plt.figure(figsize=(12,6))\n",
    "plt.subplot(1,2,1)\n",
    "plt.imshow(im)\n",
    "plt.subplot(1,2,2)\n",
    "plt.imshow(hsv2rgb(im2))"
   ]
  },
  {
   "cell_type": "code",
   "execution_count": null,
   "metadata": {
    "collapsed": true
   },
   "outputs": [],
   "source": [
    "im3 = hsv2rgb(im2)"
   ]
  },
  {
   "cell_type": "code",
   "execution_count": null,
   "metadata": {
    "collapsed": true
   },
   "outputs": [],
   "source": []
  }
 ],
 "metadata": {
  "anaconda-cloud": {},
  "kernelspec": {
   "display_name": "Python [Root]",
   "language": "python",
   "name": "Python [Root]"
  },
  "language_info": {
   "codemirror_mode": {
    "name": "ipython",
    "version": 2
   },
   "file_extension": ".py",
   "mimetype": "text/x-python",
   "name": "python",
   "nbconvert_exporter": "python",
   "pygments_lexer": "ipython2",
   "version": "2.7.12"
  }
 },
 "nbformat": 4,
 "nbformat_minor": 0
}
