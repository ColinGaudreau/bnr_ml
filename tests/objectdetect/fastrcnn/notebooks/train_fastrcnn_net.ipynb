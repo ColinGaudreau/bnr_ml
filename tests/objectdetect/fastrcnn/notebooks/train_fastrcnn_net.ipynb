{
 "cells": [
  {
   "cell_type": "markdown",
   "metadata": {},
   "source": [
    "<p style=\"font-size:14pt;text-align:center;\">\n",
    "Training Fast R-CNN network on PascalVOC 2005.\n",
    "</p>"
   ]
  },
  {
   "cell_type": "code",
   "execution_count": 62,
   "metadata": {
    "collapsed": false
   },
   "outputs": [],
   "source": [
    "%matplotlib inline\n",
    "from matplotlib import pyplot as plt\n",
    "import numpy as np\n",
    "import theano\n",
    "from theano import tensor as T\n",
    "import pickle as pk\n",
    "import re\n",
    "from copy import deepcopy\n",
    "import sys\n",
    "\n",
    "# image processing\n",
    "from skimage.io import imread\n",
    "from skimage.transform import resize\n",
    "from skimage.color import rgb2hsv, hsv2rgb\n",
    "\n",
    "import lasagne\n",
    "from lasagne.layers import Pool2DLayer, Conv2DLayer, dropout, \\\n",
    "    DenseLayer, InputLayer, get_output, get_all_params\n",
    "    \n",
    "import bnr_ml.objectdetect.fastrcnn as fastrcnn\n",
    "import bnr_ml.utils.helpers as helpers\n",
    "\n",
    "import pdb"
   ]
  },
  {
   "cell_type": "code",
   "execution_count": 31,
   "metadata": {
    "collapsed": true
   },
   "outputs": [],
   "source": [
    "with open('/usr/local/python/bnr_ml/data/PascalVOC/annotations.txt', 'rb') as f:\n",
    "    annotations = pk.load(f)['annotations']"
   ]
  },
  {
   "cell_type": "code",
   "execution_count": 32,
   "metadata": {
    "collapsed": true
   },
   "outputs": [],
   "source": [
    "def add_proper_labels(annotations):\n",
    "    for im in annotations:\n",
    "        for obj in im:\n",
    "            if 'car' in obj['label'].lower():\n",
    "                obj['label'] = 'car'\n",
    "            elif 'bicycle' in obj['label'].lower():\n",
    "                obj['label'] = 'bicycle'\n",
    "            elif 'person' in obj['label'].lower():\n",
    "                obj['label'] = 'person'\n",
    "            elif 'motorbike' in obj['label'].lower():\n",
    "                obj['label'] = 'bike'\n",
    "            elif 'bike' in obj['label'].lower():\n",
    "                obj['label'] = 'bicycle'\n",
    "            else:\n",
    "                print obj"
   ]
  },
  {
   "cell_type": "code",
   "execution_count": 41,
   "metadata": {
    "collapsed": false
   },
   "outputs": [],
   "source": [
    "def get_label_counts(annotations):\n",
    "    counts = np.zeros((4,))\n",
    "    for im in annotations:\n",
    "        for obj in im:\n",
    "            if obj['label'] == 0:\n",
    "                counts[0] += 1\n",
    "            elif obj['label'] == 1:\n",
    "                counts[1] += 1\n",
    "            elif obj['label'] == 2:\n",
    "                counts[2] += 1\n",
    "            else:\n",
    "                counts[3] += 1\n",
    "    return counts"
   ]
  },
  {
   "cell_type": "code",
   "execution_count": 34,
   "metadata": {
    "collapsed": true
   },
   "outputs": [],
   "source": [
    "def get_num_from_label(obj):\n",
    "    lab = obj['label'].lower()\n",
    "    if 'car' == lab:\n",
    "        obj['label'] = 0\n",
    "    elif 'bicycle' == lab:\n",
    "        obj['label'] = 1\n",
    "    elif 'bike' == lab:\n",
    "        obj['label'] = 2\n",
    "    elif 'person' == lab:\n",
    "        obj['label'] = 3\n",
    "    else:\n",
    "        obj['label'] = 4\n",
    "    return obj"
   ]
  },
  {
   "cell_type": "code",
   "execution_count": 35,
   "metadata": {
    "collapsed": true
   },
   "outputs": [],
   "source": [
    "def fix_obj(obj):\n",
    "    x, y = obj['p1'][0], obj['p1'][1]\n",
    "    w, h = obj['p2'][0] - x, obj['p2'][1] - y\n",
    "    obj['x'], obj['y'], obj['w'], obj['h'] = x, y, w, h\n",
    "    del obj['p1'], obj['p2']\n",
    "    return get_num_from_label(obj)"
   ]
  },
  {
   "cell_type": "code",
   "execution_count": 36,
   "metadata": {
    "collapsed": false
   },
   "outputs": [],
   "source": [
    "add_proper_labels(annotations)"
   ]
  },
  {
   "cell_type": "code",
   "execution_count": 37,
   "metadata": {
    "collapsed": true
   },
   "outputs": [],
   "source": [
    "annotations = [[fix_obj(obj) for obj in objs] for objs in annotations]"
   ]
  },
  {
   "cell_type": "code",
   "execution_count": 38,
   "metadata": {
    "collapsed": false
   },
   "outputs": [],
   "source": [
    "annotations = np.asarray(annotations)"
   ]
  },
  {
   "cell_type": "code",
   "execution_count": 42,
   "metadata": {
    "collapsed": true
   },
   "outputs": [],
   "source": [
    "counts = get_label_counts(annotations)"
   ]
  },
  {
   "cell_type": "code",
   "execution_count": 43,
   "metadata": {
    "collapsed": false
   },
   "outputs": [
    {
     "data": {
      "image/png": "[encoded data removed]",
      "text/plain": [
       "<matplotlib.figure.Figure at 0x112b50e10>"
      ]
     },
     "metadata": {},
     "output_type": "display_data"
    }
   ],
   "source": [
    "plt.figure(figsize=(12,8))\n",
    "plt.title('Distribution of labels', fontsize=20)\n",
    "plt.bar(np.arange(counts.size), counts, color='red', alpha=.4)\n",
    "plt.xticks(np.arange(counts.size) + .5, ['car', 'bicycle', 'bike', 'person'], fontsize=14)\n",
    "plt.show()"
   ]
  },
  {
   "cell_type": "code",
   "execution_count": 44,
   "metadata": {
    "collapsed": true
   },
   "outputs": [],
   "source": [
    "np.random.seed(1991)"
   ]
  },
  {
   "cell_type": "markdown",
   "metadata": {},
   "source": [
    "<b>Split the annotations for training and testing, the reason I split by image and not individual object is so that when testing the performance, the network will never have seen any part of the test image."
   ]
  },
  {
   "cell_type": "code",
   "execution_count": 13,
   "metadata": {
    "collapsed": false
   },
   "outputs": [],
   "source": [
    "with open('indices.pkl', 'rb') as f:\n",
    "    indices = pk.load(f)\n",
    "    train_idx = indices['train_index']\n",
    "    test_idx = indices['test_index']"
   ]
  },
  {
   "cell_type": "code",
   "execution_count": 47,
   "metadata": {
    "collapsed": false
   },
   "outputs": [],
   "source": [
    "train_annotations = annotations[train_idx]\n",
    "test_annotations = annotations[test_idx]"
   ]
  },
  {
   "cell_type": "markdown",
   "metadata": {},
   "source": [
    "<b>Fix annotations so that you can use the static method for generating data for fast r-cnn.</b>"
   ]
  },
  {
   "cell_type": "markdown",
   "metadata": {},
   "source": [
    "<b>Now we define the net for recognition.</b>"
   ]
  },
  {
   "cell_type": "code",
   "execution_count": 49,
   "metadata": {
    "collapsed": true
   },
   "outputs": [],
   "source": [
    "num_epochs = 1000\n",
    "batch_size = 50"
   ]
  },
  {
   "cell_type": "code",
   "execution_count": 50,
   "metadata": {
    "collapsed": true
   },
   "outputs": [],
   "source": [
    "num_classes = 4"
   ]
  },
  {
   "cell_type": "code",
   "execution_count": 66,
   "metadata": {
    "collapsed": true
   },
   "outputs": [],
   "source": [
    "input_shape = (224,224)\n",
    "net = {}\n",
    "net['input'] = InputLayer((None,3) + input_shape)\n",
    "net['conv1'] = Conv2DLayer(net['input'], 16, (3,3))\n",
    "net['conv2'] = Conv2DLayer(net['conv1'], 16, (3,3))\n",
    "net['pool1'] = Pool2DLayer(net['conv2'], (2,2))\n",
    "net['conv3'] = Conv2DLayer(net['pool1'], 32, (3,3))\n",
    "net['conv4'] = Conv2DLayer(net['conv3'], 32, (3,3))\n",
    "net['pool2'] = Pool2DLayer(net['conv4'], (2,2))\n",
    "net['conv5'] = Conv2DLayer(net['pool2'], 64, (3,3))\n",
    "net['conv6'] = Conv2DLayer(net['conv5'], 64, (3,3))\n",
    "net['conv7'] = Conv2DLayer(net['conv6'], 64, (1,1))\n",
    "net['pool3'] = Pool2DLayer(net['conv7'], (2,2))\n",
    "net['conv8'] = Conv2DLayer(net['pool3'], 128, (3,3))\n",
    "net['conv9'] = Conv2DLayer(net['conv8'], 128, (3,3))\n",
    "net['conv10'] = Conv2DLayer(net['conv9'], 128, (1,1))\n",
    "net['pool4'] = Pool2DLayer(net['conv10'], (2,2))\n",
    "net['conv11'] = Conv2DLayer(net['pool4'], 128, (3,3))\n",
    "net['conv12'] = Conv2DLayer(net['conv11'], 128, (3,3))\n",
    "net['conv13'] = Conv2DLayer(net['conv12'], 128, (1,1))\n",
    "\n",
    "\n",
    "net['dense1'] = DenseLayer(dropout(net['conv13'], p=.5), 2048)\n",
    "# net['dense2'] = DenseLayer(dropout(net['dense1'], p=.5), 2048)\n",
    "net['dense2'] = DenseLayer(dropout(net['dense1'], p=.5), (2 * 5 + 4) * (6*6))\n",
    "net['output'] = DenseLayer(dropout(net['dense2'], p=.5), 5, nonlinearity=lasagne.nonlinearities.softmax)"
   ]
  },
  {
   "cell_type": "markdown",
   "metadata": {},
   "source": [
    "<b>Load pre-trained weights</b>"
   ]
  },
  {
   "cell_type": "code",
   "execution_count": 67,
   "metadata": {
    "collapsed": false
   },
   "outputs": [],
   "source": [
    "load_pretrained = True\n",
    "if load_pretrained:\n",
    "    with open('pretrained_weights_2.pkl', 'rb') as f:\n",
    "        weights = pk.load(f)\n",
    "        lasagne.layers.set_all_param_values(net['output'], weights)"
   ]
  },
  {
   "cell_type": "markdown",
   "metadata": {},
   "source": [
    "<b>Add extra layers to network for detection</b>"
   ]
  },
  {
   "cell_type": "code",
   "execution_count": 68,
   "metadata": {
    "collapsed": false
   },
   "outputs": [],
   "source": [
    "net['detect'] = net['output']\n",
    "net['localize'] = DenseLayer(dropout(net['dense2'], p=.5), (num_classes + 1) * 4)"
   ]
  },
  {
   "cell_type": "code",
   "execution_count": 69,
   "metadata": {
    "collapsed": false
   },
   "outputs": [],
   "source": [
    "load_weights = False\n",
    "if load_weights:\n",
    "    with open('yolo_weights.pkl', 'rb') as f:\n",
    "        weights = pk.load(f)\n",
    "        lasagne.layers.set_all_param_values(net['output'], weights)"
   ]
  },
  {
   "cell_type": "markdown",
   "metadata": {},
   "source": [
    "<b>Train the network"
   ]
  },
  {
   "cell_type": "code",
   "execution_count": 92,
   "metadata": {
    "collapsed": false
   },
   "outputs": [
    {
     "data": {
      "text/plain": [
       "<module 'bnr_ml.objectdetect.fastrcnn' from '/usr/local/python/bnr_ml/objectdetect/fastrcnn.py'>"
      ]
     },
     "execution_count": 92,
     "metadata": {},
     "output_type": "execute_result"
    }
   ],
   "source": [
    "reload(fastrcnn)"
   ]
  },
  {
   "cell_type": "code",
   "execution_count": 93,
   "metadata": {
    "collapsed": false
   },
   "outputs": [],
   "source": [
    "detector = fastrcnn.FastRCNNDetector(net, num_classes)"
   ]
  },
  {
   "cell_type": "code",
   "execution_count": 88,
   "metadata": {
    "collapsed": true
   },
   "outputs": [],
   "source": [
    "train_gen = fastrcnn.FastRCNNDetector.generate_data(train_annotations, input_shape, num_classes, num_rios=25)\n",
    "test_gen = fastrcnn.FastRCNNDetector.generate_data(test_annotations, input_shape, num_classes, num_rios=25)"
   ]
  },
  {
   "cell_type": "code",
   "execution_count": 89,
   "metadata": {
    "collapsed": true
   },
   "outputs": [],
   "source": [
    "print_obj = helpers.NotebookPrinter(open('/dev/stdout', 'w'), sys.stdout)"
   ]
  },
  {
   "cell_type": "code",
   "execution_count": 90,
   "metadata": {
    "collapsed": false
   },
   "outputs": [
    {
     "name": "stdout",
     "output_type": "stream",
     "text": [
      "Getting cost...\n",
      "Compiling...\n",
      "Compiling took 20.282 seconds\n",
      "Beginning training\n",
      "> /usr/local/python/bnr_ml/objectdetect/fastrcnn.py(109)train()\n",
      "-> err = train_fn(Xbatch, ybatch)\n",
      "(Pdb) n\n",
      "ValueError: ValueErr... node.\",)\n",
      "> /usr/local/python/bnr_ml/objectdetect/fastrcnn.py(109)train()\n",
      "-> err = train_fn(Xbatch, ybatch)\n",
      "(Pdb) c\n"
     ]
    },
    {
     "ename": "ValueError",
     "evalue": "Input dimension mis-match. (input[0].shape[0] = 4, input[1].shape[0] = 50)\nApply node that caused the error: Elemwise{mul,no_inplace}(InplaceDimShuffle{0,x}.0, Subtensor{::, int64::}.0)\nToposort index: 115\nInputs types: [TensorType(float64, col), TensorType(float64, matrix)]\nInputs shapes: [(4, 1), (50, 5)]\nInputs strides: [(8, 8), (72, 8)]\nInputs values: [array([[ 0.02],\n       [ 0.02],\n       [ 0.02],\n       [ 0.02]]), 'not shown']\nOutputs clients: [[Sum{axis=[1], acc_dtype=float64}(Elemwise{mul,no_inplace}.0)]]\n\nHINT: Re-running with most Theano optimization disabled could give you a back-trace of when this node was created. This can be done with by setting the Theano flag 'optimizer=fast_compile'. If that does not work, Theano optimizations can be disabled with 'optimizer=None'.\nHINT: Use the Theano flag 'exception_verbosity=high' for a debugprint and storage map footprint of this apply node.",
     "output_type": "error",
     "traceback": [
      "\u001b[0;31m---------------------------------------------------------------------------\u001b[0m",
      "\u001b[0;31mValueError\u001b[0m                                Traceback (most recent call last)",
      "\u001b[0;32m<ipython-input-90-918e1acdeb4d>\u001b[0m in \u001b[0;36m<module>\u001b[0;34m()\u001b[0m\n\u001b[1;32m      4\u001b[0m     \u001b[0mprint_obj\u001b[0m\u001b[0;34m,\u001b[0m\u001b[0;34m\u001b[0m\u001b[0m\n\u001b[1;32m      5\u001b[0m     \u001b[0mlr\u001b[0m\u001b[0;34m=\u001b[0m\u001b[0;36m1e-5\u001b[0m\u001b[0;34m,\u001b[0m\u001b[0;34m\u001b[0m\u001b[0m\n\u001b[0;32m----> 6\u001b[0;31m     \u001b[0mlmbda\u001b[0m\u001b[0;34m=\u001b[0m\u001b[0;36m0.\u001b[0m\u001b[0;34m\u001b[0m\u001b[0m\n\u001b[0m\u001b[1;32m      7\u001b[0m )\n",
      "\u001b[0;32m/usr/local/python/bnr_ml/objectdetect/fastrcnn.py\u001b[0m in \u001b[0;36mtrain\u001b[0;34m(self, train_gen, test_gen, print_obj, updates, epochs, lr, momentum, lmbda)\u001b[0m\n\u001b[1;32m    107\u001b[0m                                 \u001b[0;32mfor\u001b[0m \u001b[0mXbatch\u001b[0m\u001b[0;34m,\u001b[0m \u001b[0mybatch\u001b[0m \u001b[0;32min\u001b[0m \u001b[0mtrain_gen\u001b[0m\u001b[0;34m:\u001b[0m\u001b[0;34m\u001b[0m\u001b[0m\n\u001b[1;32m    108\u001b[0m                                         \u001b[0mpdb\u001b[0m\u001b[0;34m.\u001b[0m\u001b[0mset_trace\u001b[0m\u001b[0;34m(\u001b[0m\u001b[0;34m)\u001b[0m\u001b[0;34m\u001b[0m\u001b[0m\n\u001b[0;32m--> 109\u001b[0;31m                                         \u001b[0merr\u001b[0m \u001b[0;34m=\u001b[0m \u001b[0mtrain_fn\u001b[0m\u001b[0;34m(\u001b[0m\u001b[0mXbatch\u001b[0m\u001b[0;34m,\u001b[0m \u001b[0mybatch\u001b[0m\u001b[0;34m)\u001b[0m\u001b[0;34m\u001b[0m\u001b[0m\n\u001b[0m\u001b[1;32m    110\u001b[0m                                         \u001b[0mtrain_loss_batch\u001b[0m\u001b[0;34m.\u001b[0m\u001b[0mappend\u001b[0m\u001b[0;34m(\u001b[0m\u001b[0merr\u001b[0m\u001b[0;34m)\u001b[0m\u001b[0;34m\u001b[0m\u001b[0m\n\u001b[1;32m    111\u001b[0m                                         \u001b[0mprint_obj\u001b[0m\u001b[0;34m.\u001b[0m\u001b[0mprintln\u001b[0m\u001b[0;34m(\u001b[0m\u001b[0;34m'Batch error: %.4f'\u001b[0m \u001b[0;34m%\u001b[0m \u001b[0merr\u001b[0m\u001b[0;34m)\u001b[0m\u001b[0;34m\u001b[0m\u001b[0m\n",
      "\u001b[0;32m/Library/Python/2.7/site-packages/theano/compile/function_module.pyc\u001b[0m in \u001b[0;36m__call__\u001b[0;34m(self, *args, **kwargs)\u001b[0m\n\u001b[1;32m    877\u001b[0m                     \u001b[0mnode\u001b[0m\u001b[0;34m=\u001b[0m\u001b[0mself\u001b[0m\u001b[0;34m.\u001b[0m\u001b[0mfn\u001b[0m\u001b[0;34m.\u001b[0m\u001b[0mnodes\u001b[0m\u001b[0;34m[\u001b[0m\u001b[0mself\u001b[0m\u001b[0;34m.\u001b[0m\u001b[0mfn\u001b[0m\u001b[0;34m.\u001b[0m\u001b[0mposition_of_error\u001b[0m\u001b[0;34m]\u001b[0m\u001b[0;34m,\u001b[0m\u001b[0;34m\u001b[0m\u001b[0m\n\u001b[1;32m    878\u001b[0m                     \u001b[0mthunk\u001b[0m\u001b[0;34m=\u001b[0m\u001b[0mthunk\u001b[0m\u001b[0;34m,\u001b[0m\u001b[0;34m\u001b[0m\u001b[0m\n\u001b[0;32m--> 879\u001b[0;31m                     storage_map=getattr(self.fn, 'storage_map', None))\n\u001b[0m\u001b[1;32m    880\u001b[0m             \u001b[0;32melse\u001b[0m\u001b[0;34m:\u001b[0m\u001b[0;34m\u001b[0m\u001b[0m\n\u001b[1;32m    881\u001b[0m                 \u001b[0;31m# old-style linkers raise their own exceptions\u001b[0m\u001b[0;34m\u001b[0m\u001b[0;34m\u001b[0m\u001b[0m\n",
      "\u001b[0;32m/Library/Python/2.7/site-packages/theano/gof/link.pyc\u001b[0m in \u001b[0;36mraise_with_op\u001b[0;34m(node, thunk, exc_info, storage_map)\u001b[0m\n\u001b[1;32m    323\u001b[0m         \u001b[0;31m# extra long error message in that case.\u001b[0m\u001b[0;34m\u001b[0m\u001b[0;34m\u001b[0m\u001b[0m\n\u001b[1;32m    324\u001b[0m         \u001b[0;32mpass\u001b[0m\u001b[0;34m\u001b[0m\u001b[0m\n\u001b[0;32m--> 325\u001b[0;31m     \u001b[0mreraise\u001b[0m\u001b[0;34m(\u001b[0m\u001b[0mexc_type\u001b[0m\u001b[0;34m,\u001b[0m \u001b[0mexc_value\u001b[0m\u001b[0;34m,\u001b[0m \u001b[0mexc_trace\u001b[0m\u001b[0;34m)\u001b[0m\u001b[0;34m\u001b[0m\u001b[0m\n\u001b[0m\u001b[1;32m    326\u001b[0m \u001b[0;34m\u001b[0m\u001b[0m\n\u001b[1;32m    327\u001b[0m \u001b[0;34m\u001b[0m\u001b[0m\n",
      "\u001b[0;32m/Library/Python/2.7/site-packages/theano/compile/function_module.pyc\u001b[0m in \u001b[0;36m__call__\u001b[0;34m(self, *args, **kwargs)\u001b[0m\n\u001b[1;32m    864\u001b[0m         \u001b[0;32mtry\u001b[0m\u001b[0;34m:\u001b[0m\u001b[0;34m\u001b[0m\u001b[0m\n\u001b[1;32m    865\u001b[0m             \u001b[0moutputs\u001b[0m \u001b[0;34m=\u001b[0m\u001b[0;31m\\\u001b[0m\u001b[0;34m\u001b[0m\u001b[0m\n\u001b[0;32m--> 866\u001b[0;31m                 \u001b[0mself\u001b[0m\u001b[0;34m.\u001b[0m\u001b[0mfn\u001b[0m\u001b[0;34m(\u001b[0m\u001b[0;34m)\u001b[0m \u001b[0;32mif\u001b[0m \u001b[0moutput_subset\u001b[0m \u001b[0;32mis\u001b[0m \u001b[0mNone\u001b[0m \u001b[0;32melse\u001b[0m\u001b[0;31m\\\u001b[0m\u001b[0;34m\u001b[0m\u001b[0m\n\u001b[0m\u001b[1;32m    867\u001b[0m                 \u001b[0mself\u001b[0m\u001b[0;34m.\u001b[0m\u001b[0mfn\u001b[0m\u001b[0;34m(\u001b[0m\u001b[0moutput_subset\u001b[0m\u001b[0;34m=\u001b[0m\u001b[0moutput_subset\u001b[0m\u001b[0;34m)\u001b[0m\u001b[0;34m\u001b[0m\u001b[0m\n\u001b[1;32m    868\u001b[0m         \u001b[0;32mexcept\u001b[0m \u001b[0mException\u001b[0m\u001b[0;34m:\u001b[0m\u001b[0;34m\u001b[0m\u001b[0m\n",
      "\u001b[0;31mValueError\u001b[0m: Input dimension mis-match. (input[0].shape[0] = 4, input[1].shape[0] = 50)\nApply node that caused the error: Elemwise{mul,no_inplace}(InplaceDimShuffle{0,x}.0, Subtensor{::, int64::}.0)\nToposort index: 115\nInputs types: [TensorType(float64, col), TensorType(float64, matrix)]\nInputs shapes: [(4, 1), (50, 5)]\nInputs strides: [(8, 8), (72, 8)]\nInputs values: [array([[ 0.02],\n       [ 0.02],\n       [ 0.02],\n       [ 0.02]]), 'not shown']\nOutputs clients: [[Sum{axis=[1], acc_dtype=float64}(Elemwise{mul,no_inplace}.0)]]\n\nHINT: Re-running with most Theano optimization disabled could give you a back-trace of when this node was created. This can be done with by setting the Theano flag 'optimizer=fast_compile'. If that does not work, Theano optimizations can be disabled with 'optimizer=None'.\nHINT: Use the Theano flag 'exception_verbosity=high' for a debugprint and storage map footprint of this apply node."
     ]
    }
   ],
   "source": [
    "train_loss, test_loss = detector.train(\n",
    "    train_gen,\n",
    "    test_gen,\n",
    "    print_obj,\n",
    "    lr=1e-5,\n",
    "    lmbda=0.\n",
    ")"
   ]
  },
  {
   "cell_type": "code",
   "execution_count": 91,
   "metadata": {
    "collapsed": true
   },
   "outputs": [],
   "source": [
    "N = 10\n",
    "detect = theano.shared(np.random.rand(N, 5))\n",
    "localize = theano.shared(np.random.rand(N, 5, 4))\n",
    "target = theano.shared(np.random.rand(N, 9))"
   ]
  },
  {
   "cell_type": "code",
   "execution_count": 94,
   "metadata": {
    "collapsed": false
   },
   "outputs": [
    {
     "name": "stdout",
     "output_type": "stream",
     "text": [
      "> /usr/local/python/bnr_ml/objectdetect/fastrcnn.py(62)_get_cost()\n",
      "-> cost = categorical_crossentropy(detection_output, target[:,-(self.num_classes + 1):])\n",
      "(Pdb) mask.shape.eval()\n",
      "array([10])\n",
      "(Pdb) n\n",
      "> /usr/local/python/bnr_ml/objectdetect/fastrcnn.py(63)_get_cost()\n",
      "-> cost += lmbda * mask * T.sum(smooth_l1(localization_output[:,class_idx] - target[:,:4]), axis=1)\n",
      "(Pdb) cost.shape.eval()\n",
      "array([10])\n",
      "(Pdb) class_idx.eval()\n",
      "array([3, 1, 3, 1, 2, 3, 3, 2, 0, 0])\n",
      "(Pdb) n\n",
      "> /usr/local/python/bnr_ml/objectdetect/fastrcnn.py(65)_get_cost()\n",
      "-> return T.mean(cost)\n",
      "(Pdb) cost.eval()\n",
      "*** ValueError: Input dimension mis-match. (input[0].shape[1] = 10, input[3].shape[1] = 4)\n",
      "Apply node that caused the error: Elemwise{Composite{(i0 + Switch(i1, i2, i3))}}[(0, 3)](Elemwise{Neg}[(0, 0)].0, Elemwise{eq,no_inplace}.0, TensorConstant{(1, 1) of 0}, Sum{axis=[1], acc_dtype=float64}.0)\n",
      "Toposort index: 15\n",
      "Inputs types: [TensorType(float64, row), TensorType(int8, row), TensorType(int8, (True, True)), TensorType(float64, matrix)]\n",
      "Inputs shapes: [(1, 10), (1, 10), (1, 1), (10, 4)]\n",
      "Inputs strides: [(80, 8), (10, 1), (1, 1), (32, 8)]\n",
      "Inputs values: ['not shown', 'not shown', array([[0]], dtype=int8), 'not shown']\n",
      "Outputs clients: [['output']]\n",
      "\n",
      "HINT: Re-running with most Theano optimization disabled could give you a back-trace of when this node was created. This can be done with by setting the Theano flag 'optimizer=fast_compile'. If that does not work, Theano optimizations can be disabled with 'optimizer=None'.\n",
      "HINT: Use the Theano flag 'exception_verbosity=high' for a debugprint and storage map footprint of this apply node.\n",
      "(Pdb) T.sum(smooth_l1(localization_output[:,class_idx] - target[:,:4]), axis=1).eval()\n",
      "array([[ 1.08893353,  0.65299667,  1.11470148,  0.42242476],\n",
      "       [ 0.77618082,  0.6944536 ,  1.45911185,  0.42944357],\n",
      "       [ 0.7269028 ,  0.76728273,  0.50594893,  0.50645486],\n",
      "       [ 0.81151252,  0.80984863,  0.83969037,  0.70366423],\n",
      "       [ 0.69438505,  1.42673616,  0.50357766,  1.11773602],\n",
      "       [ 0.83713513,  0.85105495,  0.89954922,  0.49053695],\n",
      "       [ 0.63641281,  2.06353388,  0.7618953 ,  0.68517846],\n",
      "       [ 0.3160768 ,  1.15229243,  0.92712407,  0.48897984],\n",
      "       [ 0.80164609,  1.32027109,  0.75926028,  0.60767579],\n",
      "       [ 0.74598576,  0.9525421 ,  0.81561607,  0.58197167]])\n",
      "(Pdb) T.sum(smooth_l1(localization_output[:,class_idx] - target[:,:4]), axis=1).eval()\n",
      "array([[ 1.08893353,  0.65299667,  1.11470148,  0.42242476],\n",
      "       [ 0.77618082,  0.6944536 ,  1.45911185,  0.42944357],\n",
      "       [ 0.7269028 ,  0.76728273,  0.50594893,  0.50645486],\n",
      "       [ 0.81151252,  0.80984863,  0.83969037,  0.70366423],\n",
      "       [ 0.69438505,  1.42673616,  0.50357766,  1.11773602],\n",
      "       [ 0.83713513,  0.85105495,  0.89954922,  0.49053695],\n",
      "       [ 0.63641281,  2.06353388,  0.7618953 ,  0.68517846],\n",
      "       [ 0.3160768 ,  1.15229243,  0.92712407,  0.48897984],\n",
      "       [ 0.80164609,  1.32027109,  0.75926028,  0.60767579],\n",
      "       [ 0.74598576,  0.9525421 ,  0.81561607,  0.58197167]])\n",
      "(Pdb) smooth_l1(localization_output[:,class_idx] - target[:,:4]).eval()\n",
      "array([[[  2.22100657e-02,   2.00805023e-02,   2.25453187e-02,\n",
      "           7.76571947e-02],\n",
      "        [  1.03825837e-01,   2.17076868e-02,   3.64463036e-03,\n",
      "           1.53980246e-01],\n",
      "        [  1.59601816e-01,   9.63561203e-03,   1.10587964e-01,\n",
      "           9.64965611e-02],\n",
      "        [  1.58650185e-03,   2.13056925e-01,   3.24972761e-03,\n",
      "           1.29459755e-02],\n",
      "        [  2.24895801e-02,   3.36923682e-05,   1.91787148e-01,\n",
      "           1.31059848e-02],\n",
      "        [  3.38291667e-02,   4.82128196e-02,   3.06549690e-03,\n",
      "           1.29882771e-02],\n",
      "        [  2.52929838e-01,   1.63693023e-01,   1.12096022e-01,\n",
      "           8.33175291e-03],\n",
      "        [  2.18401639e-01,   1.27837011e-01,   2.81396795e-01,\n",
      "           4.19069082e-02],\n",
      "        [  2.66832078e-01,   3.01459464e-03,   2.11882980e-01,\n",
      "           9.08974024e-05],\n",
      "        [  7.22700498e-03,   4.57248057e-02,   1.74445401e-01,\n",
      "           4.92095874e-03]],\n",
      "\n",
      "       [[  2.05633322e-01,   9.72112264e-03,   1.12203284e-01,\n",
      "           2.24841772e-02],\n",
      "        [  2.86576492e-02,   3.11776894e-03,   6.62713044e-02,\n",
      "           4.01016298e-02],\n",
      "        [  4.12076045e-02,   3.03063662e-03,   2.67665805e-01,\n",
      "           3.30933579e-02],\n",
      "        [  3.71584923e-02,   3.05896601e-01,   1.40482005e-01,\n",
      "           2.29322892e-01],\n",
      "        [  2.74453137e-03,   7.80806398e-03,   3.99624630e-02,\n",
      "           3.26040290e-02],\n",
      "        [  1.75202062e-01,   6.90029433e-02,   1.67572172e-02,\n",
      "           5.88980866e-02],\n",
      "        [  9.91562268e-03,   2.00435182e-01,   2.70009144e-01,\n",
      "           1.40210713e-03],\n",
      "        [  1.36720700e-01,   7.56163559e-02,   8.55208651e-02,\n",
      "           8.16049582e-03],\n",
      "        [  4.14795507e-03,   3.79529966e-04,   2.50554839e-01,\n",
      "           2.48932792e-03],\n",
      "        [  1.34792881e-01,   1.94453934e-02,   2.09684921e-01,\n",
      "           8.87467539e-04]],\n",
      "\n",
      "       [[  1.88294315e-01,   1.62251684e-01,   1.71739586e-04,\n",
      "           6.06204120e-03],\n",
      "        [  3.96462160e-03,   2.46374940e-03,   8.74128716e-02,\n",
      "           1.50488832e-01],\n",
      "        [  3.36566130e-02,   1.29067917e-01,   2.86596983e-02,\n",
      "           2.10594351e-03],\n",
      "        [  8.94523416e-02,   3.12794135e-01,   1.70596949e-01,\n",
      "           1.19478269e-02],\n",
      "        [  2.20486357e-02,   1.20497813e-01,   3.83335605e-02,\n",
      "           3.35488913e-03],\n",
      "        [  1.59226759e-01,   1.72431770e-03,   4.77959554e-02,\n",
      "           2.21366146e-01],\n",
      "        [  6.40608851e-03,   2.05896275e-02,   2.94299203e-02,\n",
      "           7.03581355e-02],\n",
      "        [  2.85209673e-02,   2.63074932e-04,   8.31301256e-02,\n",
      "           2.19489558e-02],\n",
      "        [  1.06052930e-04,   1.67626635e-02,   1.44204746e-02,\n",
      "           2.36291129e-03],\n",
      "        [  1.95226403e-01,   8.67748065e-04,   5.99763669e-03,\n",
      "           1.64591822e-02]],\n",
      "\n",
      "       [[  2.38205263e-01,   2.86689409e-02,   3.83920183e-03,\n",
      "           6.72286310e-02],\n",
      "        [  6.77609195e-02,   2.69263709e-01,   2.70706948e-03,\n",
      "           1.17441648e-01],\n",
      "        [  5.64495898e-02,   1.58192286e-02,   5.97108287e-02,\n",
      "           8.48285409e-02],\n",
      "        [  1.03513954e-02,   8.10178628e-03,   4.27031542e-03,\n",
      "           4.10558252e-03],\n",
      "        [  8.89382479e-03,   7.53918399e-02,   3.75243905e-02,\n",
      "           1.97197495e-02],\n",
      "        [  2.05359528e-01,   3.68489550e-02,   2.06085040e-02,\n",
      "           1.77826713e-02],\n",
      "        [  1.80020937e-02,   1.42111344e-01,   6.08203133e-02,\n",
      "           5.16858566e-03],\n",
      "        [  4.97567769e-02,   7.88043033e-03,   8.19364888e-02,\n",
      "           5.32028457e-02],\n",
      "        [  1.55332611e-01,   6.09997845e-02,   3.06847930e-01,\n",
      "           1.34675817e-01],\n",
      "        [  1.40052104e-03,   1.64762614e-01,   2.61425330e-01,\n",
      "           1.99510156e-01]],\n",
      "\n",
      "       [[  1.63153915e-01,   3.37998175e-01,   1.06556559e-01,\n",
      "           3.56732659e-03],\n",
      "        [  1.08139206e-01,   2.14729511e-01,   5.70369439e-03,\n",
      "           2.83904282e-02],\n",
      "        [  2.35473974e-02,   2.89262796e-01,   2.07455979e-02,\n",
      "           8.40809259e-03],\n",
      "        [  1.10262670e-03,   2.11781158e-02,   3.72103959e-02,\n",
      "           1.99913951e-01],\n",
      "        [  5.75033568e-02,   3.94289687e-01,   6.87097094e-05,\n",
      "           9.09602188e-02],\n",
      "        [  1.36180561e-01,   4.84423538e-02,   2.82968609e-01,\n",
      "           1.10828687e-01],\n",
      "        [  2.50322798e-03,   1.23063943e-03,   2.00997445e-02,\n",
      "           1.62983185e-02],\n",
      "        [  6.01722483e-03,   7.00011858e-02,   7.09709185e-03,\n",
      "           4.46754691e-02],\n",
      "        [  1.96109914e-01,   4.64110100e-02,   1.60579566e-02,\n",
      "           2.63285328e-01],\n",
      "        [  1.27619276e-04,   3.19268822e-03,   7.06929887e-03,\n",
      "           3.51408196e-01]],\n",
      "\n",
      "       [[  1.94087587e-02,   1.07705274e-01,   9.60365754e-02,\n",
      "           4.97154535e-04],\n",
      "        [  1.33792606e-01,   2.02750411e-01,   1.79292696e-01,\n",
      "           1.89505205e-02],\n",
      "        [  1.23557053e-02,   8.10200901e-02,   1.62565013e-02,\n",
      "           9.35396257e-05],\n",
      "        [  1.38803348e-05,   2.51660267e-02,   2.92472037e-01,\n",
      "           1.73292098e-01],\n",
      "        [  1.99215423e-02,   1.16737105e-01,   5.34754588e-03,\n",
      "           1.03790570e-02],\n",
      "        [  1.09032588e-02,   1.09528228e-03,   2.65653242e-01,\n",
      "           1.72169801e-01],\n",
      "        [  4.60426725e-02,   4.75723280e-02,   1.56853660e-02,\n",
      "           4.39694480e-02],\n",
      "        [  2.10234210e-01,   4.69996903e-04,   3.76610496e-04,\n",
      "           3.69055037e-02],\n",
      "        [  3.56940157e-01,   7.74193800e-02,   9.21246396e-03,\n",
      "           7.20258912e-03],\n",
      "        [  2.75223354e-02,   1.91119053e-01,   1.92161841e-02,\n",
      "           2.70772381e-02]],\n",
      "\n",
      "       [[  8.30338910e-03,   3.76396549e-01,   4.99048867e-02,\n",
      "           2.99547609e-03],\n",
      "        [  1.08116072e-01,   3.49453400e-01,   3.18709343e-05,\n",
      "           2.62808170e-02],\n",
      "        [  2.53919788e-02,   3.24862516e-01,   1.64666106e-01,\n",
      "           5.18126474e-04],\n",
      "        [  1.10496404e-03,   3.15785283e-04,   1.24839776e-02,\n",
      "           1.94248555e-01],\n",
      "        [  2.82363855e-01,   3.88440367e-01,   1.25999379e-01,\n",
      "           3.99138903e-02],\n",
      "        [  3.16139497e-03,   6.36208743e-02,   3.19554974e-04,\n",
      "           2.00137654e-01],\n",
      "        [  6.90469960e-02,   4.51799336e-03,   1.66505187e-01,\n",
      "           5.86235043e-02],\n",
      "        [  4.58002167e-02,   6.75492108e-02,   2.00253819e-01,\n",
      "           1.20021259e-02],\n",
      "        [  4.57035181e-02,   1.66675569e-01,   1.47733280e-02,\n",
      "           5.36054122e-02],\n",
      "        [  4.74204229e-02,   3.21701618e-01,   2.69571904e-02,\n",
      "           9.68528995e-02]],\n",
      "\n",
      "       [[  1.34315401e-02,   5.34588158e-04,   8.87074187e-02,\n",
      "           5.81801318e-06],\n",
      "        [  5.77399791e-02,   4.62446255e-02,   6.14773559e-02,\n",
      "           1.29094942e-02],\n",
      "        [  1.81109744e-02,   4.44431530e-03,   2.30625277e-01,\n",
      "           8.73586411e-04],\n",
      "        [  1.48254095e-02,   1.55134010e-01,   1.33461210e-01,\n",
      "           1.53854367e-01],\n",
      "        [  3.15258852e-02,   3.67662099e-01,   2.82115646e-02,\n",
      "           6.81270320e-03],\n",
      "        [  6.56065510e-03,   1.47764151e-01,   8.52298066e-03,\n",
      "           1.56063383e-01],\n",
      "        [  5.66422691e-02,   3.24235488e-01,   2.32800808e-01,\n",
      "           3.60255678e-02],\n",
      "        [  1.95479677e-02,   5.90509107e-02,   6.78583520e-02,\n",
      "           2.98492988e-02],\n",
      "        [  2.82036792e-02,   2.70944241e-03,   4.59621070e-02,\n",
      "           2.94447885e-02],\n",
      "        [  6.94884445e-02,   4.45128025e-02,   2.94969904e-02,\n",
      "           6.31408326e-02]],\n",
      "\n",
      "       [[  2.10077495e-01,   7.12100597e-02,   6.71923571e-04,\n",
      "           1.40495377e-03],\n",
      "        [  1.40604292e-03,   2.13302127e-01,   1.05146455e-01,\n",
      "           1.25921032e-01],\n",
      "        [  4.32101758e-02,   4.98662821e-02,   4.33964677e-02,\n",
      "           4.82347807e-03],\n",
      "        [  1.59638863e-01,   2.16295122e-02,   1.95045975e-01,\n",
      "           5.81112735e-03],\n",
      "        [  1.71090569e-02,   2.56214384e-01,   5.30244888e-03,\n",
      "           2.24291773e-04],\n",
      "        [  1.79306063e-01,   8.91659730e-03,   3.22548768e-02,\n",
      "           1.26134232e-01],\n",
      "        [  1.09100597e-02,   7.80886711e-02,   4.43430701e-02,\n",
      "           2.24727850e-02],\n",
      "        [  3.48075271e-02,   2.04000388e-02,   2.73410482e-02,\n",
      "           5.66316774e-03],\n",
      "        [  1.42218449e-01,   2.14146942e-01,   1.69526671e-01,\n",
      "           1.26135556e-01],\n",
      "        [  2.96235336e-03,   3.86496471e-01,   1.36231338e-01,\n",
      "           1.89085163e-01]],\n",
      "\n",
      "       [[  5.64882810e-03,   2.35810075e-04,   1.10206958e-03,\n",
      "           2.02982501e-02],\n",
      "        [  1.88201246e-02,   8.45055408e-02,   7.74700401e-02,\n",
      "           1.20879904e-01],\n",
      "        [  1.06035045e-01,   7.94587406e-04,   2.22604212e-02,\n",
      "           1.22109962e-02],\n",
      "        [  2.49238125e-01,   1.01262580e-01,   1.56587638e-01,\n",
      "           4.76860530e-03],\n",
      "        [  7.49936224e-02,   3.03149519e-01,   3.32220202e-02,\n",
      "           3.25803816e-03],\n",
      "        [  1.21121771e-02,   1.19663246e-01,   5.69850181e-02,\n",
      "           2.86341059e-01],\n",
      "        [  1.84083534e-01,   2.81896779e-01,   2.29398350e-02,\n",
      "           1.08810190e-01],\n",
      "        [  1.89396549e-03,   3.50597996e-02,   8.05249872e-03,\n",
      "           2.17001248e-02],\n",
      "        [  4.45487964e-02,   4.93584497e-06,   2.38409485e-01,\n",
      "           3.14911456e-03],\n",
      "        [  4.86115460e-02,   2.59693049e-02,   1.98587048e-01,\n",
      "           5.55383992e-04]]])\n",
      "(Pdb) tmp = smooth_l1(localization_output[:,class_idx] - target[:,:4])\n",
      "(Pdb) tmp.shape.eval()\n",
      "array([10, 10,  4])\n",
      "(Pdb) localization_output.shape.eval()\n",
      "array([10,  5,  4])\n",
      "(Pdb) class_idx.eval()\n",
      "array([3, 1, 3, 1, 2, 3, 3, 2, 0, 0])\n",
      "(Pdb) q\n"
     ]
    },
    {
     "ename": "BdbQuit",
     "evalue": "",
     "output_type": "error",
     "traceback": [
      "\u001b[0;31m---------------------------------------------------------------------------\u001b[0m",
      "\u001b[0;31mBdbQuit\u001b[0m                                   Traceback (most recent call last)",
      "\u001b[0;32m<ipython-input-94-a06dfb06f76a>\u001b[0m in \u001b[0;36m<module>\u001b[0;34m()\u001b[0m\n\u001b[0;32m----> 1\u001b[0;31m \u001b[0mdetector\u001b[0m\u001b[0;34m.\u001b[0m\u001b[0m_get_cost\u001b[0m\u001b[0;34m(\u001b[0m\u001b[0mdetect\u001b[0m\u001b[0;34m,\u001b[0m \u001b[0mlocalize\u001b[0m\u001b[0;34m,\u001b[0m \u001b[0mtarget\u001b[0m\u001b[0;34m)\u001b[0m\u001b[0;34m\u001b[0m\u001b[0m\n\u001b[0m",
      "\u001b[0;32m/usr/local/python/bnr_ml/objectdetect/fastrcnn.py\u001b[0m in \u001b[0;36m_get_cost\u001b[0;34m(self, detection_output, localization_output, target, lmbda)\u001b[0m\n\u001b[1;32m     63\u001b[0m                 \u001b[0mcost\u001b[0m \u001b[0;34m+=\u001b[0m \u001b[0mlmbda\u001b[0m \u001b[0;34m*\u001b[0m \u001b[0mmask\u001b[0m \u001b[0;34m*\u001b[0m \u001b[0mT\u001b[0m\u001b[0;34m.\u001b[0m\u001b[0msum\u001b[0m\u001b[0;34m(\u001b[0m\u001b[0msmooth_l1\u001b[0m\u001b[0;34m(\u001b[0m\u001b[0mlocalization_output\u001b[0m\u001b[0;34m[\u001b[0m\u001b[0;34m:\u001b[0m\u001b[0;34m,\u001b[0m\u001b[0mclass_idx\u001b[0m\u001b[0;34m]\u001b[0m \u001b[0;34m-\u001b[0m \u001b[0mtarget\u001b[0m\u001b[0;34m[\u001b[0m\u001b[0;34m:\u001b[0m\u001b[0;34m,\u001b[0m\u001b[0;34m:\u001b[0m\u001b[0;36m4\u001b[0m\u001b[0;34m]\u001b[0m\u001b[0;34m)\u001b[0m\u001b[0;34m,\u001b[0m \u001b[0maxis\u001b[0m\u001b[0;34m=\u001b[0m\u001b[0;36m1\u001b[0m\u001b[0;34m)\u001b[0m\u001b[0;34m\u001b[0m\u001b[0m\n\u001b[1;32m     64\u001b[0m \u001b[0;34m\u001b[0m\u001b[0m\n\u001b[0;32m---> 65\u001b[0;31m                 \u001b[0;32mreturn\u001b[0m \u001b[0mT\u001b[0m\u001b[0;34m.\u001b[0m\u001b[0mmean\u001b[0m\u001b[0;34m(\u001b[0m\u001b[0mcost\u001b[0m\u001b[0;34m)\u001b[0m\u001b[0;34m\u001b[0m\u001b[0m\n\u001b[0m\u001b[1;32m     66\u001b[0m \u001b[0;34m\u001b[0m\u001b[0m\n\u001b[1;32m     67\u001b[0m \tdef train(\n",
      "\u001b[0;32m/usr/local/python/bnr_ml/objectdetect/fastrcnn.py\u001b[0m in \u001b[0;36m_get_cost\u001b[0;34m(self, detection_output, localization_output, target, lmbda)\u001b[0m\n\u001b[1;32m     63\u001b[0m                 \u001b[0mcost\u001b[0m \u001b[0;34m+=\u001b[0m \u001b[0mlmbda\u001b[0m \u001b[0;34m*\u001b[0m \u001b[0mmask\u001b[0m \u001b[0;34m*\u001b[0m \u001b[0mT\u001b[0m\u001b[0;34m.\u001b[0m\u001b[0msum\u001b[0m\u001b[0;34m(\u001b[0m\u001b[0msmooth_l1\u001b[0m\u001b[0;34m(\u001b[0m\u001b[0mlocalization_output\u001b[0m\u001b[0;34m[\u001b[0m\u001b[0;34m:\u001b[0m\u001b[0;34m,\u001b[0m\u001b[0mclass_idx\u001b[0m\u001b[0;34m]\u001b[0m \u001b[0;34m-\u001b[0m \u001b[0mtarget\u001b[0m\u001b[0;34m[\u001b[0m\u001b[0;34m:\u001b[0m\u001b[0;34m,\u001b[0m\u001b[0;34m:\u001b[0m\u001b[0;36m4\u001b[0m\u001b[0;34m]\u001b[0m\u001b[0;34m)\u001b[0m\u001b[0;34m,\u001b[0m \u001b[0maxis\u001b[0m\u001b[0;34m=\u001b[0m\u001b[0;36m1\u001b[0m\u001b[0;34m)\u001b[0m\u001b[0;34m\u001b[0m\u001b[0m\n\u001b[1;32m     64\u001b[0m \u001b[0;34m\u001b[0m\u001b[0m\n\u001b[0;32m---> 65\u001b[0;31m                 \u001b[0;32mreturn\u001b[0m \u001b[0mT\u001b[0m\u001b[0;34m.\u001b[0m\u001b[0mmean\u001b[0m\u001b[0;34m(\u001b[0m\u001b[0mcost\u001b[0m\u001b[0;34m)\u001b[0m\u001b[0;34m\u001b[0m\u001b[0m\n\u001b[0m\u001b[1;32m     66\u001b[0m \u001b[0;34m\u001b[0m\u001b[0m\n\u001b[1;32m     67\u001b[0m \tdef train(\n",
      "\u001b[0;32m/Users/colingaudreau/anaconda/lib/python2.7/bdb.pyc\u001b[0m in \u001b[0;36mtrace_dispatch\u001b[0;34m(self, frame, event, arg)\u001b[0m\n\u001b[1;32m     47\u001b[0m             \u001b[0;32mreturn\u001b[0m \u001b[0;31m# None\u001b[0m\u001b[0;34m\u001b[0m\u001b[0m\n\u001b[1;32m     48\u001b[0m         \u001b[0;32mif\u001b[0m \u001b[0mevent\u001b[0m \u001b[0;34m==\u001b[0m \u001b[0;34m'line'\u001b[0m\u001b[0;34m:\u001b[0m\u001b[0;34m\u001b[0m\u001b[0m\n\u001b[0;32m---> 49\u001b[0;31m             \u001b[0;32mreturn\u001b[0m \u001b[0mself\u001b[0m\u001b[0;34m.\u001b[0m\u001b[0mdispatch_line\u001b[0m\u001b[0;34m(\u001b[0m\u001b[0mframe\u001b[0m\u001b[0;34m)\u001b[0m\u001b[0;34m\u001b[0m\u001b[0m\n\u001b[0m\u001b[1;32m     50\u001b[0m         \u001b[0;32mif\u001b[0m \u001b[0mevent\u001b[0m \u001b[0;34m==\u001b[0m \u001b[0;34m'call'\u001b[0m\u001b[0;34m:\u001b[0m\u001b[0;34m\u001b[0m\u001b[0m\n\u001b[1;32m     51\u001b[0m             \u001b[0;32mreturn\u001b[0m \u001b[0mself\u001b[0m\u001b[0;34m.\u001b[0m\u001b[0mdispatch_call\u001b[0m\u001b[0;34m(\u001b[0m\u001b[0mframe\u001b[0m\u001b[0;34m,\u001b[0m \u001b[0marg\u001b[0m\u001b[0;34m)\u001b[0m\u001b[0;34m\u001b[0m\u001b[0m\n",
      "\u001b[0;32m/Users/colingaudreau/anaconda/lib/python2.7/bdb.pyc\u001b[0m in \u001b[0;36mdispatch_line\u001b[0;34m(self, frame)\u001b[0m\n\u001b[1;32m     66\u001b[0m         \u001b[0;32mif\u001b[0m \u001b[0mself\u001b[0m\u001b[0;34m.\u001b[0m\u001b[0mstop_here\u001b[0m\u001b[0;34m(\u001b[0m\u001b[0mframe\u001b[0m\u001b[0;34m)\u001b[0m \u001b[0;32mor\u001b[0m \u001b[0mself\u001b[0m\u001b[0;34m.\u001b[0m\u001b[0mbreak_here\u001b[0m\u001b[0;34m(\u001b[0m\u001b[0mframe\u001b[0m\u001b[0;34m)\u001b[0m\u001b[0;34m:\u001b[0m\u001b[0;34m\u001b[0m\u001b[0m\n\u001b[1;32m     67\u001b[0m             \u001b[0mself\u001b[0m\u001b[0;34m.\u001b[0m\u001b[0muser_line\u001b[0m\u001b[0;34m(\u001b[0m\u001b[0mframe\u001b[0m\u001b[0;34m)\u001b[0m\u001b[0;34m\u001b[0m\u001b[0m\n\u001b[0;32m---> 68\u001b[0;31m             \u001b[0;32mif\u001b[0m \u001b[0mself\u001b[0m\u001b[0;34m.\u001b[0m\u001b[0mquitting\u001b[0m\u001b[0;34m:\u001b[0m \u001b[0;32mraise\u001b[0m \u001b[0mBdbQuit\u001b[0m\u001b[0;34m\u001b[0m\u001b[0m\n\u001b[0m\u001b[1;32m     69\u001b[0m         \u001b[0;32mreturn\u001b[0m \u001b[0mself\u001b[0m\u001b[0;34m.\u001b[0m\u001b[0mtrace_dispatch\u001b[0m\u001b[0;34m\u001b[0m\u001b[0m\n\u001b[1;32m     70\u001b[0m \u001b[0;34m\u001b[0m\u001b[0m\n",
      "\u001b[0;31mBdbQuit\u001b[0m: "
     ]
    }
   ],
   "source": [
    "detector._get_cost(detect, localize, target)"
   ]
  },
  {
   "cell_type": "code",
   "execution_count": null,
   "metadata": {
    "collapsed": true
   },
   "outputs": [],
   "source": []
  }
 ],
 "metadata": {
  "anaconda-cloud": {},
  "kernelspec": {
   "display_name": "Python [Root]",
   "language": "python",
   "name": "Python [Root]"
  },
  "language_info": {
   "codemirror_mode": {
    "name": "ipython",
    "version": 2
   },
   "file_extension": ".py",
   "mimetype": "text/x-python",
   "name": "python",
   "nbconvert_exporter": "python",
   "pygments_lexer": "ipython2",
   "version": "2.7.12"
  }
 },
 "nbformat": 4,
 "nbformat_minor": 0
}
